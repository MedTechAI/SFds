{
 "cells": [
  {
   "cell_type": "markdown",
   "metadata": {
    "id": "u-wNOcsdfxxw"
   },
   "source": [
    "\n",
    "---\n",
    "\n",
    "---\n",
    "\n",
    "# **Data Science в медицине [Skill Factory]**   <a id='top'> </a>\n",
    "\n",
    "---\n",
    "\n",
    "---\n"
   ]
  },
  {
   "cell_type": "markdown",
   "metadata": {},
   "source": [
    "\n",
    "## --- --- ---\n"
   ]
  },
  {
   "cell_type": "markdown",
   "metadata": {},
   "source": [
    "\n",
    "### !pip install, import  \n",
    ">\n",
    "\n",
    "---\n",
    "<span style=\"font-size:0.8em;\"> [TOC](#mod1) </span>\n"
   ]
  },
  {
   "cell_type": "code",
   "execution_count": 1,
   "metadata": {
    "ExecuteTime": {
     "end_time": "2024-06-27T04:57:52.140650Z",
     "start_time": "2024-06-27T04:57:52.134645Z"
    }
   },
   "outputs": [],
   "source": [
    "from pprint import pprint\n",
    "p = print\n",
    "pp = pprint"
   ]
  },
  {
   "cell_type": "code",
   "execution_count": 2,
   "metadata": {
    "ExecuteTime": {
     "end_time": "2024-06-27T04:57:52.156658Z",
     "start_time": "2024-06-27T04:57:52.142655Z"
    }
   },
   "outputs": [],
   "source": [
    "### в терменале выполнять\n",
    "# jupyter --config-dir\n",
    "# jupyter notebook --generate-config\n",
    "### posix - либа для linux команд в тетради\n",
    "# conda install posix"
   ]
  },
  {
   "cell_type": "code",
   "execution_count": 3,
   "metadata": {
    "ExecuteTime": {
     "end_time": "2024-06-27T04:57:52.172656Z",
     "start_time": "2024-06-27T04:57:52.158657Z"
    }
   },
   "outputs": [],
   "source": [
    "imlibs = \"\"\"\n",
    "# from google.colab import drive\n",
    "# from io import BytesIO\n",
    "# import gspread\n",
    "import vk_api\n",
    "from calendar import day_name\n",
    "from collections import deque, Counter, OrderedDict\n",
    "from decimal import *\n",
    "from operator import itemgetter, attrgetter\n",
    "from pathlib import Path\n",
    "from urllib.parse import urlencode\n",
    "import datetime\n",
    "import io\n",
    "import json\n",
    "import numpy as np\n",
    "import os\n",
    "import pandas as pd\n",
    "import psycopg2\n",
    "import random\n",
    "import requests\n",
    "import subprocess\n",
    "import sys\n",
    "import re\n",
    "\n",
    "import matplotlib.pyplot as plt\n",
    "import seaborn as sns\n",
    "import plotly\n",
    "import plotly.express as px\n",
    "\n",
    "\n",
    "\"\"\"\n",
    "\n",
    "### exec(imlibs)"
   ]
  },
  {
   "cell_type": "code",
   "execution_count": 4,
   "metadata": {
    "ExecuteTime": {
     "end_time": "2024-06-27T04:57:52.188656Z",
     "start_time": "2024-06-27T04:57:52.173657Z"
    }
   },
   "outputs": [],
   "source": [
    "install_no_module = \"\"\"\n",
    "# pip install psycopg2\n",
    "\n",
    "\"\"\""
   ]
  },
  {
   "cell_type": "code",
   "execution_count": 5,
   "metadata": {
    "ExecuteTime": {
     "end_time": "2024-06-27T04:57:56.393869Z",
     "start_time": "2024-06-27T04:57:52.190657Z"
    }
   },
   "outputs": [
    {
     "name": "stdout",
     "output_type": "stream",
     "text": [
      "1 from calendar import day_name\n",
      "2 from collections import deque, Counter, OrderedDict\n",
      "3 from decimal import *\n",
      "4 from operator import itemgetter, attrgetter\n",
      "5 from pathlib import Path\n",
      "6 from urllib.parse import urlencode\n",
      "7 import datetime\n",
      "8 import io\n",
      "9 import json\n",
      "10 import matplotlib.pyplot as plt\n",
      "11 import numpy as np\n",
      "12 import os\n",
      "13 import pandas as pd\n",
      "14 import plotly\n",
      "15 import plotly.express as px\n",
      "16 import psycopg2\n",
      "17 import random\n",
      "18 import re\n",
      "19 import requests\n",
      "20 import seaborn as sns\n",
      "21 import subprocess\n",
      "22 import sys\n",
      "\u001b[31mimport vk_api | No module named 'vk_api'\u001b[0m\n",
      "\u001b[34mОтсутствующие: [\"No module named 'vk_api'\"]\u001b[0m\n",
      "\u001b[34mУстанавливать нечего!\u001b[0m\n"
     ]
    }
   ],
   "source": [
    "class lib:\n",
    "    def cleaner(stringimport: str) -> list:\n",
    "        \"\"\"очистка от '' и что содержит из списка [\"#\"]\"\"\"\n",
    "        return sorted([j for j in set([i if any(item not in i for item in [\"#\"]) \n",
    "                                       else '' for i in stringimport.split('\\n')]) if '' != j])\n",
    "    def instnomod(stringinst):\n",
    "        print('\\u001b[34mУстанавливать нечего!\\u001b[0m') if len(stringinst)==0 else None\n",
    "        for i, mod in enumerate(stringinst):\n",
    "            subprocess.run(f\"pip install {mod}\", shell=True)        \n",
    "            # subprocess.run(['python -m pip ']) ### https://habr.com/ru/companies/otus/articles/475392/\n",
    "            p( f'\\u001b[31m{i} установка завершена - {mod}\\u001b[0m'  )\n",
    "\n",
    "\"\"\"import из стринги выше, если чтото нет то вывести в список \"\"\"\n",
    "no_module = []\n",
    "for i, j in enumerate( lib.cleaner(imlibs) ):\n",
    "    try: exec(j); p(i+1, j) \n",
    "    except Exception as err: p( f'\\u001b[31m{j} | {err}\\u001b[0m'  ); no_module.append(str(err));\\\n",
    "        p(f'\\u001b[34mОтсутствующие: {no_module}\\u001b[0m')\n",
    "lib.instnomod(lib.cleaner(install_no_module)) # Установить того что нет?"
   ]
  },
  {
   "cell_type": "markdown",
   "metadata": {},
   "source": [
    "\n",
    "### fu |set option\n",
    ">pd np sns ... \n",
    "\n",
    "---\n",
    "<span style=\"font-size:0.8em;\"> [TOC](#mod1) </span>\n"
   ]
  },
  {
   "cell_type": "code",
   "execution_count": 6,
   "metadata": {
    "ExecuteTime": {
     "end_time": "2024-06-27T04:57:56.408871Z",
     "start_time": "2024-06-27T04:57:56.394870Z"
    }
   },
   "outputs": [],
   "source": [
    "def info_toDF(df0):\n",
    "    import io\n",
    "    df = df0.copy()\n",
    "    df.columns = [j.replace(' ','_') for j in df.columns]\n",
    "    buffer = io.StringIO()\n",
    "    df.info(buf=buffer)\n",
    "    s = buffer.getvalue()\n",
    "    info_df = pd.DataFrame( [line.split() for line in s.splitlines()[3:-2]] ) .fillna('') .drop(0, axis=1)\n",
    "    info_df.columns = info_df.loc[0].values\n",
    "    info_df = info_df.iloc[2:]\n",
    "    info_df['Non-Null'] = info_df['Non-Null'].astype(int)\n",
    "    info_df['Null'] = df0.shape[0] - info_df['Non-Null']\n",
    "    info_df['% Non-Null'] = (info_df['Non-Null'] * 100) / df0.shape[0] \n",
    "    return info_df .set_index('Column')"
   ]
  },
  {
   "cell_type": "code",
   "execution_count": 7,
   "metadata": {
    "ExecuteTime": {
     "end_time": "2024-06-27T04:57:56.424870Z",
     "start_time": "2024-06-27T04:57:56.410871Z"
    }
   },
   "outputs": [],
   "source": [
    "# pandas \n",
    "pd.set_option('display.min_rows', 5)  \n",
    "pd.set_option('display.max_columns', 500)  \n",
    "pd.set_option('display.max_rows', 30)\n",
    "pd.options.display.float_format = '{:,.4f}'.format\n",
    "# numpy\n",
    "np.set_printoptions(threshold=np.inf) # np.set_printoptions(threshold=sys.maxsize)\n",
    "\n",
    "\n",
    "sns.set(rc={'figure.figsize':(8,3)})"
   ]
  },
  {
   "cell_type": "markdown",
   "metadata": {},
   "source": [
    "\n",
    "### google.colab import drive\n",
    ">\n",
    "\n",
    "---\n",
    "<span style=\"font-size:0.8em;\"> [TOC](#mod1) </span>\n"
   ]
  },
  {
   "cell_type": "code",
   "execution_count": 8,
   "metadata": {
    "ExecuteTime": {
     "end_time": "2024-06-27T04:57:56.440869Z",
     "start_time": "2024-06-27T04:57:56.426874Z"
    }
   },
   "outputs": [],
   "source": [
    "# from google.colab import drive\n",
    "# drive.mount('/content/drive')"
   ]
  },
  {
   "cell_type": "code",
   "execution_count": 9,
   "metadata": {
    "ExecuteTime": {
     "end_time": "2024-06-27T04:57:56.456869Z",
     "start_time": "2024-06-27T04:57:56.442870Z"
    }
   },
   "outputs": [],
   "source": [
    "# conda -V or conda --version to get the conda version.\n",
    "# python -V or python --version to get the python version.\n",
    "# conda list anaconda$ to get the Anaconda version.\n",
    "# conda list to get the Name, Version, Build & Channel details of all the packages installed (in the current environment).\n",
    "# conda info to get all the current environment details.\n",
    "# conda info --envs To see a list of all your environments"
   ]
  },
  {
   "cell_type": "markdown",
   "metadata": {
    "ExecuteTime": {
     "end_time": "2024-06-13T06:50:37.444480Z",
     "start_time": "2024-06-13T06:50:37.436482Z"
    }
   },
   "source": [
    "Первый метод:\n",
    "Если нужно просто обновить python, то достаточно команды \"conda update python\"\n",
    "\n",
    "Если нужно обновить всю Anaconda, то \"conda update anaconda\"\n",
    "\n",
    "Если нужна какая-то конкретная версия, например 3.9, то необходимо указать ее:\n",
    "\n",
    "conda install python=3.9\n",
    "\n",
    "Второй метод:\n",
    "\n",
    "Создайте отдельное окружение:\n",
    "\n",
    "conda create --name py39 python=3.9\n",
    "\n",
    "P.S. лучше всего использовать именно этот метод\n",
    "\n"
   ]
  },
  {
   "cell_type": "code",
   "execution_count": 10,
   "metadata": {
    "ExecuteTime": {
     "end_time": "2024-06-27T04:57:56.472869Z",
     "start_time": "2024-06-27T04:57:56.457870Z"
    }
   },
   "outputs": [],
   "source": [
    "# !conda -V\n",
    "# !conda update python\n",
    "# !python -V\n",
    "# https://docs.anaconda.org/free/anaconda/allpkglists/\n",
    "# https://repo.anaconda.com/archive/\n",
    "# conda 22.9.0"
   ]
  },
  {
   "cell_type": "markdown",
   "metadata": {},
   "source": [
    "\n",
    "### Markdown\n",
    ">pd np sns ... \n",
    "\n",
    "---\n",
    "<span style=\"font-size:0.8em;\"> [TOC](#mod1) </span>\n"
   ]
  },
  {
   "cell_type": "markdown",
   "metadata": {
    "ExecuteTime": {
     "end_time": "2024-06-18T08:37:21.609608Z",
     "start_time": "2024-06-18T08:37:21.590610Z"
    }
   },
   "source": [
    "+ элемент 1\n",
    "\n",
    "- элемент 2\n",
    "\n",
    "* элемент ...\n",
    "\n",
    "\n",
    "\n",
    "1. элемент 1\n",
    "\n",
    "2. элемент 2\n",
    "\n",
    "  2.1. элемент 3\n",
    "\n",
    "  2.2. элемент 3\n",
    "\n",
    "3. элемент 4\n",
    "\n",
    "\n",
    "\n",
    "```python\n",
    "\n",
    "lst = [10, 34, 21, 21, 3]\n",
    "\n",
    "summa = sum(lst)\n",
    "\n",
    "```\n",
    "\n",
    "\n",
    "> Цитируемый текст\n",
    "\n",
    "\n",
    "\n",
    "Пусть задано выражение:\n",
    "\n",
    "$$a = b +c,$$\n",
    "\n",
    "где $a=0$\n",
    "\n",
    "$\\alpha$ — \n",
    "$\\gamma$ — \n",
    "$\\sigma$ — \n",
    "\n",
    "$a^2$ — \n",
    "$b_{ij}$ — \n",
    "$w^{ij}_n$ — \n",
    "\n",
    "\n",
    "\n",
    "\n",
    "\n",
    "\n",
    "\n"
   ]
  },
  {
   "cell_type": "code",
   "execution_count": 11,
   "metadata": {
    "ExecuteTime": {
     "end_time": "2024-06-27T04:57:56.488869Z",
     "start_time": "2024-06-27T04:57:56.475869Z"
    }
   },
   "outputs": [],
   "source": [
    "# один символ — для наклонного текста (_italic_, *italic*);\n",
    "# два символа — для жирного текста (__strong__, **strong**);\n",
    "# три — для наклонного и жирного одновременно (***жирный и наклонный***).\n",
    "\n",
    "# # Заголовок h1\n",
    "# ## Заголовок h2\n",
    "# ### Заголовок h3\n",
    "# #### Заголовок h4\n",
    "# ##### Заголовок h5\n",
    "# ###### Заголовок h6\n",
    "# ---\n",
    "# #  Заголовок h1 </center>\n",
    "\n",
    "# без подсказки — [текст ссылки](http://example.com/link);\n",
    "# c подсказкой — [текст ссылки](http://example.com/link \"Подсказка\").\n",
    "# Для отображения изображений перед квадратными скобками ставится восклицательный знак:\n",
    "# ![](https://i.imgur.com/3uj9teq.png)\n",
    "# <img src=https://i.imgur.com/3uj9teq.png width=500px height=30%>\n",
    "\n",
    "\n"
   ]
  },
  {
   "cell_type": "markdown",
   "metadata": {},
   "source": [
    "\n",
    "### pip (pip freeze)\n",
    "\n",
    " \n",
    "\n",
    "\n",
    "зафиксировать версии библиотеки, которые использовались в проекте.\n",
    "\n",
    "Для этого существует несколько подходов. Мы рассмотрим подход через менеджер пакетов pip.\n",
    "\n",
    "Можно зафиксировать версии через pip командой pip freeze > requirements.txt.\n",
    "\n",
    "В результате выполнения команды в папке проекта появится файл requirements.txt, где будут перечислены все версии библиотек, которые сейчас установлены в окружении.\n",
    "\n",
    "?\n",
    "Как перенести эти версии библиотек на другой компьютер, чтобы наш проект работал на нём?\n",
    "\n",
    "Для этого необходимо использовать команду \n",
    "\n",
    "pip install -r requirements.txt.\n",
    "\n",
    "В результате выполнения этой команды будут установлены все библиотеки и зависимости, которые использовались в нашем проекте.\n",
    "\n",
    "Кроме Conda и pip freeze, существуют более продвинутые способы управления пакетами:\n",
    "\n",
    "Poetry\n",
    "Этот инструмент сейчас набирает популярность, однако мы не будем рассматривать его в этом курсе — при желании вы можете изучить его самостоятельно.\n",
    "\n",
    "Docker Desktop\n",
    "Этот инструмент позволяет полностью изолировать проект (вплоть до операционной системы). О нём мы ещё будем говорить в дальнейшем.\n",
    "\n",
    "---\n",
    "\n",
    "<span style=\"font-size:0.8em;\"> [TOC](#mod1) </span>"
   ]
  },
  {
   "cell_type": "markdown",
   "metadata": {},
   "source": [
    "### Git\n",
    "\n",
    "---\n",
    "\n",
    "<span style=\"font-size:0.8em;\"> [TOC](#mod1) </span>\n"
   ]
  },
  {
   "cell_type": "markdown",
   "metadata": {
    "ExecuteTime": {
     "end_time": "2024-07-01T10:27:57.601017Z",
     "start_time": "2024-07-01T10:27:57.575615Z"
    }
   },
   "source": [
    "\n",
    "> Типичная схема действий на работе в компании https://www.youtube.com/watch?v=6cUJFdeaQJM&t=42s https://www.youtube.com/watch?v=pToZnXuGMh0&t=805s\n",
    "> 30 команд Git, необходимых для освоения интерфейса командной строки Git https://habr.com/ru/companies/ruvds/articles/599929/\n",
    "\n",
    "* Создали в гитлабе проект \n",
    "* Склонировали по ссх (ssh keygen)  пароль шмароль... !ssh-keygen -t rsa -b 4096 публичный ssh to github \n",
    "* git clone ...ссылка с гита... (без ковычек) пароль шмароль...\n",
    "* скопируется папка с названием самого проекта на гите .gitignore будет сразу автоматом создан при создании проекта на гитхабе так же как и README.md\n",
    "* если нет то создать в линукс фаил - touch .gitignore (!echo .ipynb_checkpoints >> .gitignore запись в конец файла что антрекать)\n",
    "* git status -s - on branch master \n",
    "* git pull - обновить стянуть заново  \n",
    "* git log  - комиты и тд\n",
    "* git branch - все ветки и текущая подсвечена\n",
    "* git branch new_dir/new_project - создать новую ветку new_dir/new_project\n",
    "* git checkout new_dir/new_project - перейти в ветку\n",
    "* git status -s (снова) - создаем файлы пишем чтото потом проверяем статус\n",
    "* git diff - посмотреть что именно изменилось \n",
    "* git add . - точка значит все изменения добавить все файлы либо git add name_file.py\n",
    "* git status (снова) - проверили что добавили \n",
    "* git commit -m \"First commit\" - добавили комит в кавычках сообщение если -m нет то откроется vim\n",
    "* git branch - проверили что работаем не в главной ветки и собираемся ее (branch new_dir/new_project) добавить в главную (origin)\n",
    "* git push origin new_dir/new_project - запушить в origin нашу ветку new_dir/new_project\n",
    "* пароль шмароль... ссылка... переходим на нее (to create merge requests for new_dir/new_project)\n",
    "* Submit merge request (Assignee - заассаиним типов кто проверит и подтвердит)\n",
    "* там внесли изменения (команда чтото поменяла но у меня этого в моей ветке проекта нового нет и в главной ветке тоже нет поэтому надо обновить)\n",
    "* git checkout . - отменить все изменения (те что в git status красным если надо откатить что бы не выводил изменения)\n",
    "* git checkout master - перешли в главную (git branchи проверили что на ветке мастер)\n",
    "* * main — ветка, созданная GitHub автоматически (здесь хранятся файлы .gitignore и README.md);\n",
    "* * master — ветка, созданная системой контроля версий (мы работали в ней).\n",
    "\n",
    "* git pull - обновить измнения в мастер (но в нашем новом проекте еще все без изменений! надо там обновить тоже ) а для этого перейдем в свою новую ветку и сделаем мерж \n",
    "* git checkout new_dir/new_project - перешли в новую ветку что бы ее обновить вмержив мастер...\n",
    "* git merge master\n",
    "\n",
    "\n",
    "\n",
    "\n",
    "\n",
    "\n"
   ]
  },
  {
   "cell_type": "code",
   "execution_count": 3,
   "metadata": {
    "ExecuteTime": {
     "end_time": "2024-07-01T10:28:08.066502Z",
     "start_time": "2024-07-01T10:28:08.062502Z"
    }
   },
   "outputs": [],
   "source": [
    "# !ssh-keygen -t rsa -b 4096\n",
    "# !git clone git@github.com:ПРОЕКТ/ПРОЕКТ.git \n",
    "# !echo .ipynb_checkpoints >> .gitignore \n",
    "# !echo .virtual_documents >> .gitignore \n",
    "# !git status \n",
    "# !git pull \n",
    "# !git log \n",
    "# !git branch \n",
    "# !git branch new_dir/new_project \n",
    "# !git checkout new_dir/new_project\n",
    "# !git status\n",
    "# !git diff \n",
    "# !git add . \n",
    "# !git status -s\n",
    "# !git commit -m \"First commit\" \n",
    "# !git branch \n",
    "# !git push origin new_dir/new_project \n",
    "# # пароль шмароль... ссылка... переходим на нее (to create merge requests for new_dir/new_project)\n",
    "# # Submit merge request (Assignee - заассаиним типов кто проверит и подтвердит)\n",
    "# # там внесли изменения (команда чтото поменяла но у меня этого в моей ветке проекта нового нет и в главной ветке тоже нет поэтому надо обновить)\n",
    "# !git checkout . - отменить все изменения (те что в git status красным если надо откатить что бы не выводил изменения)\n",
    "# !git checkout master \n",
    "# !git pull \n",
    "# !git checkout new_dir/new_project \n",
    "# !git merge master"
   ]
  },
  {
   "cell_type": "markdown",
   "metadata": {},
   "source": [
    "### None vs np.non\n",
    "\n",
    "---\n",
    "\n",
    "<span style=\"font-size:0.8em;\"> [TOC](#mod1) </span>\n"
   ]
  },
  {
   "cell_type": "code",
   "execution_count": 12,
   "metadata": {
    "ExecuteTime": {
     "end_time": "2024-06-27T04:57:56.503869Z",
     "start_time": "2024-06-27T04:57:56.490870Z"
    },
    "scrolled": true
   },
   "outputs": [
    {
     "name": "stdout",
     "output_type": "stream",
     "text": [
      "qwe\n",
      "True True\n",
      "False False\n",
      "<class 'NoneType'>\n",
      "<class 'float'>\n",
      "True\n",
      "False\n",
      "False\n",
      "True\n",
      "True\n",
      "False\n",
      "True\n"
     ]
    }
   ],
   "source": [
    "if not None:\n",
    "    print('qwe')\n",
    "    \n",
    "print( not None == True, not None is True )\n",
    "# True True\n",
    "print( None == False, None is False )\n",
    "# False False\n",
    "qwe = [] \n",
    "not qwe\n",
    "# True\n",
    "\n",
    "# Отличие 1. None является отдельным объектом типа NoneType. np.nan — это отдельный представитель класса float:\n",
    "print(type(None))\n",
    "# <class 'NoneType'>\n",
    "print(type(np.nan))\n",
    "# <class 'float'>\n",
    "type(np.NaN), type(np.nan)\n",
    "# (float, float)\n",
    "\n",
    "# Отличие 2. None могут быть равны друг другу, а np.nan — нет:\n",
    "print(None == None)\n",
    "# True\n",
    "print(np.nan == np.nan)\n",
    "# False\n",
    "print(None == np.nan)\n",
    "# False\n",
    "\n",
    "# Как вы помните, чтобы грамотно сравнить что-либо с None, \n",
    "# необходимо использовать оператор is. Это ещё более актуально для np.nan. Однако None даже через is не является эквивалентным np.nan:\n",
    "print(None is None)\n",
    "# True\n",
    "print(np.nan is np.nan)\n",
    "# True\n",
    "print(np.nan is None)\n",
    "# False\n",
    "print(np.isnan(np.nan))\n",
    "# True\n"
   ]
  },
  {
   "cell_type": "markdown",
   "metadata": {
    "id": "2vhSk6Vygk4y"
   },
   "source": [
    "\n",
    "## --- --- ---\n"
   ]
  },
  {
   "cell_type": "markdown",
   "metadata": {},
   "source": [
    "<a id='mod1'> </a>\n",
    "## **Модуль 1**\n",
    "\n",
    ">\n"
   ]
  },
  {
   "cell_type": "markdown",
   "metadata": {},
   "source": [
    "\n",
    "<a id='toc'> </a>\n",
    "> Table of Contents TOC \n",
    "\n",
    " * [1 УРОК ](#1)\n",
    " * [2 УРОК ](#2)\n",
    " * [3 УРОК ](#3)\n",
    " * [4 УРОК ](#4)\n",
    " * [5 УРОК ](#5)\n",
    " * [6 УРОК ](#6)\n",
    " * [7 УРОК ](#7)\n",
    " * [8 УРОК ](#8)\n",
    "   * [под урок](#9)\n",
    "\n",
    "---\n",
    "\n",
    "---"
   ]
  },
  {
   "cell_type": "markdown",
   "metadata": {
    "ExecuteTime": {
     "end_time": "2024-06-21T09:28:11.703399Z",
     "start_time": "2024-06-21T09:28:11.685377Z"
    }
   },
   "source": [
    "\n",
    "<a id='1'> </a>\n",
    "\n",
    "### подмодуль модуля 1\n",
    "\n",
    "---\n",
    "<span style=\"font-size:0.8em;\"> [TOC](#mod1) </span>"
   ]
  },
  {
   "cell_type": "markdown",
   "metadata": {
    "ExecuteTime": {
     "end_time": "2024-06-21T09:28:11.703399Z",
     "start_time": "2024-06-21T09:28:11.685377Z"
    }
   },
   "source": [
    "\n",
    "<a id='1'> </a>\n",
    "\n",
    "#### _под под модуль модуля 1 ))_\n",
    "\n",
    "---\n",
    "<span style=\"font-size:0.8em;\"> [TOC](#mod1) </span>"
   ]
  },
  {
   "cell_type": "markdown",
   "metadata": {
    "ExecuteTime": {
     "end_time": "2024-06-21T11:57:15.752141Z",
     "start_time": "2024-06-21T11:57:15.744140Z"
    }
   },
   "source": [
    "###### какие то темы на которые надо обратить внимание\n",
    "\n"
   ]
  },
  {
   "cell_type": "code",
   "execution_count": 4,
   "metadata": {
    "ExecuteTime": {
     "end_time": "2024-07-01T12:19:57.554723Z",
     "start_time": "2024-07-01T12:19:57.529348Z"
    }
   },
   "outputs": [
    {
     "data": {
      "text/plain": [
       "False"
      ]
     },
     "execution_count": 4,
     "metadata": {},
     "output_type": "execute_result"
    }
   ],
   "source": [
    "1+1==5"
   ]
  },
  {
   "cell_type": "code",
   "execution_count": null,
   "metadata": {},
   "outputs": [],
   "source": []
  },
  {
   "cell_type": "code",
   "execution_count": null,
   "metadata": {},
   "outputs": [],
   "source": []
  },
  {
   "cell_type": "code",
   "execution_count": null,
   "metadata": {},
   "outputs": [],
   "source": []
  },
  {
   "cell_type": "code",
   "execution_count": null,
   "metadata": {},
   "outputs": [],
   "source": []
  },
  {
   "cell_type": "markdown",
   "metadata": {
    "ExecuteTime": {
     "end_time": "2024-06-21T09:28:11.703399Z",
     "start_time": "2024-06-21T09:28:11.685377Z"
    }
   },
   "source": [
    "\n",
    "<a id='1'> </a>\n",
    "\n",
    "### подмодуль модуля 2\n",
    "\n",
    "---\n",
    "<span style=\"font-size:0.8em;\"> [TOC](#mod1) </span>"
   ]
  },
  {
   "cell_type": "markdown",
   "metadata": {
    "ExecuteTime": {
     "end_time": "2024-06-21T09:28:11.703399Z",
     "start_time": "2024-06-21T09:28:11.685377Z"
    }
   },
   "source": [
    "\n",
    "<a id='1'> </a>\n",
    "\n",
    "#### _под под модуль модуля 2 ))_\n",
    "\n",
    "---\n",
    "<span style=\"font-size:0.8em;\"> [TOC](#mod1) </span>"
   ]
  },
  {
   "cell_type": "markdown",
   "metadata": {
    "ExecuteTime": {
     "end_time": "2024-06-21T11:57:15.752141Z",
     "start_time": "2024-06-21T11:57:15.744140Z"
    }
   },
   "source": [
    "###### какие то темы на которые надо обратить внимание\n",
    "\n"
   ]
  },
  {
   "cell_type": "code",
   "execution_count": 4,
   "metadata": {
    "ExecuteTime": {
     "end_time": "2024-07-01T12:19:57.554723Z",
     "start_time": "2024-07-01T12:19:57.529348Z"
    }
   },
   "outputs": [
    {
     "data": {
      "text/plain": [
       "False"
      ]
     },
     "execution_count": 4,
     "metadata": {},
     "output_type": "execute_result"
    }
   ],
   "source": [
    "1+1==5"
   ]
  },
  {
   "cell_type": "code",
   "execution_count": null,
   "metadata": {},
   "outputs": [],
   "source": []
  },
  {
   "cell_type": "code",
   "execution_count": null,
   "metadata": {},
   "outputs": [],
   "source": []
  },
  {
   "cell_type": "code",
   "execution_count": null,
   "metadata": {},
   "outputs": [],
   "source": []
  },
  {
   "cell_type": "code",
   "execution_count": null,
   "metadata": {},
   "outputs": [],
   "source": []
  },
  {
   "cell_type": "code",
   "execution_count": null,
   "metadata": {},
   "outputs": [],
   "source": []
  },
  {
   "cell_type": "code",
   "execution_count": null,
   "metadata": {},
   "outputs": [],
   "source": []
  },
  {
   "cell_type": "code",
   "execution_count": null,
   "metadata": {},
   "outputs": [],
   "source": []
  },
  {
   "cell_type": "code",
   "execution_count": null,
   "metadata": {},
   "outputs": [],
   "source": []
  },
  {
   "cell_type": "markdown",
   "metadata": {},
   "source": [
    "<a id='8'> </a>\n",
    "\n",
    "### ***\n",
    "\n",
    "---\n",
    "<span style=\"font-size:0.8em;\"> [TOC](#mod1) </span>\n"
   ]
  },
  {
   "cell_type": "markdown",
   "metadata": {},
   "source": [
    "<a id='8'> </a>\n",
    "\n",
    "### ***\n",
    "\n",
    "---\n",
    "<span style=\"font-size:0.8em;\"> [TOC](#mod1) </span>\n"
   ]
  },
  {
   "cell_type": "markdown",
   "metadata": {},
   "source": [
    "<a id='8'> </a>\n",
    "\n",
    "### ***\n",
    "\n",
    "---\n",
    "<span style=\"font-size:0.8em;\"> [TOC](#mod1) </span>\n"
   ]
  },
  {
   "cell_type": "markdown",
   "metadata": {},
   "source": [
    "<a id='8'> </a>\n",
    "\n",
    "### ***\n",
    "\n",
    "---\n",
    "<span style=\"font-size:0.8em;\"> [TOC](#mod1) </span>\n"
   ]
  },
  {
   "cell_type": "markdown",
   "metadata": {},
   "source": [
    "<a id='8'> </a>\n",
    "\n",
    "### ***\n",
    "\n",
    "---\n",
    "<span style=\"font-size:0.8em;\"> [TOC](#mod1) </span>\n"
   ]
  },
  {
   "cell_type": "markdown",
   "metadata": {},
   "source": [
    "<a id='8'> </a>\n",
    "\n",
    "### ***\n",
    "\n",
    "---\n",
    "<span style=\"font-size:0.8em;\"> [TOC](#mod1) </span>\n"
   ]
  },
  {
   "cell_type": "markdown",
   "metadata": {},
   "source": [
    "<a id='8'> </a>\n",
    "\n",
    "### ***\n",
    "\n",
    "---\n",
    "<span style=\"font-size:0.8em;\"> [TOC](#mod1) </span>\n"
   ]
  },
  {
   "cell_type": "markdown",
   "metadata": {},
   "source": [
    "<a id='8'> </a>\n",
    "\n",
    "### ***\n",
    "\n",
    "---\n",
    "<span style=\"font-size:0.8em;\"> [TOC](#mod1) </span>\n"
   ]
  },
  {
   "cell_type": "markdown",
   "metadata": {},
   "source": [
    "<a id='8'> </a>\n",
    "\n",
    "### ***\n",
    "\n",
    "---\n",
    "<span style=\"font-size:0.8em;\"> [TOC](#mod1) </span>\n"
   ]
  }
 ],
 "metadata": {
  "colab": {
   "authorship_tag": "ABX9TyPsGJ0dJnDgJWLVASg5Dngn",
   "provenance": [],
   "toc_visible": true
  },
  "hide_input": false,
  "kernelspec": {
   "display_name": "Python 3 (ipykernel)",
   "language": "python",
   "name": "python3"
  },
  "language_info": {
   "codemirror_mode": {
    "name": "ipython",
    "version": 3
   },
   "file_extension": ".py",
   "mimetype": "text/x-python",
   "name": "python",
   "nbconvert_exporter": "python",
   "pygments_lexer": "ipython3",
   "version": "3.9.13"
  },
  "toc": {
   "base_numbering": 1,
   "nav_menu": {},
   "number_sections": false,
   "sideBar": true,
   "skip_h1_title": false,
   "title_cell": "Table of Contents",
   "title_sidebar": "Table of Contents",
   "toc_cell": false,
   "toc_position": {
    "height": "1056.98px",
    "left": "145px",
    "top": "161.956px",
    "width": "348.851px"
   },
   "toc_section_display": true,
   "toc_window_display": true
  },
  "varInspector": {
   "cols": {
    "lenName": 16,
    "lenType": 16,
    "lenVar": 40
   },
   "kernels_config": {
    "python": {
     "delete_cmd_postfix": "",
     "delete_cmd_prefix": "del ",
     "library": "var_list.py",
     "varRefreshCmd": "print(var_dic_list())"
    },
    "r": {
     "delete_cmd_postfix": ") ",
     "delete_cmd_prefix": "rm(",
     "library": "var_list.r",
     "varRefreshCmd": "cat(var_dic_list()) "
    }
   },
   "types_to_exclude": [
    "module",
    "function",
    "builtin_function_or_method",
    "instance",
    "_Feature"
   ],
   "window_display": false
  }
 },
 "nbformat": 4,
 "nbformat_minor": 4
}
