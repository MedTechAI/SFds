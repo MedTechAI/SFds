{
 "cells": [
  {
   "cell_type": "markdown",
   "metadata": {
    "editable": true,
    "id": "u-wNOcsdfxxw",
    "slideshow": {
     "slide_type": ""
    },
    "tags": []
   },
   "source": [
    "---\n",
    "---\n",
    "# **Data Science в медицине [skillfactory]**   <a id='top'> </a>\n",
    "---\n",
    "---\n"
   ]
  },
  {
   "cell_type": "markdown",
   "metadata": {},
   "source": [
    "\n",
    "---\n",
    "<a id='1'> </a>\n",
    "\n",
    "### !pip install / import / google.colab import drive\n",
    ">@title import\n",
    "\n",
    "<span style=\"font-size:0.8em;\"> [TOP](#top) </span>\n",
    "\n",
    "---\n"
   ]
  },
  {
   "cell_type": "code",
   "execution_count": null,
   "metadata": {},
   "outputs": [],
   "source": [
    "# !pip install psycopg2 \n",
    "# def p( *args, **kwargs ):\n",
    "#     return print(*args, **kwargs)\n",
    "# p('ARH', ';kj')\n",
    "p = print"
   ]
  },
  {
   "cell_type": "code",
   "execution_count": null,
   "metadata": {},
   "outputs": [],
   "source": [
    "!jupyter --config-dir"
   ]
  },
  {
   "cell_type": "code",
   "execution_count": null,
   "metadata": {},
   "outputs": [],
   "source": [
    "from calendar import day_name\n",
    "import psycopg2\n",
    "from collections import deque\n",
    "# from google.colab import drive\n",
    "from io import BytesIO\n",
    "from pathlib import Path\n",
    "from urllib.parse import urlencode\n",
    "import datetime\n",
    "# import gspread\n",
    "import json\n",
    "import matplotlib as plt\n",
    "import matplotlib.pyplot as plt\n",
    "import numpy as np\n",
    "import os\n",
    "import pandas as pd\n",
    "import plotly.express as px\n",
    "import random\n",
    "import requests\n",
    "import seaborn as sns\n",
    "import sys\n",
    "# import vk_api\n",
    "\n",
    "###\n",
    "\n",
    "\n",
    "sns.set(rc={'figure.figsize':(8,3)})"
   ]
  },
  {
   "cell_type": "code",
   "execution_count": null,
   "metadata": {},
   "outputs": [],
   "source": [
    "# from google.colab import drive\n",
    "# drive.mount('/content/drive')"
   ]
  },
  {
   "cell_type": "markdown",
   "metadata": {},
   "source": [
    " <a id='mod1'> </a>\n",
    " ## [ МОДУЛЬ ] 0 Программирование на Python "
   ]
  },
  {
   "cell_type": "markdown",
   "metadata": {},
   "source": [
    "\n",
    "---\n",
    "<a id='toc'> </a>\n",
    "> Table of Contents TOC \n",
    "\n",
    " * [1 УРОК ](#1)\n",
    " * [2 УРОК ](#2)\n",
    " * [3 УРОК ](#3)\n",
    " * [4 УРОК ](#4)\n",
    " * [5 УРОК ](#5)\n",
    " * [6 УРОК ](#6)\n",
    " * [7 УРОК ](#7)\n",
    " * [8 УРОК ](#8)\n",
    "   * [под урок](#9)\n",
    "\n",
    "---\n",
    "---"
   ]
  },
  {
   "cell_type": "markdown",
   "metadata": {
    "id": "2vhSk6Vygk4y"
   },
   "source": [
    "\n",
    "---\n",
    "<a id='1'> </a>\n",
    "\n",
    "### 1 УРОК: ВВ\n",
    "\n",
    "<span style=\"font-size:0.8em;\"> [TOC](#mod1) </span>\n",
    "\n",
    "---\n"
   ]
  },
  {
   "cell_type": "code",
   "execution_count": null,
   "metadata": {},
   "outputs": [],
   "source": []
  },
  {
   "cell_type": "code",
   "execution_count": null,
   "metadata": {},
   "outputs": [],
   "source": []
  },
  {
   "cell_type": "code",
   "execution_count": null,
   "metadata": {},
   "outputs": [],
   "source": []
  },
  {
   "cell_type": "markdown",
   "metadata": {},
   "source": [
    "\n",
    "---\n",
    "<a id='2'> </a>\n",
    "\n",
    "### 2 УРОК: *\n",
    "\n",
    "<span style=\"font-size:0.8em;\"> [TOC](#mod1) </span>\n",
    "\n",
    "---\n"
   ]
  },
  {
   "cell_type": "code",
   "execution_count": null,
   "metadata": {},
   "outputs": [],
   "source": []
  },
  {
   "cell_type": "code",
   "execution_count": null,
   "metadata": {},
   "outputs": [],
   "source": []
  },
  {
   "cell_type": "code",
   "execution_count": null,
   "metadata": {},
   "outputs": [],
   "source": []
  },
  {
   "cell_type": "markdown",
   "metadata": {},
   "source": [
    "\n",
    "---\n",
    "<a id='3'> </a>\n",
    "\n",
    "### 3 УРОК: *\n",
    "\n",
    "<span style=\"font-size:0.8em;\"> [TOC](#mod1) </span>\n",
    "\n",
    "---\n"
   ]
  },
  {
   "cell_type": "code",
   "execution_count": null,
   "metadata": {},
   "outputs": [],
   "source": []
  },
  {
   "cell_type": "code",
   "execution_count": null,
   "metadata": {},
   "outputs": [],
   "source": []
  },
  {
   "cell_type": "code",
   "execution_count": null,
   "metadata": {},
   "outputs": [],
   "source": []
  },
  {
   "cell_type": "markdown",
   "metadata": {},
   "source": [
    "\n",
    "---\n",
    "<a id='4'> </a>\n",
    "\n",
    "### 4 УРОК: *\n",
    "\n",
    "<span style=\"font-size:0.8em;\"> [TOC](#mod1) </span>\n",
    "\n",
    "---\n"
   ]
  },
  {
   "cell_type": "code",
   "execution_count": null,
   "metadata": {},
   "outputs": [],
   "source": []
  },
  {
   "cell_type": "code",
   "execution_count": null,
   "metadata": {},
   "outputs": [],
   "source": []
  },
  {
   "cell_type": "code",
   "execution_count": null,
   "metadata": {},
   "outputs": [],
   "source": []
  },
  {
   "cell_type": "markdown",
   "metadata": {},
   "source": [
    "\n",
    "---\n",
    "<a id='5'> </a>\n",
    "\n",
    "### 5 УРОК: *\n",
    "\n",
    "<span style=\"font-size:0.8em;\"> [TOC](#mod1) </span>\n",
    "\n",
    "---\n"
   ]
  },
  {
   "cell_type": "code",
   "execution_count": null,
   "metadata": {},
   "outputs": [],
   "source": []
  },
  {
   "cell_type": "code",
   "execution_count": null,
   "metadata": {},
   "outputs": [],
   "source": []
  },
  {
   "cell_type": "code",
   "execution_count": null,
   "metadata": {},
   "outputs": [],
   "source": []
  },
  {
   "cell_type": "markdown",
   "metadata": {},
   "source": [
    "\n",
    "---\n",
    "<a id='6'> </a>\n",
    "\n",
    "### 6 УРОК: *\n",
    "\n",
    "<span style=\"font-size:0.8em;\"> [TOC](#mod1) </span>\n",
    "\n",
    "---\n"
   ]
  },
  {
   "cell_type": "code",
   "execution_count": null,
   "metadata": {},
   "outputs": [],
   "source": []
  },
  {
   "cell_type": "code",
   "execution_count": null,
   "metadata": {},
   "outputs": [],
   "source": []
  },
  {
   "cell_type": "code",
   "execution_count": null,
   "metadata": {},
   "outputs": [],
   "source": []
  },
  {
   "cell_type": "markdown",
   "metadata": {},
   "source": [
    "\n",
    "---\n",
    "<a id='7'> </a>\n",
    "\n",
    "### 7 УРОК: *\n",
    "\n",
    "<span style=\"font-size:0.8em;\"> [TOC](#mod1) </span>\n",
    "\n",
    "---\n"
   ]
  },
  {
   "cell_type": "code",
   "execution_count": null,
   "metadata": {},
   "outputs": [],
   "source": []
  },
  {
   "cell_type": "code",
   "execution_count": null,
   "metadata": {},
   "outputs": [],
   "source": []
  },
  {
   "cell_type": "code",
   "execution_count": null,
   "metadata": {},
   "outputs": [],
   "source": []
  },
  {
   "cell_type": "markdown",
   "metadata": {},
   "source": [
    "\n",
    "---\n",
    "<a id='8'> </a>\n",
    "\n",
    "### 8 УРОК: *\n",
    "\n",
    "<span style=\"font-size:0.8em;\"> [TOC](#mod1) </span>\n",
    "\n",
    "---\n"
   ]
  },
  {
   "cell_type": "code",
   "execution_count": null,
   "metadata": {},
   "outputs": [],
   "source": []
  },
  {
   "cell_type": "code",
   "execution_count": null,
   "metadata": {},
   "outputs": [],
   "source": []
  },
  {
   "cell_type": "code",
   "execution_count": null,
   "metadata": {},
   "outputs": [],
   "source": []
  }
 ],
 "metadata": {
  "colab": {
   "authorship_tag": "ABX9TyPsGJ0dJnDgJWLVASg5Dngn",
   "provenance": [],
   "toc_visible": true
  },
  "kernelspec": {
   "display_name": "Python 3 (ipykernel)",
   "language": "python",
   "name": "python3"
  },
  "language_info": {
   "codemirror_mode": {
    "name": "ipython",
    "version": 3
   },
   "file_extension": ".py",
   "mimetype": "text/x-python",
   "name": "python",
   "nbconvert_exporter": "python",
   "pygments_lexer": "ipython3",
   "version": "3.11.7"
  }
 },
 "nbformat": 4,
 "nbformat_minor": 4
}
