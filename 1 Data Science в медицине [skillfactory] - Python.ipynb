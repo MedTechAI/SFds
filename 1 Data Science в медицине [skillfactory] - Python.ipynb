{
 "cells": [
  {
   "cell_type": "markdown",
   "metadata": {
    "id": "u-wNOcsdfxxw"
   },
   "source": [
    "\n",
    "---\n",
    "\n",
    "---\n",
    "\n",
    "# **Data Science в медицине [skillfactory]**   <a id='top'> </a>\n",
    "\n",
    "---\n",
    "\n",
    "---\n"
   ]
  },
  {
   "cell_type": "markdown",
   "metadata": {},
   "source": [
    "\n",
    "---\n",
    "\n",
    "### !pip install / import / google.colab import drive\n",
    ">\n",
    "\n",
    "---\n"
   ]
  },
  {
   "cell_type": "code",
   "execution_count": 6,
   "metadata": {
    "ExecuteTime": {
     "end_time": "2024-06-07T13:55:50.050125Z",
     "start_time": "2024-06-07T13:55:50.032101Z"
    }
   },
   "outputs": [],
   "source": [
    "from pprint import pprint\n",
    "# def p( *args, **kwargs ):\n",
    "#     return print(*args, **kwargs)\n",
    "# p('ARH', ';kj')\n",
    "p = print\n",
    "pp = pprint"
   ]
  },
  {
   "cell_type": "code",
   "execution_count": 16,
   "metadata": {
    "ExecuteTime": {
     "end_time": "2024-06-03T11:15:46.910584Z",
     "start_time": "2024-06-03T11:15:46.895557Z"
    }
   },
   "outputs": [],
   "source": [
    "### в терменале выполнять\n",
    "# jupyter --config-dir\n",
    "# jupyter notebook --generate-config\n",
    "### posix - linux команды \n",
    "# conda install posix"
   ]
  },
  {
   "cell_type": "code",
   "execution_count": 17,
   "metadata": {
    "ExecuteTime": {
     "end_time": "2024-06-03T11:17:14.118265Z",
     "start_time": "2024-06-03T11:17:11.826215Z"
    }
   },
   "outputs": [
    {
     "name": "stdout",
     "output_type": "stream",
     "text": [
      "Collecting psycopg2\n",
      "  Using cached psycopg2-2.9.9-cp39-cp39-win_amd64.whl (1.2 MB)\n",
      "Installing collected packages: psycopg2\n",
      "Successfully installed psycopg2-2.9.9\n"
     ]
    },
    {
     "name": "stderr",
     "output_type": "stream",
     "text": [
      "WARNING: There was an error checking the latest version of pip.\n"
     ]
    }
   ],
   "source": [
    "# !pip install psycopg2 "
   ]
  },
  {
   "cell_type": "code",
   "execution_count": 7,
   "metadata": {
    "ExecuteTime": {
     "end_time": "2024-06-07T13:55:59.905284Z",
     "start_time": "2024-06-07T13:55:51.404251Z"
    }
   },
   "outputs": [],
   "source": [
    "from calendar import day_name\n",
    "import psycopg2\n",
    "from collections import deque, Counter, OrderedDict\n",
    "# from google.colab import drive\n",
    "from io import BytesIO\n",
    "from pathlib import Path\n",
    "from urllib.parse import urlencode\n",
    "import datetime\n",
    "# import gspread\n",
    "import json\n",
    "import matplotlib as plt\n",
    "import matplotlib.pyplot as plt\n",
    "import numpy as np\n",
    "import os\n",
    "import pandas as pd\n",
    "import plotly.express as px\n",
    "import random\n",
    "import requests\n",
    "import subprocess\n",
    "import seaborn as sns\n",
    "import sys\n",
    "from operator import itemgetter, attrgetter\n",
    "\n",
    "# import vk_api\n",
    "\n",
    "###\n",
    "\n",
    "\n",
    "sns.set(rc={'figure.figsize':(8,3)})"
   ]
  },
  {
   "cell_type": "code",
   "execution_count": null,
   "metadata": {},
   "outputs": [],
   "source": [
    "# from google.colab import drive\n",
    "# drive.mount('/content/drive')"
   ]
  },
  {
   "cell_type": "code",
   "execution_count": null,
   "metadata": {},
   "outputs": [],
   "source": []
  },
  {
   "cell_type": "markdown",
   "metadata": {
    "id": "2vhSk6Vygk4y"
   },
   "source": [
    "\n",
    "---\n",
    "<a id='1'> </a>\n",
    "\n",
    "## 0 УРОК: Адаптационный курс\n",
    "\n",
    "<span style=\"font-size:0.8em;\"> [TOC](#mod1) </span>\n",
    "\n",
    "---\n"
   ]
  },
  {
   "cell_type": "code",
   "execution_count": null,
   "metadata": {},
   "outputs": [],
   "source": []
  },
  {
   "cell_type": "markdown",
   "metadata": {},
   "source": [
    "<a id='mod1'> </a>\n",
    "## 1 Программирование на Python "
   ]
  },
  {
   "cell_type": "markdown",
   "metadata": {},
   "source": [
    "\n",
    "---\n",
    "\n",
    "<a id='toc'> </a>\n",
    "> Table of Contents TOC \n",
    "\n",
    " * [1 УРОК ](#1)\n",
    " * [2 УРОК ](#2)\n",
    " * [3 УРОК ](#3)\n",
    " * [4 УРОК ](#4)\n",
    " * [5 УРОК ](#5)\n",
    " * [6 УРОК ](#6)\n",
    " * [7 УРОК ](#7)\n",
    " * [8 УРОК ](#8)\n",
    "   * [под урок](#9)\n",
    "\n",
    "---\n",
    "\n",
    "---"
   ]
  },
  {
   "cell_type": "code",
   "execution_count": null,
   "metadata": {},
   "outputs": [],
   "source": []
  },
  {
   "cell_type": "code",
   "execution_count": null,
   "metadata": {},
   "outputs": [],
   "source": []
  },
  {
   "cell_type": "markdown",
   "metadata": {},
   "source": [
    "\n",
    "---\n",
    "\n",
    "#### *None np.non*\n",
    "\n",
    "<span style=\"font-size:0.8em;\"> [TOC](#mod1) </span>\n",
    "\n",
    "---\n"
   ]
  },
  {
   "cell_type": "code",
   "execution_count": 3,
   "metadata": {
    "ExecuteTime": {
     "end_time": "2024-06-06T12:01:16.204273Z",
     "start_time": "2024-06-06T12:01:16.191273Z"
    },
    "scrolled": true
   },
   "outputs": [
    {
     "name": "stdout",
     "output_type": "stream",
     "text": [
      "qwe\n",
      "True True\n",
      "False False\n",
      "<class 'NoneType'>\n",
      "<class 'float'>\n",
      "True\n",
      "False\n",
      "False\n",
      "True\n",
      "True\n",
      "False\n",
      "True\n"
     ]
    }
   ],
   "source": [
    "if not None:\n",
    "    print('qwe')\n",
    "    \n",
    "print( not None == True, not None is True )\n",
    "# True True\n",
    "print( None == False, None is False )\n",
    "# False False\n",
    "\n",
    "# Отличие 1. None является отдельным объектом типа NoneType. np.nan — это отдельный представитель класса float:\n",
    "print(type(None))\n",
    "# <class 'NoneType'>\n",
    "print(type(np.nan))\n",
    "# <class 'float'>\n",
    "\n",
    "# Отличие 2. None могут быть равны друг другу, а np.nan — нет:\n",
    "print(None == None)\n",
    "# True\n",
    "print(np.nan == np.nan)\n",
    "# False\n",
    "print(None == np.nan)\n",
    "# False\n",
    "\n",
    "# Как вы помните, чтобы грамотно сравнить что-либо с None, \n",
    "# необходимо использовать оператор is. Это ещё более актуально для np.nan. Однако None даже через is не является эквивалентным np.nan:\n",
    "print(None is None)\n",
    "# True\n",
    "print(np.nan is np.nan)\n",
    "# True\n",
    "print(np.nan is None)\n",
    "# False\n",
    "print(np.isnan(np.nan))\n",
    "# True"
   ]
  },
  {
   "cell_type": "markdown",
   "metadata": {},
   "source": [
    "\n",
    "---\n",
    "\n",
    "#### Tests\n",
    "\n",
    "<span style=\"font-size:0.8em;\"> [TOC](#mod1) </span>\n",
    "\n",
    "---\n"
   ]
  },
  {
   "cell_type": "code",
   "execution_count": null,
   "metadata": {},
   "outputs": [],
   "source": [
    "qwe = [1, 1, 3, 5, 5]\n",
    "d = {}\n",
    "\n",
    "for i in qwe:\n",
    "    if i not in d:\n",
    "        d[i] = 1\n",
    "    else: \n",
    "        d[i] += 1\n",
    "for i in d.items():\n",
    "    if i[1] == 1:\n",
    "        print( i[0] )\n",
    "\n",
    "for i in qwe:\n",
    "    if qwe.count(i) ==1:\n",
    "        print(i)\n",
    "        \n",
    "np.uint8( pd.Series(qwe).value_counts()[ pd.Series(qwe).value_counts() == 1 ].index )        \n",
    "\n",
    "pd.Series(qwe).value_counts().idxmin()\n"
   ]
  },
  {
   "cell_type": "markdown",
   "metadata": {},
   "source": [
    "\n",
    "---\n",
    "\n",
    "#### *PYTHON-1. Введение*\n",
    "\n",
    "<span style=\"font-size:0.8em;\"> [TOC](#mod1) </span>\n",
    "\n",
    "---\n"
   ]
  },
  {
   "cell_type": "code",
   "execution_count": 2,
   "metadata": {
    "ExecuteTime": {
     "end_time": "2024-06-06T11:56:02.202865Z",
     "start_time": "2024-06-06T11:56:02.189695Z"
    }
   },
   "outputs": [],
   "source": [
    "# !ls"
   ]
  },
  {
   "cell_type": "code",
   "execution_count": null,
   "metadata": {},
   "outputs": [],
   "source": []
  },
  {
   "cell_type": "code",
   "execution_count": null,
   "metadata": {},
   "outputs": [],
   "source": []
  },
  {
   "cell_type": "markdown",
   "metadata": {},
   "source": [
    "\n",
    "---\n",
    "\n",
    "#### *PYTHON-2. Погружение в типы данных*\n",
    "\n",
    "<span style=\"font-size:0.8em;\"> [TOC](#mod1) </span>\n",
    "\n",
    "---\n"
   ]
  },
  {
   "cell_type": "code",
   "execution_count": null,
   "metadata": {},
   "outputs": [
    {
     "name": "stdout",
     "output_type": "stream",
     "text": [
      "[]\n",
      "[]\n"
     ]
    }
   ],
   "source": [
    "empty_list = list()\n",
    "print(empty_list)\n",
    "\n",
    "another_empty_list = []\n",
    "print(another_empty_list)"
   ]
  },
  {
   "cell_type": "code",
   "execution_count": null,
   "metadata": {},
   "outputs": [
    {
     "name": "stdout",
     "output_type": "stream",
     "text": [
      "[-10, -9, -8, -7, -6, -5, -4, -3, -2, -1, 0, 1, 2, 3, 4, 5, 6, 7, 8, 9, 10, 11, 12, 13, 14, 15, 16, 17, 18, 19, 20, 21, 22, 23, 24, 25, 26, 27, 28, 29, 30, 31, 32, 33, 34, 35, 36, 37, 38, 39, 40, 41, 42, 43, 44, 45, 46, 47, 48, 49, 50, 51, 52, 53, 54, 55, 56, 57, 58, 59, 60, 61, 62, 63, 64, 65, 66, 67, 68, 69, 70, 71, 72, 73, 74, 75, 76, 77, 78, 79, 80, 81, 82, 83, 84, 85, 86, 87, 88, 89, 90, 91, 92, 93, 94, 95, 96, 97, 98, 99]\n",
      "[50, 48, 46, 44, 42, 40, 38, 36, 34, 32, 30, 28, 26, 24, 22]\n"
     ]
    }
   ],
   "source": [
    "a = list(range(-10,100))\n",
    "print(a)\n",
    "\n",
    "b = list(range(50,20,-2))\n",
    "print(b)"
   ]
  },
  {
   "cell_type": "code",
   "execution_count": null,
   "metadata": {},
   "outputs": [
    {
     "name": "stdout",
     "output_type": "stream",
     "text": [
      "[1, 2]\n",
      "[-1, 0, 1, 2, 3]\n",
      "[6, 5, 4, 3, 2, 1, 0, -1, -2, -3]\n",
      "['kitty', '!']\n"
     ]
    }
   ],
   "source": [
    "a = list(range(1,11))\n",
    "a_slice = a[:2]\n",
    "print(a_slice)\n",
    "\n",
    "\n",
    "a = list(range(-5,6))\n",
    "a_slice = a[4:9]\n",
    "print(a_slice)\n",
    "\n",
    "a = list(range(-3,7))\n",
    "a_slice = a[::-1]\n",
    "print(a_slice)\n",
    "\n",
    "\n",
    "\n",
    "qwe = 'hello kitty !'.split()[-2:]\n",
    "print(qwe)"
   ]
  },
  {
   "cell_type": "code",
   "execution_count": null,
   "metadata": {},
   "outputs": [
    {
     "name": "stdout",
     "output_type": "stream",
     "text": [
      "['order1', 'order2', 'order3']\n"
     ]
    }
   ],
   "source": [
    "a,b,c = 'order1', 'order2', 'order3'\n",
    "orders = [] \n",
    "orders.append(a)\n",
    "orders.append(b)\n",
    "orders.append(c)\n",
    "# orders.append([a,b,c])\n",
    "print(orders)"
   ]
  },
  {
   "cell_type": "code",
   "execution_count": null,
   "metadata": {},
   "outputs": [
    {
     "name": "stdout",
     "output_type": "stream",
     "text": [
      "[]\n"
     ]
    }
   ],
   "source": [
    "letters = ['abcd']\n",
    "letters.clear()\n",
    "print(letters)"
   ]
  },
  {
   "cell_type": "code",
   "execution_count": null,
   "metadata": {},
   "outputs": [
    {
     "name": "stdout",
     "output_type": "stream",
     "text": [
      "\n",
      "4\n",
      "['a', '5', '5', '5', 'd', '1', '1', 'r', 'h', 'a', 'd', 'r', 'h']\n",
      "3\n"
     ]
    }
   ],
   "source": [
    "print(  )\n",
    "a = [\"a\", \"b\", \"c\", \"d\", \"b\", \"b\", \"g\", \"b\", \"r\"]\n",
    "print(a.count(\"b\") )\n",
    "\n",
    "numbers = list('a555d11rhadrh')\n",
    "print( numbers )\n",
    "print( numbers.count('5') )\n"
   ]
  },
  {
   "cell_type": "code",
   "execution_count": null,
   "metadata": {},
   "outputs": [
    {
     "name": "stdout",
     "output_type": "stream",
     "text": [
      "[1, 2, 3]\n",
      "['book1', 'book2', 'book3', 'book4', 'book5'] ['book1', 'book2', 'book3', 'book4', 'book5']\n",
      "['order1', 'order2', 'order3', 'order4', 'order5'] ['order1', 'order2', 'order3', 'order4', 'order5']\n"
     ]
    }
   ],
   "source": [
    "a = [1,2,3]\n",
    "b = a.copy()\n",
    "print( b )\n",
    "\n",
    "my_books = ['book1', 'book2', 'book3', 'book4', 'book5']\n",
    "tom_books = my_books.copy()\n",
    "print( my_books, tom_books )\n",
    "\n",
    "\n",
    "my_orders =['order1', 'order2', 'order3', 'order4', 'order5']\n",
    "anne_orders = my_orders[:]\n",
    "print( my_orders, anne_orders )"
   ]
  },
  {
   "cell_type": "code",
   "execution_count": null,
   "metadata": {},
   "outputs": [
    {
     "name": "stdout",
     "output_type": "stream",
     "text": [
      "['a', 'b', 'c', 'd', 'e']\n",
      "['order1', 'order2', 'order3', 'book1', 'book2']\n"
     ]
    }
   ],
   "source": [
    "a = [\"a\", \"b\", \"c\"]\n",
    "b = [\"d\", \"e\"]\n",
    "a.extend(b)\n",
    "print( a )\n",
    "\n",
    "all_things = ['order1', 'order2', 'order3']\n",
    "only_books = ['book1', 'book2']\n",
    "all_things.extend(only_books)\n",
    "print( all_things )"
   ]
  },
  {
   "cell_type": "code",
   "execution_count": null,
   "metadata": {},
   "outputs": [
    {
     "name": "stdout",
     "output_type": "stream",
     "text": [
      "[5, 4, 3, 2, 1]\n",
      "[10, 9, 8, 7, 6, 5, 4, 3, 2, 1]\n",
      "[2, 3, 4, 1, 2, 3, 4, 1, 2, 3, 4, 5]\n",
      "[2, 3, 4, 1, 2, 3, 4, 1, 2, 3, 4, 5]\n",
      "[2, 3, 4, 1, 2, 3, 4, 1, 2, 3, 4, 5]\n"
     ]
    },
    {
     "data": {
      "text/plain": [
       "3"
      ]
     },
     "execution_count": 18,
     "metadata": {},
     "output_type": "execute_result"
    }
   ],
   "source": [
    "a = [1,2,3,4,5]\n",
    "a.reverse()\n",
    "print( a )\n",
    "\n",
    "nums =list(range(1,10+1))\n",
    "nums.reverse()\n",
    "print( nums )\n",
    "\n",
    "a = [1,2,3,4,1,2,3,4,1,2,3,4,5]\n",
    "a.remove(1) # удалить элеммент (не по индексу а pop по индексу)\n",
    "print( a )\n",
    "\n",
    "a = [1,2,3,4,1,2,3,4,1,2,3,4,5]\n",
    "a.pop(0) # index\n",
    "print( a )\n",
    "\n",
    "a = [1,2,3,4,1,2,3,4,1,2,3,4,5]\n",
    "del a[0] \n",
    "print( a )\n",
    "\n",
    "a = [1,2,3,4,1,2,3,4,1,2,3,4,5]\n",
    "b = [1,2]\n",
    "[j for j in a if j not in b]\n",
    "a.count(1) # и удалить в цикле столько раз элемент сколько раз он встретился \n"
   ]
  },
  {
   "cell_type": "code",
   "execution_count": null,
   "metadata": {},
   "outputs": [
    {
     "name": "stdout",
     "output_type": "stream",
     "text": [
      "[0, 1, 2, 3, 4, 5, 10]\n",
      "[-5, -1, 0, 2, 3, 5, 10, 15]\n"
     ]
    }
   ],
   "source": [
    "a = [3,4,1,5,10,0, 2]\n",
    "a.sort()\n",
    "print( a )\n",
    "\n",
    "random_values = [3, 5, 0, -1, 2, 10, 15, -5]\n",
    "random_values.sort()\n",
    "print( random_values )"
   ]
  },
  {
   "cell_type": "code",
   "execution_count": null,
   "metadata": {},
   "outputs": [
    {
     "name": "stdout",
     "output_type": "stream",
     "text": [
      "40\n",
      "[5, 0.2, 'hello there', [1, 2, 3, 4], 'bye']\n",
      "88\n",
      "72\n",
      "()\n",
      "(255,)\n",
      "(15, 22, 0)\n"
     ]
    }
   ],
   "source": [
    "list1 = []\n",
    "print(list1.__sizeof__())\n",
    "list1.extend([ 5,0.2,'hello there',[1,2,3,4],'bye' ])\n",
    "print(list1)\n",
    "\n",
    "print(list1.__sizeof__())\n",
    "print([1,2,3,4].__sizeof__())\n",
    "\n",
    "tpl = tuple()\n",
    "print( tpl )\n",
    "\n",
    "tpl2 = (255,)\n",
    "print(tpl2)\n",
    "\n",
    "tpl3 = (15,22,0)\n",
    "print(tpl3)"
   ]
  },
  {
   "cell_type": "code",
   "execution_count": null,
   "metadata": {},
   "outputs": [
    {
     "name": "stdout",
     "output_type": "stream",
     "text": [
      "{} {}\n",
      "4\n",
      "50\n",
      "{1: 100, 2: 50, 3: 10, 4: 5}\n",
      "{1: 100, 2: 50, 3: 25}\n"
     ]
    }
   ],
   "source": [
    "empty_dict = dict()\n",
    "empty_dict\n",
    "\n",
    "empty_dict2 = {}\n",
    "print( empty_dict, empty_dict2 )\n",
    "\n",
    "alphabet_dict = {'a':1, 'b':2, 'c':3, 'd':4, 'e':5}\n",
    "print(alphabet_dict['d'])\n",
    "\n",
    "place_and_money = {1:100, 2:50, 3:10}\n",
    "print(place_and_money[2])\n",
    "\n",
    "\n",
    "place_and_money = {1: 100, 2: 50, 3: 10}\n",
    "place_and_money[4] = 5\n",
    "print(place_and_money)\n",
    "\n",
    "place_and_money = {1: 100, 2: 50, 3: 10}\n",
    "place_and_money[3] = 25\n",
    "print(place_and_money)"
   ]
  },
  {
   "cell_type": "code",
   "execution_count": null,
   "metadata": {},
   "outputs": [
    {
     "name": "stdout",
     "output_type": "stream",
     "text": [
      "{}\n",
      "dict_keys([1, 2, 3])\n",
      "dict_keys(['Anne', 'Anton', 'Phillip'])\n",
      "dict_values([22, 27, 30])\n",
      "dict_values([100, 50, 10])\n",
      "{1: 100, 2: 50, 3: 10, 4: 5, 5: 1}\n",
      "{'Anne': 23, 'Anton': 27, 'Phillip': 29}\n",
      "10\n",
      "27\n",
      "{1: 100, 2: 50, 3: 10, 10: 1}\n",
      "{'Anne': 22, 'Anton': 27, 'Phillip': 30}\n",
      "{5: [3, 4, 5], (3, 4, 5): 'strong man'}\n",
      "{'name': 'Sancho', 'surname': 'Panso', 'info': {'age': 35, 'country': 'Mexico'}}\n",
      "{'info': [10, 15, 27], 'about': 'dont know'}\n"
     ]
    }
   ],
   "source": [
    "place_and_money = {1: 100, 2: 50, 3: 10}\n",
    "place_and_money.clear()\n",
    "print( place_and_money )\n",
    "\n",
    "place_and_money = {1: 100, 2: 50, 3: 10}\n",
    "print( place_and_money.keys() )\n",
    "\n",
    "name_to_age = {'Anne': 22, 'Anton': 27, 'Phillip': 30}\n",
    "print( name_to_age.keys() )\n",
    "\n",
    "name_to_age = {'Anne': 22, 'Anton': 27, 'Phillip': 30}\n",
    "print( name_to_age.values() )\n",
    "\n",
    "place_and_money = {1: 100, 2: 50, 3: 10}\n",
    "print( place_and_money.values() )\n",
    "\n",
    "place_and_money = {1: 100, 2: 50, 3: 10}\n",
    "place_and_money.get(20, 0) \n",
    "\n",
    "name_to_age = {'Anne': 22, 'Anton': 27, 'Phillip': 30}\n",
    "name_to_age.get( 'Danny', -1 ) \n",
    "\n",
    "place_and_money = {1: 100, 2: 50, 3: 10}\n",
    "place_and_money.update( {4:5, 5:1} )\n",
    "print( place_and_money )\n",
    "\n",
    "name_to_age = {'Anne': 22, 'Anton': 27, 'Phillip': 30}\n",
    "name_to_age.update({ 'Anne': 23, 'Phillip': 29 })\n",
    "print( name_to_age )\n",
    "\n",
    "place_and_money  = {1: 100, 2: 50, 3: 10}\n",
    "result = place_and_money.pop(3)\n",
    "print( result )\n",
    "\n",
    "name_to_age = {'Anne': 22, 'Anton': 27, 'Phillip': 30}\n",
    "result = name_to_age.pop('Anton')\n",
    "# result = name_to_age.pop('Vasya') # KeyError\n",
    "print( result )\n",
    "\n",
    "\n",
    "place_and_money = {1: 100, 2: 50, 3: 10}\n",
    "place_and_money.setdefault(10,1)\n",
    "print( place_and_money )\n",
    "\n",
    "name_to_age = {'Anne': 22, 'Anton': 27, 'Phillip': 30}\n",
    "name_to_age.setdefault('Anne', 32)\n",
    "print( name_to_age )\n",
    "\n",
    "test_dict = {}\n",
    "test_dict.update( {5:[3,4,5]} )\n",
    "test_dict.update( {(3,4,5):'strong man'} )\n",
    "print( test_dict )\n",
    "\n",
    "test_dict2 = {'name':'Sancho'}\n",
    "test_dict2.update({'surname':'Panso', 'info':{'age': 35, 'country': 'Mexico'}})\n",
    "print( test_dict2 )\n",
    "\n",
    "test_dict3 = {}\n",
    "test_dict3.update({'info':[10, 15, 27], 'about':{'game': 'football', 'period': 5}})\n",
    "test_dict3.update({'about':'dont know'})\n",
    "print( test_dict3 )\n"
   ]
  },
  {
   "cell_type": "code",
   "execution_count": null,
   "metadata": {},
   "outputs": [
    {
     "name": "stdout",
     "output_type": "stream",
     "text": [
      "set()\n",
      "{2, 3, 5, 10, 11}\n",
      "{'w', 'o', 'l', 'c', 'a', 't', ' ', 'h', 's'}\n",
      "<class 'set'> {'wow thats cool'}\n",
      "{'a', 'e', 'hello', 'b', 'd', 'c'}\n",
      "{'a', 'e', 'b', 'c'}\n",
      "{'a', 'e', 'b', 'd', 'c'}\n",
      "{'a', 'e', 'b', 'd', 'c'}\n",
      "{'e', 'o', 'y', 'd', 'c', 'a', ' ', 'b'}\n",
      "{'e', 'c'} \n",
      "\n",
      "{0, 1, 2, 3, 4, 5, 6, 7, 8, 9, 10}\n",
      "{'a', 'b', 'd'}\n",
      "{8, 1, 4, 9}\n",
      "{0, 2, 3, 5, 6, 7, 10}\n",
      "False\n"
     ]
    }
   ],
   "source": [
    "s1 = set()\n",
    "print( s1 )\n",
    "\n",
    "s2 = {5, 10, 3, 2, 11}\n",
    "print( s2 )\n",
    "\n",
    "s3 = set('wow thats cool')\n",
    "print( s3 )\n",
    "\n",
    "s3 = {'wow thats cool'}\n",
    "print( type(s3), s3 )\n",
    "\n",
    "s1 = {'a', 'b', 'c', 'd', 'e'}\n",
    "s1.add('hello')\n",
    "print(s1)\n",
    "\n",
    "s1 = {'a', 'b', 'c', 'd', 'e'}\n",
    "s1.remove('d')\n",
    "print(s1)\n",
    "\n",
    "s1 = {'a', 'b', 'c', 'd', 'e'}\n",
    "s1.discard('f')\n",
    "print(s1)\n",
    "\n",
    "s1 = {'a', 'b', 'c', 'd', 'e', 'f'}\n",
    "s1.remove('f')\n",
    "print(s1)\n",
    "\n",
    "alpha_set = {'a', 'b', 'c', 'd', 'e'}\n",
    "name = set('bad boy')\n",
    "res = alpha_set.union(name)\n",
    "print( res )\n",
    "\n",
    "alpha_set = {'a', 'b', 'c', 'd', 'e'}\n",
    "name = set('bad boy')\n",
    "res = alpha_set.difference(name)\n",
    "print( res, '\\n' )\n",
    "\n",
    "num_set = {0,1,2,3,4,5,6,7,8,9,10}\n",
    "date_num = [1,9,4,8]\n",
    "res = num_set.union(date_num)\n",
    "print( res )\n",
    "\n",
    "alpha_set = {'a', 'b', 'c', 'd', 'e'}\n",
    "name = set('bad boy')\n",
    "res = alpha_set.intersection(name)\n",
    "print( res )\n",
    "\n",
    "num_set = {0,1,2,3,4,5,6,7,8,9,10}\n",
    "date_num = [1,9,4,8]\n",
    "res = num_set.intersection(date_num)\n",
    "print( res )\n",
    "\n",
    "num_set = {0,1,2,3,4,5,6,7,8,9,10}\n",
    "date_num = [1,9,4,8]\n",
    "res = num_set.difference(date_num)\n",
    "print( res )\n",
    "\n",
    "cluster1 = {\"item1\", \"item2\", \"item3\"}\n",
    "cluster2 = {\"item2\", \"item3\", \"item4\", \"item5\", \"item6\"}\n",
    "print( cluster1.issubset(cluster2) )"
   ]
  },
  {
   "cell_type": "code",
   "execution_count": null,
   "metadata": {},
   "outputs": [
    {
     "name": "stdout",
     "output_type": "stream",
     "text": [
      "3 3.0 <class 'int'> <class 'float'>\n",
      "6.5\n",
      "6.5 6.5\n",
      "1\n",
      "my age is 18\n",
      "I have 5 brothers\n",
      "11.0\n",
      "50.4\n",
      "(1, 2, 3, 4, 5)\n",
      "['a', 'b', 'c', 'd', 'e']\n"
     ]
    }
   ],
   "source": [
    "a = 3\n",
    "b = float(a)\n",
    "print( a, b, type(a), type(b) )\n",
    "\n",
    "num1 = 3\n",
    "num2 = 3.5\n",
    "sum1 = num1 + num2\n",
    "print(sum1)\n",
    "sum2 = float(num1) + num2\n",
    "print(sum1, sum2)\n",
    "\n",
    "int_one = 1\n",
    "str_one = str(int_one)\n",
    "print(str_one)\n",
    "\n",
    "str_age_begin = 'my age is '\n",
    "int_age = 18\n",
    "result_string = str_age_begin + str(int_age)\n",
    "print(result_string)\n",
    "\n",
    "str_brothers_begin = 'I have '\n",
    "count = 5\n",
    "str_brothers_end = ' brothers'\n",
    "result_string = str_brothers_begin + str(count) + str_brothers_end\n",
    "print(result_string)\n",
    "\n",
    "s = 'hello world'\n",
    "# int(s)\n",
    "\n",
    "s = '10'\n",
    "int(s)\n",
    "\n",
    "s = '11'\n",
    "s = float(s)\n",
    "print(s)\n",
    "\n",
    "s = '50.4'\n",
    "s = float(s)\n",
    "print(s)\n",
    "\n",
    "s = '50.4'\n",
    "# s = int(s)  ValueError: invalid literal for int() with base 10: '50.4'\n",
    "# print(s)\n",
    "\n",
    "\n",
    "list1 = list(range(1, 6))\n",
    "# OR list1 = [1, 2, 3, 4, 5]\n",
    "print(tuple(list1))\n",
    "\n",
    "tpl1 =tuple('abcde')\n",
    "print( list(tpl1) )\n"
   ]
  },
  {
   "cell_type": "code",
   "execution_count": null,
   "metadata": {},
   "outputs": [
    {
     "name": "stdout",
     "output_type": "stream",
     "text": [
      "[1, 2, 3]\n",
      "[1, 2, 3, 4, -5, -3, -1, 1, 3, 5, 7, 9, 11, 13]\n",
      "[3, 1, -10, 5, 11, 20, 1, -10] [20, 11, 5, 3, 1, 1, -10, -10]\n",
      "{(10, 15): 'hello'}\n",
      "{'name': 'unknown'} {'name': 'Tom'} dict_keys(['name']) dict_values(['unknown'])\n",
      "{'w', 'e', 'h', 'o', 'l'} {'o'} {'l', 'e', 'h'}\n",
      "age is 15\n"
     ]
    }
   ],
   "source": [
    "list1 = []\n",
    "list1.append(1)\n",
    "list1.append(2)\n",
    "list1.append(3)\n",
    "# list1.extend([1, 2, 3]) or\n",
    "print(list1)\n",
    "\n",
    "list2 = list(range(-5,15,2))\n",
    "list3 = [1,2,3,4]\n",
    "list3.extend(list2)\n",
    "print(list3)\n",
    "\n",
    "list6 = [3, 1, -10, 5, 11, 20, 1, -10]\n",
    "list7 = list6.copy()\n",
    "list6.sort()\n",
    "list6.reverse()\n",
    "list_result = list6.copy()\n",
    "# list_result = list6[::-1]\n",
    "print(list7, list_result)\n",
    "\n",
    "list1 = [10, 15]\n",
    "tpl1 = tuple(list1) \n",
    "dict1 = {}\n",
    "dict1.update({tpl1:'hello'})\n",
    "print(dict1)\n",
    "\n",
    "dict1, dict2 = {},{}\n",
    "dict1['name']  ='unknown'\n",
    "dict2.update({'name':'Tom'})\n",
    "print(dict1,dict2,dict1.keys(),dict1.values())\n",
    "\n",
    "s1, s2 = set('hello'), set(['w', 'o', 'w'])\n",
    "print( s1.union(s2), s1.intersection(s2), s1.difference(s2) )\n",
    "\n",
    "result = 'age is ' + str(15)\n",
    "print(result)\n",
    "\n",
    "\n",
    "\n"
   ]
  },
  {
   "cell_type": "markdown",
   "metadata": {},
   "source": [
    "\n",
    "---\n",
    "\n",
    "#### *PYTHON-3. Условные операторы*\n",
    "\n",
    "<span style=\"font-size:0.8em;\"> [TOC](#mod1) </span>\n",
    "\n",
    "---\n"
   ]
  },
  {
   "cell_type": "code",
   "execution_count": null,
   "metadata": {},
   "outputs": [
    {
     "name": "stdout",
     "output_type": "stream",
     "text": [
      "True True True False\n"
     ]
    }
   ],
   "source": [
    "a = [1, 2, 3]\n",
    "b = a\n",
    "c = [1, 2, 3]\n",
    "print(a == b, a == c, a is b, a is c)"
   ]
  },
  {
   "cell_type": "code",
   "execution_count": null,
   "metadata": {},
   "outputs": [
    {
     "name": "stdout",
     "output_type": "stream",
     "text": [
      "False\n"
     ]
    }
   ],
   "source": [
    "# Напишите условие, которое проверяет, является ли строка палиндромом.\n",
    "# Палиндром читается одинаково слева направо и справа налево. Например: \"шалаш\", \"казак\", \"мадам\", \"коту тащат уток\".\n",
    "# Строка, которую мы хотим проверить, находится в переменной target_string.\n",
    "\n",
    "target_string = 'коту тащат уток'\n",
    "# result = True\n",
    "target_string = 'Шалаш'\n",
    "# result = True\n",
    "target_string = 'кота тащат в шалаш'\n",
    "# result = False\n",
    "\n",
    "result = target_string.lower().replace(' ','') == target_string.lower().replace(' ','')[::-1]    \n",
    "print( result )"
   ]
  },
  {
   "cell_type": "code",
   "execution_count": null,
   "metadata": {
    "slideshow": {
     "slide_type": ""
    },
    "tags": []
   },
   "outputs": [
    {
     "name": "stdout",
     "output_type": "stream",
     "text": [
      "True\n"
     ]
    }
   ],
   "source": [
    "# Напишите условие, которое проверяет, что значение переменной a, возведенное в квадрат строго больше, чем значение переменных b и c одновременно.\n",
    "# Результатом работы условия должно стать булево значение — True или False, в зависимости от выполнения заданного условия.\n",
    "# Занесите этот результат в переменную result.\n",
    "a, b, c = 2, 5, 10\n",
    "# result = False\n",
    "a, b, c = 3, 5, 8\n",
    "# result = True\n",
    "\n",
    "result = (a**2) > b and (a**2) > c\n",
    "print( result )"
   ]
  },
  {
   "cell_type": "code",
   "execution_count": null,
   "metadata": {},
   "outputs": [
    {
     "name": "stdout",
     "output_type": "stream",
     "text": [
      "True\n"
     ]
    }
   ],
   "source": [
    "# Представьте, что вы работаете аналитиком данных в больнице. Пусть переменные diagnosis_1, diagnosis_2 и diagnosis_3 хранят информацию о наличии у пациента различных хронических заболеваний (yes — да, no — нет). Реализуйте условие, которое проверяет, страдает ли пациент хотя бы от одного из них?\n",
    "# Результатом должно стать булево значение — True или False. Занесите этот результат в переменную result.\n",
    "diagnosis_1, diagnosis_2, diagnosis_3 = 'yes', 'yes', 'no'\n",
    "# result = True\n",
    "# diagnosis_1, diagnosis_2, diagnosis_3 = 'no', 'no', 'no'\n",
    "# result = False\n",
    "result = diagnosis_1 == 'yes' or diagnosis_2 == 'yes' or diagnosis_3 == 'yes'\n",
    "print( result )\n"
   ]
  },
  {
   "cell_type": "code",
   "execution_count": null,
   "metadata": {},
   "outputs": [
    {
     "name": "stdout",
     "output_type": "stream",
     "text": [
      "False\n"
     ]
    }
   ],
   "source": [
    "# Дано n-значное целое число N. Напишите условие для проверки того, входят ли в заданное число цифры 3 и 7.\n",
    "# Результатом выполнения условия должно стать значение True или False. Занесите этот результат в переменную contains.\n",
    "N = 12043879584\n",
    "# contains = True\n",
    "N = 59005085801\n",
    "# contains = False\n",
    "# 1 str\n",
    "contains = ('3' in list(str(N))) and ('7' in list(str(N))) \n",
    "print(contains)\n",
    "\n",
    "# 2 j for j \n",
    "# 3 map"
   ]
  },
  {
   "cell_type": "code",
   "execution_count": null,
   "metadata": {},
   "outputs": [
    {
     "name": "stdout",
     "output_type": "stream",
     "text": [
      "False\n"
     ]
    }
   ],
   "source": [
    "# Напишите условие проверки корректности хода. Ход считается корректным, если новые координаты фигуры не выходят за пределы шахматной доски.\n",
    "# Результат работы условия присвойте переменной move_is_correct, в которой должно содержаться значение True или False в зависимости от того, является ли ход корректным.\n",
    "x, y = 'F', 7 \n",
    "# move_is_correct = True\n",
    "x, y = 'K', 1\n",
    "# move_is_correct = False\n",
    "# abcdef\n",
    "# list(range(1,8+1))\n",
    "move_is_correct = y in list(range(1,8+1)) and x.lower() in list('abcdef')\n",
    "print(move_is_correct)"
   ]
  },
  {
   "cell_type": "code",
   "execution_count": null,
   "metadata": {},
   "outputs": [
    {
     "name": "stdout",
     "output_type": "stream",
     "text": [
      "True\n"
     ]
    }
   ],
   "source": [
    "# Дано n-значное целое число N. Реализуйте условие для проверки того, начинается ли число N с четной цифры.\n",
    "# Результатом работы условия должно стать булево значение True или False. Занесите этот результат в переменную first_is_even.\n",
    "N = 782\n",
    "# first_is_even = False\n",
    "N = 45901\n",
    "# first_is_even = True\n",
    "first_is_even = int(str(N)[0]) % 2 == 0\n",
    "print(first_is_even)"
   ]
  },
  {
   "cell_type": "code",
   "execution_count": null,
   "metadata": {},
   "outputs": [
    {
     "name": "stdout",
     "output_type": "stream",
     "text": [
      "True\n"
     ]
    }
   ],
   "source": [
    "# Напишите условие, которое проверяет, что год является високосным.\n",
    "# Известно, что год является високосным при выполнении хотя бы одного из следующих условий:\n",
    "# Номер года делится (без остатка) на 400.\n",
    "# Номер года делится (без остатка) на 4 и не делится на 100 одновременно.\n",
    "# Номер года находится в переменной year.\n",
    "# Результат выполнения условия занесите в переменную year_is_leap. Её значение должно быть равно True или False, в зависимости от того, является ли заданный год високосным.\n",
    "year = 2000\n",
    "# year_is_leap = True\n",
    "# year = 1900\n",
    "# year_is_leap = False\n",
    "# year = 2015\n",
    "# year_is_leap = False\n",
    "\n",
    "year_is_leap = (year % 400 == 0) or ( (year % 4 == 0) and (year % 100 != 0) )\n",
    "print(year_is_leap)\n",
    "\n"
   ]
  },
  {
   "cell_type": "code",
   "execution_count": null,
   "metadata": {},
   "outputs": [
    {
     "name": "stdout",
     "output_type": "stream",
     "text": [
      "False\n"
     ]
    }
   ],
   "source": [
    "# Шоколадка имеет вид прямоугольника размером n*m долек. Шоколадку можно один раз разломить по прямой на две части.\n",
    "# Необходимо реализовать условие, проверяющее, можно ли таким образом отломить от шоколадки часть, состоящую ровно из k долек. Два примера таких разделений — по горизонтали и вертикали — приведены на рисунке.\n",
    "# Информация о количестве долек в ширину и длину шоколадки, а также количество долек, которое должно получиться после разделения, содержится в переменных n, m и k соответственно.\n",
    "# Не забудьте также учесть, что количество долек, получаемое в остатке, должно быть строго меньше, чем общее количество долек, из которых состоит шоколадка.\n",
    "# Результат работы условия занесите в переменную result, значение которой равно True или False в зависимости от выполнения условия.\n",
    "n, m, k = 5, 4, 8\n",
    "# result = True\n",
    "n, m, k = 5, 4, 3\n",
    "# result = False\n",
    "n, m, k = 5, 4, 25\n",
    "# result = False\n",
    "\n",
    "result = k < m*n and (k%m==0 or k%n==0)\n",
    "print(result)\n"
   ]
  },
  {
   "cell_type": "code",
   "execution_count": null,
   "metadata": {},
   "outputs": [
    {
     "name": "stdout",
     "output_type": "stream",
     "text": [
      "False\n"
     ]
    }
   ],
   "source": [
    "# Представьте, что вы обрабатываете заполненные пользователями онлайн-заявки. Переменная phone в виде строки хранит указанный пользователем номер телефона и None, если соответствующее поле в анкете заполнено не было.\n",
    "# Реализуйте условие, которое проверит, оставил ли пользователь номер телефона. Результатом работы условия должно стать булево значение True или False в зависимости от того, заполнено ли поле с номером телефона.\n",
    "# Результат занесите в переменную phone_is_defined.\n",
    "phone = '+7 927 124 42 12'\n",
    "# phone_is_defined = True\n",
    "phone = None\n",
    "# phone_is_defined = False\n",
    "phone_is_defined = phone is not None\n",
    "print(phone_is_defined)"
   ]
  },
  {
   "cell_type": "code",
   "execution_count": null,
   "metadata": {},
   "outputs": [
    {
     "name": "stdout",
     "output_type": "stream",
     "text": [
      "False\n"
     ]
    }
   ],
   "source": [
    "# В словаре arrival_of_goods хранится информация о приходах товара на склад интернет-магазина. Ключами этого словаря являются номера накладных, а значениями — словари, в которых содержится информация о товаре и его количестве в каждой из накладной.\n",
    "arrival_of_goods = {\n",
    "    '148902': {\n",
    "        'Футболка с принтом': 180,\n",
    "        'Свитшот черный': 245,\n",
    "        'Джинсы серые': 252\n",
    "    },\n",
    "    '893516': {\n",
    "        'Футболка с принтом': 43,\n",
    "        'Свитшот черный': 64,\n",
    "        'Джинсы черные': 102\n",
    "    },\n",
    "    '893481': {\n",
    "        'Кружка керамическая': 35,\n",
    "        'Свитшот черный': 10,\n",
    "        'Джинсы сервые': 14\n",
    "    }\n",
    "}\n",
    "# Мы проводим аналитику прихода товара на склад. В переменной invoice_number содержится номер накладной, который мы хотим найти.\n",
    "# С помощью метода словарей get() и проверки на None реализуйте условие, которое проверяет, есть ли в истории прихода накладная с указанным в переменной invoice_number номером.\n",
    "# Результатом работы условия должна стать булева переменная со значением True или False в зависимости от того, существует ли в системе указанная накладная.\n",
    "# Результат занесите в переменную invoice_exists.\n",
    "invoice_number = '148902'\n",
    "# invoice_exists = True\n",
    "invoice_number = '892421'\n",
    "# invoice_exists = False\n",
    "invoice_exists = arrival_of_goods.get(invoice_number) is not None\n",
    "print(invoice_exists)"
   ]
  },
  {
   "cell_type": "code",
   "execution_count": null,
   "metadata": {},
   "outputs": [
    {
     "name": "stdout",
     "output_type": "stream",
     "text": [
      "-5\n",
      "0\n"
     ]
    }
   ],
   "source": [
    "# Начинающий программист торопился и допустил в своей программе несколько синтаксических ошибок. Ваша задача — исправить код так, чтобы он отработал без синтаксических ошибок\n",
    "\n",
    "mx = 0\n",
    "s = 0\n",
    "\n",
    "x = -5\n",
    "if x < 0:\n",
    "    s = x\n",
    "\n",
    "if x > mx:\n",
    "    mx = x\n",
    "\n",
    "print(s)\n",
    "print(mx)\n"
   ]
  },
  {
   "cell_type": "code",
   "execution_count": null,
   "metadata": {},
   "outputs": [
    {
     "name": "stdout",
     "output_type": "stream",
     "text": [
      "Всё занято. Подождите!\n"
     ]
    }
   ],
   "source": [
    "# Вам необходимо запрограммировать сенсор в общественном помещении, который определяет количество человек.\n",
    "# Если людей в помещении меньше 10, то на табло должно гореть сообщение «Добро пожаловать!», а в противном случае — «Всё занято. Подождите!».\n",
    "# Количество человек в помещении хранится в переменной people_count. Организуйте вывод на табло с помощью функции print().\n",
    "people_count = 5\n",
    "# Добро пожаловать!\n",
    "people_count = 10\n",
    "# Всё занято. Подождите!\n",
    "\n",
    "if people_count < 10:\n",
    "    print('Добро пожаловать!')\n",
    "else:\n",
    "    print('Всё занято. Подождите!')\n"
   ]
  },
  {
   "cell_type": "code",
   "execution_count": null,
   "metadata": {},
   "outputs": [
    {
     "name": "stdout",
     "output_type": "stream",
     "text": [
      "Вы ввели неверный пароль!\n"
     ]
    }
   ],
   "source": [
    "# Представьте, что вам нужно написать программу, которая запрашивает у пользователя пароль для входа и проверяет, верен ли он. Верный пароль хранится в переменной password. Пароль, который вводит пользователь, хранится в переменной answer.\n",
    "# Напишите часть кода, которая отвечает за проверку ввода пароля: если верный, то выводится информация «Добро пожаловать!», если неверный, то «Вы ввели неверный пароль!».\n",
    "password = '879f2aabS'\n",
    "answer = '879f2aabS'\n",
    "# Добро пожаловать!\n",
    "password = '879f2aabS'\n",
    "answer = '879f2aabs'\n",
    "# Вы ввели неверный пароль!\n",
    "if password==answer:\n",
    "    print('Добро пожаловать!')\n",
    "else:\n",
    "    print('Вы ввели неверный пароль!')\n"
   ]
  },
  {
   "cell_type": "code",
   "execution_count": null,
   "metadata": {},
   "outputs": [
    {
     "name": "stdout",
     "output_type": "stream",
     "text": [
      "Привет, Павел! Приносим свои извинения, но вы не можете гулять после 22:00\n"
     ]
    }
   ],
   "source": [
    "# Пользователь вводит своё имя и возраст, их значения хранятся в переменных name и age соответственно.\n",
    "# Если возраст пользователя больше либо равен 18, то программа должна вывести строку \"Добрый вечер, <name>!\", меньше — \"Привет, <name>! Приносим свои извинения, но вы не можете гулять после 22:00\".\n",
    "name = 'Андрей'\n",
    "age = 21\n",
    "# \"Добрый вечер, Андрей!\"\n",
    "name = 'Павел'\n",
    "age = 17\n",
    "# Привет, Павел! Приносим свои извинения, но вы не можете гулять после 22:00\n",
    "if age >= 18:\n",
    "    print(f'Добрый вечер, {name}!')\n",
    "else:\n",
    "    print(f'Привет, {name}! Приносим свои извинения, но вы не можете гулять после 22:00')\n"
   ]
  },
  {
   "cell_type": "code",
   "execution_count": null,
   "metadata": {},
   "outputs": [
    {
     "name": "stdout",
     "output_type": "stream",
     "text": [
      "27 не делится ни на 2, ни на 5\n"
     ]
    }
   ],
   "source": [
    "# Используя вложенный условный оператор, напишите программу, которая проверяет, что число number делится на 2 и на 5 без остатка.\n",
    "# Если число делится на 2 и на 5, программа должна выводить на экран фразу \"<число> делится на 2 и на 5\".\n",
    "# Если число делится на 2, но не делится на 5 — программа должна выводить на экран фразу \"<число> делится на 2, но не делится на 5\".\n",
    "# Если число не делится на 2, но делится на 5 — программа должна выводить на экран фразу \"<число> не делится на 2, но делится на 5\".\n",
    "# Если число не делится ни на 2, ни на 5 — программа должна выводить на экран фразу \"<число> не делится ни на 2, ни на 5\".\n",
    "number = 200\n",
    "# 200 делится на 2 и на 5\n",
    "number = 8\n",
    "# 8 делится на 2, но не делится на 5\n",
    "number = 15\n",
    "# 15 не делится на 2, но делится на 5\n",
    "number = 27\n",
    "# 27 не делится ни на 2, ни на 5\n",
    "\n",
    "if number % 2 == 0 and number % 5 == 0:\n",
    "    print(f\"{number} делится на 2 и на 5\")\n",
    "if number % 2 == 0 and number % 5 != 0:\n",
    "    print(f\"{number} делится на 2, но не делится на 5\")\n",
    "if number % 2 != 0 and number % 5 == 0:\n",
    "    print(f\"{number} не делится на 2, но делится на 5\")\n",
    "if number % 2 != 0 and number % 5 != 0:\n",
    "    print(f\"{number} не делится ни на 2, ни на 5\")\n"
   ]
  },
  {
   "cell_type": "code",
   "execution_count": null,
   "metadata": {},
   "outputs": [
    {
     "name": "stdout",
     "output_type": "stream",
     "text": [
      "11\n"
     ]
    }
   ],
   "source": [
    "result = 10\n",
    "my_dict = {'key_1': 10}\n",
    "item = my_dict.pop('key_1')\n",
    "if my_dict:\n",
    "    result = result + item\n",
    "else:\n",
    "    result = result + 1\n",
    " \n",
    "print(result)"
   ]
  },
  {
   "cell_type": "code",
   "execution_count": null,
   "metadata": {},
   "outputs": [],
   "source": [
    "lst = ['a', 'b', 'c']\n",
    "if 'f' in lst:\n",
    "    x = 5\n",
    "else:\n",
    "    x = None\n",
    "# либо\n",
    "x = 5 if 'f' in lst else None"
   ]
  },
  {
   "cell_type": "code",
   "execution_count": null,
   "metadata": {},
   "outputs": [
    {
     "name": "stdout",
     "output_type": "stream",
     "text": [
      "20\n"
     ]
    }
   ],
   "source": [
    "# Нам нужно установить конкретную ставку скидки в зависимости от того, соответствует ли клиент критериям. По умолчанию наше приложение для бронирования мероприятий предоставляет всем клиентам скидку 10%; однако клиенты в возрасте 60 лет и старше имеют право на скидку 20%.\n",
    "# С помощью тернарного оператора напишите программу, которая определяет скидку клиента. Возраст клиента хранится в переменной cust_age.\n",
    "# Значение скидки занесите в переменную cust_discount.\n",
    "cust_age = 40\n",
    "# cust_discount  = 10\n",
    "cust_age = 68\n",
    "# cust_discount  = 20\n",
    "cust_discount = 20 if cust_age >=60 else 10\n",
    "print(cust_discount)"
   ]
  },
  {
   "cell_type": "code",
   "execution_count": null,
   "metadata": {},
   "outputs": [
    {
     "name": "stdout",
     "output_type": "stream",
     "text": [
      "Ты проспал!\n"
     ]
    }
   ],
   "source": [
    "# Пользователь вводит целое число — текущее время в часах, значение которого хранится в переменной time. Если количество часов находится между 7 и 10 (включая обе границы), то программа должна вывести строку «Пора вставать!», иначе выведется строка «Ты проспал!».\n",
    "# Примечание: В рамках данной задачи условимся, что пользователь считается проспавшим в любое время, отличное от указанного интервала.\n",
    "time = 8\n",
    "# Пора вставать!\n",
    "time = 12\n",
    "# Ты проспал!\n",
    "print('Пора вставать!') if time >= 7 and time <= 10 else print('Ты проспал!')\n"
   ]
  },
  {
   "cell_type": "code",
   "execution_count": null,
   "metadata": {},
   "outputs": [
    {
     "name": "stdout",
     "output_type": "stream",
     "text": [
      "Ух ты! Вы ввели редкое слово!\n"
     ]
    }
   ],
   "source": [
    "# Считается, что буквы q и z встречается в английском языке реже остальных букв. Вы решили написать программу, которая позволяет пользователям вводить слова и проверяет, можно считать это слово редким или нет. Интересующее вас слово содержится в переменной target_word.\n",
    "# Пусть эта программа выводит на экран одну из двух фраз: «Ух ты! Вы ввели редкое слово!», если в слове есть буква q или букву z, или «Это не очень редкое слово...», если в нём этих букв нет.\n",
    "target_word = \"quantity\"\n",
    "target_word = 'zero'\n",
    "# Ух ты! Вы ввели редкое слово!\n",
    "# target_word = \"apply\"\n",
    "# Это не очень редкое слово...\n",
    "\n",
    "print('Ух ты! Вы ввели редкое слово!') if 'q' in target_word or 'z' in target_word else print('Это не очень редкое слово...') "
   ]
  },
  {
   "cell_type": "code",
   "execution_count": null,
   "metadata": {},
   "outputs": [
    {
     "name": "stdout",
     "output_type": "stream",
     "text": [
      "Попробуем поискать еще!\n"
     ]
    }
   ],
   "source": [
    "# Вы работаете в агентстве знакомств. К вам обратилась некая Алла, которая ищет мужчину ростом строго выше 180 см, весом строго менее 80 кг. Также Алла верит в гороскопы и согласно гороскопу ей подходят только весы, дева, овен и козерог.\n",
    "# Напишите условие, которое позволит определить, подходит ли Алле тот или иной кандидат. В результате работы программы на экран должно быть введено:\n",
    "# «Ваша половинка нашлась!» — если кандидат подходит Алле по параметрам.\n",
    "# «Попробуем поискать еще!» — если кандидат не подходит Алле по параметрам.\n",
    "height = 183\n",
    "weight = 78\n",
    "zodiac_sign = 'козерог'\n",
    "# \"Ваша половинка нашлась!\"\n",
    "height = 171\n",
    "weight = 75\n",
    "zodiac_sign = 'весы'\n",
    "# \"Попробуем поискать еще!\"\n",
    "\n",
    "print('Ваша половинка нашлась!') \\\n",
    "    if height >= 180 and weight < 80 and zodiac_sign in ['весы', 'дева', 'овен', 'козерог'] \\\n",
    "    else print('Попробуем поискать еще!') "
   ]
  },
  {
   "cell_type": "code",
   "execution_count": null,
   "metadata": {},
   "outputs": [
    {
     "name": "stdout",
     "output_type": "stream",
     "text": [
      "hurricane [4]\n"
     ]
    }
   ],
   "source": [
    "# Необходимо реализовать условный оператор, который печатает на экран характеристику ветра и его класс (от 1 до 4) в зависимости от его характера:\n",
    "# \"weak [1]\" — от 1 до 4 м/с\n",
    "# \"moderate [2]\" — от 5 до 10 м/c\n",
    "# \"strong [3]\" — от 11 до 18 м/c\n",
    "# \"hurricane [4]\" — от 19 м/c\n",
    "# Скорость ветра хранится в переменной speed.\n",
    "speed = 4\n",
    "# \"weak [1]\"\n",
    "speed = 10\n",
    "#  \"moderate [2]\" \n",
    "speed = 14\n",
    "# \"strong [3]\"\n",
    "speed = 25\n",
    "# \"hurricane [4]\" \n",
    "if speed in range( 1, 4+1):\n",
    "    print('weak [1]')\n",
    "elif speed in range( 5, 10+1):\n",
    "    print('moderate [2]')\n",
    "elif speed in range( 11, 18+1):\n",
    "    print('strong [3]')\n",
    "elif speed >= 19 :\n",
    "    print('hurricane [4]')\n"
   ]
  },
  {
   "cell_type": "code",
   "execution_count": null,
   "metadata": {},
   "outputs": [
    {
     "name": "stdout",
     "output_type": "stream",
     "text": [
      "Второй игрок — победитель!\n"
     ]
    }
   ],
   "source": [
    "# Друг, зная, что вы отличный программист, попросил вас запрограммировать игру «Камень, ножницы, бумага» для своего младшего брата. Правила игры всем известны: камень побеждает ножницы; ножницы — бумагу; бумага — камень.\n",
    "# Жесты, выполняемые первым и вторым игроками находятся в переменных player_1 и player_2 соответственно. Обратите внимание, что названия жестов должны быть написаны строчными буквами.\n",
    "# Напишите программу, которая определяет победителя. Если побеждает первый игрок, то выводится сообщение «Первый игрок — победитель!». Если второй — «Второй игрок — победитель!». Если ничья — выводится «Ничья!».\n",
    "player_1 = 'камень'\n",
    "player_2 = 'камень'\n",
    "# Ничья!\n",
    "player_1 = 'ножницы'\n",
    "player_2 = 'бумага'\n",
    "# Первый игрок — победитель!\n",
    "player_1 = 'камень'\n",
    "player_2 = 'бумага'\n",
    "# Второй игрок — победитель!\n",
    "\n",
    "if (player_1 == 'камень' and player_2 == 'ножницы') \\\n",
    "    or (player_1 == 'ножницы' and player_2 == 'бумага') \\\n",
    "    or (player_1 == 'бумага' and player_2 == 'камень'):\n",
    "    print('Первый игрок — победитель!')\n",
    "elif player_1 == player_2:\n",
    "    print('Ничья!')\n",
    "else:\n",
    "    print('Второй игрок — победитель!')\n",
    "    "
   ]
  },
  {
   "cell_type": "code",
   "execution_count": null,
   "metadata": {},
   "outputs": [
    {
     "name": "stdout",
     "output_type": "stream",
     "text": [
      "Стоимость заказа составила: 13100. С учетом скидки в 10% — 11790.0\n"
     ]
    }
   ],
   "source": [
    "# Обдумывая акцию для распродажи, владелец компании пришёл к выводу, что продавать все кроссовки по акции на сайте компании невыгодно. Поэтому была придумана новая схема: если клиент покупает одновременно кроссовки двух разных брендов, то его общая скидка составит 5 %, если две пары от одного бренда — то 10 %.\n",
    "# Для упрощения задачи будем считать, что покупатель в любом случае купит не более двух пар кроссовок. Список товаров в корзине хранится в переменной purchases и может быть пустым.\n",
    "# Также будем считать, что для всех товаров бренда действует одна и та же цена. Расценки товаров хранятся в словаре prices:\n",
    "prices = {'Adidas': 4298, 'Nike': 6550, 'Puma': 4490, 'Asics': 3879}\n",
    "# Напишите программу, которая:\n",
    "# Выводит на экран информацию об ошибке, если список покупок пуст в виде строки: Ваша корзина пуста\n",
    "# Выводит на экран информацию об общей стоимости товара, если куплен только один товар Стоимость заказа составила: <стоимость заказа>\n",
    "# Выводит на экран информацию о полученной скидке, сумме оплаты без скидки и сумму со скидкой в следующем формате:\n",
    "# Стоимость заказа составила: <стоимость заказа без скидки>. С учетом скидки в <размер скидки>% — <стоимость заказа со скидкой>\n",
    "purchases = [\"Adidas\", \"Nike\"]\n",
    "# Стоимость заказа составила: 10848. С учетом скидки в 5% — 10305.6\n",
    "purchases = [\"Nike\", \"Nike\"]\n",
    "# Стоимость заказа составила: 13100. С учетом скидки в 10% — 11790.0\n",
    "# purchases = []\n",
    "# Ваша корзина пуста\n",
    "if len(set(purchases))==2: #5\n",
    "    p = prices[purchases[0]] + prices[purchases[1]]\n",
    "    print(fr'Стоимость заказа составила: {p}. С учетом скидки в 5% — {p * 0.95}')    \n",
    "elif len(set(purchases))==1: #10\n",
    "    p = prices[purchases[0]] + prices[purchases[1]]\n",
    "    print(fr'Стоимость заказа составила: {p}. С учетом скидки в 10% — {p * 0.9}')    \n",
    "else:\n",
    "    print('Ваша корзина пуста')\n"
   ]
  },
  {
   "cell_type": "code",
   "execution_count": null,
   "metadata": {},
   "outputs": [],
   "source": [
    "# При составлении резюме на платформе поиска работы автоматически указывается дата обновления этого резюме. Дата содержится в поле date.\n",
    "date = '16.04.2019 15:59'\n",
    "date = '12.05.2019 08:42'\n",
    "date = '05.07.2018 20:15'\n",
    "# Мы распределяем резюме по категориям:\n",
    "# Категория 1 — резюме, обновленные в мае 2019\n",
    "# Категория 2 — резюме, обновленные в период с января по май (не включая май) 2019 года\n",
    "# Категория 3 — резюме, составленные раньше, чем 1 января 2019 года\n",
    "# Напишите программу, которая определяет категорию резюме. Категорию занесите целым числом в переменную category.\n",
    "# Известно, что в базе нет резюме, обновлённых после 1 июня 2019 года. Формат строки date одинаков для всех записей из базы данных, вы можете воспользоваться им.\n",
    "date = '16.04.2019 15:59'\n",
    "# category = 2\n",
    "date = '12.05.2019 08:42'\n",
    "# category = 1\n",
    "date = '05.07.2018 20:15'\n",
    "# category = 3\n",
    "# Примечание: Для отправки кода на проверку переменную date объявлять не нужно. Не забудьте удалить строку кода с её объявлением перед тестированием.\n",
    "d = (date.split(' ')[0]).split('.')\n",
    "if d[1] == '05' and d[2] == '2019':\n",
    "    category = 1\n",
    "elif d[1] in ['01', '02', '03', '04'] and d[2] == '2019':\n",
    "    category = 2\n",
    "else:\n",
    "    category = 3\n"
   ]
  },
  {
   "cell_type": "code",
   "execution_count": null,
   "metadata": {},
   "outputs": [
    {
     "data": {
      "text/plain": [
       "'Город миллионник'"
      ]
     },
     "execution_count": 52,
     "metadata": {},
     "output_type": "execute_result"
    }
   ],
   "source": [
    "# Мы занимаемся обработкой и анализом базы данных, содержащей резюме соискателей. Напишем скрипт для автоматического извлечение информации о городе, в котором проживает соискатель.\n",
    "# В поле city_info содержится информация о городе, а также о готовности соискателя к переезду и командировкам.\n",
    "# Примеры переменной city_info:\n",
    "city_info = \"Москва , не готов к переезду , готов к командировкам\"\n",
    "city_info = \"Москва , м. Беломорская , не готов к переезду, не готов к командировкам\"\n",
    "city_info = \"Санкт-Петербург , готов к переезду (Сочи, Москва) , готов к командировкам\"\n",
    "city_info = \"Новосибирск , готов к переезду, не готов к командировкам\"\n",
    "# Нас интересует только город. Причём мы не хотим учитывать все города. Разделим их на 4 категории:\n",
    "# \"Москва\"\n",
    "# \"Санкт-Петербург\"\n",
    "# \"Город миллионник\"\n",
    "# \"Другое\"\n",
    "# Напишите программу, которая в переменную city записывает одну из четырёх категорий городов, приведённых выше (в точности как указано в задании) на основе информации, содержащейся в переменной city_info.\n",
    "# Чтобы отделить город от ненужной информации обратите внимание на структуру строки: город, готовность к командировкам и переезду разделены последовательностью символов ' , '.\n",
    "# Также вам понадобится список городов-миллионников:\n",
    "million_cities = ['Новосибирск', 'Екатеринбург', 'Нижний Новгород', 'Казань', 'Челябинск', 'Омск', 'Самара', 'Ростов-на-Дону', 'Уфа', 'Красноярск', 'Пермь', 'Воронеж', 'Волгоград']\n",
    "city_info = \"Москва , не готов к переезду , готов к командировкам\"\n",
    "# city = 'Москва'\n",
    "city_info = \"Иваново , готов к переезду (Сочи, Москва, Санкт-Петербург) , готов к командировкам\"\n",
    "# city = 'Другое'\n",
    "city_info = \"Санкт-Петербург , готов к переезду (Сочи, Москва) , готов к командировкам\"\n",
    "# city = 'Санкт-Петербург'\n",
    "city_info = \"Новосибирск , готов к переезду, не готов к командировкам\"\n",
    "# city = 'Город миллионник'\n",
    "c = city_info.split(' , ')[0]\n",
    "if c == \"Москва\":\n",
    "    city = \"Москва\"\n",
    "    \n",
    "elif c == \"Санкт-Петербург\":\n",
    "    city = \"Санкт-Петербург\"\n",
    "    \n",
    "elif c in million_cities:\n",
    "    city = \"Город миллионник\"\n",
    "else:\n",
    "    city = \"Другое\"\n",
    "city"
   ]
  },
  {
   "cell_type": "code",
   "execution_count": null,
   "metadata": {},
   "outputs": [
    {
     "name": "stdout",
     "output_type": "stream",
     "text": [
      "99\n"
     ]
    }
   ],
   "source": [
    "# Задан словарь medicines с ценами на лекарства в онлайн-аптеке и строка name.\n",
    "# С помощью конструкции try-except реализуйте программу, которая печатает на экран значение, хранящееся по ключу из переменной name. Если строка name не является ключом словаря, то на экран через print выводится сообщение «Такого ключа в словаре нет».\n",
    "medicines = {'Ибупрофен': 99, 'Эспумизан': 279, 'Пенталгин': 119}\n",
    "name = 'Визин'\n",
    "# Такого ключа в словаре нет\n",
    "medicines = {'Ибупрофен': 99, 'Эспумизан': 279, 'Пенталгин': 119}\n",
    "name = 'Ибупрофен'\n",
    "# 99\n",
    "try:\n",
    "    print(medicines[name])\n",
    "except:\n",
    "    print('Такого ключа в словаре нет')\n"
   ]
  },
  {
   "cell_type": "code",
   "execution_count": null,
   "metadata": {},
   "outputs": [],
   "source": [
    "age = int(input(\"How old are you?\"))\n",
    "# Проверяем, что возраст пользователя корректный\n",
    "if age > 100 or age <= 0:\n",
    "    # Намеренно вызываем ошибку, в скобках указываем текст ошибки\n",
    "    raise ValueError(\"You are too old or don't exist\") \n",
    "# Возраст выводится только в том случае, если пользователь ввёл правильный возраст. \n",
    "print(\"You are {} years old!\".format(age)) "
   ]
  },
  {
   "cell_type": "code",
   "execution_count": null,
   "metadata": {},
   "outputs": [],
   "source": [
    "# В переменной number хранится некоторое число.\n",
    "# Напишите программу со следующим условием: если число number не ноль, то программа делит 10 на введённое число и записывает результат, округлённый до трёх знаков после запятой, в переменную result. Если же в переменной number хранится ноль, то программа должна выбросить исключение ZeroDivisionError с фразой \"Вы собираетесь делить на 0\" с помощью ключевого слова raise.\n",
    "number = 20\n",
    "# result = 0.5\n",
    "number = 7\n",
    "# result = 1.429\n",
    "# number = 0\n",
    "# ZeroDivisionError: Вы собираетесь делить на 0\n",
    "# Подсказка: для округления чисел можно воспользоваться встроенной функцией round().\n",
    "if number != 0:\n",
    "    result = round(10 / number, 3)\n",
    "elif number == 0:\n",
    "    raise ZeroDivisionError('Вы собираетесь делить на 0') \n",
    "result"
   ]
  },
  {
   "cell_type": "code",
   "execution_count": null,
   "metadata": {},
   "outputs": [],
   "source": []
  },
  {
   "cell_type": "markdown",
   "metadata": {},
   "source": [
    "\n",
    "---\n",
    "\n",
    "#### *PYTHON-4. Циклы*\n",
    "\n",
    "<span style=\"font-size:0.8em;\"> [TOC](#mod1) </span>\n",
    "\n",
    "---\n"
   ]
  },
  {
   "cell_type": "code",
   "execution_count": null,
   "metadata": {},
   "outputs": [],
   "source": [
    "# Напишите программу, которая находит произведение элементов списка num_list. В качестве начального значения произведения задайте 1. Далее в цикле перебирайте элементы списка num_list и умножайте значение произведения на элемент списка.\n",
    "# Результирующее произведение занесите в переменную p.\n",
    "num_list = [98, 24, 23, 12, 3]\n",
    "## p = 1947456\n",
    "# num_list = [1, 10, 0.5, 21, 0.13]\n",
    "# p = 13.65\n",
    "p = 1\n",
    "for i in num_list:\n",
    "    p *= i\n",
    "print(p)\n"
   ]
  },
  {
   "cell_type": "code",
   "execution_count": null,
   "metadata": {},
   "outputs": [],
   "source": [
    "# В математике факториал числа n — это произведение чисел от 1 до n включительно. Это записывается как:\n",
    "# n! = 1 · 2 · 3 · ... · (n-1) · n\n",
    "# Например:\n",
    "# 3! = 1 · 2 · 3 = 6\n",
    "# 5! = 1 · 2 · 3 · 4 · 5 = 120\n",
    "# Факториал часто применяется в высшей математике, например в комбинаторике, теории вероятностей и дифференциальном исчислении.\n",
    "# В переменной n хранится натуральное число. Напишите программу для вычисления факториала числа n. Результат запишите в переменную p.\n",
    "n = 3\n",
    "## p = 6\n",
    "n = 5\n",
    "## p = 120\n",
    "n = 10\n",
    "## p = 3628800\n",
    "p = 1\n",
    "for i in range(1,n+1):\n",
    "    p *= i\n",
    "print(p)\n"
   ]
  },
  {
   "cell_type": "code",
   "execution_count": null,
   "metadata": {},
   "outputs": [],
   "source": [
    "# Напишите программу, которая будет печатать «лесенку» из символов '*' в зависимости от значения переменной n. Число n может быть любым натуральным числом (1, 2, 3…) и задаётся внешней программой при тестировании.\n",
    "n = 3\n",
    "# *\n",
    "# **\n",
    "# ***\n",
    "n = 4\n",
    "# *\n",
    "# **\n",
    "# ***\n",
    "# ****\n",
    "p = '*'\n",
    "for i in range(1,n+1):\n",
    "    print(p*i)\n"
   ]
  },
  {
   "cell_type": "code",
   "execution_count": null,
   "metadata": {
    "scrolled": true
   },
   "outputs": [],
   "source": [
    "# Вам задан список num_list, состоящий из чисел (int и float) например:\n",
    "num_list = [1, 10, 3, -5]\n",
    "# Отсортируйте его с помощью метода sort() для списков, а затем последовательно выведите на экран элементы этого списка с помощью цикла for в следующем формате: \"element {i}: {elem}\", где i - индекс элемента в списке, elem - элемент.\n",
    "num_list = [1, 10, 3, -5]\n",
    "## element 0: -5\n",
    "## element 1: 1\n",
    "## element 2: 3\n",
    "## element 3: 10\n",
    "\n",
    "num_list.sort()\n",
    "for i in range(len(num_list)):\n",
    "    print(f\"element {i}: {num_list[i]}\")\n",
    "    "
   ]
  },
  {
   "cell_type": "code",
   "execution_count": null,
   "metadata": {},
   "outputs": [],
   "source": [
    "# Дан список num_list, состоящий из целых чисел (int). Например:\n",
    "num_list = list(range(0, 100, 3)) \n",
    "# С помощью цикла for посчитайте количество чётных элементов в списке. Результат запишите в переменную count_even.\n",
    "num_list = list(range(0, 100, 3)) \n",
    "## count_even = 17\n",
    "num_list = [10, 4, 4, 21, 2, 0, -10]\n",
    "## count_even = 6\n",
    "num_list = list(range(0, 81, 5)) \n",
    "## count_even = 9\n",
    "count_even = 0\n",
    "for i in num_list:\n",
    "    if i % 2 == 0:\n",
    "        count_even += 1\n",
    "count_even\n"
   ]
  },
  {
   "cell_type": "code",
   "execution_count": null,
   "metadata": {
    "slideshow": {
     "slide_type": ""
    },
    "tags": []
   },
   "outputs": [],
   "source": [
    "# Дан список mixture_list, элементами которого могут являться любые типы данных Python. Например:\n",
    "mixture_list = [True, 1, -10, 'hello', False, 'string_1', 123, 2.5, [1, 2], 'another'] \n",
    "# С помощью цикла for посчитайте количество элементов типа str в списке. Результат запишите в переменную count_str.\n",
    "mixture_list = [True, 1, -10, 'hello', False, 'string_1', 123, 2.5, [1, 2], 'another'] \n",
    "## count_str = 3\n",
    "mixture_list = ['My', 'Simple', -10, True, 'False', 'string_1', False, 2.5, [1, 2], 'True'] \n",
    "## count_str = 5\n",
    "count_str = 0\n",
    "for i in mixture_list: # isinstance(o, str)\n",
    "    if type(i) is str:\n",
    "        count_str += 1\n",
    "print(count_str)"
   ]
  },
  {
   "cell_type": "code",
   "execution_count": null,
   "metadata": {},
   "outputs": [],
   "source": [
    "# Мы генерируем текст с помощью нейронной сети. В списке word_list в виде строк задана сгенерированная нейронной сетью последовательность слов. Например:\n",
    "word_list = [\"My\", \"name\", \"is\", \"Sergei\", \"EOS\", \"I'm\", \"from\", \"Moscow\", \"EOS\"] \n",
    "# Напишите программу для объединения строк из списка word_list в предложения.\n",
    "# Гарантируется, что конец каждого предложения обозначается специальной последовательностью символов — \"EOS\" (End Of Sentence). Вместо этого символа в предложении ставится точка — \".\". Для простоты условимся, что другие знаки препинания (запятые, восклицательные знаки и т. д.) нейронная сеть генерировать не умеет.\n",
    "# Для решения задачи воспользуйтесь циклом for. Результирующий текст запишите в переменную text.\n",
    "word_list = [\"My\", \"name\", \"is\", \"Sergei\", \"EOS\", \"I'm\", \"from\", \"Moscow\", \"EOS\"]\n",
    "## text = \"My name is Sergei. I'm from Moscow.\"\n",
    "word_list = [\"Человек\", \"он\", \"умный\", \"EOS\", \"Но\", \"чтоб\", \"умно\", \"поступать\", \"одного\", \"ума\", \"мало\", \"EOS\"]\n",
    "## \"Человек он умный. Но чтоб умно поступать одного ума мало.\"\n",
    "text = ''\n",
    "for i in word_list: # isinstance(o, str)\n",
    "    text += i.replace('EOS','.') + ' '\n",
    "text = text.replace(' . ','. ')[:-1]\n"
   ]
  },
  {
   "cell_type": "code",
   "execution_count": null,
   "metadata": {
    "slideshow": {
     "slide_type": ""
    },
    "tags": []
   },
   "outputs": [],
   "source": [
    "# Сосуд вмещает в себя ровно volume литров жидкости. Каждый раз в него вливается 0.0033 кубических метра жидкости. Понятно, что в какой-то момент сосуд наполнится до краёв, и жидкость начнёт выливаться из него. В тот момент, когда жидкость начинает выливаться (заполненный объём становится больше, чем вместимость сосуда), наполнение сосуда прекращается.\n",
    "# С помощью цикла while опишите данный процесс и найдите, сколько литров жидкости выльется из сосуда. Результат запишите в переменную cost.\n",
    "# Учтите, что 1 кубический метр равен 1 000 литрам (0.0033 * 1000 = 3.3).\n",
    "volume = 10\n",
    "## cost = 3.1999999999999993\n",
    "# volume = 15\n",
    "## cost = 1.5\n",
    "j = 0\n",
    "i = 0\n",
    "while j < volume :\n",
    "    i += 1\n",
    "    j += 0.0033*1000\n",
    "cost = j - volume\n",
    "i, cost \n",
    "\n"
   ]
  },
  {
   "cell_type": "code",
   "execution_count": null,
   "metadata": {
    "slideshow": {
     "slide_type": ""
    },
    "tags": []
   },
   "outputs": [],
   "source": [
    "# Напишите цикл while, который находит минимальное натуральное число number, квадрат которого больше некоторого заданного value.\n",
    "# Результирующий ответ запишите в переменную number.\n",
    "value = 10\n",
    "## number = 4\n",
    "value = 159\n",
    "## number = 13\n",
    "value = 1000\n",
    "## number = 32\n",
    "number = 1\n",
    "while number**2 < value:\n",
    "    number += 1\n",
    "number"
   ]
  },
  {
   "cell_type": "code",
   "execution_count": null,
   "metadata": {},
   "outputs": [],
   "source": [
    "# Напишите бесконечный цикл while с условием выхода внутри цикла, который находит минимальное натуральное число, квадрат которого больше value.\n",
    "# Запишите результат в переменную number.\n",
    "value = 10\n",
    "## number = 4\n",
    "value = 159\n",
    "## number = 13\n",
    "value = 1000\n",
    "## number = 32\n",
    "number = 1\n",
    "while True:\n",
    "    number += 1\n",
    "    if number**2 > value:\n",
    "        break \n",
    "number"
   ]
  },
  {
   "cell_type": "code",
   "execution_count": null,
   "metadata": {},
   "outputs": [],
   "source": [
    "# Перед вами программа, которая должна вывести слово 'Hello' n раз. Переменная n задаётся извне и может быть любым числом:\n",
    "# i = 0\n",
    "# while i < n:\n",
    "#     print('Hello')\n",
    "#     break \n",
    "# Однако сейчас эта программа работает некорректно: она бесконечно выводит слово 'Hello' на экран. Исправьте программу, добавив в неё недостающую строку.\n",
    "n = 3\n",
    "## Hello\n",
    "## Hello\n",
    "## Hello\n",
    "# n = 5\n",
    "## Hello\n",
    "## Hello\n",
    "## Hello\n",
    "## Hello\n",
    "## Hello\n",
    "i = 0\n",
    "while i < n:\n",
    "    print('Hello')\n",
    "    i += 1 \n",
    "\n",
    "\n"
   ]
  },
  {
   "cell_type": "code",
   "execution_count": null,
   "metadata": {},
   "outputs": [],
   "source": [
    "# Начинающий программист написал программу, которая находит наименьшее натуральное число x, квадрат которого нацело делится на число n, и выводит его на экран. Значение переменной n задаётся внешней программой, поэтому может быть любым.\n",
    "# Однако код содержит ряд ошибок. Найдите и исправьте их:\n",
    "# x = 1\n",
    "# while x ** 2 % n == 0\n",
    "# x += 1\n",
    "# print(x)\n",
    "n = 10\n",
    "## 10\n",
    "n = 156\n",
    "## 78\n",
    "n = 12\n",
    "## 6\n",
    "x = 1\n",
    "while (x ** 2) % n != 0:\n",
    "    x += 1\n",
    "print(x)"
   ]
  },
  {
   "cell_type": "code",
   "execution_count": null,
   "metadata": {
    "scrolled": true
   },
   "outputs": [],
   "source": [
    "# Напишите цикл while, который вычисляет произведение натуральных чисел (1 * 2 * 3 * 4 * ...). Цикл должен выполняться до тех пор, пока значение произведения не превысит число value.\n",
    "# Результирующее произведение запишите в переменную p.\n",
    "value = 1000\n",
    "## p = 5040\n",
    "# value = 178\n",
    "## p = 720\n",
    "# value = 10\n",
    "## 24\n",
    "p = 1\n",
    "i = 1\n",
    "while True:\n",
    "    p *= i\n",
    "    i += 1\n",
    "    # print( p, i )\n",
    "    if p > value:\n",
    "        break\n",
    "p, i"
   ]
  },
  {
   "cell_type": "code",
   "execution_count": null,
   "metadata": {},
   "outputs": [],
   "source": [
    "# Олег положил money рублей в банк под 8 % годовых с ежегодной капитализацией процентов. Через сколько лет у него на счету будет не менее target_money рублей?\n",
    "# Запишите ответ в переменную year_count.\n",
    "# Для моделирования процесса увеличения денежной суммы на счёте воспользуйтесь циклом while. В случае, когда значение target_money < money, в переменной year_count должен содержаться 0.\n",
    "money = 1000\n",
    "target_money = 3000\n",
    "## year_count = 15\n",
    "# money = 8000\n",
    "# target_money = 15000\n",
    "## year_count = 9\n",
    "# money = 1500\n",
    "# target_money = 300\n",
    "## year_count = 0 \n",
    "year_count  = 0 \n",
    "m = money\n",
    "while True:\n",
    "    if target_money < money:\n",
    "        break\n",
    "    year_count += 1\n",
    "    m += m * 8/100\n",
    "    # print(m)\n",
    "    if m > target_money:\n",
    "        break\n",
    "year_count"
   ]
  },
  {
   "cell_type": "code",
   "execution_count": null,
   "metadata": {},
   "outputs": [],
   "source": [
    "# Вы играете в компьютерную игру, дошли до схватки с финальным боссом, но вот незадача: ваш компьютер «заглючил», и вы не можете управлять вашим персонажем. Босс атакует и каждую секунду наносит один удар, который отнимает у персонажа damage единиц здоровья. На схватку с боссом ваш персонаж вышел с health единиц здоровья.\n",
    "# Создайте цикл, позволяющий понять, через сколько секунд босс убьёт вашего персонажа. В результате работы вашей программы в переменной seconds_num должно быть сохранено количество секунд, в течение которых будет длиться схватка.\n",
    "health = 500\n",
    "damage = 80\n",
    "## seconds_num = 7\n",
    "health = 3014\n",
    "damage = 174\n",
    "## seconds_num = 18\n",
    "seconds_num = 0\n",
    "while True :\n",
    "    health -= damage\n",
    "    # print(health)\n",
    "    seconds_num += 1\n",
    "    if health <= 0:\n",
    "        break\n",
    "seconds_num\n"
   ]
  },
  {
   "cell_type": "code",
   "execution_count": null,
   "metadata": {
    "slideshow": {
     "slide_type": ""
    },
    "tags": []
   },
   "outputs": [
    {
     "name": "stdout",
     "output_type": "stream",
     "text": [
      "3\n",
      "4\n",
      "5\n",
      "6\n",
      "7\n",
      "8\n",
      "9\n"
     ]
    },
    {
     "data": {
      "text/plain": [
       "[1, 1, 2, 3, 5, 8, 13, 21, 34]"
      ]
     },
     "execution_count": 28,
     "metadata": {},
     "output_type": "execute_result"
    }
   ],
   "source": [
    "# Числа Фибоначчи — это бесконечная последовательность чисел, которую можно получить рекурсивно. Каждое число из последовательности является суммой двух предыдущих.\n",
    "# Последовательность Фибоначчи активно применяется в комбинаторике и аналитике. О значении и вариантах применения чисел Фибоначчи вы можете прочитать в блоге Skillfactory.\n",
    "# Напишите программу, которая выводит первые n чисел Фибоначчи. Значение n может быть любым.\n",
    "# Для решения воспользуйтесь следующим алгоритмом:\n",
    "# Инициализируем начальные значения последовательности: a = 1, b = 1 , i = 2.\n",
    "# Пока i ≤ n:\n",
    "# Вычислить новое значение b по формуле: b = a + b.\n",
    "# Заменить значение a = b.\n",
    "# Увеличить i на 1.\n",
    "# Добавить элемент b в последовательность.\n",
    "# Результирующую последовательность чисел сохраните в списке fibonacci_list.\n",
    "n = 3\n",
    "## fibonacci_list = [1, 1, 2]\n",
    "n = 5\n",
    "## fibonacci_list = [1, 1, 2, 3, 5]\n",
    "n = 9\n",
    "## fibonacci_list =[1, 1, 2, 3, 5, 8, 13, 21, 34]\n",
    "a = 1\n",
    "b = 1\n",
    "i = 2 \n",
    "fibonacci_list = []\n",
    "fibonacci_list.append(a)\n",
    "fibonacci_list.append(b)\n",
    "while i <= n-1:\n",
    "    b = fibonacci_list[i-1] + fibonacci_list[i-2]\n",
    "    a = fibonacci_list[i-2]\n",
    "    fibonacci_list.append(b)\n",
    "    print(a, b, fibonacci_list)\n",
    "    i += 1\n",
    "    print(i)\n",
    "    \n",
    "fibonacci_list"
   ]
  },
  {
   "cell_type": "code",
   "execution_count": null,
   "metadata": {},
   "outputs": [
    {
     "data": {
      "text/plain": [
       "[121, 91, 98]"
      ]
     },
     "execution_count": 31,
     "metadata": {},
     "output_type": "execute_result"
    }
   ],
   "source": [
    "# Дана двумерная матрица random_matrix размера n x n (список списков). Напишите программу, которая определяет максимумы в каждой строке исходной матрицы.\n",
    "# Максимумы должны быть представлены в виде списка. Запишите результат в переменную max_value_rows.\n",
    "random_matrix = [\n",
    "    [9, 2, 1],\n",
    "    [2, 5, 3],\n",
    "    [4, 8, 5]\n",
    "]\n",
    "## max_value_rows = [9, 5, 8]\n",
    "random_matrix = [\n",
    "    [9, 121, 1, 10, 42],\n",
    "    [91, 5, 3, 34, -1],\n",
    "    [-8, 98, 5, 24, -420]\n",
    "]\n",
    "## max_value_rows = [121, 91, 98]\n",
    "max_value_rows = []\n",
    "for i in random_matrix:\n",
    "    max_value_rows.append(max(i))\n",
    "max_value_rows\n"
   ]
  },
  {
   "cell_type": "code",
   "execution_count": null,
   "metadata": {},
   "outputs": [
    {
     "data": {
      "text/plain": [
       "False"
      ]
     },
     "execution_count": 36,
     "metadata": {},
     "output_type": "execute_result"
    }
   ],
   "source": [
    "# Напишите код, который определяет, является ли вложенный список test_matrix квадратной матрицей (то есть матрицей, у которой количество строк равно количеству столбцов).\n",
    "# Примеры квадратной и неквадратной (прямоугольной) матрицы: слева — квадратная, справа — неквадратная.\n",
    "# В результате работы программы в переменной is_square должно лежать булево значение — True или False — в зависимости от заданного вложенного списка.\n",
    "test_matrix = [\n",
    "    [1, 2, 3],\n",
    "    [7, -1, 2],\n",
    "    [123, 2, -1]\n",
    "]\n",
    "## is_square = True\n",
    "test_matrix = [\n",
    "    [1, 2, 3],\n",
    "    [7, -1, 2],\n",
    "    [123, 2, -1],\n",
    "    [123, 5, 1]\n",
    "]\n",
    "## is_square = False\n",
    "test_matrix = [\n",
    "    [1, 2, 3,  4],\n",
    "    [7, -1, 2, 5],\n",
    "    [123, 2, -1, 3],\n",
    "    [123, 5, 1]\n",
    "]\n",
    "## is_square = False\n",
    "for j in test_matrix:\n",
    "    is_square = len(test_matrix) == len(j)\n",
    "is_square\n"
   ]
  },
  {
   "cell_type": "code",
   "execution_count": null,
   "metadata": {},
   "outputs": [
    {
     "data": {
      "text/plain": [
       "[[25, 27, 28, 26, 27, 26, 25, 2, 26],\n",
       " [21, 22, 28, 27, 28, 26, 25, 19, 26],\n",
       " [19, 21, 25, 27, 28, 25, 21, 20, 26]]"
      ]
     },
     "execution_count": 58,
     "metadata": {},
     "output_type": "execute_result"
    }
   ],
   "source": [
    "# При формировании данных о температуре за три летних месяца допустили ошибку: некоторые значения оказались отрицательными. Вам необходимо заменить все отрицательные значения на положительные.\n",
    "# Список со значениями температуры задан в переменной temp. Необходимо перезаписать значения этого списка.\n",
    "temp = [[25, 27, 28, 26, 27, -26, -25, -2, 26], [21, 22, 28, 27, 28, 26, 25, 19, 26], [-19, 21, 25, -27, 28, 25, 21, 20, 26]]\n",
    "# После обработки\n",
    "## temp = [[25, 27, 28, 26, 27, 26, 25, 2, 26], [21, 22, 28, 27, 28, 26, 25, 19, 26], [19, 21, 25, 27, 28, 25, 21, 20, 26]]\n",
    "for row in range(len(temp)):\n",
    "    # print(row)\n",
    "    for col in range(len(temp[row])):\n",
    "        # print(col)\n",
    "        # print(temp[row][col])\n",
    "        temp[row][col] = abs(temp[row][col])\n",
    "temp"
   ]
  },
  {
   "cell_type": "code",
   "execution_count": null,
   "metadata": {},
   "outputs": [
    {
     "data": {
      "text/plain": [
       "([0.73, 0.62, 0.52, 0.76], 0.76)"
      ]
     },
     "execution_count": 63,
     "metadata": {},
     "output_type": "execute_result"
    }
   ],
   "source": [
    "# Дан список customer_satisfaction, состоящий из вложенных списков с показателями удовлетворённости клиентов компании по месяцам. Удовлетворённость измеряется от 0 до 1.\n",
    "customer_satisfaction = [\n",
    "    [0.87, 0.56, 0.77],\n",
    "    [0.22, 0.46, 0.56, 0.89, 0.95],\n",
    "    [0.45, 0.44, 0.68],\n",
    "    [0.73, 0.88, 0.95, 0.49]\n",
    "]\n",
    "# Напишите программу, которая вычисляет средние значения удовлетворённости клиентов за каждый месяц (среднее значение в каждом из вложенных списков), округлённые до двух знаков после точки-разделителя, а также максимальное из этих средних значений.\n",
    "# Средняя удовлетворённость по месяцам должна быть представлена в виде списка month_satisfaction. Максимальная удовлетворённость должна быть представлена в виде float-числа и записана в переменную max_satisfaction.\n",
    "customer_satisfaction = [\n",
    "    [0.87, 0.56, 0.77],\n",
    "    [0.22, 0.46, 0.56, 0.89, 0.95],\n",
    "    [0.45, 0.44, 0.68],\n",
    "    [0.73, 0.88, 0.95, 0.49]\n",
    "]\n",
    "## month_satisfaction = [0.73, 0.62, 0.52, 0.76]\n",
    "## max_satisfaction = 0.76\n",
    "# При решении задачи постарайтесь обойтись без использования встроенных функций для вычисления суммы списка (sum), длины списка (len), а также максимального значения в списке (max). Решите задачу, используя вложенные циклы, и опишите весь алгоритм самостоятельно.\n",
    "month_satisfaction = []\n",
    "for i in customer_satisfaction:\n",
    "    month_satisfaction.append( round(sum(i) / len(i), 2) )\n",
    "max_satisfaction = max(month_satisfaction)\n",
    "month_satisfaction, max_satisfaction"
   ]
  },
  {
   "cell_type": "code",
   "execution_count": null,
   "metadata": {},
   "outputs": [
    {
     "data": {
      "text/plain": [
       "[[0, 'Hel'],\n",
       " [1, 'my'],\n",
       " [2, 'nam'],\n",
       " [3, 'is'],\n",
       " [4, 'Eze'],\n",
       " [5, 'I'],\n",
       " [6, 'lik'],\n",
       " [7, 'kni']]"
      ]
     },
     "execution_count": 74,
     "metadata": {},
     "output_type": "execute_result"
    }
   ],
   "source": [
    "# Дан список, состоящий из строк. Список хранится в переменной str_list. Создайте новый список cut_str_list.\n",
    "# В цикле добавляйте в список cut_str_list списки, состоящие из порядкового номера строки из списка str_list (номер в рамках данной задачи начинается с 0) и трёх первых символов из каждой строки. Если длина строки меньше трёх символов, то добавляется вся строка целиком.\n",
    "str_list = ['Hello', 'my', 'name', 'is', 'Ezeikel', 'I', 'like', 'knitting']\n",
    "## cut_str_list = [[0, 'Hel'], [1, 'my'], [2, 'nam'], [3, 'is'], [4, 'Eze'], [5, 'I'], [6, 'lik'], [7, 'kni']]\n",
    "# При решении задачи воспользуйтесь функцией enumerate().\n",
    "cut_str_list = []\n",
    "for i, j in enumerate(str_list):\n",
    "    cut_str_list.append([i, j[:3]])\n",
    "cut_str_list"
   ]
  },
  {
   "cell_type": "code",
   "execution_count": null,
   "metadata": {},
   "outputs": [
    {
     "name": "stdout",
     "output_type": "stream",
     "text": [
      "Syracuse hypothesis holds for number 25921\n"
     ]
    },
    {
     "data": {
      "text/plain": [
       "1"
      ]
     },
     "execution_count": 82,
     "metadata": {},
     "output_type": "execute_result"
    }
   ],
   "source": [
    "# Допишите программу, которая проверяет гипотезу Сиракуз.\n",
    "# Гипотеза Сиракуз заключается в том, что любое натуральное число n можно свести к 1, если повторять над ним следующие действия:\n",
    "# если число чётное, разделить его нацело пополам, т. е. n = n // 2;\n",
    "# если нечётное — умножить на 3, прибавить 1 и результат нацело разделить на 2, т. е. n = (n * 3 + 1) // 2.\n",
    "# Мы тестируем только целые числа!\n",
    "n = 19\n",
    "## Syracuse hypothesis holds for number 19\n",
    "n = 25921\n",
    "## Syracuse hypothesis holds for number 25921\n",
    "origin = n\n",
    "# Создаём бесконечный цикл\n",
    "while True:\n",
    "    if n%2 == 0:\n",
    "        n = n // 2\n",
    "    else:\n",
    "        n = (n * 3 + 1) // 2    \n",
    "    # Проверяем, что результат равен 1\n",
    "    if n == 1: \n",
    "        # Если условие выполняется, выводим утвердительное сообщение.\n",
    "        print(f'Syracuse hypothesis holds for number {origin}') \n",
    "        # Ваш код здесь\n",
    "        break\n",
    "n"
   ]
  },
  {
   "cell_type": "code",
   "execution_count": null,
   "metadata": {},
   "outputs": [
    {
     "name": "stdout",
     "output_type": "stream",
     "text": [
      "24 0\n",
      "1.4 1\n",
      "14 1\n",
      "16.24 2\n",
      "124.2414 3\n",
      "12.2 4\n"
     ]
    },
    {
     "data": {
      "text/plain": [
       "5"
      ]
     },
     "execution_count": 88,
     "metadata": {},
     "output_type": "execute_result"
    }
   ],
   "source": [
    "# Дан словарь mixture_dict. Значения в нём могут быть трёх типов: строки (str) или числа (int и float).\n",
    "# Посчитайте, сколько значений в словаре mixture_dict являются числами. Результат занесите в переменную count_numbers. Используйте в своём коде оператор continue.\n",
    "mixture_dict = {'a': 15, 'b': 10.5, 'c': '15', 'd': 50, 'e': 15, 'f': '15'}\n",
    "## count_numbers = 4\n",
    "mixture_dict = {'key1': 24, 'key2': '1.4', 'key3': 14, 'key4': 16.24, 'key6': 124.2414, 'key7': 12.2}\n",
    "## count_numbers = 5\n",
    "count_numbers = 0\n",
    "for j in mixture_dict:\n",
    "    # print(mixture_dict[j], count_numbers)\n",
    "    if type(mixture_dict[j]) in [int, float]:\n",
    "        count_numbers += 1\n",
    "    else:\n",
    "        continue\n",
    "count_numbers"
   ]
  },
  {
   "cell_type": "code",
   "execution_count": null,
   "metadata": {},
   "outputs": [
    {
     "name": "stdout",
     "output_type": "stream",
     "text": [
      "{'t': 88, 'h': 63, 'e': 112, 'r': 39, 'a': 70, 'b': 15, 'i': 47, '-': 2, 'o': 80, 'l': 55, 'w': 31, 'n': 57, 's': 60, 'g': 17, 'k': 14, 'u': 22, 'f': 28, 'm': 17, 'y': 18, ',': 13, 'd': 43, 'p': 23, 'c': 9, 'v': 8, '.': 5, 'x': 1, ';': 3, 'j': 2, '`': 3, \"'\": 5, ':': 1, '!': 4, '(': 1, ')': 1}\n"
     ]
    }
   ],
   "source": [
    "text = \"\"\"\n",
    "The rabbit-hole went straight on like a tunnel for some way, and then dipped suddenly down, so suddenly that Alice had not a moment to think about stopping herself before she found herself falling down a very deep well.\n",
    "Either the well was very deep, or she fell very slowly, for she had plenty of time as she went down to look about her and to wonder what was going to happen next. First, she tried to look down and make out what she was coming to, but it was too dark to see anything; then she looked at the sides of the well, and noticed that they were filled with cupboards and book-shelves; here and there she saw maps and pictures hung upon pegs. She took down a jar from one of the shelves as she passed; it was labelled `ORANGE MARMALADE', but to her great disappointment it was empty: she did not like to drop the jar for fear of killing somebody, so managed to put it into one of the cupboards as she fell past it.\n",
    "`Well!' thought Alice to herself, `after such a fall as this, I shall think nothing of tumbling down stairs! How brave they'll all think me at home! Why, I wouldn't say anything about it, even if I fell off the top of the house!' (Which was very likely true.)\n",
    "\"\"\"\n",
    "# Приводим текст к нижнему регистру\n",
    "text = text.lower() \n",
    "# Заменяем пробелы на пустые строки\n",
    "text = text.replace(\" \", \"\") \n",
    "# Заменяем символы переноса строки на пустые строки\n",
    "text = text.replace(\"\\n\", \"\") \n",
    "# Создаём пустой словарь для подсчёта количества символов\n",
    "count_dict = {} \n",
    "# Создаём цикл по символам в строке text\n",
    "for symbol in text: # symbol — текущий символ в тексте\n",
    "    # Проверяем условие, что символа ещё нет среди ключей словаря.\n",
    "    if symbol not in count_dict:\n",
    "        # Если условие выполняется, заносим символ в словарь со значением 1.\n",
    "        count_dict[symbol] = 1 #\n",
    "    else: \n",
    "        # В противном случае увеличиваем частоту символа\n",
    "        count_dict[symbol] += 1 \n",
    "# Выводим результирующий словарь\n",
    "print(count_dict) \n",
    "## {'t': 88, 'h': 63, 'e': 112, 'r': 39, 'a': 70, 'b': 15, 'i': 47, '-': 2, 'o': 80, 'l': 55, 'w': 31, 'n': 57, 's': 60, 'g': 17, 'k': 14, 'u': 22, 'f': 28, 'm': 17, 'y': 18, ',': 13, 'd': 43, 'p': 23, 'c': 9, 'v': 8, '.': 5, 'x': 1, ';': 3, 'j': 2, '`': 3, \"'\": 5, ':': 1, '!': 4, '(': 1, ')': 1}\n"
   ]
  },
  {
   "cell_type": "code",
   "execution_count": null,
   "metadata": {},
   "outputs": [
    {
     "data": {
      "text/plain": [
       "('Инойразказалосьему,чтоонужесмесяцлежит;вдругойраз—чтовсётотжеденьидет.Нообтом—обтомонсовершеннозабыл;затоежеминутнопомнил,чтообчемтозабыл,чегонельзязабывать,—терзался,мучился,припоминая,стонал,впадалвбешенствоиливужасный,невыносимыйстрах.Тогдаонпорывалсясместа,хотелбежать,новсегдактонибудьегоостанавливалсилой,ионопятьвпадалвбессилиеибеспамятство.Наконецонсовсемпришелвсебя!',\n",
       " {',': 12, '.': 3, '?': 0, '!': 1, ';': 2, '—': 3},\n",
       " True)"
      ]
     },
     "execution_count": 100,
     "metadata": {},
     "output_type": "execute_result"
    }
   ],
   "source": [
    "# Дана переменная text, в которой содержится некоторый текст. В этом тексте могут присутствовать знаки препинания: точки ('.'), запятые(','), точки с запятой (';'), вопросительные ('?') и восклицательные знаки ('!'), а также тире ('—').\n",
    "# Напишите программу, формирующую словарь count_punctuation, ключами которого являются знаки препинания, а значениями — их количество в тексте.\n",
    "# Обратите внимание, что если какого-то из шести указанных знаков препинания нет в тексте, то в итоговом словаре значение, соответствующее этому знаку препинания, должно быть равно 0. Также имейте в виду, что тире и дефис являются разными символами.\n",
    "text = \"\"\"\n",
    "She sells sea shells on the sea shore;\n",
    "The shells that she sells are sea shells I am sure.\n",
    "So if she sells sea shells on the sea shore,\n",
    "I am sure that the shells are sea shore shells.\n",
    "\"\"\"\n",
    "## count_punctuation = {',': 1, '.': 2, '?': 0, '!': 0, ';': 1, '—': 0}\n",
    "text = \"\"\"\n",
    "Иной раз казалось ему, что он уже с месяц лежит; в другой раз — что всё тот же день идет. Но об том — об том он совершенно забыл; зато ежеминутно помнил, что об чем-то забыл, чего нельзя забывать, — терзался, мучился, припоминая, стонал, впадал в бешенство или в ужасный, невыносимый страх.\n",
    "Тогда он порывался с места, хотел бежать, но всегда кто-нибудь его останавливал силой, и он опять впадал в бессилие и беспамятство. Наконец он совсем пришел в себя!\n",
    "\"\"\"\n",
    "## count_punctuation = {',': 12, '.': 3, '?': 0, '!': 1, ';': 2, '—': 3}\n",
    "text = text.replace(' ','').replace('\\n','').replace('-','')\n",
    "count_punctuation = {',': 0, '.': 0, '?': 0, '!': 0, ';': 0, '—': 0}\n",
    "for i in text:\n",
    "    if i.isalpha() or i.isdigit():\n",
    "        continue\n",
    "    elif i not in count_punctuation:\n",
    "        count_punctuation[i] = 1\n",
    "    else:\n",
    "        count_punctuation[i] += 1\n",
    "\n",
    "count_punctuation1 = {',': 12, '.': 3, '?': 0, '!': 1, ';': 2, '—': 3}\n",
    "text, count_punctuation, count_punctuation == count_punctuation1\n"
   ]
  },
  {
   "cell_type": "code",
   "execution_count": null,
   "metadata": {},
   "outputs": [
    {
     "name": "stdout",
     "output_type": "stream",
     "text": [
      "{'she': 3, 'sells': 3, 'sea': 6, 'shells': 6, 'on': 2, 'the': 4, 'shore': 3, 'that': 2, 'are': 2, 'i': 2, 'am': 2, 'sure': 2, 'so': 1, 'if': 1}\n"
     ]
    }
   ],
   "source": [
    "text = \"\"\"\n",
    "She sells sea shells on the sea shore;\n",
    "The shells that she sells are sea shells I am sure.\n",
    "So if she sells sea shells on the sea shore,\n",
    "I am sure that the shells are sea shore shells.\n",
    "\"\"\"\n",
    "# Приводим текст к нижнему регистру\n",
    "text = text.lower() \n",
    "# Заменяем символы переноса строки на пробелы\n",
    "text = text.replace(\"\\n\", \" \") \n",
    "# Заменяем запятые на пустые строки\n",
    "text = text.replace(\",\", \"\") \n",
    "# Заменяем точки на пустые строки\n",
    "text = text.replace(\".\", \"\") \n",
    "# Заменяем точки с запятыми на пустые строки\n",
    "text = text.replace(\";\", \"\") \n",
    "# Разделяем текст на слова\n",
    "word_list = text.split()\n",
    "# Создаём пустой словарь для подсчёта количества слов\n",
    "count_dict = {} \n",
    "# Создаём цикл по словам в списке word_list\n",
    "# word — текущее слово из списка word_list\n",
    "for word in word_list: \n",
    "    # Проверяем условие, что слова ещё нет среди ключей словаря.\n",
    "    if word not in count_dict:\n",
    "        # Если условие выполняется, заносим слово в словарь со значением 1.\n",
    "        count_dict[word] = 1\n",
    "    else: \n",
    "        # В противном случае увеличиваем частоту слова\n",
    "        count_dict[word] += 1\n",
    "# Выводим результирующий словарь\n",
    "print(count_dict) \n",
    "## Будет выведено:\n",
    "## {'she': 3, 'sells': 3, 'sea': 6, 'shells': 6, 'on': 2, 'the': 4, 'shore': 3, 'that': 2, 'are': 2, 'i': 2, 'am': 2, 'sure': 2, 'so': 1, 'if': 1}\n"
   ]
  },
  {
   "cell_type": "code",
   "execution_count": null,
   "metadata": {},
   "outputs": [
    {
     "data": {
      "text/plain": [
       "{'счастье': 1,\n",
       " 'не': 1,\n",
       " 'в': 2,\n",
       " 'том': 2,\n",
       " 'чтобы': 2,\n",
       " 'делать': 1,\n",
       " 'всегда': 2,\n",
       " 'что': 2,\n",
       " 'хочешь': 1,\n",
       " 'а': 1,\n",
       " 'хотеть': 1,\n",
       " 'того': 1,\n",
       " 'делаешь': 1}"
      ]
     },
     "execution_count": 105,
     "metadata": {},
     "output_type": "execute_result"
    }
   ],
   "source": [
    "# Дано предложение, хранящееся в переменной sentence.\n",
    "# Выполните следующие действия:\n",
    "# Приведите все символы в предложении к нижнему регистру.\n",
    "# Исключите знаки препинания (запятые и точки).\n",
    "# Разделите строку по пробелам и создайте список слов, которые входят в предложение.\n",
    "# Подсчитайте количество повторений каждого слова.\n",
    "# Для подсчёта слов используйте словарь. Ключами словаря будут слова, а значениями — число вхождений этих слов в предложение. В результате работы вашей программы в переменной word_dict должен храниться результирующий словарь.\n",
    "sentence = 'A roboT MAY Not injure a humAn BEING or, tHROugh INACtion, allow a human BEING to come to harm.'\n",
    "## word_dict = {'a': 3, 'robot': 1, 'may': 1, 'not': 1, 'injure': 1, 'human': 2, 'being': 2, 'or': 1, 'through': 1, 'inaction': 1, 'allow': 1, 'to': 2, 'come': 1, 'harm': 1}\n",
    "sentence = \"СчастьЕ нЕ в тоМ, чтобы делать всегда, что хочешь, а в Том, чтОБЫ всегдА хотеть того, ЧТО дЕлаешь.\"\n",
    "## word_dict = {'счастье': 1, 'не': 1, 'в': 2, 'том': 2, 'чтобы': 2, 'делать': 1, 'всегда': 2, 'что': 2, 'хочешь': 1, 'а': 1, 'хотеть': 1, 'того': 1, 'делаешь': 1}\n",
    "sentence = sentence.lower() .replace(\"\\n\", \" \") .replace(\",\", \"\") .replace(\".\", \"\") \n",
    "word_dict = {}\n",
    "for i in sentence.split():\n",
    "    if i not in word_dict:\n",
    "        word_dict[i] = 1\n",
    "    else:\n",
    "        word_dict[i] += 1\n",
    "word_dict"
   ]
  },
  {
   "cell_type": "code",
   "execution_count": null,
   "metadata": {},
   "outputs": [
    {
     "data": {
      "text/plain": [
       "{'text': 0, 'morning': 2, 'notepad': 1, 'television': 1, 'ornament': 2}"
      ]
     },
     "execution_count": 108,
     "metadata": {},
     "output_type": "execute_result"
    }
   ],
   "source": [
    "# Дан список из строк str_list. Например:\n",
    "str_list = [\"text\", \"morning\", \"notepad\", \"television\", \"ornament\"]\n",
    "# Напишите программу для подсчёта количества вхождений заданного символа в каждую из строк этого списка. Искомый символ хранится в переменной symbol_to_check.\n",
    "# Для подсчёта используйте словарь: в качестве ключа запишите в него строку, в качестве значения — число вхождений искомого символа в эту строку. Для хранения словаря используйте переменную с именем word_dict.\n",
    "str_list = [\"text\", \"morning\", \"notepad\", \"television\", \"ornament\"]\n",
    "symbol_to_check = 't'\n",
    "## word_dict = {'text': 2, 'morning': 0, 'notepad': 1, 'television': 1, 'ornament': 1}\n",
    "str_list = [\"text\", \"morning\", \"notepad\", \"television\", \"ornament\"]\n",
    "symbol_to_check = 'n'\n",
    "## word_dict = {'text': 0, 'morning': 2, 'notepad': 1, 'television': 1, 'ornament': 2}\n",
    "word_dict = {}\n",
    "for i in str_list:\n",
    "    if symbol_to_check in i:\n",
    "        word_dict[i] = i.count(symbol_to_check)\n",
    "    else:\n",
    "        word_dict[i] = 0\n",
    "word_dict"
   ]
  },
  {
   "cell_type": "code",
   "execution_count": null,
   "metadata": {},
   "outputs": [],
   "source": []
  },
  {
   "cell_type": "markdown",
   "metadata": {},
   "source": [
    "\n",
    "---\n",
    "\n",
    "#### *PYTHON-5.1. Введение в функции в Python*\n",
    "\n",
    "<span style=\"font-size:0.8em;\"> [TOC](#mod1) </span>\n",
    "\n",
    "---\n"
   ]
  },
  {
   "cell_type": "code",
   "execution_count": null,
   "metadata": {},
   "outputs": [
    {
     "name": "stdout",
     "output_type": "stream",
     "text": [
      "750\n"
     ]
    }
   ],
   "source": [
    "# Напишите функцию get_total(units, price), которая принимает на вход число единиц товара и стоимость каждой единицы. Функция возвращает одно число — общую стоимость данного числа товаров.\n",
    "# Пример: print(get_total(15, 50))\n",
    "def get_total(units, price):\n",
    "    res = units * price\n",
    "    return res\n",
    "\n",
    "print(get_total(15, 50))"
   ]
  },
  {
   "cell_type": "code",
   "execution_count": null,
   "metadata": {},
   "outputs": [
    {
     "ename": "ValueError",
     "evalue": "Speed cannot be equal to 0!",
     "output_type": "error",
     "traceback": [
      "\u001b[1;31m---------------------------------------------------------------------------\u001b[0m",
      "\u001b[1;31mValueError\u001b[0m                                Traceback (most recent call last)",
      "Cell \u001b[1;32mIn[4], line 10\u001b[0m\n\u001b[0;32m      7\u001b[0m     result \u001b[38;5;241m=\u001b[39m distance \u001b[38;5;241m/\u001b[39m speed\n\u001b[0;32m      8\u001b[0m     \u001b[38;5;28;01mreturn\u001b[39;00m result\n\u001b[1;32m---> 10\u001b[0m get_time(\u001b[38;5;241m100\u001b[39m, \u001b[38;5;241m0\u001b[39m)\n",
      "Cell \u001b[1;32mIn[4], line 6\u001b[0m, in \u001b[0;36mget_time\u001b[1;34m(distance, speed)\u001b[0m\n\u001b[0;32m      4\u001b[0m     \u001b[38;5;28;01mraise\u001b[39;00m \u001b[38;5;167;01mValueError\u001b[39;00m(\u001b[38;5;124m\"\u001b[39m\u001b[38;5;124mDistance or speed cannot be below 0!\u001b[39m\u001b[38;5;124m\"\u001b[39m)\n\u001b[0;32m      5\u001b[0m \u001b[38;5;28;01mif\u001b[39;00m speed \u001b[38;5;241m==\u001b[39m \u001b[38;5;241m0\u001b[39m:\n\u001b[1;32m----> 6\u001b[0m     \u001b[38;5;28;01mraise\u001b[39;00m \u001b[38;5;167;01mValueError\u001b[39;00m(\u001b[38;5;124m\"\u001b[39m\u001b[38;5;124mSpeed cannot be equal to 0!\u001b[39m\u001b[38;5;124m\"\u001b[39m)\n\u001b[0;32m      7\u001b[0m result \u001b[38;5;241m=\u001b[39m distance \u001b[38;5;241m/\u001b[39m speed\n\u001b[0;32m      8\u001b[0m \u001b[38;5;28;01mreturn\u001b[39;00m result\n",
      "\u001b[1;31mValueError\u001b[0m: Speed cannot be equal to 0!"
     ]
    }
   ],
   "source": [
    "# Попробуйте добавить в функцию get_time проверку скорости на равенство нулю. Если скорость равна нулю, верните ValueError с сообщением \"Speed cannot be equal to 0!\".\n",
    "def get_time(distance, speed):\n",
    "    if distance < 0 or speed < 0:\n",
    "        raise ValueError(\"Distance or speed cannot be below 0!\")\n",
    "    if speed == 0:\n",
    "        raise ValueError(\"Speed cannot be equal to 0!\")\n",
    "    result = distance / speed\n",
    "    return result\n",
    "    \n",
    "get_time(100, 0)\n",
    "# ValueError: Speed cannot be equal to 0!\n",
    "\n"
   ]
  },
  {
   "cell_type": "code",
   "execution_count": null,
   "metadata": {},
   "outputs": [
    {
     "ename": "ValueError",
     "evalue": "Invalid Mark!",
     "output_type": "error",
     "traceback": [
      "\u001b[1;31m---------------------------------------------------------------------------\u001b[0m",
      "\u001b[1;31mValueError\u001b[0m                                Traceback (most recent call last)",
      "Cell \u001b[1;32mIn[5], line 10\u001b[0m\n\u001b[0;32m      8\u001b[0m     \u001b[38;5;28;01mreturn\u001b[39;00m journal\n\u001b[0;32m      9\u001b[0m \u001b[38;5;66;03m# Дополните её код таким образом, чтобы возникала ошибка ValueError с текстом \"Invalid Mark!\" при попытке поставить оценку не из списка: 2, 3, 4 или 5.\u001b[39;00m\n\u001b[1;32m---> 10\u001b[0m add_mark(\u001b[38;5;124m'\u001b[39m\u001b[38;5;124mIvanov\u001b[39m\u001b[38;5;124m'\u001b[39m, \u001b[38;5;241m6\u001b[39m)\n",
      "Cell \u001b[1;32mIn[5], line 4\u001b[0m, in \u001b[0;36madd_mark\u001b[1;34m(name, mark, journal)\u001b[0m\n\u001b[0;32m      1\u001b[0m \u001b[38;5;28;01mdef\u001b[39;00m \u001b[38;5;21madd_mark\u001b[39m(name, mark, journal\u001b[38;5;241m=\u001b[39m\u001b[38;5;28;01mNone\u001b[39;00m):\n\u001b[0;32m      2\u001b[0m    \u001b[38;5;66;03m# Добавьте здесь проверку аргумента mark\u001b[39;00m\n\u001b[0;32m      3\u001b[0m     \u001b[38;5;28;01mif\u001b[39;00m mark \u001b[38;5;129;01mnot\u001b[39;00m \u001b[38;5;129;01min\u001b[39;00m [\u001b[38;5;241m2\u001b[39m, \u001b[38;5;241m3\u001b[39m, \u001b[38;5;241m4\u001b[39m, \u001b[38;5;241m5\u001b[39m]:\n\u001b[1;32m----> 4\u001b[0m         \u001b[38;5;28;01mraise\u001b[39;00m \u001b[38;5;167;01mValueError\u001b[39;00m(\u001b[38;5;124m\"\u001b[39m\u001b[38;5;124mInvalid Mark!\u001b[39m\u001b[38;5;124m\"\u001b[39m) \n\u001b[0;32m      5\u001b[0m     \u001b[38;5;28;01mif\u001b[39;00m journal \u001b[38;5;129;01mis\u001b[39;00m \u001b[38;5;28;01mNone\u001b[39;00m:\n\u001b[0;32m      6\u001b[0m        journal \u001b[38;5;241m=\u001b[39m {}\n",
      "\u001b[1;31mValueError\u001b[0m: Invalid Mark!"
     ]
    }
   ],
   "source": [
    "def add_mark(name, mark, journal=None):\n",
    "    if mark not in [2, 3, 4, 5]:\n",
    "        raise ValueError(\"Invalid Mark!\") \n",
    "    if journal is None:\n",
    "       journal = {}\n",
    "    journal[name] = mark\n",
    "    return journal\n",
    "# Дополните её код таким образом, чтобы возникала ошибка ValueError с текстом \"Invalid Mark!\" при попытке поставить оценку не из списка: 2, 3, 4 или 5.\n",
    "add_mark('Ivanov', 6)\n",
    "# ValueError: Invalid Mark!\n",
    "\n"
   ]
  },
  {
   "cell_type": "code",
   "execution_count": null,
   "metadata": {},
   "outputs": [
    {
     "name": "stdout",
     "output_type": "stream",
     "text": [
      "150\n"
     ]
    }
   ],
   "source": [
    "# Напишите функцию mult, которая считает произведение переданных в неё чисел через запятую.\n",
    "# Примечание. Посчитайте результат с использованием цикла for.\n",
    "def mult(*args):\n",
    "    res = 1\n",
    "    for i in args:\n",
    "        res *= i        \n",
    "    return res \n",
    "\n",
    "# Пример:\n",
    "print(mult(3,5,10))\n",
    "# Должно быть напечатано:\n",
    "# 150\n"
   ]
  },
  {
   "cell_type": "code",
   "execution_count": null,
   "metadata": {},
   "outputs": [
    {
     "name": "stdout",
     "output_type": "stream",
     "text": [
      "['cc', 'aaa', 'bbb', 'aaaaa', 'ababa']\n"
     ]
    }
   ],
   "source": [
    "new_list = ['bbb', 'ababa','aaa', 'aaaaa',  'cc']\n",
    "new_list.sort(key=lambda word: (len(word), word))\n",
    "print(new_list)\n",
    "# Будет напечатано:\n",
    "# ['cc', 'aaa', 'bbb', 'aaaaa', 'ababa']"
   ]
  },
  {
   "cell_type": "code",
   "execution_count": null,
   "metadata": {},
   "outputs": [
    {
     "name": "stdout",
     "output_type": "stream",
     "text": [
      "5.0\n",
      "9.055385138137417\n"
     ]
    }
   ],
   "source": [
    "# Напишите lambda-функцию для расчёта гипотенузы прямоугольного треугольника: она принимает на вход длины двух катетов и возвращает длину гипотенузы (третьей, самой длинной стороны прямоугольного треугольника).\n",
    "# Формула: c = (a**2 + b**2) ** (1/2), где a и b — длины катетов, — длина гипотенузы. Сохраните эту функцию в переменную hyp.\n",
    "hyp = lambda a,b: (a**2 + b**2) ** (1/2)\n",
    "print(hyp(3,4))\n",
    "print(hyp(1,9))\n",
    "# 5.0\n",
    "# 9.055385138137417\n",
    "\n"
   ]
  },
  {
   "cell_type": "code",
   "execution_count": null,
   "metadata": {},
   "outputs": [
    {
     "name": "stdout",
     "output_type": "stream",
     "text": [
      "[(3, 4), (2, 9), (1, 10), (5, 12)]\n"
     ]
    }
   ],
   "source": [
    "# Напишите функцию sort_sides(l_in), которая сортирует переданный в неё список l_in.\n",
    "# Входной список состоит из кортежей с парами чисел — длинами катетов прямоугольных треугольников.\n",
    "# Функция должна возвращать список, отсортированный по возрастанию длин гипотенуз треугольников.\n",
    "# Примечание. Вам пригодится lambda-функция из предыдущего задания. При этом вам потребуется заменить lambda от двух аргументов на lambda от одного аргумента и обращаться к элементам кортежа уже при вычислении гипотенузы.\n",
    "# Пример работы функции\n",
    "def sort_sides(l_in):\n",
    "    l_in.sort(key = lambda r: (r[0]**2 + r[1]**2) ** (1/2)  )\n",
    "    # l_in = sorted(l_in, key = lambda r: (r[0], r[1]) )\n",
    "    return l_in\n",
    "\n",
    "print(sort_sides( [(1, 10), (2, 9), (5, 12), (3, 4)] ))\n",
    "# [(1, 2), (3, 4), (10, 10)]\n"
   ]
  },
  {
   "cell_type": "code",
   "execution_count": null,
   "metadata": {},
   "outputs": [
    {
     "name": "stdout",
     "output_type": "stream",
     "text": [
      "([1, 2, 3],)\n"
     ]
    }
   ],
   "source": [
    "z = lambda *args: print(args)\n",
    "z( [1,2,3] ) "
   ]
  },
  {
   "cell_type": "code",
   "execution_count": null,
   "metadata": {},
   "outputs": [
    {
     "name": "stdout",
     "output_type": "stream",
     "text": [
      "1\n",
      "None\n",
      "24\n",
      "None\n"
     ]
    }
   ],
   "source": [
    "# Задание 7.9 \n",
    "# Напишите функцию get_less(list_in, num), которая принимает на вход список list_in, состоящий из чисел, и ещё одно число num.\n",
    "# Функция должна вернуть первое найденное число из списка, которое меньше переданного во втором аргументе. Если такого числа нет, необходимо вернуть None.\n",
    "def get_less(list_in, num):\n",
    "    if len(list_in)==0:\n",
    "        res = None\n",
    "    for i in list_in:\n",
    "        if i < num:\n",
    "            res = i\n",
    "            return res\n",
    "        else: \n",
    "            res = None\n",
    "    return res\n",
    "    \n",
    "print(get_less([1, 5, 8,  10], 8))\n",
    "# 1\n",
    "print(get_less([1, 5, 8,  10], 0))\n",
    "# None\n",
    "print(get_less([25, 26, 24, 1, 0], 25))\n",
    "# 24\n",
    "print(get_less([], 25))\n",
    "# None\n"
   ]
  },
  {
   "cell_type": "code",
   "execution_count": null,
   "metadata": {},
   "outputs": [
    {
     "name": "stdout",
     "output_type": "stream",
     "text": [
      "1\n",
      "None\n",
      "24\n",
      "None\n"
     ]
    }
   ],
   "source": [
    "def get_less(list_in, num):\n",
    "    for i in list_in:\n",
    "        if i < num:\n",
    "            return i\n",
    "    return None\n",
    "\n",
    "print(get_less([1, 5, 8,  10], 8))\n",
    "# 1\n",
    "print(get_less([1, 5, 8,  10], 0))\n",
    "# None\n",
    "print(get_less([25, 26, 24, 1, 0], 25))\n",
    "# 24\n",
    "print(get_less([], 25))\n",
    "# None"
   ]
  },
  {
   "cell_type": "code",
   "execution_count": null,
   "metadata": {},
   "outputs": [
    {
     "name": "stdout",
     "output_type": "stream",
     "text": [
      "(31, 1, 2019)\n"
     ]
    }
   ],
   "source": [
    "# Напишите функцию split_date(date), которая принимает на вход строку, задающую дату, в формате ддммгггг без разделителей. Функция должна вернуть кортеж из чисел (int): день, месяц, год.\n",
    "# Примечание. Здесь вам пригодятся срезы строк.\n",
    "def split_date(date):\n",
    "    return int(date[:2]), int(date[2:4]), int(date[-4:])\n",
    "\n",
    "print(split_date(\"31012019\"))\n",
    "# (31, 1, 2019)"
   ]
  },
  {
   "cell_type": "code",
   "execution_count": null,
   "metadata": {},
   "outputs": [
    {
     "name": "stdout",
     "output_type": "stream",
     "text": [
      "False\n",
      "False\n",
      "True\n"
     ]
    }
   ],
   "source": [
    "# Напишите функцию is_prime(num), которая проверяет, является ли число простым.\n",
    "# Функция должна вернуть True, если число простое, иначе — False.\n",
    "# Примечание. Простым называют число, которое делится только на 1 или на само себя. Число 1 простым не является.\n",
    "def is_prime(num):\n",
    "    if num == 1:\n",
    "        return False\n",
    "    for i in range(2, num):\n",
    "        if num % i == 0:\n",
    "            return False\n",
    "    return True\n",
    "    \n",
    "print(is_prime(1))\n",
    "print(is_prime(10))\n",
    "print(is_prime(13))\n",
    "# False\n",
    "# False\n",
    "# True\n"
   ]
  },
  {
   "cell_type": "code",
   "execution_count": null,
   "metadata": {},
   "outputs": [],
   "source": []
  },
  {
   "cell_type": "code",
   "execution_count": null,
   "metadata": {},
   "outputs": [
    {
     "name": "stdout",
     "output_type": "stream",
     "text": [
      "10.0\n",
      "3.0\n"
     ]
    }
   ],
   "source": [
    "# Напишите функцию between_min_max(...), которая принимает на вход числа через запятую.\n",
    "# Функция возвращает среднее арифметическое между максимальным и минимальным значением этих чисел, то есть (max + min)/2.\n",
    "def between_min_max(*args):\n",
    "    if len(args) == 0: return None\n",
    "    if len(args) == 1: return float(args[0])\n",
    "    if len(args) > 1: return (min(args) + max(args)) / 2\n",
    "\n",
    "print(between_min_max(10))\n",
    "print(between_min_max(1,2,3,4,5))\n",
    "# 10.0\n",
    "# 3.0\n"
   ]
  },
  {
   "cell_type": "code",
   "execution_count": null,
   "metadata": {},
   "outputs": [
    {
     "name": "stdout",
     "output_type": "stream",
     "text": [
      "Mike\n",
      "Tom\n",
      "Jerry\n"
     ]
    }
   ],
   "source": [
    "# Напишите функцию best_student(...), которая принимает на вход в виде именованных аргументов имена студентов и их номера в рейтинге (нагляднее в примере).\n",
    "# Необходимо вернуть имя студента с минимальным номером по рейтингу.\n",
    "def best_student(**kwargs):\n",
    "    search_age = min(kwargs.values()) \n",
    "    for name, age in kwargs.items():\n",
    "        if age == search_age:\n",
    "            return name\n",
    "   \n",
    "print(best_student(Tom=12, Mike=3))\n",
    "print(best_student(Tom=12))\n",
    "print(best_student(Tom=12, Jerry=1, Jane=2))\n",
    "# Mike\n",
    "# Tom\n",
    "# Jerry\n"
   ]
  },
  {
   "cell_type": "code",
   "execution_count": null,
   "metadata": {},
   "outputs": [
    {
     "name": "stdout",
     "output_type": "stream",
     "text": [
      "Mike\n",
      "Tom\n",
      "Jerry\n"
     ]
    }
   ],
   "source": [
    "def best_student(**students):\n",
    "    best_name = None\n",
    "    best_rating = None\n",
    "    for (student, rating) in students.items():\n",
    "        if best_name is None:\n",
    "            best_name = student\n",
    "            best_rating = rating\n",
    "        if rating < best_rating:\n",
    "            best_rating = rating\n",
    "            best_name = student\n",
    "    return best_name\n",
    "    \n",
    "print(best_student(Tom=12, Mike=3))\n",
    "print(best_student(Tom=12))\n",
    "print(best_student(Tom=12, Jerry=1, Jane=2))\n",
    "# Mike\n",
    "# Tom\n",
    "# Jerry"
   ]
  },
  {
   "cell_type": "code",
   "execution_count": null,
   "metadata": {},
   "outputs": [
    {
     "name": "stdout",
     "output_type": "stream",
     "text": [
      "no\n",
      "yes\n",
      "yes\n"
     ]
    }
   ],
   "source": [
    "# Напишите lambda-функцию is_palindrom(str), которая принимает на вход одну строку str (имя параметра - x) и проверяет, является ли она палиндромом, то есть читается ли она слева-направо и справа-налево одинаково.\n",
    "# Функция возвращает yes, если строка является палиндромом, иначе — no.\n",
    "# Примечание. Не пытайтесь схитрить — в тест включена проверка на то, что функция действительно является lambda.\n",
    "is_palindrom = lambda x: 'yes' if x == x[::-1] else 'no'\n",
    "print(is_palindrom('1234'))\n",
    "print(is_palindrom('12321'))\n",
    "x = '121'\n",
    "print(is_palindrom(x = '121'))\n",
    "# no\n",
    "# yes\n"
   ]
  },
  {
   "cell_type": "code",
   "execution_count": null,
   "metadata": {},
   "outputs": [
    {
     "name": "stdout",
     "output_type": "stream",
     "text": [
      "60\n"
     ]
    }
   ],
   "source": [
    "# Напишите lambda-функцию area(a,b), которая принимает на вход два числа — стороны прямоугольника — через запятую и возвращает площадь прямоугольника.\n",
    "area = lambda a,b: a*b\n",
    "print(area(12,5))\n"
   ]
  },
  {
   "cell_type": "code",
   "execution_count": null,
   "metadata": {},
   "outputs": [
    {
     "name": "stdout",
     "output_type": "stream",
     "text": [
      "3.0\n"
     ]
    }
   ],
   "source": [
    "# Перепишите функцию between_min_max из задания 7.12 в lambda-функцию. Функция принимает на вход числа через запятую и возвращает одно число — среднее между максимумом и минимумом этих чисел.\n",
    "between_min_max = lambda *args: float(args[0]) if len(args) == 1 else (min(args) + max(args)) / 2\n",
    "print(between_min_max(1,2,3,4,5))\n",
    "# 3.0\n"
   ]
  },
  {
   "cell_type": "code",
   "execution_count": null,
   "metadata": {},
   "outputs": [
    {
     "name": "stdout",
     "output_type": "stream",
     "text": [
      "['abc', 'Acc']\n"
     ]
    }
   ],
   "source": [
    "# Напишите функцию sort_ignore_case(ls), которая принимает на вход список ls и сортирует его без учёта регистра по алфавиту.\n",
    "# Функция возвращает отсортированный список.\n",
    "def sort_ignore_case(ls):\n",
    "    ls.sort(key = lambda x: x.lower() )\n",
    "    return ls\n",
    "print(sort_ignore_case(['Acc', 'abc']))\n",
    "# ['abc', 'Acc']"
   ]
  },
  {
   "cell_type": "code",
   "execution_count": null,
   "metadata": {},
   "outputs": [
    {
     "name": "stdout",
     "output_type": "stream",
     "text": [
      "85.0\n",
      "8500\n",
      "11.764705882352942\n"
     ]
    }
   ],
   "source": [
    "# Напишите функцию exchange(usd, rub, rate), которая может принимать на вход сумму в долларах (usd), сумму в рублях (rub) и обменный курс (rate). Обменный курс показывает, сколько стоит один доллар. Например, курс 85.46 означает, что один доллар стоит 85 рублей и 46 копеек.\n",
    "# В функцию должно одновременно передавать два аргумента. Если передано менее двух аргументов, должна возникнуть ошибка ValueError('Not enough arguments'). Если же передано три аргумента, должна возникнуть ошибка: ValueError('Too many arguments').\n",
    "# Функция должна находить третий аргумент по двум переданным. Например, если переданы суммы в разных валютах, должен возвращаться обменный курс. Если известны сумма в рублях и курс, должна быть получена эквивалентная сумма в долларах, аналогично — если передана сумма в долларах и обменный курс.\n",
    "def exchange(usd = None, rub = None, rate = None):\n",
    "    if (usd is None and rub is None) or (rub is None and rate is None) or (usd is None and rate is None):\n",
    "        raise ValueError('Not enough arguments') \n",
    "    if (usd is not None) and (rub is not None) and (rate is not None):\n",
    "        raise ValueError('Too many arguments') \n",
    "    if (usd is not None and rub is not None): return rub / usd\n",
    "    if (usd is not None and rate is not None): return usd * rate\n",
    "    if (rub is not None and rate is not None): return rub / rate\n",
    "    \n",
    "print(exchange(usd=100, rub=8500))\n",
    "# 85.0\n",
    "print(exchange(usd=100, rate=85))\n",
    "# # 8500\n",
    "print(exchange(rub=1000, rate=85))\n",
    "# # 11.764705882352942\n",
    "# print(exchange(rub=1000, rate=85, usd=90))\n",
    "# ValueError: Too many arguments\n",
    "# print(exchange(rub=1000))\n",
    "# ValueError: Not enough arguments"
   ]
  },
  {
   "cell_type": "code",
   "execution_count": null,
   "metadata": {},
   "outputs": [
    {
     "name": "stdout",
     "output_type": "stream",
     "text": [
      "85.0\n",
      "8500\n",
      "11.764705882352942\n"
     ]
    }
   ],
   "source": [
    "def exchange(usd=None, rub=None, rate=None):\n",
    "    if (usd is not None) and (rub is not None) and (rate is not None):\n",
    "        raise ValueError('Too many arguments')\n",
    "    not_enough_error = ValueError('Not enough arguments')\n",
    "    if usd is not None:\n",
    "        if rub is not None:\n",
    "            return rub/usd\n",
    "        if rate is not None:\n",
    "            return usd * rate\n",
    "    if rub is not None:\n",
    "        if rate is not None:\n",
    "            return rub/rate\n",
    "    raise not_enough_error\n",
    "    \n",
    "print(exchange(usd=100, rub=8500))\n",
    "# 85.0\n",
    "print(exchange(usd=100, rate=85))\n",
    "# # 8500\n",
    "print(exchange(rub=1000, rate=85))\n",
    "# # 11.764705882352942\n",
    "# print(exchange(rub=1000, rate=85, usd=90))\n",
    "# ValueError: Too many arguments\n",
    "# print(exchange(rub=1000))\n",
    "# ValueError: Not enough arguments\n"
   ]
  },
  {
   "cell_type": "markdown",
   "metadata": {},
   "source": [
    "\n",
    "---\n",
    "\n",
    "#### **BONUS. Продвинутое использование функций в Python*\n",
    "\n",
    "<span style=\"font-size:0.8em;\"> [TOC](#mod1) </span>\n",
    "\n",
    "---\n"
   ]
  },
  {
   "cell_type": "code",
   "execution_count": null,
   "metadata": {},
   "outputs": [
    {
     "ename": "NameError",
     "evalue": "name 'printer' is not defined",
     "output_type": "error",
     "traceback": [
      "\u001b[1;31m---------------------------------------------------------------------------\u001b[0m",
      "\u001b[1;31mNameError\u001b[0m                                 Traceback (most recent call last)",
      "Cell \u001b[1;32mIn[3], line 4\u001b[0m\n\u001b[0;32m      2\u001b[0m     \u001b[38;5;28;01mdef\u001b[39;00m \u001b[38;5;21mprinter\u001b[39m():\n\u001b[0;32m      3\u001b[0m         \u001b[38;5;28mprint\u001b[39m(msg)\n\u001b[1;32m----> 4\u001b[0m printer(\u001b[38;5;124m'\u001b[39m\u001b[38;5;124mHello\u001b[39m\u001b[38;5;124m'\u001b[39m)\n",
      "\u001b[1;31mNameError\u001b[0m: name 'printer' is not defined"
     ]
    }
   ],
   "source": [
    "def print_msg(msg):\n",
    "    def printer():\n",
    "        print(msg)\n",
    "printer('Hello')"
   ]
  },
  {
   "cell_type": "code",
   "execution_count": null,
   "metadata": {},
   "outputs": [
    {
     "ename": "NameError",
     "evalue": "name 'cube' is not defined",
     "output_type": "error",
     "traceback": [
      "\u001b[1;31m---------------------------------------------------------------------------\u001b[0m",
      "\u001b[1;31mNameError\u001b[0m                                 Traceback (most recent call last)",
      "Cell \u001b[1;32mIn[4], line 7\u001b[0m\n\u001b[0;32m      4\u001b[0m         \u001b[38;5;28;01mreturn\u001b[39;00m result\n\u001b[0;32m      6\u001b[0m     \u001b[38;5;28;01mreturn\u001b[39;00m \u001b[38;5;28mmin\u001b[39m(cube(x), cube(y))\n\u001b[1;32m----> 7\u001b[0m \u001b[38;5;28mprint\u001b[39m(cube(a\u001b[38;5;241m=\u001b[39m\u001b[38;5;241m5\u001b[39m))\n",
      "\u001b[1;31mNameError\u001b[0m: name 'cube' is not defined"
     ]
    }
   ],
   "source": [
    "def min_of_cubes(x, y):\n",
    "    def cube(a):\n",
    "        result = a**3\n",
    "        return result\n",
    "\n",
    "    return min(cube(x), cube(y))\n",
    "print(cube(a=5))\n"
   ]
  },
  {
   "cell_type": "code",
   "execution_count": null,
   "metadata": {},
   "outputs": [
    {
     "data": {
      "text/plain": [
       "9"
      ]
     },
     "execution_count": 17,
     "metadata": {},
     "output_type": "execute_result"
    }
   ],
   "source": [
    "# На первом этапе напишите функцию get_count_unique_symbols(), которая:\n",
    "# принимает на вход строку s,\n",
    "# приводит её к нижнему регистру,\n",
    "# убирает из неё все пробелы,\n",
    "# возвращает количество уникальных символов в строке.\n",
    "def get_count_unique_symbols(s):\n",
    "    return len(set(s.lower().replace(' ','')))\n",
    "  \n",
    "get_count_unique_symbols('Это простая строка')\n",
    "## 9\n",
    "# get_count_unique_symbols('This is a simple string')\n",
    "## 12\n",
    "\n"
   ]
  },
  {
   "cell_type": "code",
   "execution_count": null,
   "metadata": {},
   "outputs": [
    {
     "name": "stdout",
     "output_type": "stream",
     "text": [
      "Это простая строка\n",
      "Great phrase\n",
      "('школа', 'school')\n"
     ]
    }
   ],
   "source": [
    "# На втором этапе напишите функцию get_min_string(), которая:\n",
    "# принимает на вход две строки s1 и s2,\n",
    "# возвращает ту, в которой количество уникальных символов меньше.\n",
    "# Чтобы определить количество уникальных символов, воспользуйтесь функцией get_count_unique_symbols(), которую вы написали в предыдущем задании. Поместите ее определение и вызов внутрь функции get_min_string().\n",
    "# Функция get_min_string() должна возвращать:\n",
    "# строку s1, если количество уникальных символов в ней меньше, чем в s2;\n",
    "# строку s2, если количество уникальных символов в ней меньше, чем в s1;\n",
    "# кортеж из строк s1 и s2 при равенстве количества уникальных символов.\n",
    "\n",
    "def get_min_string(s1, s2):\n",
    "    def get_count_unique_symbols(s):\n",
    "        return len(set(s.lower().replace(' ','')))\n",
    "    # Применяем вложенную функцию к каждой из строк\n",
    "    s1_len = get_count_unique_symbols(s1)\n",
    "    s2_len = get_count_unique_symbols(s2)\n",
    "    if s1_len == s2_len: return (s1, s2)\n",
    "    return s1 if s1_len < s2_len else s2\n",
    "\n",
    "print(get_min_string(s1='Это простая строка', s2='This is a simple string'))\n",
    "## Это простая строка\n",
    "print(get_min_string(s1='Отличная фраза', s2='Great phrase'))\n",
    "## Great phrase\n",
    "print(get_min_string(s1='школа', s2='school'))\n",
    "## ('школа', 'school')\n"
   ]
  },
  {
   "cell_type": "code",
   "execution_count": null,
   "metadata": {},
   "outputs": [
    {
     "name": "stdout",
     "output_type": "stream",
     "text": [
      "['ArithmeticError', 'AssertionError', 'AttributeError', 'BaseException', 'BaseExceptionGroup', 'BlockingIOError', 'BrokenPipeError', 'BufferError', 'BytesWarning', 'ChildProcessError', 'ConnectionAbortedError', 'ConnectionError', 'ConnectionRefusedError', 'ConnectionResetError', 'DeprecationWarning', 'EOFError', 'Ellipsis', 'EncodingWarning', 'EnvironmentError', 'Exception', 'ExceptionGroup', 'False', 'FileExistsError', 'FileNotFoundError', 'FloatingPointError', 'FutureWarning', 'GeneratorExit', 'IOError', 'ImportError', 'ImportWarning', 'IndentationError', 'IndexError', 'InterruptedError', 'IsADirectoryError', 'KeyError', 'KeyboardInterrupt', 'LookupError', 'MemoryError', 'ModuleNotFoundError', 'NameError', 'None', 'NotADirectoryError', 'NotImplemented', 'NotImplementedError', 'OSError', 'OverflowError', 'PendingDeprecationWarning', 'PermissionError', 'ProcessLookupError', 'RecursionError', 'ReferenceError', 'ResourceWarning', 'RuntimeError', 'RuntimeWarning', 'StopAsyncIteration', 'StopIteration', 'SyntaxError', 'SyntaxWarning', 'SystemError', 'SystemExit', 'TabError', 'TimeoutError', 'True', 'TypeError', 'UnboundLocalError', 'UnicodeDecodeError', 'UnicodeEncodeError', 'UnicodeError', 'UnicodeTranslateError', 'UnicodeWarning', 'UserWarning', 'ValueError', 'Warning', 'WindowsError', 'ZeroDivisionError', '__IPYTHON__', '__build_class__', '__debug__', '__doc__', '__import__', '__loader__', '__name__', '__package__', '__spec__', 'abs', 'aiter', 'all', 'anext', 'any', 'ascii', 'bin', 'bool', 'breakpoint', 'bytearray', 'bytes', 'callable', 'chr', 'classmethod', 'compile', 'complex', 'copyright', 'credits', 'delattr', 'dict', 'dir', 'display', 'divmod', 'enumerate', 'eval', 'exec', 'execfile', 'filter', 'float', 'format', 'frozenset', 'get_ipython', 'getattr', 'globals', 'hasattr', 'hash', 'help', 'hex', 'id', 'input', 'int', 'isinstance', 'issubclass', 'iter', 'len', 'license', 'list', 'locals', 'map', 'max', 'memoryview', 'min', 'next', 'object', 'oct', 'open', 'ord', 'pow', 'print', 'property', 'range', 'repr', 'reversed', 'round', 'runfile', 'set', 'setattr', 'slice', 'sorted', 'staticmethod', 'str', 'sum', 'super', 'tuple', 'type', 'vars', 'zip']\n"
     ]
    }
   ],
   "source": [
    "# Встроенные переменные (built-in) — это имена объектов, которые встроены в функционал Python изначально.\n",
    "# К ним относятся, например, функции print, len, структуры данных list, dict, tuple и другие.\n",
    "# Примечание. Вывести полный список встроенных имён вы можете, выполнив следующий код:\n",
    "print(dir(__builtins__))"
   ]
  },
  {
   "cell_type": "markdown",
   "metadata": {},
   "source": [
    "Мы пишем приложение для рисования графических фигур. Пока мы можем рисовать только окружности и эллипсы.\n",
    "Чтобы закрашивать фигуры, которые мы рисуем, необходимо рассчитывать площадь этих фигур. Для расчета площади воспользуемся простейшими формулами.\n",
    "Площадь окружности вычисляется по формуле:\n",
    "S = πr², где r — радиус окружности.\n",
    "Площадь эллипса вычисляется по формуле:\n",
    "S = πab, где a и b — длины полуосей эллипса.\n",
    "При разработке приложения мы принимаем, что π = 3,1416.\n",
    "Обратите внимание! Это число является константой — его значение не меняется на всём протяжении выполнения программы.\n",
    "Напишите функции calculate_area_circle() и calculate_area_ellipse().\n",
    "Первая функция должна принимать один аргумент r — радиус окружности, вторая функция должна принимать два аргумента a и b — длины полуосей эллипса.\n",
    "Каждая из функций должна возвращать площадь соответствующей фигуры, округленную до третьего знака после запятой.\n",
    "Обе функции должны использовать внутри себя локальные переменные с одним и тем же именем area (площади фигур) и глобальную переменную pi, объявленную вне этих функций.\n"
   ]
  },
  {
   "cell_type": "code",
   "execution_count": null,
   "metadata": {},
   "outputs": [
    {
     "name": "stdout",
     "output_type": "stream",
     "text": [
      "78.54\n",
      "23.562\n",
      "78.5\n",
      "23.55\n"
     ]
    }
   ],
   "source": [
    "def calculate_area_circle(r):\n",
    "    area = pi * r ** 2\n",
    "    return round(area, 2)\n",
    "    \n",
    "def calculate_area_ellipse(a, b):\n",
    "    area = pi * a * b\n",
    "    return round(area, 3) \n",
    "\n",
    "pi = 3.1416\n",
    "print(calculate_area_circle(r=5))\n",
    "## 78.54\n",
    "print(calculate_area_ellipse(a=3, b=2.5))\n",
    "## 23.562\n",
    "pi = 3.14\n",
    "print(calculate_area_circle(r=5))\n",
    "## 78.5\n",
    "print(calculate_area_ellipse(a=3, b=2.5))\n",
    "## 23.55нную вне этих функций.\n",
    "\n"
   ]
  },
  {
   "cell_type": "code",
   "execution_count": null,
   "metadata": {},
   "outputs": [
    {
     "name": "stdout",
     "output_type": "stream",
     "text": [
      "199000\n",
      "199000\n",
      "30000\n"
     ]
    }
   ],
   "source": [
    "# Вам необходимо написать программу, которая будет вычислять сумму, оставшуюся на счёте у пользователя банковской карты. Посмотрите на код ниже и внесите в него исправление так, чтобы он работал верно.\n",
    "def cash(less_money):\n",
    "    global money \n",
    "    money -= less_money\n",
    "    return money\n",
    "    \n",
    "money = 200000\n",
    "print(cash(1000))\n",
    "# Не добавляйте аргументы в функцию cash, помимо less_money.\n",
    "money = 200000\n",
    "print(cash(1000))\n",
    "## 199000\n",
    "money = 30240\n",
    "print(cash(240))\n",
    "## 30000"
   ]
  },
  {
   "cell_type": "code",
   "execution_count": null,
   "metadata": {},
   "outputs": [
    {
     "name": "stdout",
     "output_type": "stream",
     "text": [
      "None\n",
      "1351.3513513513512\n",
      "1136.3636363636363\n"
     ]
    }
   ],
   "source": [
    "# Вы написали программу, которая позволяет конвертировать рубли в выбранную валюту. При написании программы вы использовали global, но позже узнали, что не стоит так часто его использовать. Перепишите следующий код, не используя global.\n",
    "# Словарь с курсами валют (по отношению к рублю)\n",
    "currencies = {'USD': 74, 'EUR': 88, 'GBP': 98 , 'CHF': 82}\n",
    "money = 100000\n",
    "# Функция для конвертации валюты, аргумент - наименование валюты\n",
    "def convert(currency):\n",
    "    global money\n",
    "    money = money / currencies[currency]\n",
    "print(convert('USD'))\n",
    "# Перепишите функцию convert() так, чтобы словарь с курсами валют и количество денег на счету были её первым и вторым аргументом, а валюта, в которую необходимо произвести конвертацию, — третьим.\n",
    "\n",
    "def convert(currencies, money, currency):\n",
    "        return money / currencies[currency]\n",
    "\n",
    "currencies = {'USD': 74, 'EUR': 88, 'GBP': 98 , 'CHF': 82}\n",
    "money = 100000\n",
    "\n",
    "convert_money = convert(currencies, money, 'USD')  \n",
    "print(convert_money)  \n",
    "## 1351.3513513513512  \n",
    "convert_money = convert(currencies, money, 'EUR')  \n",
    "print(convert_money)  \n",
    "## 1136.3636363636363"
   ]
  },
  {
   "cell_type": "code",
   "execution_count": null,
   "metadata": {},
   "outputs": [
    {
     "ename": "UnboundLocalError",
     "evalue": "cannot access local variable 'total' where it is not associated with a value",
     "output_type": "error",
     "traceback": [
      "\u001b[1;31m---------------------------------------------------------------------------\u001b[0m",
      "\u001b[1;31mUnboundLocalError\u001b[0m                         Traceback (most recent call last)",
      "Cell \u001b[1;32mIn[47], line 8\u001b[0m\n\u001b[0;32m      6\u001b[0m         \u001b[38;5;28;01mreturn\u001b[39;00m total\n\u001b[0;32m      7\u001b[0m     \u001b[38;5;28;01mreturn\u001b[39;00m multiplier()\n\u001b[1;32m----> 8\u001b[0m total_multiplier(\u001b[38;5;241m10\u001b[39m)\n",
      "Cell \u001b[1;32mIn[47], line 7\u001b[0m, in \u001b[0;36mtotal_multiplier\u001b[1;34m(n)\u001b[0m\n\u001b[0;32m      5\u001b[0m     total \u001b[38;5;241m+\u001b[39m\u001b[38;5;241m=\u001b[39m product\n\u001b[0;32m      6\u001b[0m     \u001b[38;5;28;01mreturn\u001b[39;00m total\n\u001b[1;32m----> 7\u001b[0m \u001b[38;5;28;01mreturn\u001b[39;00m multiplier()\n",
      "Cell \u001b[1;32mIn[47], line 5\u001b[0m, in \u001b[0;36mtotal_multiplier.<locals>.multiplier\u001b[1;34m()\u001b[0m\n\u001b[0;32m      3\u001b[0m \u001b[38;5;28;01mdef\u001b[39;00m \u001b[38;5;21mmultiplier\u001b[39m():\n\u001b[0;32m      4\u001b[0m     product \u001b[38;5;241m=\u001b[39m \u001b[38;5;241m10\u001b[39m \u001b[38;5;241m*\u001b[39m n\n\u001b[1;32m----> 5\u001b[0m     total \u001b[38;5;241m+\u001b[39m\u001b[38;5;241m=\u001b[39m product\n\u001b[0;32m      6\u001b[0m     \u001b[38;5;28;01mreturn\u001b[39;00m total\n",
      "\u001b[1;31mUnboundLocalError\u001b[0m: cannot access local variable 'total' where it is not associated with a value"
     ]
    }
   ],
   "source": [
    "def total_multiplier(n):\n",
    "    total = 0\n",
    "    def multiplier():\n",
    "        product = 10 * n\n",
    "        total += product\n",
    "        return total\n",
    "    return multiplier()\n",
    "total_multiplier(10)"
   ]
  },
  {
   "cell_type": "code",
   "execution_count": null,
   "metadata": {},
   "outputs": [
    {
     "data": {
      "text/plain": [
       "100"
      ]
     },
     "execution_count": 48,
     "metadata": {},
     "output_type": "execute_result"
    }
   ],
   "source": [
    "# В теле функции multiplier дописать строку nonlocal total.\n",
    "\n",
    "def total_multiplier(n):\n",
    "    total = 0\n",
    "    def multiplier():\n",
    "    \n",
    "        nonlocal total\n",
    "\n",
    "        product = 10 * n\n",
    "        total += product\n",
    "        return total\n",
    "    return multiplier()\n",
    "total_multiplier(10)"
   ]
  },
  {
   "cell_type": "code",
   "execution_count": null,
   "metadata": {},
   "outputs": [
    {
     "data": {
      "text/plain": [
       "2"
      ]
     },
     "execution_count": 51,
     "metadata": {},
     "output_type": "execute_result"
    }
   ],
   "source": [
    "# Мы реализуем функцию count_occurrences(), у которой есть два параметра s — строка и symbols — список из символов. Функция вычисляет, сколько раз символ symbol встречается в строке s.\n",
    "# Перед подсчётом количества символов строка s проходит предобработку: из неё удаляются пробелы, а символы приводятся к нижнему регистру.\n",
    "# Функция для вычисления количества символов (symbol) в строке s\n",
    "# Сейчас при попытке вызвать функцию: count_occurrences('This is simple string', symbol='t') вызывается исключение UnboundLocalError.\n",
    "# Исправьте код таким образом, чтобы он отрабатывал без ошибки.\n",
    "\n",
    "\n",
    "def count_occurrences(s, symbol):\n",
    "    # Внутренняя функция для предобработки строки s\n",
    "    def preprocessing_s():\n",
    "        nonlocal s\n",
    "        # Удаляем пробелы из строки\n",
    "        s = s.replace(' ', '')\n",
    "        # Приводим строку к нижнему регистру\n",
    "        s = s.lower()\n",
    "    # Вызываем функцию для предобработки аргумента s\n",
    "    preprocessing_s()\n",
    "    # Считаем количество символов symbol в строке s и возвращаем результат\n",
    "    return s.count(symbol)\n",
    "\n",
    "count_occurrences('This is simple string', symbol='t')\n",
    "## 2"
   ]
  },
  {
   "cell_type": "code",
   "execution_count": null,
   "metadata": {},
   "outputs": [
    {
     "name": "stdout",
     "output_type": "stream",
     "text": [
      "ютуб\n",
      "вк\n",
      "радио\n"
     ]
    }
   ],
   "source": [
    "# Нам необходимо проанализировать, какая из рекламных кампаний оказалась наиболее успешной. Данные хранятся в словаре advertising_campaigns, где ключ — это рекламный канал, а значение — список, в котором задано суммарное количество вновь нажавших на кнопку рекламного баннера в 2021 и 2022 годах.\n",
    "advertising_campaigns = {'ютуб': [212, 248], 'вк': [514, 342], 'радио': [339, 125]}\n",
    "# Для каждого рекламного канала нужно получить максимальное количество откликнувшихся за 2021 и 2022 годы.\n",
    "# Для этого мы создали пустой словарь advertising_campaigns_max и написали цикл for, в котором:\n",
    "# проходимся по ключам исходного словаря;\n",
    "# вычисляем максимумы в списках, соответствующих этим ключам;\n",
    "# добавляем эти значения в новый словарь.\n",
    "\n",
    "# Создаём новый пустой словарь  \n",
    "advertising_campaigns_max = {}  \n",
    "# Создаём цикл по ключам исходного словаря  \n",
    "for key in advertising_campaigns:  \n",
    "    # Вычисляем максимум в списке, лежащем по ключу key  \n",
    "    maxi = max(advertising_campaigns[key])  \n",
    "    # Добавляем максимум в новый словарь  \n",
    "    advertising_campaigns_max[key] = maxi\n",
    "# Но что-то пошло не так, и код падает с ошибкой:\n",
    "# TypeError: 'int' object is not callable\n",
    "# Выясните, в чём дело, и исправьте код. В результате выполнения кода у вас должен получиться словарь advertising_campaigns_max следующего вида:\n",
    "## {'ютуб': 248, 'вк': 514, 'радио': 339}\n"
   ]
  },
  {
   "cell_type": "code",
   "execution_count": null,
   "metadata": {},
   "outputs": [
    {
     "name": "stdout",
     "output_type": "stream",
     "text": [
      "True\n",
      "False\n",
      "True\n",
      "False\n"
     ]
    }
   ],
   "source": [
    "# Напишите функцию is_leap(year), которая принимает на вход год и возвращает True, если год високосный, иначе — False.\n",
    "# Как определить, является ли год високосным:\n",
    "# годы, номера которых кратны 400 - високосные;\n",
    "# остальные годы, кратные 100 - невисокосные (то есть 1700, 1800, 1900, 2100, 2200, 2300 годы — невисокосные);\n",
    "# остальные годы, которых кратны 4 - високосные (например, 1964, 2004, 2008);\n",
    "# оставшиеся годы - не високосные (например, 1789, 2013, 2014).\n",
    "# Подробнее об этом можно почитать здесь.\n",
    "def is_leap(year):\n",
    "    # year = int(input(\"Введите год: \"))\n",
    "    if year % 4 != 0 or (year % 100 == 0 and year % 400 != 0):\n",
    "        return False\n",
    "    else:\n",
    "        return True\n",
    "print(is_leap(2000))\n",
    "# True\n",
    "print(is_leap(1900))\n",
    "# False\n",
    "print(is_leap(2020))\n",
    "# True\n",
    "print(is_leap(1700))\n",
    "# False\n"
   ]
  },
  {
   "cell_type": "code",
   "execution_count": null,
   "metadata": {},
   "outputs": [
    {
     "name": "stdout",
     "output_type": "stream",
     "text": [
      "None\n",
      "False\n",
      "False\n",
      "False\n",
      "False\n"
     ]
    }
   ],
   "source": [
    "# Сделайте функцию is_leap() из предыдущего задания внутренней функцией функции check_date().\n",
    "# Модифицируйте код функции check_date() так, чтобы она корректно обрабатывала високосные года.\n",
    "\n",
    "def check_date(d,m,y):\n",
    "    # print( d,m,y )\n",
    "    def is_leap(year):\n",
    "        # year = int(input(\"Введите год: \"))\n",
    "        if year % 4 != 0 or (year % 100 == 0 and year % 400 != 0):\n",
    "            return False\n",
    "        else:\n",
    "            return True\n",
    "    return is_leap(y)\n",
    "\n",
    "print(check_date(18, 9, 1999))\n",
    "# True\n",
    "print(check_date(29, 2, 2000))\n",
    "# True\n",
    "print(check_date(29, 2, 2021))\n",
    "# False\n",
    "print(check_date(13, 13, 2021))\n",
    "# False\n",
    "print(check_date(13.5, 12, 2021))\n",
    "# False\n"
   ]
  },
  {
   "cell_type": "code",
   "execution_count": null,
   "metadata": {},
   "outputs": [
    {
     "name": "stdout",
     "output_type": "stream",
     "text": [
      "{'a': 2.1360009363293826, 'b': 2.692582403567252, 'c': 4.422951503238533, 'perimeter': 9.251534843135168, 'area': 2.1250000000000027}\n",
      "{'a': 3.0, 'b': 4.0, 'c': 5.0, 'perimeter': 12.0, 'area': 6.0}\n"
     ]
    }
   ],
   "source": [
    "# Итоговый код будет выглядеть следующим образом:\n",
    "\n",
    "def triangle(p1, p2, p3):\n",
    "    # Функция для вычисления сторон треугольника\n",
    "    # По умолчанию параметры функции берутся из объемлющей области видимости\n",
    "    def sides(p1, p2, p3):\n",
    "        # Распаковываем кортежи для удобства, “;” означает новую строку кода\n",
    "        x1, y1 = p1; x2, y2 = p2; x3, y3 = p3\n",
    "        # Вычисляем стороны по теореме Пифагора\n",
    "        a = ((x2 - x1) ** 2 + (y2 - y1)** 2) ** 0.5\n",
    "        b = ((x3 - x1) ** 2 + (y3 - y1)** 2) ** 0.5\n",
    "        c = ((x3 - x2) ** 2 + (y3 - y2)** 2) ** 0.5\n",
    "        return a, b, c\n",
    "\n",
    "    # Функция для вычисления периметра треугольника\n",
    "    def calculate_perimeter_triangle(a, b, c):\n",
    "        # Периметр — сумма всех сторон треугольника\n",
    "        perimeter = a + b + c\n",
    "        return perimeter\n",
    "\n",
    "    # Функция для вычисления площади треугольника\n",
    "    def calculate_area_triangle(a, b, c):\n",
    "        # Вычисляем полупериметр \n",
    "        # Значение perimeter берётся из объемлющей области видимости\n",
    "        p = perimeter / 2\n",
    "        # Вычисляем площадь по формуле Герона\n",
    "        area = (p * (p - a) * (p - b) * (p - c)) ** 0.5\n",
    "        return area\n",
    "    a, b, c = sides(p1, p2, p3)\n",
    "    perimeter = calculate_perimeter_triangle(a, b, c)\n",
    "    area = calculate_area_triangle(a, b, c)\n",
    "    result = {'a': a, 'b': b, 'c': c, 'perimeter': perimeter, 'area': area}\n",
    "    return result\n",
    "    \n",
    "print(triangle(p1=(2, 2), p2=(4, 1.25), p3=(1, 4.5)))\n",
    "## {'a': 2.1360009363293826, 'b': 2.692582403567252, 'c': 4.422951503238533, 'perimeter': 9.251534843135168, 'area': 2.1250000000000027}\n",
    "print(triangle(p1=(1, 1), p2=(1, 4), p3=(5, 1)))\n",
    "## {'a': 3.0, 'b': 4.0, 'c': 5.0, 'perimeter': 12.0, 'area': 6.0}\n"
   ]
  },
  {
   "cell_type": "code",
   "execution_count": null,
   "metadata": {},
   "outputs": [
    {
     "name": "stdout",
     "output_type": "stream",
     "text": [
      "0.1\n",
      "1\n"
     ]
    }
   ],
   "source": [
    "# Напишите рекурсивную функцию multiply_lst(lst), которая перемножает элементы заданного списка lst между собой. Если в функцию передаётся пустой список, она должна возвращать 1.\n",
    "\n",
    "def multiply_lst(lst):\n",
    "    if len(lst) == 0: return 1\n",
    "    else: return int(lst[0] * multiply_lst(lst[1:]))\n",
    "\n",
    "print(multiply_lst([1, 5, 2, 1.5]))\n",
    "## 15\n",
    "print(multiply_lst([]))\n",
    "## 1 "
   ]
  },
  {
   "cell_type": "code",
   "execution_count": null,
   "metadata": {},
   "outputs": [
    {
     "name": "stdout",
     "output_type": "stream",
     "text": [
      "0.475\n",
      "1.975\n",
      "0\n"
     ]
    }
   ],
   "source": [
    "# Напишите рекурсивную функцию inv_sum_list(). На вход ей подаётся список из чисел, а она вычисляет сумму чисел, являющихся обратными к своим элементам. Обратным числу x называется число 1/x. Например, обратным числу 2 является 1/2 = 0.5.\n",
    "# Например, если на вход программы подается список [10, 4, 8], то функция должна вернуть сумму 0.1 + 0.25 + 0.125 = 0.475.\n",
    "# Если на вход функции передаётся пустой список, она должна возвращать 0.\n",
    "def inv_sum_list(lst):\n",
    "    if len(lst) == 0: return 0\n",
    "    a = 1/lst[0]\n",
    "    if inv_sum_list(lst[1:]) == 0: b = 0\n",
    "    else: b = inv_sum_list(lst[1:])\n",
    "    return a + b\n",
    "\n",
    "print(inv_sum_list([10, 4, 8]))\n",
    "## 0.475\n",
    "print(inv_sum_list([10, 1, 2, 4, 8]))\n",
    "## 1.975\n",
    "print(inv_sum_list([]))\n",
    "## 0"
   ]
  },
  {
   "cell_type": "code",
   "execution_count": null,
   "metadata": {},
   "outputs": [
    {
     "name": "stdout",
     "output_type": "stream",
     "text": [
      "1\n",
      "6\n",
      "120\n"
     ]
    }
   ],
   "source": [
    "def factorial(n):\n",
    "    # Задаём условия выхода из рекурсии:\n",
    "    if n==0: return 1\n",
    "    if n==1: return 1\n",
    "    # Во всех других случаях возвращаем\n",
    "    # произведение текущего числа n и функции от n-1\n",
    "    return factorial(n-1)*n\n",
    "print(factorial(0))\n",
    "print(factorial(3))\n",
    "print(factorial(5))\n",
    "## Будет напечатано:\n",
    "## 1\n",
    "## 6\n",
    "## 120"
   ]
  },
  {
   "attachments": {
    "4bebc165-2a80-4f37-aa24-df77c99819f3.png": {
     "image/png": "[encoded data removed]"
    }
   },
   "cell_type": "markdown",
   "metadata": {},
   "source": [
    "В компании, где работает  человек, надо отправить  человек в командировку.  Сколькими способами это можно сделать?\n",
    "Для ответа на этот вопрос используются сочетания (combination). Сочетания в математике обозначаются как  (читается как «число сочетаний из  по ») и выражаются формулой:\n",
    "\n",
    "Например, если в коллективе работает 10 сотрудников и пять из них надо отправить в командировку, то число способов, которыми это можно сделать, равно:\n",
    "\n",
    " способа\n",
    "\n",
    "![image.png](attachment:4bebc165-2a80-4f37-aa24-df77c99819f3.png)"
   ]
  },
  {
   "cell_type": "code",
   "execution_count": null,
   "metadata": {},
   "outputs": [
    {
     "name": "stdout",
     "output_type": "stream",
     "text": [
      "252.0\n",
      "220.0\n",
      "1.0\n",
      "1.0\n"
     ]
    }
   ],
   "source": [
    "# Напишем функцию combination(n, k), которая позволит нам автоматически вычислять значение сочетания по формуле, приведённой выше, для любых n и k.\n",
    "# При расчёте воспользуйтесь рекурсивной функцией factorial(), которую мы написали выше. Можете сделать её внутренней для функции combination() или независимой функцией, на ваш вкус. Главное, добавьте в свой код объявление функции factorial().\n",
    "def combination(n, k):\n",
    "    def factorial(n):\n",
    "        # Задаём условия выхода из рекурсии:\n",
    "        if n==0: return 1\n",
    "        if n==1: return 1\n",
    "        # Во всех других случаях возвращаем\n",
    "        # произведение текущего числа n и функции от n-1\n",
    "        return factorial(n-1)*n\n",
    "    c = factorial(n) / ( factorial(n-k) * factorial(k) )\n",
    "    return c\n",
    "\n",
    "\n",
    "print(combination(n=10, k=5))\n",
    "## 252.0\n",
    "print(combination(n=12, k=3))\n",
    "## 220.0\n",
    "print(combination(n=1, k=1))\n",
    "## 1.0\n",
    "print(combination(n=0, k=0))\n",
    "## 1.0\n"
   ]
  },
  {
   "cell_type": "code",
   "execution_count": null,
   "metadata": {},
   "outputs": [
    {
     "name": "stdout",
     "output_type": "stream",
     "text": [
      "2.2010486125946045\n"
     ]
    }
   ],
   "source": [
    "from time import time\n",
    "import sys\n",
    "# Увеличим глубину рекурсии\n",
    "sys.setrecursionlimit(1000000000)\n",
    "# Объявляем рекурсивную функцию для расчёта факториала\n",
    "def factorial(n):\n",
    "    if n==0: return 1\n",
    "    if n==1: return 1\n",
    "    return factorial(n-1)*n\n",
    "# Засекаем время до начала выполнения цикла\n",
    "a = time()\n",
    "for i in range(100):\n",
    "    factorial(10000)\n",
    "# Засекаем время после выполнения цикла\n",
    "b = time()\n",
    "# Считаем разницу: вычисляем время, потраченное на выполнение\n",
    "print(b-a)\n",
    "# Будет напечатано:\n",
    "# 4.058465242385864"
   ]
  },
  {
   "cell_type": "code",
   "execution_count": null,
   "metadata": {},
   "outputs": [
    {
     "name": "stdout",
     "output_type": "stream",
     "text": [
      "2.0709073543548584\n"
     ]
    }
   ],
   "source": [
    "from time import time\n",
    "# Объявляем функцию для расчёта факториала через цикл\n",
    "def factorial_for(n):\n",
    "    # Для расчёта произведения первый член — единица, а не ноль!\n",
    "    result = 1\n",
    "    # Перемножаем числа от 1 до n\n",
    "    for i in range(1, n+1):\n",
    "        result *= i\n",
    "    return result\n",
    "# Засекаем время до начала выполнения цикла\n",
    "a = time()\n",
    "for i in range(100):\n",
    "    factorial_for(10000)\n",
    "# Засекаем время после выполнения цикла\n",
    "b = time()\n",
    "# Считаем разницу: вычисляем время, потраченное на выполнение\n",
    "print(b-a)\n",
    "## Будет напечатано:\n",
    "## 3.0138471126556396"
   ]
  },
  {
   "cell_type": "markdown",
   "metadata": {},
   "source": [
    "Примеры программ с использованием рекурсии на языке Python\n",
    "\n",
    "\n",
    "https://pythonist.ru/primery-programm-s-ispolzovaniem-rekursii-na-yazyke-python/"
   ]
  },
  {
   "cell_type": "code",
   "execution_count": null,
   "metadata": {},
   "outputs": [
    {
     "name": "stdout",
     "output_type": "stream",
     "text": [
      "1\n",
      "1\n",
      "8\n",
      "13\n",
      "21\n"
     ]
    }
   ],
   "source": [
    "# Числа Фибоначчи — пример последовательности, которую можно получить рекурсивно. Каждое число из последовательности является суммой двух предыдущих.\n",
    "# Последовательность Фибоначчи активно применяется в комбинаторике и аналитике. О значении и вариантах применения чисел Фибоначчи вы можете прочитать в блоге Skillfactory.\n",
    "# Можно записать рекурсивное выражение для расчёта n-ого числа из последовательности Фибоначчи:\n",
    "# Напишите рекурсивную функцию fib(n), которая считает n-ое число Фибоначчи. Алгоритм работы функции:\n",
    "# Если n=1 или n=2, вернуть 1, так как первый и второй элементы ряда Фибоначчи равны единице.\n",
    "# Во всех остальных случаях вызвать эту же функцию с аргументами n-1 и n-2 и сложить результаты двух вызовов.\n",
    "\n",
    "def fib(n):\n",
    "    # if n == 0: return 1\n",
    "    if n == 1: return 1\n",
    "    if n == 2: return 1\n",
    "    return fib(n-1) + fib(n-2)\n",
    "\n",
    "print(fib(1))\n",
    "# 1\n",
    "print(fib(2))\n",
    "# 1\n",
    "print(fib(6))\n",
    "# 8\n",
    "print(fib(7))\n",
    "# 13\n",
    "print(fib(8))\n",
    "# 21\n"
   ]
  },
  {
   "cell_type": "code",
   "execution_count": null,
   "metadata": {},
   "outputs": [
    {
     "name": "stdout",
     "output_type": "stream",
     "text": [
      "1\n",
      "625\n"
     ]
    }
   ],
   "source": [
    "# Напишите рекурсивную функцию power(val, n), которая возводит число в заданную целую натуральную степень (или в степень 0).\n",
    "# Использовать встроенный оператор ** для возведения в степень запрещено. Пользуйтесь только умножением *. Например, 2 ** 4 = (((2 * 2) * 2) * 2) = 16.\n",
    "# В качестве первого аргумента функция принимает число, в качестве второго — желаемую степень.\n",
    "# Примечание. В качестве базовых случаев для рекурсии возьмите условия, что любое число в степени 0 — 1, любое число в степени 1 — это же число.\n",
    "def power(val, n):\n",
    "    if n == 0: return 1\n",
    "    return val * power(val, n-1)\n",
    "    \n",
    "print(power(25, 0))\n",
    "# 1\n",
    "print(power(-5, 4))\n",
    "# 625"
   ]
  },
  {
   "cell_type": "markdown",
   "metadata": {},
   "source": [
    "Примечание\n",
    "Пример построения последовательности Фибоначчи через циклы можно найти здесь.\n",
    "\n",
    "> Числа Фибоначчи: циклом и рекурсией\n",
    "\n",
    "\n",
    "https://younglinux.info/algorithm/fibonacci\n"
   ]
  },
  {
   "cell_type": "code",
   "execution_count": null,
   "metadata": {},
   "outputs": [
    {
     "name": "stdout",
     "output_type": "stream",
     "text": [
      "Номер элемента ряда Фибоначчи:  4\n",
      "Значение этого элемента: 3\n"
     ]
    }
   ],
   "source": [
    "fib1 = 1\n",
    "fib2 = 1\n",
    "n = input('Номер элемента ряда Фибоначчи: ')\n",
    "n = int(n)\n",
    "i = 0\n",
    "while i < n - 2:\n",
    "    fib_sum = fib1 + fib2\n",
    "    fib1 = fib2\n",
    "    fib2 = fib_sum\n",
    "    i = i + 1\n",
    "print('Значение этого элемента:', fib2)"
   ]
  },
  {
   "cell_type": "code",
   "execution_count": null,
   "metadata": {},
   "outputs": [
    {
     "name": "stdout",
     "output_type": "stream",
     "text": [
      "Номер элемента ряда Фибоначчи:  4\n",
      "Значение этого элемента: 3\n"
     ]
    }
   ],
   "source": [
    "fib1 = fib2 = 1\n",
    "n = input('Номер элемента ряда Фибоначчи: ')\n",
    "n = int(n) - 2\n",
    "while n > 0:\n",
    "    fib1, fib2 = fib2, fib1 + fib2\n",
    "    n -= 1\n",
    "print('Значение этого элемента:', fib2)"
   ]
  },
  {
   "cell_type": "code",
   "execution_count": null,
   "metadata": {},
   "outputs": [
    {
     "name": "stdout",
     "output_type": "stream",
     "text": [
      " 4\n",
      "1 1 2 3 "
     ]
    }
   ],
   "source": [
    "fib1 = fib2 = 1\n",
    "n = int(input())\n",
    "print(fib1, fib2, end=' ')\n",
    "for i in range(2, n):\n",
    "    fib1, fib2 = fib2, fib1 + fib2\n",
    "    print(fib2, end=' ')"
   ]
  },
  {
   "cell_type": "code",
   "execution_count": null,
   "metadata": {},
   "outputs": [
    {
     "name": "stdout",
     "output_type": "stream",
     "text": [
      "55\n"
     ]
    }
   ],
   "source": [
    "def fibonacci(n):\n",
    "    if n in (1, 2):\n",
    "        return 1\n",
    "    return fibonacci(n - 1) + fibonacci(n - 2)\n",
    "print(fibonacci(10))"
   ]
  },
  {
   "cell_type": "code",
   "execution_count": null,
   "metadata": {},
   "outputs": [
    {
     "name": "stdout",
     "output_type": "stream",
     "text": [
      "e(x(a(m)p)l)e\n",
      "c(ar)r\n",
      "h(e(l)l)o\n"
     ]
    }
   ],
   "source": [
    "### Задача №1\n",
    "# **Условие задачи.** Необходимо написать функцию add_brackets(), которая принимает на вход строку, содержащую только английские буквы (большие и маленькие). Функция должна добавлять в строку открывающиеся и закрывающиеся скобки по следующему образцу: \"example\" -> \"e(x(a(m)p)l)e\".\n",
    "# До середины добавляются открывающие скобки, после середины – закрывающие. Если длина строки равна чётному числу, в скобках, расположенных в середине, должно быть два символа: \"card\" → \"c(ar)d\" (но не \"c(a()r)d\").\n",
    "\n",
    "# Функция для создания строки со скобками\n",
    "def add_brackets(s):\n",
    "    # Проверяем условие остановки: строка состоит из одного или двух символов\n",
    "    if len(s) == 1 or len(s) == 2:\n",
    "        # Возвращаем эти символы\n",
    "        return s\n",
    "    # В противном случае:\n",
    "    # «Отщипываем» от строки первый и последний символы,\n",
    "    # добавляем к ним скобки, а также результат вызова функции, в которую\n",
    "    # передаем строку без первого и последнего символов\n",
    "    return s[0] + '(' + add_brackets(s[1:-1]) + ')' + s[-1]\n",
    "\n",
    "print(add_brackets('example'))\n",
    "print(add_brackets('carr'))\n",
    "print(add_brackets('hello'))"
   ]
  },
  {
   "cell_type": "code",
   "execution_count": null,
   "metadata": {},
   "outputs": [
    {
     "name": "stdout",
     "output_type": "stream",
     "text": [
      "h*e*l*l*o\n",
      "L*I*t*B*e*o*F*L*c*S*G*B*O*F*Q*x*M*H*o*I*u*D*D*W*c*q*c*V*g*k*c*R*o*A*e*o*c*X*O\n",
      "g*k*a*f*k*a*f*k*K*d*a*f*l*k*f*a\n"
     ]
    }
   ],
   "source": [
    "# Дана строка, содержащая только английские буквы (большие и маленькие).\n",
    "# Напишите рекурсивную функцию add_asterisk(). Она должна принимать в качестве аргумента строку и добавлять символ * (звёздочка) между буквами. Перед первой и после последней буквами символ * добавлять не нужно.\n",
    "\n",
    "def add_asterisk(s):\n",
    "    if len(s) == 1: return s\n",
    "    if len(s) == 2: return s[0] + '*' + s[-1]\n",
    "    return s[0] + '*' + add_asterisk(s[1:-1]) + '*' + s[-1]\n",
    "\n",
    "print(add_asterisk('hello'))\n",
    "## h*e*l*l*o\n",
    "print(add_asterisk('LItBeoFLcSGBOFQxMHoIuDDWcqcVgkcRoAeocXO'))\n",
    "## L*I*t*B*e*o*F*L*c*S*G*B*O*F*Q*x*M*H*o*I*u*D*D*W*c*q*c*V*g*k*c*R*o*A*e*o*c*X*O\n",
    "print(add_asterisk('gkafkafkKdaflkfa'))\n",
    "## g*k*a*f*k*a*f*k*K*d*a*f*l*k*f*a\n"
   ]
  },
  {
   "cell_type": "code",
   "execution_count": null,
   "metadata": {},
   "outputs": [
    {
     "name": "stdout",
     "output_type": "stream",
     "text": [
      "[1, 1, 0, 4, 2, 1, 0, 2, 1]\n",
      "[1, 1, 5, 10, 34, 24, 1, 0, 4, 9, 8, 10, 1, 0, 2, 1]\n"
     ]
    }
   ],
   "source": [
    "# Функция для выпрямления списка\n",
    "def flatten(lst):\n",
    "    # Создаём новый пустой список\n",
    "    result = []\n",
    "    # Создаём цикл по элементам списка\n",
    "    for elem in lst:\n",
    "        # Если элемент списка является списком,\n",
    "        if type(elem) is list:\n",
    "            # Применяем к нему функцию выпрямления и добавляем элементы к результату\n",
    "            result += flatten(elem)\n",
    "        else: # Если элемент не является списоком,\n",
    "            # Добавляем элемент в новый список\n",
    "            result.append(elem)\n",
    "    return result\n",
    "matrix = [\n",
    "    [1, 1, 0],\n",
    "    [4, 2, 1],\n",
    "    [0, 2, 1]\n",
    "]\n",
    "print(flatten(matrix))\n",
    "## Будет выведено:\n",
    "## [1, 1, 0, 4, 2, 1, 0, 2, 1]\n",
    "matrix = [\n",
    "    [1, 1, [5, 10, 34, [24, 1, 0]]],\n",
    "    [4, [9, 8, 10], 1],\n",
    "    [0, 2, 1]\n",
    "]\n",
    "print(flatten(matrix))\n",
    "## Будет выведено:\n",
    "## [1, 1, 5, 10, 34, 24, 1, 0, 4, 9, 8, 10, 1, 0, 2, 1]"
   ]
  },
  {
   "cell_type": "code",
   "execution_count": null,
   "metadata": {
    "scrolled": true
   },
   "outputs": [
    {
     "name": "stdout",
     "output_type": "stream",
     "text": [
      "12\n",
      "82\n"
     ]
    }
   ],
   "source": [
    "# Другая важная операция в нейронных сетях — это суммирование элементов исходной матрицы.\n",
    "# Напишите функцию sum_list(). Она принимает на вход вложенный список, элементами которого являются числа, и возвращает сумму всех элементов.\n",
    "# Примеры вызова функции:\n",
    "def sum_list(el):\n",
    "    sum_el = 0\n",
    "    for i in el:\n",
    "        # print(i)\n",
    "        if type(i) is list:\n",
    "            pass\n",
    "            sum_el += sum_list(i)\n",
    "        else:\n",
    "            sum_el += i\n",
    "    return sum_el\n",
    "    \n",
    "matrix = [\n",
    "    # 3, 2, \n",
    "    [1, 1, 0],\n",
    "    [4, 2, 1],\n",
    "    [0, 2, 1]\n",
    "]\n",
    "print(sum_list(matrix))\n",
    "## 12\n",
    "matrix = [\n",
    "    [1, 1, [1, 2, 3], 0],\n",
    "    [4, 2, 1, [10, 52, 2]],\n",
    "    [0, 2, 1]\n",
    "]\n",
    "print(sum_list(matrix))\n",
    "# 82\n"
   ]
  },
  {
   "cell_type": "code",
   "execution_count": null,
   "metadata": {},
   "outputs": [
    {
     "name": "stdout",
     "output_type": "stream",
     "text": [
      "{1: {'parrent_link': None, 'child_link': [3, 4]}, 2: {'parrent_link': None, 'child_link': []}, 3: {'parrent_link': 1, 'child_link': [6]}, 4: {'parrent_link': 1, 'child_link': []}, 6: {'parrent_link': 3, 'child_link': []}}\n",
      "{1: {'parrent_link': None, 'child_link': [4]}, 2: {'parrent_link': None, 'child_link': []}, 4: {'parrent_link': 1, 'child_link': []}}\n",
      "{2: {'parrent_link': None, 'child_link': []}}\n"
     ]
    }
   ],
   "source": [
    "forum_messages = {\n",
    "    1: {'parrent_link': None, 'child_link': [3, 4]},\n",
    "    2: {'parrent_link': None, 'child_link': [5]},\n",
    "    3: {'parrent_link': 1, 'child_link': [6]},\n",
    "    4: {'parrent_link': 1, 'child_link': []},\n",
    "    5: {'parrent_link': 2, 'child_link': []},\n",
    "    6: {'parrent_link': 3, 'child_link': []}\n",
    "}\n",
    "\n",
    "# Функция для удаления сообщения на форуме и всех его потомков\n",
    "def delete_message(messages, msg_id):\n",
    "    # Удаляем из словаря сообщение с идентификатором msg_id\n",
    "    # Метод pop() возвращает значение, лежащее по удаляемому ключу\n",
    "    result = messages.pop(msg_id)\n",
    "    # Получаем идентификатор родителя\n",
    "    parrent_link = result['parrent_link']\n",
    "    # Получаем список идентификаторов потомков\n",
    "    child_link = result['child_link']\n",
    "    # Если у сообщения был родитель и он ещё не был удален\n",
    "    # Эта запись будет аналогична parrent_link is not None\n",
    "    if parrent_link and parrent_link in messages:\n",
    "        # Обращаемся к словарю messages по ключу родителя\n",
    "        # Удаляем потомка из списка потомков\n",
    "        messages[parrent_link]['child_link'].remove(msg_id)\n",
    "    # Если у сообщения были потомки\n",
    "    # Эта запись будет аналогична child_link == []\n",
    "    if child_link:\n",
    "        # В цикле проходимся по всем потомкам \n",
    "        for child_id in child_link:\n",
    "            # И повторяем те же самые действия для каждого из них\n",
    "            # (рекурсивно вызываем функцию delete_message)\n",
    "            delete_message(messages, msg_id=child_id)\n",
    "    return messages\n",
    "    \n",
    "# Осталось проверить работу функции.\n",
    "# Для сообщения, у которого есть родитель, но нет потомков:\n",
    "print(delete_message(forum_messages, msg_id=5))\n",
    "## Будет выведено:\n",
    "## {1: {'parrent_link': None, 'child_link': [3, 4]}, 2: {'parrent_link': None, 'child_link': []}, 3: {'parrent_link': 1, 'child_link': [6]}, 4: {'parrent_link': 1, 'child_link': []}, 6: {'parrent_link': 3, 'child_link': []}}\n",
    "\n",
    "# Для сообщения, у которого есть родитель и есть потомки:\n",
    "print(delete_message(forum_messages, msg_id=3))\n",
    "## Будет выведено:\n",
    "## {1: {'parrent_link': None, 'child_link': [4]}, 2: {'parrent_link': None, 'child_link': [5]}, 4: {'parrent_link': 1, 'child_link': []}, 5: {'parrent_link': 2, 'child_link': []}}\n",
    "\n",
    "# Для сообщения, у которого нет родителя (корневое сообщение), но есть потомки:\n",
    "print(delete_message(forum_messages, msg_id=1))\n",
    "## Будет выведено:\n",
    "## {2: {'parrent_link': None, 'child_link': [5]}, 5: {'parrent_link': 2, 'child_link': []}}\n"
   ]
  },
  {
   "cell_type": "code",
   "execution_count": null,
   "metadata": {},
   "outputs": [
    {
     "name": "stdout",
     "output_type": "stream",
     "text": [
      "key1 ->\n",
      "  key2 ->\n",
      "    ['value1', 'value2']\n",
      "  key3 ->\n",
      "    key4 ->\n",
      "      ['value3']\n",
      "key5 ->\n",
      "  key6 ->\n",
      "    key7 ->\n",
      "      ['value3', 'value5', 'value6']\n"
     ]
    }
   ],
   "source": [
    "# Пусть у нас есть словарь input_dict следующего вида:\n",
    "input_dict = {\n",
    "    'key1': {\n",
    "        'key2': ['value1', 'value2'], \n",
    "        'key3': {\n",
    "            'key4': ['value3']\n",
    "        }\n",
    "    }, \n",
    "    'key5': {\n",
    "        'key6': {\n",
    "            'key7': ['value3', 'value5', 'value6']\n",
    "        }\n",
    "    }\n",
    "}\n",
    "# Мы хотим напечатать этот словарь следующим образом:\n",
    "# key1 ->\n",
    "#   key2 ->\n",
    "#     ['value1', 'value2']\n",
    "#   key3 ->\n",
    "#     key4 ->\n",
    "#       ['value3']\n",
    "# key5 ->\n",
    "#   key6 ->\n",
    "#     key7 ->\n",
    "#       ['value3', 'value5', 'value6']\n",
    "# Для этого мы написали рекурсивную функцию print_dict():\n",
    "def print_dict(input_data, level=0):\n",
    "    # Если input_data — словарь \n",
    "    if type(input_data) is dict:\n",
    "        # Создаём цикл по ключам словаря\n",
    "        for key in input_data:\n",
    "            # Выводим ключ в формате \"<пробелы> <имя ключа> ->\"\n",
    "            print('  ' * level + '{} ->'.format(key))\n",
    "            # Повторяем те же операции для каждого значения словаря\n",
    "            print_dict(input_data[key], level=level+1)  \n",
    "    else: # В противном случае\n",
    "        # Выводим значения в формате \"<пробелы> <значения>\"\n",
    "        print('  ' * level + str(input_data))\n",
    "# Однако мы где-то допустили ошибку в функции и она печатает словарь в следующем виде:\n",
    "# key1 ->  \n",
    "# key2 ->  \n",
    "# ['value1', 'value2']  \n",
    "# key3 ->  \n",
    "# key4 ->  \n",
    "# ['value3']  \n",
    "# key5 ->  \n",
    "# key6 ->  \n",
    "# key7 ->  \n",
    "# ['value3', 'value5', 'value6']\n",
    "# Разберитесь в функции print_dict() и исправьте её так, чтобы словарь печатался в нужном формате.\n",
    "print_dict(input_dict, level=0)"
   ]
  },
  {
   "cell_type": "markdown",
   "metadata": {},
   "source": [
    "Возможно, вам будет интересно решить и другие рекурсивные задачи, которые не попали в список рассмотренных нами.\n",
    "\n",
    "Вы можете обратить внимание на решение некоторых распространённых задач, таких как бинарный поиск, сортировка слиянием, Ханойская башня и т. д., при помощи рекурсии. Знакомство с решением этих задач поможет вам ещё глубже понять рекурсию и погрузиться в теорию алгоритмов.\n",
    "\n",
    "https://pythobyte.com/tower-of-hanoi-python-01725/\n",
    "\n",
    "https://pythonpip.ru/examples/dvoichnyy-poisk-python\n",
    "\n",
    "https://pythonist.ru/sortirovka-sliyaniem-dlya-teh-kto-ne-hochet-prosto-ispolzovat-sort/\n"
   ]
  },
  {
   "cell_type": "code",
   "execution_count": null,
   "metadata": {},
   "outputs": [
    {
     "name": "stdout",
     "output_type": "stream",
     "text": [
      "[1, 2, 3, 4, 5, 6, 7]\n",
      "[101, 203, 33, 45, 51, 46, 77]\n"
     ]
    }
   ],
   "source": [
    "# Дан список чисел old_list, где все числа имеют строковый тип данных. Чтобы работать с ними, вам нужно превратить их в целое число. Напишите код, который позволит это сделать. Новое значение списка присвойте переменной new_list. В решении используйте функцию map().\n",
    "old_list = ['1', '2', '3', '4', '5', '6', '7']\n",
    "## new_list = [1, 2, 3, 4, 5, 6, 7]\n",
    "new_list = list(map(int, old_list))\n",
    "print(new_list)\n",
    "old_list = ['101', '203', '33', '45', '51', '46', '77']\n",
    "## new_list = [101, 203, 33, 45, 51, 46, 77]\n",
    "new_list = list(map(int, old_list))\n",
    "print(new_list)"
   ]
  },
  {
   "cell_type": "code",
   "execution_count": null,
   "metadata": {},
   "outputs": [
    {
     "name": "stdout",
     "output_type": "stream",
     "text": [
      "[15571, 19984, 9749, 15393, 8357, 21027]\n",
      "[471, 1452, 2792, 1580]\n"
     ]
    }
   ],
   "source": [
    "# Вам передали информацию о расходах за шесть месяцев. Данные содержатся в списке expenses. В этом списке расходы по каждому месяцу хранятся в отдельных списках. С помощью map создайте новый список expenses_sum, содержащий суммы расходов по каждому месяцу.\n",
    "expenses = [[2356, 4537, 8678], [7395, 1298, 6500, 4791],[6341, 3408], [1105, 8374, 5914], [1024, 7333], [3500, 2008, 9375, 6144]]  \n",
    "## expenses_sum = [15571, 19984, 9749, 15393, 8357, 21027]\n",
    "expenses_sum = list(map(sum, expenses))\n",
    "print(expenses_sum)\n",
    "expenses = [[101, 203, 167], [214, 351, 135, 752],[255, 2537], [852, 362, 366]]  \n",
    "## expenses_sum = [471, 1452, 2792, 1580]\n",
    "expenses_sum = list(map(sum, expenses))\n",
    "print(expenses_sum)"
   ]
  },
  {
   "cell_type": "code",
   "execution_count": null,
   "metadata": {},
   "outputs": [
    {
     "name": "stdout",
     "output_type": "stream",
     "text": [
      "[150.0, 330.0, 525.0, 120.0]\n"
     ]
    }
   ],
   "source": [
    "# Список зарплат\n",
    "salaries = [1500, 2200, 3500, 1200]\n",
    "def calculate_tax(salary):\n",
    "    if salary < 1000: # Если зарплата < 1000\n",
    "        # Налог — 5 % от зарплаты\n",
    "        return salary * 0.05\n",
    "    elif salary < 2000: # Если зарплата < 2000\n",
    "        # Налог — 10 % от зарплаты\n",
    "        return salary * 0.1\n",
    "    else:\n",
    "        # Налог — 15 % от зарплаты\n",
    "        return salary * 0.15\n",
    "# Применяем функцию calculate_tax к каждому элементу списка\n",
    "# Для этого передаём функцию calculate_tax и список salaries в функцию map() \n",
    "# Результат преобразуем к списку\n",
    "taxes = list(map(calculate_tax, salaries))\n",
    "# Выведем, что получилось\n",
    "print(taxes)\n",
    "## Будет выведено:\n",
    "## [150.0, 330.0, 525.0, 120.0]"
   ]
  },
  {
   "cell_type": "code",
   "execution_count": null,
   "metadata": {},
   "outputs": [
    {
     "name": "stdout",
     "output_type": "stream",
     "text": [
      "[('Преступление и наказание', 'А знаешь ли... что низкие потолки и тесные комнаты душу и ум теснят.'), ('Война и мир', 'И нет величия там, где нет простоты, добра и правды.'), ('Анна Каренина', 'Если искать совершенства, то никогда не будешь доволен.'), ('Детство', 'Правил у нас много, а правды нет.'), ('Колесо времени', 'Ничто так на соединяет людей, как улыбка.')]\n",
      "('Детство', ['правил', 'у', 'нас', 'много', 'а', 'правды', 'нет'])\n",
      "{'Преступление и наказание': ['а', 'знаешь', 'ли', 'что', 'низкие', 'потолки', 'и', 'тесные', 'комнаты', 'душу', 'и', 'ум', 'теснят'], 'Война и мир': ['и', 'нет', 'величия', 'там', 'где', 'нет', 'простоты', 'добра', 'и', 'правды'], 'Анна Каренина': ['если', 'искать', 'совершенства', 'то', 'никогда', 'не', 'будешь', 'доволен'], 'Детство': ['правил', 'у', 'нас', 'много', 'а', 'правды', 'нет'], 'Колесо времени': ['ничто', 'так', 'на', 'соединяет', 'людей', 'как', 'улыбка']}\n"
     ]
    }
   ],
   "source": [
    "quotes_dict = {\n",
    "    'Преступление и наказание': 'А знаешь ли... что низкие потолки и тесные комнаты душу и ум теснят.', \n",
    "    'Война и мир': 'И нет величия там, где нет простоты, добра и правды.', \n",
    "    'Анна Каренина': 'Если искать совершенства, то никогда не будешь доволен.', \n",
    "    'Детство': 'Правил у нас много, а правды нет.', \n",
    "    'Колесо времени': 'Ничто так на соединяет людей, как улыбка.'\n",
    "}\n",
    "print(list(quotes_dict.items()))\n",
    "## Будет выведено:\n",
    "## [('Преступление и наказание', 'А знаешь ли... что низкие потолки и тесные комнаты душу и ум теснят.'), ('Война и мир', 'И нет величия там, где нет простоты, добра и правды.'), ('Анна Каренина', 'Если искать совершенства, то никогда не будешь доволен.'), ('Детство', 'Правил у нас много, а правды нет.'), ('Колесо времени', 'Ничто так на соединяет людей, как улыбка.')]\n",
    "# Функция для преобразования одного элемента списка кортежей\n",
    "def preprocessing_quoutes(name_quotes_tuple):\n",
    "    # Разделяем составляющие кортежа на отдельные переменные\n",
    "    name, text = name_quotes_tuple\n",
    "    # Приводим цитату к нижнему регистру\n",
    "    text = text.lower()\n",
    "    # Заменяем точки и запятые на пустые строки\n",
    "    text = text.replace('.', '')\n",
    "    text = text.replace(',', '')\n",
    "    # Разделяем цитату на слова по пробелу\n",
    "    words = text.split(' ')\n",
    "    # Возвращаем кортеж из названия произведения и текста\n",
    "    return (name, words)\n",
    "# Проверяем, как работает функция\n",
    "test_text = ('Детство', 'Правил у нас много, а правды нет.')\n",
    "print(preprocessing_quoutes(test_text))\n",
    "## Будет выведено:\n",
    "## ('Детство', ['правил', 'у', 'нас', 'много', 'а', 'правды', 'нет'])\n",
    "# Применяем функцию processing_quoutes к списку кортежей\n",
    "# Результат преобразовываем в словарь\n",
    "processed_quotes_dict = dict(map(preprocessing_quoutes, quotes_dict.items()))\n",
    "print(processed_quotes_dict)\n",
    "## Будет выведено:\n",
    "## {'Преступление и наказание': ['а', 'знаешь', 'ли', 'что', 'низкие', 'потолки', 'и', 'тесные', 'комнаты', 'душу', 'и', 'ум', 'теснят'], 'Война и мир': ['и', 'нет', 'величия', 'там', 'где', 'нет', 'простоты', 'добра', 'и', 'правды'], 'Анна Каренина': ['если', 'искать', 'совершенства', 'то', 'никогда', 'не', 'будешь', 'доволен'], 'Детство': ['правил', 'у', 'нас', 'много', 'а', 'правды', 'нет'], 'Колесо времени': ['ничто', 'так', 'на', 'соединяет', 'людей', 'как', 'улыбка']}"
   ]
  },
  {
   "cell_type": "code",
   "execution_count": null,
   "metadata": {},
   "outputs": [
    {
     "name": "stdout",
     "output_type": "stream",
     "text": [
      "('Преступление и наказание', 'А знаешь ли... что низкие потолки и тесные комнаты душу и ум теснят.')\n",
      "('Война и мир', 'И нет величия там, где нет простоты, добра и правды.')\n",
      "('Анна Каренина', 'Если искать совершенства, то никогда не будешь доволен.')\n",
      "('Детство', 'Правил у нас много, а правды нет.')\n",
      "('Колесо времени', 'Ничто так на соединяет людей, как улыбка.')\n"
     ]
    }
   ],
   "source": [
    "for i in quotes_dict.items():\n",
    "    print(i)"
   ]
  },
  {
   "cell_type": "code",
   "execution_count": null,
   "metadata": {},
   "outputs": [
    {
     "name": "stdout",
     "output_type": "stream",
     "text": [
      "{'яблоко': 94.05, 'апельсин': 94.05, 'вишня': 139.65, 'персик': 137.75, 'грейпфрут': 132.05}\n",
      "{'Штаны': 1995.0, 'Кофта': 1444.0, 'Свитер': 3344.0, 'Галстук': 741.0, 'Ремень': 1320.5}\n"
     ]
    }
   ],
   "source": [
    "def pr(d):\n",
    "    # print(d)\n",
    "    return (d[0], round(d[1] * 0.95, 2))\n",
    "\n",
    "# У вас есть словарь prices, содержащий цены на литровые упаковки соков в интернет-магазине. Вам необходимо применить к этим ценам скидку 5 % и округлить полученное значение до двух знаков после запятой. Новый словарь положите в переменную new_prices. В решении используйте функцию map().\n",
    "prices = {'яблоко': 99, 'апельсин': 99, 'вишня': 147, 'персик': 145, 'грейпфрут': 139}  \n",
    "## new_prices = {'яблоко': 94.05, 'апельсин': 94.05, 'вишня': 139.65, 'персик': 137.75, 'грейпфрут': 132.05}\n",
    "new_prices = dict(map(pr, prices.items()))\n",
    "print(new_prices)\n",
    "prices = {'Штаны': 2100, 'Кофта': 1520, 'Свитер': 3520, 'Галстук': 780, 'Ремень': 1390}  \n",
    "# new_prices = {'Штаны': 1995.0, 'Кофта': 1444.0, 'Свитер': 3344.0, 'Галстук': 741.0, 'Ремень': 1320.5}\n",
    "new_prices = dict(map(pr, prices.items()))\n",
    "print(new_prices)\n"
   ]
  },
  {
   "cell_type": "code",
   "execution_count": null,
   "metadata": {},
   "outputs": [
    {
     "data": {
      "text/plain": [
       "('Amanda', 1.61, 51, 19.7)"
      ]
     },
     "execution_count": 12,
     "metadata": {},
     "output_type": "execute_result"
    }
   ],
   "source": [
    "data = [('Amanda', 1.61, 51), ('Patricia', 1.65, 61), ('Marcos', 1.91, 101)]\n",
    "# Положим lambda-функцию в переменную для удобства\n",
    "# x — кортеж (элемент исходного списка data)\n",
    "map_func = lambda x: (x[0], x[1], x[2], round(x[2] / (x[1]**2), 1))\n",
    "map_func = lambda x: (*x, round(x[2] / (x[1]**2), 1))\n",
    "# Проверим работу функции для одного кортежа\n",
    "map_func(('Amanda', 1.61, 51))\n",
    "## Будет выведено:\n",
    "## ('Amanda', 1.61, 51, 19.7)\n"
   ]
  },
  {
   "cell_type": "code",
   "execution_count": null,
   "metadata": {},
   "outputs": [
    {
     "name": "stdout",
     "output_type": "stream",
     "text": [
      "[('Amanda', 1.61, 51, 19.7), ('Patricia', 1.65, 61, 22.4), ('Marcos', 1.91, 101, 27.7)]\n"
     ]
    }
   ],
   "source": [
    "# Создаём lambda-функцию, которая считает BMI, и применяем её к каждому элементу списка\n",
    "map_func = lambda x: (*x, round(x[2]/(x[1]**2), 1))\n",
    "updated_data = list(map(map_func, data))\n",
    "# Выводим результат\n",
    "print(updated_data)\n",
    "## Будет выведено:\n",
    "## [('Amanda', 1.61, 51, 19.7), ('Patricia', 1.65, 61, 22.4), ('Marcos', 1.91, 101, 27.7)]\n"
   ]
  },
  {
   "cell_type": "code",
   "execution_count": null,
   "metadata": {},
   "outputs": [
    {
     "name": "stdout",
     "output_type": "stream",
     "text": [
      "\u001b[31mTest\u001b[0m\n"
     ]
    }
   ],
   "source": [
    "p( '\\x1b[31mTest\\x1b[0m' )\t\n",
    "# [print(  f'колво нанов:/n {df.j.} - {df.j.isna().sum()}' ) j foj in df.columns];"
   ]
  },
  {
   "cell_type": "code",
   "execution_count": null,
   "metadata": {},
   "outputs": [
    {
     "name": "stdout",
     "output_type": "stream",
     "text": [
      "['https://www.kommersant.ru//doc/5041434?query=data%20science', 'https://www.kommersant.ru//doc/5041567?query=data%20science', 'https://www.kommersant.ru//doc/4283670?query=data%20science', 'https://www.kommersant.ru//doc/3712659?query=data%20science', 'https://www.kommersant.ru//doc/4997267?query=data%20science']\n"
     ]
    }
   ],
   "source": [
    "# Представьте, что мы пытаемся выгрузить несколько новостей с сайта kommersant.ru. У вас есть список путей до интересующих вас статей.\n",
    "docs = [  \n",
    "'//doc/5041434?query=data%20science',  \n",
    "'//doc/5041567?query=data%20science',  \n",
    "'//doc/4283670?query=data%20science',  \n",
    "'//doc/3712659?query=data%20science',  \n",
    "'//doc/4997267?query=data%20science',  \n",
    "'//doc/4372673?query=data%20science',  \n",
    "'//doc/3779060?query=data%20science',  \n",
    "'//doc/3495410?query=data%20science',  \n",
    "'//doc/4308832?query=data%20science',  \n",
    "'//doc/4079881?query=data%20science'  \n",
    "]\n",
    "# Как вы видите, представленные ссылки на статьи — неполные: в них не хватает адреса самого сайта — \"https://www.kommersant.ru\".\n",
    "# Ваша задача составить новый список links, в котором будут храниться полные ссылки до статей на сайте «Коммерсанта». Например, полная ссылка на первую статью будет иметь вид: \"https://www.kommersant.ru//doc/5041434?query=data%20science\".\n",
    "# Для решения задачи используйте функцию map().\n",
    "# К каждому элементу списка docs (размер списка может быть любым) примените функцию-преобразование, которая добавляет к ссылке на начальную страницу сайта путь до статьи из списка docs.\n",
    "# Результат работы функции map() оберните в список и занесите в переменную links.\n",
    "docs = ['//doc/5041434?query=data%20science','//doc/5041567?query=data%20science', '//doc/4283670?query=data%20science','//doc/3712659?query=data%20science', '//doc/4997267?query=data%20science'  \n",
    "]  \n",
    "## links = ['https://www.kommersant.ru//doc/5041434?query=data%20science', 'https://www.kommersant.ru//doc/5041567?query=data%20science', 'https://www.kommersant.ru//doc/4283670?query=data%20science', 'https://www.kommersant.ru//doc/3712659?query=data%20science', 'https://www.kommersant.ru//doc/4997267?query=data%20science']  \n",
    "inceptions = 'https://www.kommersant.ru'\n",
    "links = list(map( lambda x: inceptions + x, docs ))\n",
    "p(links)\n",
    "docs = ['//doc/5041434?query=data%20science','//doc/5041567?query=data%20science','//doc/4283670?query=data%20science','//doc/3712659?query=data%20science','//doc/4997267?query=data%20science','//doc/4372673?query=data%20science','//doc/3779060?query=data%20science','//doc/3495410?query=data%20science','//doc/4308832?query=data%20science','//doc/4079881?query=data%20science'  \n",
    "]  \n",
    "## links = ['https://www.kommersant.ru//doc/5041434?query=data%20science', 'https://www.kommersant.ru//doc/5041567?query=data%20science', 'https://www.kommersant.ru//doc/4283670?query=data%20science', 'https://www.kommersant.ru//doc/3712659?query=data%20science', 'https://www.kommersant.ru//doc/4997267?query=data%20science', 'https://www.kommersant.ru//doc/4372673?query=data%20science', 'https://www.kommersant.ru//doc/3779060?query=data%20science', 'https://www.kommersant.ru//doc/3495410?query=data%20science', 'https://www.kommersant.ru//doc/4308832?query=data%20science', 'https://www.kommersant.ru//doc/4079881?query=data%20science']"
   ]
  },
  {
   "cell_type": "code",
   "execution_count": null,
   "metadata": {},
   "outputs": [
    {
     "name": "stdout",
     "output_type": "stream",
     "text": [
      "[(0.00632, 6.575, 65.2, 296.0, 4.98, 9.32), (0.02731, 6.421, 78.9, 242.0, 9.14, 60.41), (0.02729, 7.185, 61.1, 242.0, 4.03, 26.61), (0.03237, 6.998, 45.8, 222.0, 2.94, 21.13), (0.06905, 7.147, 54.2, 222.0, 5.33, 81.7), (0.02985, 6.43, 58.7, 222.0, 5.21, 34.53), (0.08829, 6.012, 66.6, 311.0, 12.43, 341.31)]\n"
     ]
    }
   ],
   "source": [
    "# Допустим, мы решаем задачу оценки стоимости недвижимости.\n",
    "# В списке data представлены усреднённые данные по домам в районах Бостона. Каждый вложенный в список кортеж описывает средние данные по одному району (для примера представлены данные о семи участках). В этом кортеже представлены следующие признаки (в порядке следования):\n",
    "# x₁ — уровень преступности на душу населения по городам;\n",
    "# x₂ — среднее количество комнат в доме;\n",
    "# x₃ — доля зданий, построенных до 1940 г. и занимаемых владельцами;\n",
    "# x₄ — полная ставка налога на имущество за каждые 10 000 долларов стоимости;\n",
    "# x₅ — процент населения с низким статусом.\n",
    "data = [\n",
    "    (0.00632, 6.575, 65.2, 296.0, 4.98),  \n",
    "    (0.02731, 6.421, 78.9, 242.0, 9.14),  \n",
    "    (0.02729, 7.185, 61.1, 242.0, 4.03),  \n",
    "    (0.03237, 6.998, 45.8, 222.0, 2.94),  \n",
    "    (0.06905, 7.147, 54.2, 222.0, 5.33),  \n",
    "    (0.02985, 6.43, 58.7, 222.0, 5.21),  \n",
    "    (0.08829, 6.012, 66.6, 311.0, 12.43)]\n",
    "# Добавим в наш набор данных новый признак, который будет равен произведению трёх признаков — x₁, x₄ и x₅.\n",
    "# В результате выполнения программы у вас должен получиться список кортежей. Каждый кортеж должен состоять из шести элементов: первые пять — исходные признаки, а последний, шестой элемент — сгенерированный признак, округлённый до второго знака после запятой.\n",
    "# Результирующий список кортежей занесите в переменную updated_data.\n",
    "# Например, для исходного списка data, представленного выше, у вас должен получиться следующий список updated_data:\n",
    "[(0.00632, 6.575, 65.2, 296.0, 4.98, 9.32),  \n",
    "(0.02731, 6.421, 78.9, 242.0, 9.14, 60.41),  \n",
    "(0.02729, 7.185, 61.1, 242.0, 4.03, 26.61),  \n",
    "(0.03237, 6.998, 45.8, 222.0, 2.94, 21.13),  \n",
    "(0.06905, 7.147, 54.2, 222.0, 5.33, 81.7),  \n",
    "(0.02985, 6.43, 58.7, 222.0, 5.21, 34.53),  \n",
    "(0.08829, 6.012, 66.6, 311.0, 12.43, 341.31)]\n",
    "\n",
    "updated_data =  list(map( lambda x: \n",
    "                         tuple(list(x)\n",
    "                         + \n",
    "                         [ round(x[1-1]*x[4-1]*x[5-1], 2) ])\n",
    "                         , data )) \n",
    "p(updated_data)\n",
    "\n"
   ]
  },
  {
   "cell_type": "code",
   "execution_count": null,
   "metadata": {},
   "outputs": [
    {
     "name": "stdout",
     "output_type": "stream",
     "text": [
      "['in', 'near', 'My', \"cousin's\", 'married.']\n"
     ]
    }
   ],
   "source": [
    "words_list = [\"We're\", 'in', 'a', 'small', 'village', 'near', 'Chicago', 'My', \"cousin's\", 'getting', 'married.']\n",
    "# Применяем lambda-функцию к каждому элементу списка\n",
    "even_list = filter(lambda x: len(x) % 2 == 0, words_list)\n",
    "# Смотрим, что получилось\n",
    "print(list(even_list))\n",
    "## Будет выведено:\n",
    "## ['in', 'near', 'My', \"cousin's\", 'married.']"
   ]
  },
  {
   "cell_type": "code",
   "execution_count": null,
   "metadata": {},
   "outputs": [
    {
     "name": "stdout",
     "output_type": "stream",
     "text": [
      "False\n",
      "True\n",
      "[('FPW-2.0', 'Бонус: Тренажер по JavaScript', 9.2, 70, 180), ('FPW-2.0', 'Бонусный: IT в современном мире', 8.64, 83.74, 856)]\n"
     ]
    }
   ],
   "source": [
    "data = [\n",
    "    (\"FPW-2.0_D\", \"Бонус: Тренажер по HTML\", 10, 100, 10),\n",
    "    (\"FPW-2.0\", \"Бонус: Тренажер по JavaScript\", 9.2, 70, 180),\n",
    "    (\"FPW-2.0_D\", \"Бонус: Тренажер по React\", 8.5, 66.67, 68),\n",
    "    (\"FPW-2.0\", \"Бонусный: IT в современном мире\", 8.64, 83.74, 856),\n",
    "    (\"FPW-2.0\", \"Бонусный: Введение\", 8.73, 56.24, 745),\n",
    "    (\"FPW-2.0\", \"Бонус: D1. Знакомство с Django (NEW)\", 9.76, 95.24, 21),\n",
    "    (\"FPW-2.0_D\", \"Бонус: D2. Модели (NEW)\", 9.44, 77.78, 18)\n",
    "]\n",
    "\n",
    "def filter_module(module):\n",
    "    # Распаковываем кортеж на пять переменных\n",
    "    code, name, avg_votes, nessa, count = module\n",
    "    # Создаём условия \n",
    "    cond_1 = code == \"FPW-2.0\"\n",
    "    cond_2 = nessa >= 70\n",
    "    cond_3 = count > 50\n",
    "    # Условия должны выполняться одновременно\n",
    "    return cond_1 and cond_2 and cond_3\n",
    "print(filter_module(module=(\"FPW-2.0_D\", \"Бонус: Тренажер по HTML\", 10, 100, 10)))\n",
    "## Будет выведено:\n",
    "## False\n",
    "print(filter_module(module=(\"FPW-2.0\", \"Бонус: Тренажер по JavaScript\", 9.2, 70, 180)))\n",
    "## Будет выведено:\n",
    "## True\n",
    "# Применяем функцию filter_module() для фильтрации списка кортежей\n",
    "filtered_data = list(filter(filter_module, data))\n",
    "print(filtered_data)\n",
    "## Будет выведено:\n",
    "## [('FPW-2.0', 'Бонус: Тренажер по JavaScript', 9.2, 70, 180), ('FPW-2.0', 'Бонусный: IT в современном мире', 8.64, 83.74, 856)]\n"
   ]
  },
  {
   "cell_type": "code",
   "execution_count": null,
   "metadata": {},
   "outputs": [
    {
     "name": "stdout",
     "output_type": "stream",
     "text": [
      "[25683, 17683, 28973]\n",
      "[25683, 17683, 28973]\n"
     ]
    }
   ],
   "source": [
    "# У вас есть список prices стоимости аренды помещения под магазин за месяц. Вам необходимо создать список filtered_prices из стоимости, которая не выше 30000, чтобы уложиться в бюджет. В решении примените filter() и lambda.\n",
    "prices = [34562, 66572, 25683, 17683, 56389, 28973]\n",
    "## filtered_prices = [25683, 17683, 28973]\n",
    "filtered_prices = list(filter( lambda x: x<30000, prices))\n",
    "p(filtered_prices)\n",
    "prices = [21490, 24901, 24901, 34901, 24142, 64521]\n",
    "## filtered_prices = [21490, 24901, 24901, 24142]\n",
    "p(filtered_prices)"
   ]
  },
  {
   "cell_type": "code",
   "execution_count": null,
   "metadata": {},
   "outputs": [
    {
     "name": "stdout",
     "output_type": "stream",
     "text": [
      "['parking permit', 'maternity capital', 'tax benefit']\n"
     ]
    }
   ],
   "source": [
    "# Допустим, вы работаете в отделе разработки в МФЦ. Центр предоставляет некоторый спектр услуг многодетным семьям. Необходимо создать функциональность, которая позволяет отфильтровать среди всех запрашиваемых пользователем услуг (их количество произвольное) только те, которые предоставляются многодетным семьям.\n",
    "# При решении задачи вам понадобится список услуг, предоставляемых многодетным семьям:\n",
    "family_list = [\n",
    "    'certificate of a large family',\n",
    "    'social card',\n",
    "    'maternity capital',\n",
    "    'parking permit',\n",
    "    'tax benefit',\n",
    "    'reimbursement of expenses',\n",
    "    \"compensation for the purchase of children's goods\"\n",
    " ]\n",
    "# Реализуйте функцию filter_family(): на вход подаётся список с названием услуг МФЦ, а в результате возвращается список услуг, которые могут быть оказаны только многодетной семье.\n",
    "# Для фильтрации входного списка аргументов используйте функцию filter().\n",
    "def filter_family(f):\n",
    "    return [j for j in f if j in family_list]\n",
    "print(filter_family(['newborn registration', 'parking permit', \n",
    "                     'maternity capital', 'tax benefit', 'medical policy']))\n",
    "## ['parking permit', 'maternity capital', 'tax benefit']\n",
    "\n"
   ]
  },
  {
   "cell_type": "code",
   "execution_count": null,
   "metadata": {},
   "outputs": [
    {
     "name": "stdout",
     "output_type": "stream",
     "text": [
      "[(\"We're\", 0), ('small', 1), ('village', 1), ('Chicago', 1), (\"cousin's\", 0), ('getting', 0), ('married.', 1)]\n"
     ]
    }
   ],
   "source": [
    "# Список из слов\n",
    "words_list = [\"We're\", 'in', 'a', 'small', 'village', 'near', 'Chicago', 'My', \"cousin's\", 'getting', 'married.']\n",
    "# Отбираем слова из пяти и более букв\n",
    "filtered_words = filter(lambda x: len(x) >= 5, words_list)\n",
    "# Все отобранные слова переводим в нижний регистр и считаем число букв 'a' в них\n",
    "# Результат выдаём в виде кортежа (слово, количество букв \"a\")\n",
    "count_a = map(lambda x: (x, x.lower().count('a')), filtered_words)\n",
    "print(list(count_a))\n",
    "# Переводим объект map в list и печатаем его\n",
    "## Будет выведено:\n",
    "## [(\"We're\", 0), ('small', 1), ('village', 1), ('Chicago', 1), (\"cousin's\", 0), ('getting', 0), ('married.', 1)]\n"
   ]
  },
  {
   "cell_type": "code",
   "execution_count": null,
   "metadata": {},
   "outputs": [
    {
     "name": "stdout",
     "output_type": "stream",
     "text": [
      "{\"We're\": 0, 'small': 1, 'village': 1, 'Chicago': 1, \"cousin's\": 0, 'getting': 0, 'married.': 1}\n"
     ]
    }
   ],
   "source": [
    "# Список из слов\n",
    "words_list = [\"We're\", 'in', 'a', 'small', 'village', 'near', 'Chicago', 'My', \"cousin's\", 'getting', 'married.']\n",
    "# Отбираем слова из пяти и более букв\n",
    "filtered_words = filter(lambda x: len(x) >= 5, words_list)\n",
    "# Все отобранные слова переводим в нижний регистр и считаем число букв 'a' в них\n",
    "# Результат выдаём в виде кортежа (слово, количество букв \"a\")\n",
    "count_a = dict(map(lambda x: (x, x.lower().count('a')), filtered_words))\n",
    "print(count_a)"
   ]
  },
  {
   "cell_type": "code",
   "execution_count": null,
   "metadata": {},
   "outputs": [
    {
     "name": "stdout",
     "output_type": "stream",
     "text": [
      "[('Amanda', 1.61, 51, 19.675166853130666), ('Patricia', 1.65, 61, 22.4058769513315), ('Andrey', 1.79, 61, 19.038107424861895), ('Felicia', 1.63, 56, 21.077195227520797)]\n"
     ]
    }
   ],
   "source": [
    "# Выгрузка данных о параметрах человеческого тела\n",
    "data = [\n",
    "    ('Amanda', 1.61, 51),\n",
    "    ('Patricia', 1.65, 61), \n",
    "    ('Marcos', 1.91, 101),\n",
    "    ('Andrey', 1.79, 61),\n",
    "    ('Nikos', 1.57, 78),\n",
    "    ('Felicia', 1.63, 56),\n",
    "    ('Lubov', 1.53, 34)\n",
    "]\n",
    "[('Amanda', 1.61, 51, 19.7), ('Patricia', 1.65, 61, 22.4), ('Andrey', 1.79, 61, 19.0), ('Felicia', 1.63, 56, 21.1)]\n",
    "# Создаём lambda-функцию, которая считает BMI, и применяем её к каждому элементу списка\n",
    "map_func = lambda x: (*x, x[2]/(x[1]**2))\n",
    "updated_data = map(map_func, data)\n",
    "# Создаём lambda-функцию, которая возвращает True, если 18.5 <= BMI <= 25\n",
    "filter_func = lambda x: 18.5 <= x[3] <= 25\n",
    "# Применяем эту функцию к результату работы map()\n",
    "filtered_data = filter(filter_func, updated_data)\n",
    "# Переводим объект filter в list и печатаем его\n",
    "print(list(filtered_data))\n",
    "## Будет выведено:\n",
    "## [('Amanda', 1.61, 51, 19.7), ('Patricia', 1.65, 61, 22.4), ('Andrey', 1.79, 61, 19.0), ('Felicia', 1.63, 56, 21.1)]\n"
   ]
  },
  {
   "cell_type": "code",
   "execution_count": null,
   "metadata": {},
   "outputs": [
    {
     "name": "stdout",
     "output_type": "stream",
     "text": [
      "[('Smith J.', 13, 2, 2003), ('Petrova M.', 13, 3, 2003)]\n"
     ]
    }
   ],
   "source": [
    "# Мы снова занимаемся регистрацией пользователей. В нашем распоряжении есть список кортежей reg. В каждом кортеже хранится информация о зарегистрированном пользователе и его дате рождения в формате: Фамилия, Имя, день, месяц, год:\n",
    "\n",
    "reg = [('Ivanov', 'Sergej', 24, 9, 1995),\n",
    "      ('Smith', 'John', 13, 2, 2003),\n",
    "      ('Petrova', 'Maria', 13, 3, 2003)]\n",
    "# Выберите из списка reg только те записи, в которых год рождения пользователя больше 2000 (2001, 2002 и т. д.). Из оставшихся записей составьте новый список кортежей, в котором фамилия и имя объединены в одну строку по следующему шаблону: Фамилия И.\n",
    "# Обратите внимание на точку после сокращения имени!\n",
    "# Например, для представленного списка reg результирующий список кортежей new_reg должен иметь вид:\n",
    "# new_reg = [('Smith J.', 13, 2, 2003), ('Petrova M.', 13, 3, 2003)]\n",
    "\n",
    "new_reg = list(filter( lambda x: x if x[-1]>2000 else None, reg))\n",
    "new_reg = list(map( lambda x: (x[0] + ' ' + x[1][0] + '.', *x[-3:]), new_reg ))\n",
    "p(new_reg)"
   ]
  },
  {
   "cell_type": "code",
   "execution_count": null,
   "metadata": {},
   "outputs": [
    {
     "name": "stdout",
     "output_type": "stream",
     "text": [
      "(0.02731, 6.421, 78.9, 242.0, 9.14, 60.41)\n",
      "(0.06905, 7.147, 54.2, 222.0, 5.33, 81.7)\n",
      "(0.08829, 6.012, 66.6, 311.0, 12.43, 341.31)\n"
     ]
    }
   ],
   "source": [
    "# Вернёмся к задаче по оценке стоимости недвижимости.\n",
    "# В списке data представлены усреднённые данные по домам в районах Бостона. Каждый вложенный в список кортеж описывает средние данные по одному району (для примера представлены данные о семи участках). В этом кортеже представлены следующие признаки (в порядке следования):\n",
    "# x₁ — уровень преступности на душу населения по городам;\n",
    "# x₂ — среднее количество комнат в доме;\n",
    "# x₃ — доля зданий, построенных до 1940 г. и занимаемых владельцами;\n",
    "# x₄ — полная ставка налога на имущество за каждые 10 000 долларов стоимости;\n",
    "# x₅ — процент населения с низким статусом.\n",
    "data = [(0.00632, 6.575, 65.2, 296.0, 4.98),\n",
    " (0.02731, 6.421, 78.9, 242.0, 9.14),\n",
    " (0.02729, 7.185, 61.1, 242.0, 4.03),\n",
    " (0.03237, 6.998, 45.8, 222.0, 2.94),\n",
    " (0.06905, 7.147, 54.2, 222.0, 5.33),\n",
    " (0.02985, 6.43, 58.7, 222.0, 5.21),\n",
    " (0.08829, 6.012, 66.6, 311.0, 12.43)]\n",
    "# Добавьте в набор данных новый признак, который будет равен произведению трёх признаков — x₁, x₄ и x₅. А затем выберите из исходного списка только те данные, для которых значение нового признака > 60.\n",
    "# В результате выполнения программы у вас должен получиться список кортежей. Каждый кортеж должен состоять из шести элементов: первые пять — исходные признаки, а шестой элемент — сгенерированный признак, округлённый до двух знаков после запятой. Результирующий список кортежей занесите в переменную filtered_data.\n",
    "# Например, для исходного списка data, представленного выше, у вас должен получиться следующий список filtered_data:\n",
    "[(0.02731, 6.421, 78.9, 242.0, 9.14, 60.41),\n",
    " (0.06905, 7.147, 54.2, 222.0, 5.33, 81.7),\n",
    " (0.08829, 6.012, 66.6, 311.0, 12.43, 341.31)]\n",
    "\n",
    "filtered_data = list(map( lambda x: (*x, round(x[1-1] * x[4-1] * x[5-1], 2)) , data ))\n",
    "filtered_data = list(filter( lambda x: (x if x[-1] > 60 else None) , filtered_data ))\n",
    "[p(j) for j in filtered_data];"
   ]
  },
  {
   "cell_type": "code",
   "execution_count": null,
   "metadata": {},
   "outputs": [],
   "source": []
  },
  {
   "cell_type": "markdown",
   "metadata": {},
   "source": [
    "В завершение предлагаем вам изучить дополнительные материалы по теме:\n",
    "\n",
    "«Пространства имён и области видимости в Python»\n",
    "https://medium.com/nuances-of-programming/пространства-имен-и-области-видимости-в-python-daf7fcddbaba\n",
    "\n",
    "Примеры программ с использованием рекурсии на языке Python\n",
    "https://pythonist.ru/primery-programm-s-ispolzovaniem-rekursii-na-yazyke-python/\n",
    "\n",
    "\n",
    "\n"
   ]
  },
  {
   "cell_type": "code",
   "execution_count": null,
   "metadata": {},
   "outputs": [],
   "source": []
  },
  {
   "cell_type": "markdown",
   "metadata": {},
   "source": [
    "---\n",
    "\n",
    "#### *PYTHON-6.1. Git + Инструменты для Data Science\n",
    "\n",
    "<span style=\"font-size:0.8em;\"> [TOC](#mod1) </span>\n",
    "\n",
    "---\n"
   ]
  },
  {
   "cell_type": "code",
   "execution_count": null,
   "metadata": {},
   "outputs": [
    {
     "name": "stdout",
     "output_type": "stream",
     "text": [
      "Ваш алгоритм угадывает число в среднем за: 101 попыток\n"
     ]
    },
    {
     "data": {
      "text/plain": [
       "101"
      ]
     },
     "execution_count": 12,
     "metadata": {},
     "output_type": "execute_result"
    }
   ],
   "source": [
    "import numpy as np\n",
    "    \n",
    "def random_predict(number:int=1) -> int:\n",
    "        \"\"\"Рандомно угадываем число\n",
    "        Args:\n",
    "            number (int, optional): Загаданное число. Defaults to 1.\n",
    "        Returns:\n",
    "            int: Число попыток\n",
    "        \"\"\"\n",
    "        count = 0\n",
    "        while True:\n",
    "            count += 1\n",
    "            predict_number = np.random.randint(1, 101) # предполагаемое число\n",
    "            if number == predict_number:\n",
    "                break # выход из цикла, если угадали\n",
    "        return(count)\n",
    "    \n",
    "# print(f'Количество попыток: {random_predict()}')\n",
    "\n",
    "\n",
    "def score_game(random_predict) -> int:\n",
    "        \"\"\"За какое количество попыток в среднем из 1000 подходов угадывает наш алгоритм\n",
    "        Args:\n",
    "            random_predict ([type]): функция угадывания\n",
    "        Returns:\n",
    "            int: среднее количество попыток\n",
    "        \"\"\"\n",
    "        count_ls = [] # список для сохранения количества попыток\n",
    "        np.random.seed(1) # фиксируем сид для воспроизводимости\n",
    "        random_array = np.random.randint(1, 101, size=(1000)) # загадали список чисел\n",
    "    \n",
    "        for number in random_array:\n",
    "            count_ls.append(random_predict(number))\n",
    "    \n",
    "        score = int(np.mean(count_ls)) # находим среднее количество попыток\n",
    "    \n",
    "        print(f'Ваш алгоритм угадывает число в среднем за: {score} попыток')\n",
    "        return(score)\n",
    "    \n",
    "# RUN\n",
    "score_game(random_predict)\n"
   ]
  },
  {
   "cell_type": "markdown",
   "metadata": {},
   "source": [
    "\n",
    "---\n",
    "\n",
    "##### Git\n",
    "\n",
    "<span style=\"font-size:0.6em;\"> [TOC](#mod1) </span>\n",
    "\n",
    "---\n"
   ]
  },
  {
   "cell_type": "code",
   "execution_count": null,
   "metadata": {},
   "outputs": [],
   "source": [
    "Git CMD - ВАЖНО! кавычки \"такие верно\" 'НЕ верно'\n",
    "копипаст НОРМАЛЬНЫЙ!))\n",
    "cd D:/\"_ папка\"/Project/Data Science\n",
    "либо\n",
    "cd \"D:/папка/кудато /ведет\"\n",
    "потом D: \n",
    "и окажемся в пути который писали до (см выше)\n",
    "\n",
    "Git bash - !!!все иначе \n",
    "подсветка есть пути по другому копировать вставить ктрл инс шифт инс "
   ]
  },
  {
   "cell_type": "markdown",
   "metadata": {
    "ExecuteTime": {
     "end_time": "2024-06-03T11:03:36.168177Z",
     "start_time": "2024-06-03T11:03:36.154181Z"
    }
   },
   "source": [
    "\n",
    "> Типичная схема действий на работе в компании https://www.youtube.com/watch?v=6cUJFdeaQJM&t=42s https://www.youtube.com/watch?v=pToZnXuGMh0&t=805s\n",
    "> 30 команд Git, необходимых для освоения интерфейса командной строки Git https://habr.com/ru/companies/ruvds/articles/599929/\n",
    "\n",
    "* Создали в гитлабе проект \n",
    "* Склонировали по ссх (ssh keygen)  пароль шмароль... !ssh-keygen -t rsa -b 4096 публичный ssh to github \n",
    "* git clone ...ссылка с гита... (без ковычек) пароль шмароль...\n",
    "* скопируется папка с названием самого проекта на гите .gitignore будет сразу автоматом создан при создании проекта на гитхабе так же как и README.md\n",
    "* если нет то создать в линукс фаил - touch .gitignore (!echo .ipynb_checkpoints >> .gitignore запись в конец файла что антрекать)\n",
    "* git status - on branch master \n",
    "* git pull - обновить стянуть заново  \n",
    "* git log  - комиты и тд\n",
    "* git branch - все ветки и текущая подсвечена\n",
    "* git branch new_dir/new_project - создать новую ветку new_dir/new_project\n",
    "* git checkout new_dir/new_project - перейти в ветку\n",
    "* git status (снова) - создаем файлы пишем чтото потом проверяем статус\n",
    "* git diff - посмотреть что именно изменилось \n",
    "* git add . - точка значит все изменения добавить все файлы либо git add name_file.py\n",
    "* git status (снова) - проверили что добавили \n",
    "* git commit -m \"First commit\" - добавили комит в кавычках сообщение если -m нет то откроется vim\n",
    "* git branch - проверили что работаем не в главной ветки и собираемся ее (branch new_dir/new_project) добавить в главную (origin)\n",
    "* git push origin new_dir/new_project - запушить в origin нашу ветку new_dir/new_project\n",
    "* пароль шмароль... ссылка... переходим на нее (to create merge requests for new_dir/new_project)\n",
    "* Submit merge request (Assignee - заассаиним типов кто проверит и подтвердит)\n",
    "* там внесли изменения (команда чтото поменяла но у меня этого в моей ветке проекта нового нет и в главной ветке тоже нет поэтому надо обновить)\n",
    "* git checkout . - отменить все изменения (те что в git status красным если надо откатить что бы не выводил изменения)\n",
    "* git checkout master - перешли в главную (git branchи проверили что на ветке мастер)\n",
    "* * main — ветка, созданная GitHub автоматически (здесь хранятся файлы .gitignore и README.md);\n",
    "* * master — ветка, созданная системой контроля версий (мы работали в ней).\n",
    "\n",
    "* git pull - обновить измнения в мастер (но в нашем новом проекте еще все без изменений! надо там обновить тоже ) а для этого перейдем в свою новую ветку и сделаем мерж \n",
    "* git checkout new_dir/new_project - перешли в новую ветку что бы ее обновить вмержив мастер...\n",
    "* git merge master\n",
    "\n",
    "\n",
    "\n",
    "\n",
    "\n",
    "\n"
   ]
  },
  {
   "cell_type": "code",
   "execution_count": 4,
   "metadata": {
    "ExecuteTime": {
     "end_time": "2024-06-03T10:24:43.891589Z",
     "start_time": "2024-06-03T10:24:43.882373Z"
    }
   },
   "outputs": [],
   "source": [
    "# !ssh-keygen -t rsa -b 4096\n",
    "# !git clone git@github.com:ПРОЕКТ/ПРОЕКТ.git \n",
    "# !echo .ipynb_checkpoints >> .gitignore \n",
    "# !echo .virtual_documents >> .gitignore \n",
    "# !git status \n",
    "# !git pull \n",
    "# !git log \n",
    "# !git branch \n",
    "# !git branch new_dir/new_project \n",
    "# !git checkout new_dir/new_project\n",
    "# !git status\n",
    "# !git diff \n",
    "# !git add . \n",
    "# !git status\n",
    "# !git commit -m \"First commit\" \n",
    "# !git branch \n",
    "# !git push origin new_dir/new_project \n",
    "# # пароль шмароль... ссылка... переходим на нее (to create merge requests for new_dir/new_project)\n",
    "# # Submit merge request (Assignee - заассаиним типов кто проверит и подтвердит)\n",
    "# # там внесли изменения (команда чтото поменяла но у меня этого в моей ветке проекта нового нет и в главной ветке тоже нет поэтому надо обновить)\n",
    "# !git checkout . - отменить все изменения (те что в git status красным если надо откатить что бы не выводил изменения)\n",
    "# !git checkout master \n",
    "# !git pull \n",
    "# !git checkout new_dir/new_project \n",
    "# !git merge master"
   ]
  },
  {
   "cell_type": "code",
   "execution_count": 6,
   "metadata": {
    "ExecuteTime": {
     "end_time": "2024-06-03T10:26:05.956398Z",
     "start_time": "2024-06-03T10:26:05.951427Z"
    }
   },
   "outputs": [],
   "source": [
    "# !git --version\n",
    "# !git init \n",
    "\n",
    "# token \n",
    "# ghp_V*************JRa\n",
    "# !git config --global user.name \"MedTechAI\"\n",
    "# !git config --global user.email lsb86@yandex.ru\n",
    "\n",
    "#  >> положить в конец в фаил то что в ковычках // > перезатереть\n",
    "# gitignore_files = '''.ipynb_checkpoints/ \n",
    "# '''\n",
    "### !rm .gitignore \n",
    "# !touch .gitignore создать фаил\n",
    "# !echo \".gitignore\" >> .gitignore # положить в конец в фаил то что в ковычках\n",
    "# !echo {gitignore_files} >> .gitignore\n",
    "# !echo .ipynb_checkpoints >> .gitignore \n",
    "# !echo .virtual_documents >> .gitignore \n",
    "# !ls -laF\n",
    "# !cat \".gitignore\""
   ]
  },
  {
   "cell_type": "code",
   "execution_count": 8,
   "metadata": {
    "ExecuteTime": {
     "end_time": "2024-06-03T10:47:44.568608Z",
     "start_time": "2024-06-03T10:47:44.472610Z"
    }
   },
   "outputs": [
    {
     "name": "stdout",
     "output_type": "stream",
     "text": [
      "* main\n"
     ]
    }
   ],
   "source": [
    "!git branch"
   ]
  },
  {
   "cell_type": "markdown",
   "metadata": {
    "ExecuteTime": {
     "end_time": "2024-06-03T10:52:35.500310Z",
     "start_time": "2024-06-03T10:52:35.490310Z"
    }
   },
   "source": [
    "Примечание. Приведённому выше алгоритму объединения веток в VS Code есть альтернатива — использовать команду git merge, в которой можно указать опцию --allow-unrelated-histories, позволяющую объединять ветки с независимой историей.\n",
    "\n",
    "Порядок команд будет следующим:\n",
    "\n",
    "После сделанного push обновляем наш локальный репозиторий, подгрузив данные с удалённого. Для этого используется команда pull:\n",
    "\n",
    "git pull\n",
    "После обновления нам станет доступна удалённая ветка main. Переходим в неё. Для этого используем команду checkout:\n",
    "\n",
    "git checkout <удалённое_имя>/main\n",
    "Например:\n",
    "\n",
    "git checkout SkillfactoryDS/main\n",
    "После смены ветки появится локальная ветка main. Теперь можно объединить две локальные ветки master и main. Ветку master «сливаем» с веткой main. Для этого используем следующую команду:\n",
    "\n",
    "git merge master main --allow-unrelated-histories\n",
    "Осталось только сделать push наших изменений:\n",
    "\n",
    "git push <удалённое_имя>\n",
    "Например:\n",
    "\n",
    "git push SkillfactoryDS\n",
    "Ещё один альтернативный способ синхронизировать две ветки на случай, если предыдущие способы не помогли:\n",
    "\n",
    "Переименовать ветку master в ветку main. Для этого из ветки master запускаем команду в терминале:\n",
    "\n",
    "git branch -m main\n",
    "Подтянуть (pull) текущие файлы (README.md и .gitignore) из удалённой ветви main:\n",
    "\n",
    "git pull <удалённое_имя> main --allow-unrelated-histories\n",
    "Например:\n",
    "\n",
    "git pull SkillfactoryDS main --allow-unrelated-histories\n",
    "Файлы из удалённого репозитория с ветки main подтянулись в локальную ветку. Теперь остаётся только отправить файлы с кодом на удалённый репозиторий:\n",
    "\n",
    "git push <удалённое_имя>\n",
    "Например:\n",
    "\n",
    "git push SkillfactoryDS\n",
    "Дальнейшую работу мы будем вести в ветке main.\n",
    "\n",
    "Кратко: как объединить ветки main и master\n",
    "Теперь в качестве главной ветки на GitHub используется ветка main. Поэтому, если локальный git создаёт по умолчанию ветку master, стоит сразу переименовать её в main и выставить в настройках git, чтобы по умолчанию создавалась ветка main. После этого можно связать локальный и удалённый репозитории и работать с проектом только в ветке main."
   ]
  },
  {
   "cell_type": "markdown",
   "metadata": {
    "ExecuteTime": {
     "end_time": "2024-06-03T11:04:42.442167Z",
     "start_time": "2024-06-03T11:04:42.429135Z"
    }
   },
   "source": [
    "---\n",
    "\n",
    "##### pip freeze \n",
    "\n",
    "<span style=\"font-size:0.6em;\"> [TOC](#mod1) </span>\n",
    "\n",
    "---\n"
   ]
  },
  {
   "cell_type": "markdown",
   "metadata": {
    "ExecuteTime": {
     "end_time": "2024-06-03T11:11:00.466540Z",
     "start_time": "2024-06-03T11:11:00.443507Z"
    }
   },
   "source": [
    "зафиксировать версии библиотеки, которые использовались в проекте.\n",
    "\n",
    "Для этого существует несколько подходов. Мы рассмотрим подход через менеджер пакетов pip.\n",
    "\n",
    "Можно зафиксировать версии через pip командой pip freeze > requirements.txt.\n",
    "\n",
    "В результате выполнения команды в папке проекта появится файл requirements.txt, где будут перечислены все версии библиотек, которые сейчас установлены в окружении.\n",
    "\n",
    "?\n",
    "Как перенести эти версии библиотек на другой компьютер, чтобы наш проект работал на нём?\n",
    "\n",
    "Для этого необходимо использовать команду pip install -r requirements.txt.\n",
    "\n",
    "В результате выполнения этой команды будут установлены все библиотеки и зависимости, которые использовались в нашем проекте.\n",
    "\n",
    "Кроме Conda и pip freeze, существуют более продвинутые способы управления пакетами:\n",
    "\n",
    "Poetry\n",
    "Этот инструмент сейчас набирает популярность, однако мы не будем рассматривать его в этом курсе — при желании вы можете изучить его самостоятельно.\n",
    "\n",
    "Docker Desktop\n",
    "Этот инструмент позволяет полностью изолировать проект (вплоть до операционной системы). О нём мы ещё будем говорить в дальнейшем.\n",
    "\n",
    "\n"
   ]
  },
  {
   "cell_type": "markdown",
   "metadata": {
    "ExecuteTime": {
     "end_time": "2024-06-03T11:12:26.224791Z",
     "start_time": "2024-06-03T11:12:26.215793Z"
    }
   },
   "source": [
    "---\n",
    "\n",
    "#### PYTHON-6.2. Библиотека NumPy\n",
    "\n",
    "<span style=\"font-size:0.8em;\"> [TOC](#mod1) </span>\n",
    "\n",
    "---\n"
   ]
  },
  {
   "cell_type": "markdown",
   "metadata": {
    "ExecuteTime": {
     "end_time": "2024-06-03T12:13:30.693319Z",
     "start_time": "2024-06-03T12:13:30.679069Z"
    }
   },
   "source": [
    "---\n",
    "\n",
    "##### Модуль Collections. Counter и defaultdict\n",
    "\n",
    "<span style=\"font-size:0.8em;\"> [TOC](#mod1) </span>\n",
    "\n",
    "---\n"
   ]
  },
  {
   "cell_type": "code",
   "execution_count": 27,
   "metadata": {
    "ExecuteTime": {
     "end_time": "2024-06-03T12:16:09.322328Z",
     "start_time": "2024-06-03T12:16:09.309270Z"
    }
   },
   "outputs": [
    {
     "ename": "SyntaxError",
     "evalue": "invalid syntax (3496289841.py, line 6)",
     "output_type": "error",
     "traceback": [
      "\u001b[1;36m  File \u001b[1;32m\"C:\\Users\\dadsmldl\\AppData\\Local\\Temp\\ipykernel_14636\\3496289841.py\"\u001b[1;36m, line \u001b[1;32m6\u001b[0m\n\u001b[1;33m    Допустим, вы с другом из другого города решили посчитать количество цветов встреченных на дороге машин. У вас получились такие списки цветов:\u001b[0m\n\u001b[1;37m                                                                                                                                                 ^\u001b[0m\n\u001b[1;31mSyntaxError\u001b[0m\u001b[1;31m:\u001b[0m invalid syntax\n"
     ]
    }
   ],
   "source": [
    "# Импортируем объект Counter из модуля collections\n",
    "from collections import Counter\n",
    "# Создаём пустой объект Counter\n",
    "c = Counter()\n",
    "\n",
    "Допустим, вы с другом из другого города решили посчитать количество цветов встреченных на дороге машин. У вас получились такие списки цветов:\n",
    "cars_moscow = ['black', 'black', 'white', 'black', 'black', 'white', 'yellow', 'yellow', 'yellow']\n",
    "cars_spb = ['red', 'black', 'black', 'white', 'white', 'yellow', 'yellow', 'red', 'white']\n",
    "Получим для них счётчики:\n",
    "counter_moscow = Counter(cars_moscow)\n",
    "counter_spb = Counter(cars_spb)\n",
    "\n",
    "print(counter_moscow)\n",
    "print(counter_spb)\n",
    "\n",
    "# Counter({'black': 4, 'yellow': 3, 'white': 2})\n",
    "# Counter({'white': 3, 'red': 2, 'black': 2, 'yellow': 2})\n",
    "2\n",
    "Чтобы узнать, сколько машин разных цветов встретилось в двух городах, можно сложить два исходных счётчика и получить новый счётчик:\n",
    "print(counter_moscow + counter_spb)\n",
    "# Counter({'black': 6, 'white': 5, 'yellow': 5, 'red': 2})\n",
    "3\n",
    "Чтобы узнать разницу между объектами Counter, необходимо воспользоваться функцией subtract, которая меняет тот объект, к которому применяется. В примере выше из значений, посчитанных для Москвы, вычитаются значения, посчитанные для Санкт-Петербурга:\n",
    "print(counter_moscow)\n",
    "print(counter_spb)\n",
    "# Counter({'black': 4, 'yellow': 3, 'white': 2})\n",
    "# Counter({'white': 3, 'red': 2, 'black': 2, 'yellow': 2})\n",
    "counter_moscow.subtract(counter_spb)\n",
    "print(counter_moscow)\n",
    "# Counter({'black': 2, 'yellow': 1, 'white': -1, 'red': -2})\n",
    "Заметьте, что белых машин в counter_spb оказалось больше, чем в counter_moscow, поэтому разность отрицательная. Красных машин в moscow вообще не было, а в spb их оказалось сразу две, поэтому разница равна -2. Значения для black и yellow остались положительными, потому что их было больше.\n",
    "→ Вычитание с учётом отрицательных чисел удобно использовать для сравнения значений в счётчиках: таким образом можно сразу узнать, каких элементов оказалось больше, а каких — меньше.\n",
    "К сожалению, функцию subtract не всегда бывает удобно использовать для вычитания, так как модифицируется исходный счётчик. Однако аналога у этой функции нет, поскольку вычитание с помощью оператора \"-\" приводит к другому результату:\n",
    "# Пересоздаём счётчики, потому что объект counter_moscow поменял свои значения\n",
    "# после функции subtract.\n",
    "counter_moscow = Counter(cars_moscow)\n",
    "counter_spb = Counter(cars_spb)\n",
    "print(counter_moscow - counter_spb)\n",
    "# Counter({'black': 2, 'yellow': 1})\n",
    "В данном случае нет значений меньше 1, поэтому нет данных о разнице в числе белых и красных машин. Иногда важно получить именно полные данные, а не только положительные значения разности.\n",
    "Функция subtract может пригодиться, чтобы сравнить активность продаж различных позиций в двух торговых точках: здесь важно узнать не только те позиции, которые продавались активнее, но и те позиции, которые, наоборот, оказались менее популярными в первой точке по сравнению со второй.\n",
    "Дополнительные функции\n",
    "1\n",
    "Чтобы получить список всех элементов, которые содержатся в Counter, используется функция elements(). Она возвращает итератор, поэтому, чтобы напечатать все элементы, распакуем их с помощью *:\n",
    "print(*counter_moscow.elements())\n",
    "# black black black black white white yellow yellow yellow\n",
    "Обратите внимание, что элементы возвращаются в порядке появления уникальных элементов. Например, элемент “black” встречается в списке cars_moscow первым, элемент “white” вторым, а элемент “yellow” третьим. Соответственно, в этом же порядке будут выведены элементы Counter().\n",
    "2\n",
    " Чтобы получить список уникальных элементов, достаточно воспользоваться функцией list():\n",
    "print(list(counter_moscow))\n",
    "# ['black', 'white', 'yellow']\n",
    "3\n",
    "С помощью функции dict() можно превратить Counter в обычный словарь:\n",
    "print(dict(counter_moscow))\n",
    "# {'black': 4, 'white': 2, 'yellow': 3}\n",
    "4\n",
    "Функция most_common() позволяет получить список из кортежей элементов в порядке убывания их встречаемости:\n",
    "print(counter_moscow.most_common())\n",
    "# [('black', 4), ('yellow', 3), ('white', 2)]\n",
    "В неё также можно передать значение, которое задаёт желаемое число первых наиболее частых элементов, например, 2:\n",
    "print(counter_moscow.most_common(2))\n",
    "# [('black', 4), ('yellow', 3)]\n",
    "# 5\n",
    "# Наконец, функция clear() позволяет полностью обнулить счётчик:\n",
    "# counter_moscow.clear()\n",
    "print(counter_moscow)\n",
    "# Counter()"
   ]
  },
  {
   "cell_type": "code",
   "execution_count": 37,
   "metadata": {
    "ExecuteTime": {
     "end_time": "2024-06-03T12:26:39.146242Z",
     "start_time": "2024-06-03T12:26:39.116232Z"
    },
    "collapsed": true
   },
   "outputs": [
    {
     "data": {
      "text/plain": [
       "(300,\n",
       " [953421196,\n",
       "  953421161,\n",
       "  953421142,\n",
       "  953421186,\n",
       "  953421181,\n",
       "  953421144,\n",
       "  953421190,\n",
       "  953421184,\n",
       "  953421141,\n",
       "  953421193,\n",
       "  953421129,\n",
       "  953421158,\n",
       "  953421130,\n",
       "  953421177,\n",
       "  953421181,\n",
       "  953421136,\n",
       "  953421160,\n",
       "  953421184,\n",
       "  953421146,\n",
       "  953421175,\n",
       "  953421110,\n",
       "  953421139,\n",
       "  953421100,\n",
       "  953421116,\n",
       "  953421130,\n",
       "  953421179,\n",
       "  953421181,\n",
       "  953421136,\n",
       "  953421174,\n",
       "  953421167,\n",
       "  953421132,\n",
       "  953421195,\n",
       "  953421145,\n",
       "  953421108,\n",
       "  953421143,\n",
       "  953421133,\n",
       "  953421180,\n",
       "  953421149,\n",
       "  953421135,\n",
       "  953421195,\n",
       "  953421143,\n",
       "  953421131,\n",
       "  953421157,\n",
       "  953421189,\n",
       "  953421128,\n",
       "  953421132,\n",
       "  953421127,\n",
       "  953421151,\n",
       "  953421197,\n",
       "  953421160,\n",
       "  953421112,\n",
       "  953421155,\n",
       "  953421182,\n",
       "  953421168,\n",
       "  953421131,\n",
       "  953421156,\n",
       "  953421113,\n",
       "  953421102,\n",
       "  953421113,\n",
       "  953421192,\n",
       "  953421142,\n",
       "  953421105,\n",
       "  953421165,\n",
       "  953421175,\n",
       "  953421102,\n",
       "  953421195,\n",
       "  953421154,\n",
       "  953421165,\n",
       "  953421141,\n",
       "  953421166,\n",
       "  953421126,\n",
       "  953421143,\n",
       "  953421165,\n",
       "  953421150,\n",
       "  953421187,\n",
       "  953421129,\n",
       "  953421176,\n",
       "  953421169,\n",
       "  953421109,\n",
       "  953421177,\n",
       "  953421109,\n",
       "  953421150,\n",
       "  953421136,\n",
       "  953421140,\n",
       "  953421189,\n",
       "  953421198,\n",
       "  953421186,\n",
       "  953421159,\n",
       "  953421184,\n",
       "  953421182,\n",
       "  953421133,\n",
       "  953421103,\n",
       "  953421186,\n",
       "  953421132,\n",
       "  953421121,\n",
       "  953421107,\n",
       "  953421138,\n",
       "  953421190,\n",
       "  953421113,\n",
       "  953421161,\n",
       "  953421154,\n",
       "  953421161,\n",
       "  953421107,\n",
       "  953421113,\n",
       "  953421180,\n",
       "  953421191,\n",
       "  953421178,\n",
       "  953421116,\n",
       "  953421102,\n",
       "  953421167,\n",
       "  953421191,\n",
       "  953421187,\n",
       "  953421182,\n",
       "  953421118,\n",
       "  953421122,\n",
       "  953421157,\n",
       "  953421195,\n",
       "  953421141,\n",
       "  953421116,\n",
       "  953421176,\n",
       "  953421194,\n",
       "  953421163,\n",
       "  953421116,\n",
       "  953421197,\n",
       "  953421189,\n",
       "  953421177,\n",
       "  953421133,\n",
       "  953421138,\n",
       "  953421101,\n",
       "  953421116,\n",
       "  953421128,\n",
       "  953421104,\n",
       "  953421165,\n",
       "  953421113,\n",
       "  953421135,\n",
       "  953421150,\n",
       "  953421165,\n",
       "  953421154,\n",
       "  953421165,\n",
       "  953421161,\n",
       "  953421188,\n",
       "  953421177,\n",
       "  953421189,\n",
       "  953421128,\n",
       "  953421116,\n",
       "  953421177,\n",
       "  953421147,\n",
       "  953421152,\n",
       "  953421175,\n",
       "  953421151,\n",
       "  953421183,\n",
       "  953421195,\n",
       "  953421142,\n",
       "  953421132,\n",
       "  953421148,\n",
       "  953421112,\n",
       "  953421111,\n",
       "  953421121,\n",
       "  953421125,\n",
       "  953421171,\n",
       "  953421169,\n",
       "  953421127,\n",
       "  953421191,\n",
       "  953421194,\n",
       "  953421114,\n",
       "  953421112,\n",
       "  953421142,\n",
       "  953421144,\n",
       "  953421176,\n",
       "  953421120,\n",
       "  953421134,\n",
       "  953421183,\n",
       "  953421140,\n",
       "  953421144,\n",
       "  953421172,\n",
       "  953421189,\n",
       "  953421143,\n",
       "  953421188,\n",
       "  953421176,\n",
       "  953421142,\n",
       "  953421117,\n",
       "  953421140,\n",
       "  953421155,\n",
       "  953421158,\n",
       "  953421131,\n",
       "  953421187,\n",
       "  953421156,\n",
       "  953421120,\n",
       "  953421118,\n",
       "  953421184,\n",
       "  953421171,\n",
       "  953421186,\n",
       "  953421115,\n",
       "  953421101,\n",
       "  953421124,\n",
       "  953421151,\n",
       "  953421153,\n",
       "  953421141,\n",
       "  953421156,\n",
       "  953421144,\n",
       "  953421135,\n",
       "  953421109,\n",
       "  953421177,\n",
       "  953421144,\n",
       "  953421109,\n",
       "  953421148,\n",
       "  953421144,\n",
       "  953421111,\n",
       "  953421161,\n",
       "  953421133,\n",
       "  953421144,\n",
       "  953421118,\n",
       "  953421137,\n",
       "  953421182,\n",
       "  953421111,\n",
       "  953421178,\n",
       "  953421100,\n",
       "  953421160,\n",
       "  953421175,\n",
       "  953421171,\n",
       "  953421149,\n",
       "  953421156,\n",
       "  953421187,\n",
       "  953421198,\n",
       "  953421117,\n",
       "  953421100,\n",
       "  953421167,\n",
       "  953421118,\n",
       "  953421136,\n",
       "  953421101,\n",
       "  953421163,\n",
       "  953421133,\n",
       "  953421133,\n",
       "  953421136,\n",
       "  953421116,\n",
       "  953421141,\n",
       "  953421163,\n",
       "  953421152,\n",
       "  953421193,\n",
       "  953421197,\n",
       "  953421142,\n",
       "  953421172,\n",
       "  953421152,\n",
       "  953421190,\n",
       "  953421193,\n",
       "  953421102,\n",
       "  953421149,\n",
       "  953421117,\n",
       "  953421160,\n",
       "  953421161,\n",
       "  953421147,\n",
       "  953421170,\n",
       "  953421161,\n",
       "  953421147,\n",
       "  953421172,\n",
       "  953421174,\n",
       "  953421168,\n",
       "  953421121,\n",
       "  953421190,\n",
       "  953421162,\n",
       "  953421173,\n",
       "  953421110,\n",
       "  953421111,\n",
       "  953421154,\n",
       "  953421157,\n",
       "  953421161,\n",
       "  953421179,\n",
       "  953421191,\n",
       "  953421155,\n",
       "  953421139,\n",
       "  953421180,\n",
       "  953421189,\n",
       "  953421155,\n",
       "  953421109,\n",
       "  953421169,\n",
       "  953421174,\n",
       "  953421192,\n",
       "  953421104,\n",
       "  953421116,\n",
       "  953421112,\n",
       "  953421151,\n",
       "  953421169,\n",
       "  953421149,\n",
       "  953421176,\n",
       "  953421102,\n",
       "  953421136,\n",
       "  953421146,\n",
       "  953421152,\n",
       "  953421146,\n",
       "  953421152,\n",
       "  953421116,\n",
       "  953421108,\n",
       "  953421183,\n",
       "  953421128,\n",
       "  953421150,\n",
       "  953421158,\n",
       "  953421194,\n",
       "  953421136,\n",
       "  953421104,\n",
       "  953421139])"
      ]
     },
     "execution_count": 37,
     "metadata": {},
     "output_type": "execute_result"
    }
   ],
   "source": [
    "# from hidden import *\n",
    "# В тренировочном редакторе кода импортируйте список clients из скрытого модуля hidden. В этом списке содержатся номера карт, которыми клиенты оплачивали товары на протяжении некоторого промежутка времени. Выберите номер карты наиболее частого клиента и впишите этот номер в качестве ответа.\n",
    "\n",
    "clients = [953421196, 953421161, 953421142, 953421186, 953421181, 953421144, 953421190, 953421184, 953421141, 953421193, 953421129, 953421158, 953421130, 953421177, 953421181, 953421136, 953421160, 953421184, 953421146, 953421175, 953421110, 953421139, 953421100, 953421116, 953421130, 953421179, 953421181, 953421136, 953421174, 953421167, 953421132, 953421195, 953421145, 953421108, 953421143, 953421133, 953421180, 953421149, 953421135, 953421195, 953421143, 953421131, 953421157, 953421189, 953421128, 953421132, 953421127, 953421151, 953421197, 953421160, 953421112, 953421155, 953421182, 953421168, 953421131, 953421156, 953421113, 953421102, 953421113, 953421192, 953421142, 953421105, 953421165, 953421175, 953421102, 953421195, 953421154, 953421165, 953421141, 953421166, 953421126, 953421143, 953421165, 953421150, 953421187, 953421129, 953421176, 953421169, 953421109, 953421177, 953421109, 953421150, 953421136, 953421140, 953421189, 953421198, 953421186, 953421159, 953421184, 953421182, 953421133, 953421103, 953421186, 953421132, 953421121, 953421107, 953421138, 953421190, 953421113, 953421161, 953421154, 953421161, 953421107, 953421113, 953421180, 953421191, 953421178, 953421116, 953421102, 953421167, 953421191, 953421187, 953421182, 953421118, 953421122, 953421157, 953421195, 953421141, 953421116, 953421176, 953421194, 953421163, 953421116, 953421197, 953421189, 953421177, 953421133, 953421138, 953421101, 953421116, 953421128, 953421104, 953421165, 953421113, 953421135, 953421150, 953421165, 953421154, 953421165, 953421161, 953421188, 953421177, 953421189, 953421128, 953421116, 953421177, 953421147, 953421152, 953421175, 953421151, 953421183, 953421195, 953421142, 953421132, 953421148, 953421112, 953421111, 953421121, 953421125, 953421171, 953421169, 953421127, 953421191, 953421194, 953421114, 953421112, 953421142, 953421144, 953421176, 953421120, 953421134, 953421183, 953421140, 953421144, 953421172, 953421189, 953421143, 953421188, 953421176, 953421142, 953421117, 953421140, 953421155, 953421158, 953421131, 953421187, 953421156, 953421120, 953421118, 953421184, 953421171, 953421186, 953421115, 953421101, 953421124, 953421151, 953421153, 953421141, 953421156, 953421144, 953421135, 953421109, 953421177, 953421144, 953421109, 953421148, 953421144, 953421111, 953421161, 953421133, 953421144, 953421118, 953421137, 953421182, 953421111, 953421178, 953421100, 953421160, 953421175, 953421171, 953421149, 953421156, 953421187, 953421198, 953421117, 953421100, 953421167, 953421118, 953421136, 953421101, 953421163, 953421133, 953421133, 953421136, 953421116, 953421141, 953421163, 953421152, 953421193, 953421197, 953421142, 953421172, 953421152, 953421190, 953421193, 953421102, 953421149, 953421117, 953421160, 953421161, 953421147, 953421170, 953421161, 953421147, 953421172, 953421174, 953421168, 953421121, 953421190, 953421162, 953421173, 953421110, 953421111, 953421154, 953421157, 953421161, 953421179, 953421191, 953421155, 953421139, 953421180, 953421189, 953421155, 953421109, 953421169, 953421174, 953421192, 953421104, 953421116, 953421112, 953421151, 953421169, 953421149, 953421176, 953421102, 953421136, 953421146, 953421152, 953421146, 953421152, 953421116, 953421108, 953421183, 953421128, 953421150, 953421158, 953421194, 953421136, 953421104, 953421139] \n",
    "len(clients), clients"
   ]
  },
  {
   "cell_type": "code",
   "execution_count": 36,
   "metadata": {
    "ExecuteTime": {
     "end_time": "2024-06-03T12:25:30.426999Z",
     "start_time": "2024-06-03T12:25:30.417978Z"
    }
   },
   "outputs": [
    {
     "data": {
      "text/plain": [
       "[(953421116, 9), (953421161, 8), (953421144, 7)]"
      ]
     },
     "execution_count": 36,
     "metadata": {},
     "output_type": "execute_result"
    }
   ],
   "source": [
    "Counter(clients).most_common(3) \n",
    "# 9"
   ]
  },
  {
   "cell_type": "code",
   "execution_count": 44,
   "metadata": {
    "ExecuteTime": {
     "end_time": "2024-06-03T12:29:04.102010Z",
     "start_time": "2024-06-03T12:29:04.090935Z"
    }
   },
   "outputs": [
    {
     "data": {
      "text/plain": [
       "(0, 5)"
      ]
     },
     "execution_count": 44,
     "metadata": {},
     "output_type": "execute_result"
    }
   ],
   "source": [
    "# Сколько раз был в магазине покупатель с картой под номером 953421102?\n",
    "Counter(clients)['953421102'], Counter(clients)[953421102]\n",
    "# ОШИБКУ не выдал в Counter(clients)['953421102']! "
   ]
  },
  {
   "cell_type": "code",
   "execution_count": 50,
   "metadata": {
    "ExecuteTime": {
     "end_time": "2024-06-03T12:30:51.957596Z",
     "start_time": "2024-06-03T12:30:51.938596Z"
    }
   },
   "outputs": [
    {
     "data": {
      "text/plain": [
       "(94, 94)"
      ]
     },
     "execution_count": 50,
     "metadata": {},
     "output_type": "execute_result"
    }
   ],
   "source": [
    "# Сколько уникальных номеров карт содержит список clients?\n",
    "len(list(Counter(clients))), len(set(Counter(clients)))"
   ]
  },
  {
   "cell_type": "markdown",
   "metadata": {
    "ExecuteTime": {
     "end_time": "2024-06-03T12:32:35.512606Z",
     "start_time": "2024-06-03T12:32:35.492230Z"
    }
   },
   "source": [
    "Defaultdict\n",
    "\n",
    "Возможно, вы уже сталкивались с задачей, когда необходимо было создать словарь, в котором по ключам расположены списки. Например, у нас есть список из кортежей с фамилиями студентов и их учебными группами:\n",
    "\n",
    "students = [('Ivanov',1),('Smirnov',4),('Petrov',3),('Kuznetsova',1),\n",
    "            ('Nikitina',2),('Markov',3),('Pavlov',2)]\n",
    "Сохраним эти данные в словаре, в котором ключами будут номера групп, а элементами — списки студентов. Сделать это можно следующим образом:\n",
    "\n",
    "groups = dict()\n",
    " \n",
    "for student, group in students:\n",
    "     Проверяем, есть ли уже эта группа в словаре\n",
    "    if group not in groups:\n",
    "         Если группы ещё нет в словаре, создаём для неё пустой список\n",
    "        groups[group] = list()\n",
    "    groups[group].append(student)\n",
    " \n",
    "print(groups)\n",
    " {1: ['Ivanov', 'Kuznetsova'], 4: ['Smirnov'], 3: ['Petrov', 'Markov'], 2: ['Nikitina', 'Pavlov']}\n",
    "В данном коде в цикле for происходит распаковка кортежа: в переменные цикла student и group попадают первый и второй элементы кортежей из списка students. То есть на первой итерации цикла в переменной student содержится строка 'Ivanov', а в переменной group — целое число 1. На второй итерации цикла в переменной student содержится строка 'Smirnov', а в переменной group — целое число 4. И так далее.\n",
    "\n",
    "Обратите внимание, что для решения этой задачи нам потребовался шаг с проверкой наличия номера группы в словаре. Если номера группы не было, для этой группы мы создавали новый список в словаре. Без шага проверки мы бы натолкнулись на KeyError:\n",
    "\n",
    "groups = dict()\n",
    " \n",
    "for student, group in students:\n",
    "    groups[group].append(student)\n",
    " \n",
    "print(groups)\n",
    " KeyError: 1\n",
    "Данная ошибка означает, что ключа 1 нет в словаре.\n",
    "\n",
    "?\n",
    "Можно ли было сделать проще? Да!\n",
    "\n",
    "Для этого существует объект defaultdict из модуля collections. Он позволяет задавать тот тип данных, который хранится в словаре по умолчанию (в нашем случае это должен быть список). Это бывает удобно в том случае, если приходится заполнять одну и ту же структуру данных, экземпляр которой должен храниться по каждому ключу в словаре.\n",
    "\n",
    "Например, чтобы сохранить информацию о колебании курсов валют за последний месяц, можно создать словарь из валютных пар (USD/RUB, EUR/RUB и т. д.), а по ключам разместить списки из стоимости валюты по курсу ЦБ за последние 30 дней. В таком словаре по каждому ключу должен быть доступен список.\n",
    "\n",
    "Создадим defaultdict, в котором при обращении по несуществующему ключу будет автоматически создаваться новый список. Для этого при создании объекта defaultdict в круглых скобках передадим параметр list:\n",
    "\n",
    "from collections import defaultdict\n",
    "groups = defaultdict(list)\n",
    "Обратите внимание, что в скобках мы передаём именно указатель на класс объекта (например list; также можно было бы применить set, dict) без круглых скобок, которые используются для создания нового экземпляра объекта.\n",
    "\n",
    "Теперь тот же код, который вызывал ошибку при работе с обычным словарём, сработает так, как ожидается:\n",
    "\n",
    "for student, group in students:\n",
    "    groups[group].append(student)\n",
    " \n",
    "print(groups)\n",
    " defaultdict(<class 'list'>, {1: ['Ivanov', 'Kuznetsova'], 4: ['Smirnov'], 3: ['Petrov', 'Markov'], 2: ['Nikitina', 'Pavlov']})\n",
    "В выводе есть небольшое отличие от обычного словаря: печатаются не только элементы словаря, но и само название объекта defaultdict, а также класс объекта, который задан по умолчанию. В данном случае это <class 'list'>. \n",
    "\n",
    "Получить элемент из defaultdict по ключу можно так же, как и из обычного словаря:\n",
    "\n",
    "print(groups[3])\n",
    " ['Petrov', 'Markov']\n",
    "Если запрашиваемого ключа нет в словаре, KeyError не возникнет. Вместо этого будет напечатан пустой элемент, который создаётся в словаре по умолчанию:\n",
    "\n",
    "print(groups[2021])\n",
    " []\n",
    "Теперь в словаре groups автоматически появился элемент 2021 с пустым списком внутри, несмотря на то что мы его не создавали:\n",
    "\n",
    "print(groups)\n",
    " defaultdict(<class 'list'>, {1: ['Ivanov', 'Kuznetsova'], 4: ['Smirnov'], 3: ['Petrov', 'Markov'], 2: ['Nikitina', 'Pavlov'], 2021: []})\n",
    "Итак, вы обратили внимание, что поведение defaultdict в коде отличается от обычного словаря dict. Узнать, с каким именно словарём мы имеем дело в коде, можно с помощью встроенной функции type:\n",
    "\n",
    "dict_object = dict()\n",
    "defaultdict_object = defaultdict()\n",
    " \n",
    "print(type(dict_object))\n",
    " <class 'dict'>\n",
    "print(type(defaultdict_object))\n",
    " <class 'collections.defaultdict'>\n",
    "Видно, что типы переменных dict_object и defaultdict_object отличаются.\n",
    "\n",
    "print(dict_object)\n",
    " {}\n",
    "print(defaultdict_object)\n",
    " defaultdict(None, {})\n",
    "Заметьте, что в этом примере мы не задавали объект, который по умолчанию хранится в экземпляре defaultdict, поэтому объектом по умолчанию является None."
   ]
  },
  {
   "cell_type": "code",
   "execution_count": 67,
   "metadata": {
    "ExecuteTime": {
     "end_time": "2024-06-03T13:24:21.766064Z",
     "start_time": "2024-06-03T13:24:21.756068Z"
    }
   },
   "outputs": [
    {
     "data": {
      "text/plain": [
       "OrderedDict([('2001', -2.5), ('2000', -4.4), ('2002', -4.4), ('2003', -9.5)])"
      ]
     },
     "execution_count": 67,
     "metadata": {},
     "output_type": "execute_result"
    }
   ],
   "source": [
    "# Дан список из кортежей temps. На первом месте в кортеже указан год в виде строки, а на втором — средняя температура января в Петербурге в указанном году.\n",
    "# Напишите функцию check(temps), которая будет выводить словарь, в котором ключи — годы, а значения — показатели температуры. Ключи необходимо отсортировать в порядке убывания соответствующих им температур.\n",
    "# Пример списка temps:\n",
    "temps = [('2000', -4.4), ('2001', -2.5), ('2002', -4.4), ('2003', -9.5)]\n",
    "# Пример вывода:\n",
    "# OrderedDict([('2001', -2.5), ('2000', -4.4), ('2002', -4.4), ('2003', -9.5)])\n",
    "def check(temps):\n",
    "    return OrderedDict(sorted(temps, key=lambda x: x[1], reverse=True))\n",
    "check(temps)"
   ]
  },
  {
   "cell_type": "code",
   "execution_count": 73,
   "metadata": {
    "ExecuteTime": {
     "end_time": "2024-06-03T13:36:02.803970Z",
     "start_time": "2024-06-03T13:36:02.787552Z"
    }
   },
   "outputs": [
    {
     "name": "stdout",
     "output_type": "stream",
     "text": [
      "deque([6, 18, 4, 7, 8, 8, 5, 18, 12, 17, 13, 15, 6, 7, 9, 17, 18, 8, 4, 11, 10, 8, 2, 10, 6, 10, 10, 9])\n",
      "6 18\n"
     ]
    }
   ],
   "source": [
    "# Извлеките элемент из начала очереди. Запишите полученное значение элемента в качестве ответа.\n",
    "\n",
    "from collections import deque\n",
    "\n",
    "users = [6, 18, 4, 7, 8, 8, 5, 18, 12, 17, 13, 15, 6, 7, 9, 17, 18, 8, 4, 11, 10, 8, 2, 10, 6, 10, 10, 9]\n",
    "client = deque()\n",
    "client.extend(users)\n",
    "p( client )\n",
    "\n",
    "first_client = client.popleft()\n",
    "second_client = client.popleft()\n",
    "p(first_client, second_client)"
   ]
  },
  {
   "cell_type": "code",
   "execution_count": 98,
   "metadata": {
    "ExecuteTime": {
     "end_time": "2024-06-03T13:47:31.929477Z",
     "start_time": "2024-06-03T13:47:31.917448Z"
    }
   },
   "outputs": [
    {
     "name": "stdout",
     "output_type": "stream",
     "text": [
      "deque([5, 18, 12, 17, 13, 15, 6, 7, 9, 17, 18, 8, 4, 11, 10, 8, 2, 10, 6, 10, 10, 9, 18, 4, 7, 8]) 8\n"
     ]
    }
   ],
   "source": [
    "# В уже модифицированной очереди переместите пять элементов из начала очереди в её конец. Извлеките последний элемент из очереди. Запишите полученное число в качестве ответа.\n",
    "users = [6, 18, 4, 7, 8, 8, 5, 18, 12, 17, 13, 15, 6, 7, 9, 17, 18, 8, 4, 11, 10, 8, 2, 10, 6, 10, 10, 9]\n",
    "client = deque(users)\n",
    "first_client = client.popleft()\n",
    "client.rotate(-5)\n",
    "extr = client.pop()\n",
    "p( client, extr )"
   ]
  },
  {
   "cell_type": "code",
   "execution_count": 100,
   "metadata": {
    "ExecuteTime": {
     "end_time": "2024-06-03T13:49:17.659416Z",
     "start_time": "2024-06-03T13:49:17.654406Z"
    }
   },
   "outputs": [
    {
     "data": {
      "text/plain": [
       "3"
      ]
     },
     "execution_count": 100,
     "metadata": {},
     "output_type": "execute_result"
    }
   ],
   "source": [
    "# Сколько задач с тем номером, что был извлечён в предыдущем задании, осталось в модифицированной очереди? Запишите ответ в числовой форме.\n",
    "q37 = client.count(extr)\n",
    "q37"
   ]
  },
  {
   "cell_type": "code",
   "execution_count": 183,
   "metadata": {
    "ExecuteTime": {
     "end_time": "2024-06-03T14:47:16.692794Z",
     "start_time": "2024-06-03T14:47:16.672797Z"
    },
    "scrolled": true
   },
   "outputs": [
    {
     "name": "stdout",
     "output_type": "stream",
     "text": [
      "True\n",
      "True\n",
      "False\n"
     ]
    }
   ],
   "source": [
    "# Напишите функцию brackets(line), которая определяет, является ли последовательность из круглых скобок line правильной.\n",
    "# Примечание 1. Какая последовательность скобок правильная?\n",
    "# Правильной скобочной последовательностью назовём такую последовательность скобок, в которой для каждой открывающей скобки есть последующая соответствующая ей закрывающая скобка. Соответственно, остальные скобочные последовательности назовём неправильными. Пустую строку будем считать правильной последовательностью.\n",
    "# Примечание 2.Для решения этой задачи потребуется использовать стек.\n",
    "# Посимвольно переберите строку. Если встретилась открывающаяся скобка, положите её в стек. Если встретилась закрывающаяся скобка, извлеките скобку из стека.\n",
    "# Если стек пустой, то есть извлечь скобку нельзя, последовательность неправильная.\n",
    "# Если строка закончилась и стек стал пустым, последовательность правильная.\n",
    "# Если в стеке остались скобки, последовательность неправильная.\n",
    "\n",
    "def brackets(line):\n",
    "    stak = deque()\n",
    "    for i in line:\n",
    "        if i == '(':\n",
    "            stak.append(i)\n",
    "        elif i == ')':\n",
    "            if len(stak) == 0 or stak[-1] != '(':\n",
    "                return False\n",
    "            stak.popleft()\n",
    "    if len(stak) == 0:\n",
    "        return True\n",
    "    else:\n",
    "        return False\n",
    "        \n",
    "        \n",
    "print(brackets(\"(()( ))\"))\n",
    "# True\n",
    "print(brackets(\"\"))\n",
    "# True\n",
    "print(brackets(\"(()()))\"))\n",
    "# False )(\n"
   ]
  },
  {
   "cell_type": "code",
   "execution_count": 295,
   "metadata": {
    "ExecuteTime": {
     "end_time": "2024-06-03T16:23:44.703747Z",
     "start_time": "2024-06-03T16:23:44.658750Z"
    }
   },
   "outputs": [
    {
     "name": "stdout",
     "output_type": "stream",
     "text": [
      "<class 'list'> <class 'list'> <class 'list'>\n",
      "100 50 50\n",
      "[['Cola', 'Meat', 'Cheese', 'Yoghurt', 'Beer', 'Milk', 'Milk', 'Meat', 'Cola', 'Cola', 'Cheese', 'Beer', 'Yoghurt', 'Beer', 'Bread', 'Bread', 'Milk', 'Cheese', 'Chocolate'], ['Soap', 'Milk', 'Cola'], ['Milk', 'Bread', 'Yoghurt', 'Meat', 'Meat'], ['Bread', 'Milk', 'Beer'], ['Beer'], ['Chocolate', 'Meat', 'Chocolate', 'Cola', 'Cola', 'Cola', 'Cola', 'Yoghurt', 'Bread', 'Meat', 'Soap', 'Soap', 'Milk', 'Milk', 'Cola'], ['Beer', 'Beer', 'Meat', 'Chips', 'Bread', 'Bread', 'Bread', 'Bread', 'Milk', 'Cola', 'Chocolate', 'Bread', 'Beer', 'Chips', 'Bread', 'Bread', 'Yoghurt'], ['Chips', 'Milk', 'Soap'], ['Meat', 'Beer', 'Milk', 'Chocolate', 'Bread', 'Yoghurt'], ['Chips', 'Meat', 'Chocolate', 'Bread', 'Cola', 'Cola', 'Chocolate', 'Meat', 'Yoghurt', 'Milk'], ['Bread', 'Soap', 'Bread', 'Meat', 'Beer', 'Yoghurt', 'Milk', 'Cola', 'Bread', 'Ketchup'], ['Meat', 'Milk'], ['Meat', 'Beer', 'Yoghurt'], ['Cola', 'Bread', 'Cola', 'Chocolate', 'Chips', 'Meat', 'Cheese'], ['Milk', 'Milk', 'Cheese', 'Meat'], ['Chips', 'Yoghurt', 'Cheese', 'Soap', 'Ketchup', 'Cheese', 'Soap', 'Beer', 'Ketchup', 'Ketchup', 'Milk', 'Bread', 'Bread', 'Beer'], ['Meat'], ['Ketchup', 'Bread', 'Beer', 'Milk', 'Bread', 'Meat', 'Ketchup', 'Cheese'], ['Meat', 'Chips', 'Bread', 'Meat', 'Milk', 'Soap', 'Chocolate', 'Meat', 'Chocolate', 'Chocolate', 'Bread', 'Cheese', 'Soap', 'Cola', 'Yoghurt'], ['Cheese', 'Milk', 'Bread', 'Milk', 'Chips', 'Chips', 'Meat', 'Beer', 'Chocolate', 'Chocolate'], ['Ketchup', 'Beer', 'Cheese', 'Cola'], ['Chocolate', 'Cheese', 'Bread'], ['Milk', 'Yoghurt', 'Ketchup', 'Beer', 'Meat', 'Chips', 'Yoghurt', 'Meat', 'Bread', 'Chips'], ['Yoghurt', 'Milk', 'Ketchup', 'Yoghurt', 'Beer', 'Cheese', 'Bread', 'Bread', 'Ketchup', 'Bread', 'Bread', 'Yoghurt', 'Meat'], ['Soap', 'Meat', 'Bread', 'Beer', 'Milk'], ['Beer', 'Cola', 'Beer', 'Meat', 'Meat', 'Cheese', 'Meat', 'Chocolate', 'Bread', 'Ketchup', 'Milk', 'Soap'], ['Cheese', 'Chocolate', 'Milk', 'Chocolate', 'Cola', 'Bread', 'Chips', 'Cheese', 'Soap', 'Ketchup', 'Cheese', 'Chips', 'Cheese', 'Cola', 'Chocolate', 'Beer'], ['Bread', 'Bread', 'Cola', 'Ketchup', 'Cola', 'Bread', 'Meat', 'Yoghurt', 'Milk', 'Beer', 'Beer', 'Cheese', 'Meat', 'Bread', 'Cheese', 'Meat', 'Chocolate'], ['Chocolate', 'Soap', 'Chips', 'Beer', 'Bread', 'Yoghurt', 'Chips', 'Chocolate', 'Beer', 'Cheese', 'Cola', 'Milk', 'Chips', 'Milk', 'Ketchup', 'Cola', 'Meat', 'Beer', 'Cheese', 'Yoghurt'], ['Soap'], ['Meat', 'Beer', 'Milk', 'Bread', 'Beer', 'Cheese', 'Chocolate', 'Beer', 'Beer', 'Milk', 'Beer', 'Bread', 'Meat', 'Beer', 'Chocolate', 'Beer', 'Soap', 'Chips', 'Cola'], ['Cola', 'Beer', 'Meat', 'Chips', 'Soap', 'Cola', 'Bread', 'Cola', 'Bread', 'Chips', 'Ketchup', 'Ketchup', 'Beer', 'Ketchup', 'Cola', 'Milk', 'Cheese'], ['Cheese', 'Milk', 'Chips', 'Bread', 'Yoghurt', 'Soap', 'Beer', 'Chips', 'Ketchup', 'Chips', 'Beer', 'Yoghurt', 'Cola', 'Cheese', 'Chocolate', 'Beer'], ['Meat', 'Bread', 'Meat', 'Bread'], ['Cola', 'Beer', 'Yoghurt'], ['Beer', 'Bread', 'Beer', 'Meat', 'Bread', 'Milk', 'Soap', 'Milk', 'Chocolate', 'Meat', 'Meat', 'Meat', 'Chips', 'Chocolate', 'Meat'], ['Beer', 'Cola', 'Chocolate', 'Bread', 'Cheese', 'Cheese'], ['Milk', 'Chips', 'Cola', 'Milk', 'Bread', 'Bread', 'Beer', 'Milk', 'Cola', 'Chocolate', 'Chocolate', 'Meat', 'Cola', 'Cola', 'Beer', 'Cola', 'Chocolate', 'Bread', 'Bread', 'Cola'], ['Chocolate', 'Chocolate', 'Beer', 'Beer', 'Bread', 'Yoghurt', 'Meat', 'Cola', 'Yoghurt'], ['Ketchup', 'Cola', 'Ketchup', 'Yoghurt', 'Chips', 'Soap', 'Soap', 'Chocolate', 'Chocolate', 'Bread', 'Beer', 'Meat'], ['Bread', 'Meat', 'Soap', 'Cola', 'Bread', 'Cola', 'Yoghurt', 'Meat', 'Bread', 'Cola', 'Cola', 'Ketchup', 'Beer', 'Bread', 'Milk', 'Yoghurt', 'Meat'], ['Chocolate', 'Yoghurt', 'Bread'], ['Meat', 'Bread', 'Bread', 'Bread'], ['Beer', 'Milk', 'Cola', 'Ketchup', 'Cola', 'Cheese', 'Meat', 'Chocolate'], ['Soap', 'Beer', 'Chocolate', 'Chocolate', 'Cola', 'Cola', 'Yoghurt', 'Ketchup', 'Milk'], ['Meat', 'Yoghurt', 'Bread', 'Ketchup', 'Ketchup', 'Milk', 'Meat'], ['Ketchup', 'Soap', 'Chips', 'Ketchup', 'Bread', 'Chocolate', 'Milk', 'Bread', 'Bread', 'Ketchup', 'Cola', 'Meat', 'Milk', 'Bread', 'Cola'], ['Meat', 'Beer', 'Yoghurt', 'Chips', 'Beer', 'Meat', 'Cola', 'Beer', 'Meat', 'Ketchup', 'Milk', 'Cola', 'Yoghurt', 'Beer', 'Meat', 'Bread', 'Bread'], ['Meat', 'Soap', 'Cheese', 'Ketchup', 'Cola', 'Cola', 'Bread', 'Chips', 'Meat', 'Cola', 'Bread', 'Beer', 'Beer', 'Beer'], ['Meat', 'Yoghurt', 'Bread', 'Milk', 'Beer', 'Beer'], ['Milk', 'Milk', 'Beer'], ['Chocolate', 'Bread', 'Chips'], ['Cola', 'Cola', 'Yoghurt', 'Soap', 'Beer', 'Chips', 'Milk'], ['Soap', 'Soap', 'Cola', 'Cola', 'Chips'], ['Milk', 'Beer', 'Meat', 'Ketchup', 'Cola', 'Cola', 'Chips', 'Chips', 'Cola', 'Cola'], ['Beer', 'Bread', 'Bread', 'Beer', 'Beer', 'Beer', 'Bread', 'Cheese'], ['Yoghurt', 'Beer', 'Chips', 'Milk', 'Soap', 'Cola', 'Cola', 'Cola', 'Beer', 'Cola', 'Cola', 'Cola', 'Beer', 'Ketchup', 'Beer', 'Beer', 'Beer', 'Soap'], ['Milk', 'Cola', 'Cola', 'Beer', 'Beer', 'Bread', 'Bread', 'Soap', 'Cola', 'Cola', 'Beer', 'Meat', 'Bread', 'Chips'], ['Beer', 'Beer', 'Beer', 'Chips', 'Milk', 'Cola', 'Chocolate', 'Beer', 'Chocolate', 'Beer', 'Beer', 'Cola', 'Meat', 'Yoghurt', 'Beer'], ['Bread'], ['Chocolate', 'Beer', 'Meat', 'Yoghurt'], ['Cola', 'Beer', 'Beer', 'Beer', 'Chocolate', 'Beer', 'Soap', 'Beer', 'Chips', 'Soap', 'Chocolate', 'Bread', 'Chips', 'Cola', 'Bread', 'Beer', 'Cola', 'Bread'], ['Chips', 'Cola', 'Beer', 'Chips', 'Cola', 'Cola', 'Beer', 'Soap', 'Yoghurt', 'Yoghurt', 'Cola', 'Bread', 'Beer', 'Chocolate', 'Chips', 'Bread', 'Beer', 'Bread'], ['Cola', 'Chocolate'], ['Chocolate', 'Cola', 'Meat', 'Cola', 'Ketchup', 'Cola', 'Chocolate', 'Bread', 'Chocolate', 'Chocolate', 'Meat'], ['Bread', 'Milk', 'Chips', 'Ketchup', 'Cola', 'Cola', 'Cola', 'Beer', 'Beer', 'Soap', 'Beer', 'Cola'], ['Yoghurt', 'Milk', 'Soap', 'Bread', 'Cola', 'Cola', 'Milk', 'Bread', 'Chips', 'Cheese', 'Milk', 'Yoghurt', 'Bread', 'Yoghurt'], ['Cola', 'Ketchup'], ['Cola', 'Yoghurt', 'Bread', 'Cola', 'Cola', 'Chips', 'Yoghurt', 'Milk', 'Beer', 'Chips', 'Bread', 'Beer', 'Beer', 'Cola', 'Bread', 'Beer', 'Beer', 'Cheese'], ['Beer', 'Cheese', 'Ketchup', 'Beer'], ['Beer', 'Beer', 'Beer'], ['Soap', 'Beer', 'Beer', 'Chocolate', 'Cola', 'Chocolate', 'Bread', 'Beer', 'Milk', 'Bread', 'Beer', 'Chocolate', 'Bread', 'Cola', 'Cola', 'Cheese', 'Beer', 'Cola', 'Soap', 'Yoghurt'], ['Beer', 'Chocolate'], ['Cola', 'Beer'], ['Yoghurt', 'Beer', 'Yoghurt', 'Yoghurt', 'Chips', 'Meat', 'Beer', 'Chocolate', 'Cola', 'Cola', 'Chips', 'Bread'], ['Cola', 'Cola', 'Cola', 'Cola', 'Cola', 'Bread', 'Chips', 'Soap', 'Cola', 'Chocolate', 'Beer', 'Beer'], ['Beer', 'Cola', 'Cola', 'Bread', 'Soap', 'Beer', 'Meat', 'Beer', 'Beer', 'Beer', 'Cola', 'Chips', 'Beer', 'Cola', 'Cola', 'Bread', 'Cheese', 'Beer'], ['Cola', 'Cola', 'Ketchup', 'Beer', 'Yoghurt', 'Bread'], ['Chips', 'Yoghurt', 'Cola', 'Cola', 'Cola', 'Chocolate', 'Chips', 'Bread', 'Chocolate', 'Yoghurt', 'Chocolate', 'Milk', 'Bread', 'Bread', 'Soap', 'Milk', 'Soap', 'Cola', 'Bread', 'Beer'], ['Beer', 'Beer', 'Ketchup', 'Cola', 'Beer', 'Bread', 'Beer', 'Cola', 'Beer', 'Chocolate'], ['Beer', 'Chocolate', 'Cola', 'Beer', 'Yoghurt', 'Milk', 'Bread', 'Cheese', 'Yoghurt', 'Beer', 'Cola', 'Yoghurt', 'Cola', 'Soap', 'Beer', 'Bread', 'Meat', 'Bread', 'Cola'], ['Beer', 'Cola', 'Chips', 'Cola'], ['Cola', 'Cola', 'Beer', 'Cheese'], ['Bread', 'Soap', 'Ketchup', 'Chocolate', 'Beer', 'Cola', 'Chocolate', 'Cola', 'Cola', 'Yoghurt', 'Beer', 'Bread', 'Cola', 'Ketchup', 'Beer'], ['Bread'], ['Bread', 'Beer', 'Yoghurt', 'Yoghurt', 'Bread', 'Milk', 'Soap', 'Meat', 'Bread', 'Beer', 'Cola', 'Milk', 'Milk', 'Bread', 'Beer', 'Cola', 'Ketchup', 'Cola'], ['Bread', 'Beer', 'Bread', 'Yoghurt', 'Beer', 'Bread', 'Cola', 'Cola', 'Cola', 'Beer', 'Bread', 'Milk', 'Chips', 'Cola', 'Beer', 'Bread', 'Soap', 'Bread', 'Yoghurt', 'Bread'], ['Yoghurt', 'Beer', 'Cola', 'Beer', 'Beer', 'Beer'], ['Chips', 'Chocolate', 'Soap', 'Chocolate', 'Cola', 'Bread', 'Beer', 'Cola', 'Beer', 'Ketchup', 'Chocolate', 'Ketchup', 'Ketchup', 'Cheese', 'Chips', 'Beer', 'Chips', 'Chocolate'], ['Bread', 'Cola', 'Cola', 'Beer', 'Bread', 'Bread', 'Beer', 'Chocolate', 'Bread', 'Cola', 'Milk', 'Chips', 'Meat', 'Beer', 'Beer', 'Soap', 'Bread'], ['Beer', 'Beer', 'Bread', 'Chips', 'Beer', 'Bread', 'Bread', 'Chips', 'Beer'], ['Yoghurt', 'Bread', 'Cola', 'Bread', 'Cola', 'Bread', 'Meat', 'Cola', 'Bread', 'Beer', 'Soap', 'Chips'], ['Bread', 'Beer'], ['Milk', 'Beer', 'Meat', 'Cola', 'Beer', 'Cola', 'Cola'], ['Beer', 'Chips', 'Yoghurt', 'Beer', 'Cola', 'Beer', 'Cola', 'Cola', 'Soap', 'Cola'], ['Bread', 'Cola', 'Cola', 'Meat'], ['Cola', 'Chocolate', 'Meat', 'Beer', 'Cola', 'Bread', 'Chips', 'Beer', 'Chips', 'Chips', 'Cola'], ['Bread', 'Cola', 'Cola', 'Cola', 'Beer', 'Cola', 'Yoghurt', 'Beer', 'Chips', 'Cola', 'Chocolate', 'Chips', 'Cola', 'Cola', 'Cola', 'Cola', 'Bread', 'Cola'], ['Cola', 'Soap', 'Cola'], ['Soap', 'Chips', 'Cola', 'Beer', 'Bread', 'Soap', 'Cheese', 'Bread', 'Beer', 'Chocolate']] [['Cola', 'Meat', 'Cheese', 'Yoghurt', 'Beer', 'Milk', 'Milk', 'Meat', 'Cola', 'Cola', 'Cheese', 'Beer', 'Yoghurt', 'Beer', 'Bread', 'Bread', 'Milk', 'Cheese', 'Chocolate'], ['Soap', 'Milk', 'Cola'], ['Milk', 'Bread', 'Yoghurt', 'Meat', 'Meat'], ['Bread', 'Milk', 'Beer'], ['Beer'], ['Chocolate', 'Meat', 'Chocolate', 'Cola', 'Cola', 'Cola', 'Cola', 'Yoghurt', 'Bread', 'Meat', 'Soap', 'Soap', 'Milk', 'Milk', 'Cola'], ['Beer', 'Beer', 'Meat', 'Chips', 'Bread', 'Bread', 'Bread', 'Bread', 'Milk', 'Cola', 'Chocolate', 'Bread', 'Beer', 'Chips', 'Bread', 'Bread', 'Yoghurt'], ['Chips', 'Milk', 'Soap'], ['Meat', 'Beer', 'Milk', 'Chocolate', 'Bread', 'Yoghurt'], ['Chips', 'Meat', 'Chocolate', 'Bread', 'Cola', 'Cola', 'Chocolate', 'Meat', 'Yoghurt', 'Milk'], ['Bread', 'Soap', 'Bread', 'Meat', 'Beer', 'Yoghurt', 'Milk', 'Cola', 'Bread', 'Ketchup'], ['Meat', 'Milk'], ['Meat', 'Beer', 'Yoghurt'], ['Cola', 'Bread', 'Cola', 'Chocolate', 'Chips', 'Meat', 'Cheese'], ['Milk', 'Milk', 'Cheese', 'Meat'], ['Chips', 'Yoghurt', 'Cheese', 'Soap', 'Ketchup', 'Cheese', 'Soap', 'Beer', 'Ketchup', 'Ketchup', 'Milk', 'Bread', 'Bread', 'Beer'], ['Meat'], ['Ketchup', 'Bread', 'Beer', 'Milk', 'Bread', 'Meat', 'Ketchup', 'Cheese'], ['Meat', 'Chips', 'Bread', 'Meat', 'Milk', 'Soap', 'Chocolate', 'Meat', 'Chocolate', 'Chocolate', 'Bread', 'Cheese', 'Soap', 'Cola', 'Yoghurt'], ['Cheese', 'Milk', 'Bread', 'Milk', 'Chips', 'Chips', 'Meat', 'Beer', 'Chocolate', 'Chocolate'], ['Ketchup', 'Beer', 'Cheese', 'Cola'], ['Chocolate', 'Cheese', 'Bread'], ['Milk', 'Yoghurt', 'Ketchup', 'Beer', 'Meat', 'Chips', 'Yoghurt', 'Meat', 'Bread', 'Chips'], ['Yoghurt', 'Milk', 'Ketchup', 'Yoghurt', 'Beer', 'Cheese', 'Bread', 'Bread', 'Ketchup', 'Bread', 'Bread', 'Yoghurt', 'Meat'], ['Soap', 'Meat', 'Bread', 'Beer', 'Milk'], ['Beer', 'Cola', 'Beer', 'Meat', 'Meat', 'Cheese', 'Meat', 'Chocolate', 'Bread', 'Ketchup', 'Milk', 'Soap'], ['Cheese', 'Chocolate', 'Milk', 'Chocolate', 'Cola', 'Bread', 'Chips', 'Cheese', 'Soap', 'Ketchup', 'Cheese', 'Chips', 'Cheese', 'Cola', 'Chocolate', 'Beer'], ['Bread', 'Bread', 'Cola', 'Ketchup', 'Cola', 'Bread', 'Meat', 'Yoghurt', 'Milk', 'Beer', 'Beer', 'Cheese', 'Meat', 'Bread', 'Cheese', 'Meat', 'Chocolate'], ['Chocolate', 'Soap', 'Chips', 'Beer', 'Bread', 'Yoghurt', 'Chips', 'Chocolate', 'Beer', 'Cheese', 'Cola', 'Milk', 'Chips', 'Milk', 'Ketchup', 'Cola', 'Meat', 'Beer', 'Cheese', 'Yoghurt'], ['Soap'], ['Meat', 'Beer', 'Milk', 'Bread', 'Beer', 'Cheese', 'Chocolate', 'Beer', 'Beer', 'Milk', 'Beer', 'Bread', 'Meat', 'Beer', 'Chocolate', 'Beer', 'Soap', 'Chips', 'Cola'], ['Cola', 'Beer', 'Meat', 'Chips', 'Soap', 'Cola', 'Bread', 'Cola', 'Bread', 'Chips', 'Ketchup', 'Ketchup', 'Beer', 'Ketchup', 'Cola', 'Milk', 'Cheese'], ['Cheese', 'Milk', 'Chips', 'Bread', 'Yoghurt', 'Soap', 'Beer', 'Chips', 'Ketchup', 'Chips', 'Beer', 'Yoghurt', 'Cola', 'Cheese', 'Chocolate', 'Beer'], ['Meat', 'Bread', 'Meat', 'Bread'], ['Cola', 'Beer', 'Yoghurt'], ['Beer', 'Bread', 'Beer', 'Meat', 'Bread', 'Milk', 'Soap', 'Milk', 'Chocolate', 'Meat', 'Meat', 'Meat', 'Chips', 'Chocolate', 'Meat'], ['Beer', 'Cola', 'Chocolate', 'Bread', 'Cheese', 'Cheese'], ['Milk', 'Chips', 'Cola', 'Milk', 'Bread', 'Bread', 'Beer', 'Milk', 'Cola', 'Chocolate', 'Chocolate', 'Meat', 'Cola', 'Cola', 'Beer', 'Cola', 'Chocolate', 'Bread', 'Bread', 'Cola'], ['Chocolate', 'Chocolate', 'Beer', 'Beer', 'Bread', 'Yoghurt', 'Meat', 'Cola', 'Yoghurt'], ['Ketchup', 'Cola', 'Ketchup', 'Yoghurt', 'Chips', 'Soap', 'Soap', 'Chocolate', 'Chocolate', 'Bread', 'Beer', 'Meat'], ['Bread', 'Meat', 'Soap', 'Cola', 'Bread', 'Cola', 'Yoghurt', 'Meat', 'Bread', 'Cola', 'Cola', 'Ketchup', 'Beer', 'Bread', 'Milk', 'Yoghurt', 'Meat'], ['Chocolate', 'Yoghurt', 'Bread'], ['Meat', 'Bread', 'Bread', 'Bread'], ['Beer', 'Milk', 'Cola', 'Ketchup', 'Cola', 'Cheese', 'Meat', 'Chocolate'], ['Soap', 'Beer', 'Chocolate', 'Chocolate', 'Cola', 'Cola', 'Yoghurt', 'Ketchup', 'Milk'], ['Meat', 'Yoghurt', 'Bread', 'Ketchup', 'Ketchup', 'Milk', 'Meat'], ['Ketchup', 'Soap', 'Chips', 'Ketchup', 'Bread', 'Chocolate', 'Milk', 'Bread', 'Bread', 'Ketchup', 'Cola', 'Meat', 'Milk', 'Bread', 'Cola'], ['Meat', 'Beer', 'Yoghurt', 'Chips', 'Beer', 'Meat', 'Cola', 'Beer', 'Meat', 'Ketchup', 'Milk', 'Cola', 'Yoghurt', 'Beer', 'Meat', 'Bread', 'Bread'], ['Meat', 'Soap', 'Cheese', 'Ketchup', 'Cola', 'Cola', 'Bread', 'Chips', 'Meat', 'Cola', 'Bread', 'Beer', 'Beer', 'Beer'], ['Meat', 'Yoghurt', 'Bread', 'Milk', 'Beer', 'Beer']] [['Milk', 'Milk', 'Beer'], ['Chocolate', 'Bread', 'Chips'], ['Cola', 'Cola', 'Yoghurt', 'Soap', 'Beer', 'Chips', 'Milk'], ['Soap', 'Soap', 'Cola', 'Cola', 'Chips'], ['Milk', 'Beer', 'Meat', 'Ketchup', 'Cola', 'Cola', 'Chips', 'Chips', 'Cola', 'Cola'], ['Beer', 'Bread', 'Bread', 'Beer', 'Beer', 'Beer', 'Bread', 'Cheese'], ['Yoghurt', 'Beer', 'Chips', 'Milk', 'Soap', 'Cola', 'Cola', 'Cola', 'Beer', 'Cola', 'Cola', 'Cola', 'Beer', 'Ketchup', 'Beer', 'Beer', 'Beer', 'Soap'], ['Milk', 'Cola', 'Cola', 'Beer', 'Beer', 'Bread', 'Bread', 'Soap', 'Cola', 'Cola', 'Beer', 'Meat', 'Bread', 'Chips'], ['Beer', 'Beer', 'Beer', 'Chips', 'Milk', 'Cola', 'Chocolate', 'Beer', 'Chocolate', 'Beer', 'Beer', 'Cola', 'Meat', 'Yoghurt', 'Beer'], ['Bread'], ['Chocolate', 'Beer', 'Meat', 'Yoghurt'], ['Cola', 'Beer', 'Beer', 'Beer', 'Chocolate', 'Beer', 'Soap', 'Beer', 'Chips', 'Soap', 'Chocolate', 'Bread', 'Chips', 'Cola', 'Bread', 'Beer', 'Cola', 'Bread'], ['Chips', 'Cola', 'Beer', 'Chips', 'Cola', 'Cola', 'Beer', 'Soap', 'Yoghurt', 'Yoghurt', 'Cola', 'Bread', 'Beer', 'Chocolate', 'Chips', 'Bread', 'Beer', 'Bread'], ['Cola', 'Chocolate'], ['Chocolate', 'Cola', 'Meat', 'Cola', 'Ketchup', 'Cola', 'Chocolate', 'Bread', 'Chocolate', 'Chocolate', 'Meat'], ['Bread', 'Milk', 'Chips', 'Ketchup', 'Cola', 'Cola', 'Cola', 'Beer', 'Beer', 'Soap', 'Beer', 'Cola'], ['Yoghurt', 'Milk', 'Soap', 'Bread', 'Cola', 'Cola', 'Milk', 'Bread', 'Chips', 'Cheese', 'Milk', 'Yoghurt', 'Bread', 'Yoghurt'], ['Cola', 'Ketchup'], ['Cola', 'Yoghurt', 'Bread', 'Cola', 'Cola', 'Chips', 'Yoghurt', 'Milk', 'Beer', 'Chips', 'Bread', 'Beer', 'Beer', 'Cola', 'Bread', 'Beer', 'Beer', 'Cheese'], ['Beer', 'Cheese', 'Ketchup', 'Beer'], ['Beer', 'Beer', 'Beer'], ['Soap', 'Beer', 'Beer', 'Chocolate', 'Cola', 'Chocolate', 'Bread', 'Beer', 'Milk', 'Bread', 'Beer', 'Chocolate', 'Bread', 'Cola', 'Cola', 'Cheese', 'Beer', 'Cola', 'Soap', 'Yoghurt'], ['Beer', 'Chocolate'], ['Cola', 'Beer'], ['Yoghurt', 'Beer', 'Yoghurt', 'Yoghurt', 'Chips', 'Meat', 'Beer', 'Chocolate', 'Cola', 'Cola', 'Chips', 'Bread'], ['Cola', 'Cola', 'Cola', 'Cola', 'Cola', 'Bread', 'Chips', 'Soap', 'Cola', 'Chocolate', 'Beer', 'Beer'], ['Beer', 'Cola', 'Cola', 'Bread', 'Soap', 'Beer', 'Meat', 'Beer', 'Beer', 'Beer', 'Cola', 'Chips', 'Beer', 'Cola', 'Cola', 'Bread', 'Cheese', 'Beer'], ['Cola', 'Cola', 'Ketchup', 'Beer', 'Yoghurt', 'Bread'], ['Chips', 'Yoghurt', 'Cola', 'Cola', 'Cola', 'Chocolate', 'Chips', 'Bread', 'Chocolate', 'Yoghurt', 'Chocolate', 'Milk', 'Bread', 'Bread', 'Soap', 'Milk', 'Soap', 'Cola', 'Bread', 'Beer'], ['Beer', 'Beer', 'Ketchup', 'Cola', 'Beer', 'Bread', 'Beer', 'Cola', 'Beer', 'Chocolate'], ['Beer', 'Chocolate', 'Cola', 'Beer', 'Yoghurt', 'Milk', 'Bread', 'Cheese', 'Yoghurt', 'Beer', 'Cola', 'Yoghurt', 'Cola', 'Soap', 'Beer', 'Bread', 'Meat', 'Bread', 'Cola'], ['Beer', 'Cola', 'Chips', 'Cola'], ['Cola', 'Cola', 'Beer', 'Cheese'], ['Bread', 'Soap', 'Ketchup', 'Chocolate', 'Beer', 'Cola', 'Chocolate', 'Cola', 'Cola', 'Yoghurt', 'Beer', 'Bread', 'Cola', 'Ketchup', 'Beer'], ['Bread'], ['Bread', 'Beer', 'Yoghurt', 'Yoghurt', 'Bread', 'Milk', 'Soap', 'Meat', 'Bread', 'Beer', 'Cola', 'Milk', 'Milk', 'Bread', 'Beer', 'Cola', 'Ketchup', 'Cola'], ['Bread', 'Beer', 'Bread', 'Yoghurt', 'Beer', 'Bread', 'Cola', 'Cola', 'Cola', 'Beer', 'Bread', 'Milk', 'Chips', 'Cola', 'Beer', 'Bread', 'Soap', 'Bread', 'Yoghurt', 'Bread'], ['Yoghurt', 'Beer', 'Cola', 'Beer', 'Beer', 'Beer'], ['Chips', 'Chocolate', 'Soap', 'Chocolate', 'Cola', 'Bread', 'Beer', 'Cola', 'Beer', 'Ketchup', 'Chocolate', 'Ketchup', 'Ketchup', 'Cheese', 'Chips', 'Beer', 'Chips', 'Chocolate'], ['Bread', 'Cola', 'Cola', 'Beer', 'Bread', 'Bread', 'Beer', 'Chocolate', 'Bread', 'Cola', 'Milk', 'Chips', 'Meat', 'Beer', 'Beer', 'Soap', 'Bread'], ['Beer', 'Beer', 'Bread', 'Chips', 'Beer', 'Bread', 'Bread', 'Chips', 'Beer'], ['Yoghurt', 'Bread', 'Cola', 'Bread', 'Cola', 'Bread', 'Meat', 'Cola', 'Bread', 'Beer', 'Soap', 'Chips'], ['Bread', 'Beer'], ['Milk', 'Beer', 'Meat', 'Cola', 'Beer', 'Cola', 'Cola'], ['Beer', 'Chips', 'Yoghurt', 'Beer', 'Cola', 'Beer', 'Cola', 'Cola', 'Soap', 'Cola'], ['Bread', 'Cola', 'Cola', 'Meat'], ['Cola', 'Chocolate', 'Meat', 'Beer', 'Cola', 'Bread', 'Chips', 'Beer', 'Chips', 'Chips', 'Cola'], ['Bread', 'Cola', 'Cola', 'Cola', 'Beer', 'Cola', 'Yoghurt', 'Beer', 'Chips', 'Cola', 'Chocolate', 'Chips', 'Cola', 'Cola', 'Cola', 'Cola', 'Bread', 'Cola'], ['Cola', 'Soap', 'Cola'], ['Soap', 'Chips', 'Cola', 'Beer', 'Bread', 'Soap', 'Cheese', 'Bread', 'Beer', 'Chocolate']]\n"
     ]
    }
   ],
   "source": [
    "# В переменных center, south и north хранятся списки из перечней купленных позиций в трёх торговых точках, расположенных в разных районах города.\n",
    "# Вначале избавьтесь от излишней вложенности: в каждой переменной (center, south, north) должен храниться объединённый список купленных товаров без разбиения по чекам.\n",
    "# Пример:[['Milk', 'Bread'], ['Meat']] -> ['Milk', 'Bread', 'Meat']\n",
    "# После этого определите, в каком магазине было куплено больше всего товаров.\n",
    "center = [['Cola', 'Meat', 'Cheese', 'Yoghurt', 'Beer', 'Milk', 'Milk', 'Meat', 'Cola', 'Cola', 'Cheese', 'Beer', 'Yoghurt', 'Beer', 'Bread', 'Bread', 'Milk', 'Cheese', 'Chocolate'], ['Soap', 'Milk', 'Cola'], ['Milk', 'Bread', 'Yoghurt', 'Meat', 'Meat'], ['Bread', 'Milk', 'Beer'], ['Beer'], ['Chocolate', 'Meat', 'Chocolate', 'Cola', 'Cola', 'Cola', 'Cola', 'Yoghurt', 'Bread', 'Meat', 'Soap', 'Soap', 'Milk', 'Milk', 'Cola'], ['Beer', 'Beer', 'Meat', 'Chips', 'Bread', 'Bread', 'Bread', 'Bread', 'Milk', 'Cola', 'Chocolate', 'Bread', 'Beer', 'Chips', 'Bread', 'Bread', 'Yoghurt'], ['Chips', 'Milk', 'Soap'], ['Meat', 'Beer', 'Milk', 'Chocolate', 'Bread', 'Yoghurt'], ['Chips', 'Meat', 'Chocolate', 'Bread', 'Cola', 'Cola', 'Chocolate', 'Meat', 'Yoghurt', 'Milk'], ['Bread', 'Soap', 'Bread', 'Meat', 'Beer', 'Yoghurt', 'Milk', 'Cola', 'Bread', 'Ketchup'], ['Meat', 'Milk'], ['Meat', 'Beer', 'Yoghurt'], ['Cola', 'Bread', 'Cola', 'Chocolate', 'Chips', 'Meat', 'Cheese'], ['Milk', 'Milk', 'Cheese', 'Meat'], ['Chips', 'Yoghurt', 'Cheese', 'Soap', 'Ketchup', 'Cheese', 'Soap', 'Beer', 'Ketchup', 'Ketchup', 'Milk', 'Bread', 'Bread', 'Beer'], ['Meat'], ['Ketchup', 'Bread', 'Beer', 'Milk', 'Bread', 'Meat', 'Ketchup', 'Cheese'], ['Meat', 'Chips', 'Bread', 'Meat', 'Milk', 'Soap', 'Chocolate', 'Meat', 'Chocolate', 'Chocolate', 'Bread', 'Cheese', 'Soap', 'Cola', 'Yoghurt'], ['Cheese', 'Milk', 'Bread', 'Milk', 'Chips', 'Chips', 'Meat', 'Beer', 'Chocolate', 'Chocolate'], ['Ketchup', 'Beer', 'Cheese', 'Cola'], ['Chocolate', 'Cheese', 'Bread'], ['Milk', 'Yoghurt', 'Ketchup', 'Beer', 'Meat', 'Chips', 'Yoghurt', 'Meat', 'Bread', 'Chips'], ['Yoghurt', 'Milk', 'Ketchup', 'Yoghurt', 'Beer', 'Cheese', 'Bread', 'Bread', 'Ketchup', 'Bread', 'Bread', 'Yoghurt', 'Meat'], ['Soap', 'Meat', 'Bread', 'Beer', 'Milk'], ['Beer', 'Cola', 'Beer', 'Meat', 'Meat', 'Cheese', 'Meat', 'Chocolate', 'Bread', 'Ketchup', 'Milk', 'Soap'], ['Cheese', 'Chocolate', 'Milk', 'Chocolate', 'Cola', 'Bread', 'Chips', 'Cheese', 'Soap', 'Ketchup', 'Cheese', 'Chips', 'Cheese', 'Cola', 'Chocolate', 'Beer'], ['Bread', 'Bread', 'Cola', 'Ketchup', 'Cola', 'Bread', 'Meat', 'Yoghurt', 'Milk', 'Beer', 'Beer', 'Cheese', 'Meat', 'Bread', 'Cheese', 'Meat', 'Chocolate'], ['Chocolate', 'Soap', 'Chips', 'Beer', 'Bread', 'Yoghurt', 'Chips', 'Chocolate', 'Beer', 'Cheese', 'Cola', 'Milk', 'Chips', 'Milk', 'Ketchup', 'Cola', 'Meat', 'Beer', 'Cheese', 'Yoghurt'], ['Soap'], ['Meat', 'Beer', 'Milk', 'Bread', 'Beer', 'Cheese', 'Chocolate', 'Beer', 'Beer', 'Milk', 'Beer', 'Bread', 'Meat', 'Beer', 'Chocolate', 'Beer', 'Soap', 'Chips', 'Cola'], ['Cola', 'Beer', 'Meat', 'Chips', 'Soap', 'Cola', 'Bread', 'Cola', 'Bread', 'Chips', 'Ketchup', 'Ketchup', 'Beer', 'Ketchup', 'Cola', 'Milk', 'Cheese'], ['Cheese', 'Milk', 'Chips', 'Bread', 'Yoghurt', 'Soap', 'Beer', 'Chips', 'Ketchup', 'Chips', 'Beer', 'Yoghurt', 'Cola', 'Cheese', 'Chocolate', 'Beer'], ['Meat', 'Bread', 'Meat', 'Bread'], ['Cola', 'Beer', 'Yoghurt'], ['Beer', 'Bread', 'Beer', 'Meat', 'Bread', 'Milk', 'Soap', 'Milk', 'Chocolate', 'Meat', 'Meat', 'Meat', 'Chips', 'Chocolate', 'Meat'], ['Beer', 'Cola', 'Chocolate', 'Bread', 'Cheese', 'Cheese'], ['Milk', 'Chips', 'Cola', 'Milk', 'Bread', 'Bread', 'Beer', 'Milk', 'Cola', 'Chocolate', 'Chocolate', 'Meat', 'Cola', 'Cola', 'Beer', 'Cola', 'Chocolate', 'Bread', 'Bread', 'Cola'], ['Chocolate', 'Chocolate', 'Beer', 'Beer', 'Bread', 'Yoghurt', 'Meat', 'Cola', 'Yoghurt'], ['Ketchup', 'Cola', 'Ketchup', 'Yoghurt', 'Chips', 'Soap', 'Soap', 'Chocolate', 'Chocolate', 'Bread', 'Beer', 'Meat'], ['Bread', 'Meat', 'Soap', 'Cola', 'Bread', 'Cola', 'Yoghurt', 'Meat', 'Bread', 'Cola', 'Cola', 'Ketchup', 'Beer', 'Bread', 'Milk', 'Yoghurt', 'Meat'], ['Chocolate', 'Yoghurt', 'Bread'], ['Meat', 'Bread', 'Bread', 'Bread'], ['Beer', 'Milk', 'Cola', 'Ketchup', 'Cola', 'Cheese', 'Meat', 'Chocolate'], ['Soap', 'Beer', 'Chocolate', 'Chocolate', 'Cola', 'Cola', 'Yoghurt', 'Ketchup', 'Milk'], ['Meat', 'Yoghurt', 'Bread', 'Ketchup', 'Ketchup', 'Milk', 'Meat'], ['Ketchup', 'Soap', 'Chips', 'Ketchup', 'Bread', 'Chocolate', 'Milk', 'Bread', 'Bread', 'Ketchup', 'Cola', 'Meat', 'Milk', 'Bread', 'Cola'], ['Meat', 'Beer', 'Yoghurt', 'Chips', 'Beer', 'Meat', 'Cola', 'Beer', 'Meat', 'Ketchup', 'Milk', 'Cola', 'Yoghurt', 'Beer', 'Meat', 'Bread', 'Bread'], ['Meat', 'Soap', 'Cheese', 'Ketchup', 'Cola', 'Cola', 'Bread', 'Chips', 'Meat', 'Cola', 'Bread', 'Beer', 'Beer', 'Beer'], ['Meat', 'Yoghurt', 'Bread', 'Milk', 'Beer', 'Beer'], ['Milk', 'Milk', 'Beer'], ['Chocolate', 'Bread', 'Chips'], ['Cola', 'Cola', 'Yoghurt', 'Soap', 'Beer', 'Chips', 'Milk'], ['Soap', 'Soap', 'Cola', 'Cola', 'Chips'], ['Milk', 'Beer', 'Meat', 'Ketchup', 'Cola', 'Cola', 'Chips', 'Chips', 'Cola', 'Cola'], ['Beer', 'Bread', 'Bread', 'Beer', 'Beer', 'Beer', 'Bread', 'Cheese'], ['Yoghurt', 'Beer', 'Chips', 'Milk', 'Soap', 'Cola', 'Cola', 'Cola', 'Beer', 'Cola', 'Cola', 'Cola', 'Beer', 'Ketchup', 'Beer', 'Beer', 'Beer', 'Soap'], ['Milk', 'Cola', 'Cola', 'Beer', 'Beer', 'Bread', 'Bread', 'Soap', 'Cola', 'Cola', 'Beer', 'Meat', 'Bread', 'Chips'], ['Beer', 'Beer', 'Beer', 'Chips', 'Milk', 'Cola', 'Chocolate', 'Beer', 'Chocolate', 'Beer', 'Beer', 'Cola', 'Meat', 'Yoghurt', 'Beer'], ['Bread'], ['Chocolate', 'Beer', 'Meat', 'Yoghurt'], ['Cola', 'Beer', 'Beer', 'Beer', 'Chocolate', 'Beer', 'Soap', 'Beer', 'Chips', 'Soap', 'Chocolate', 'Bread', 'Chips', 'Cola', 'Bread', 'Beer', 'Cola', 'Bread'], ['Chips', 'Cola', 'Beer', 'Chips', 'Cola', 'Cola', 'Beer', 'Soap', 'Yoghurt', 'Yoghurt', 'Cola', 'Bread', 'Beer', 'Chocolate', 'Chips', 'Bread', 'Beer', 'Bread'], ['Cola', 'Chocolate'], ['Chocolate', 'Cola', 'Meat', 'Cola', 'Ketchup', 'Cola', 'Chocolate', 'Bread', 'Chocolate', 'Chocolate', 'Meat'], ['Bread', 'Milk', 'Chips', 'Ketchup', 'Cola', 'Cola', 'Cola', 'Beer', 'Beer', 'Soap', 'Beer', 'Cola'], ['Yoghurt', 'Milk', 'Soap', 'Bread', 'Cola', 'Cola', 'Milk', 'Bread', 'Chips', 'Cheese', 'Milk', 'Yoghurt', 'Bread', 'Yoghurt'], ['Cola', 'Ketchup'], ['Cola', 'Yoghurt', 'Bread', 'Cola', 'Cola', 'Chips', 'Yoghurt', 'Milk', 'Beer', 'Chips', 'Bread', 'Beer', 'Beer', 'Cola', 'Bread', 'Beer', 'Beer', 'Cheese'], ['Beer', 'Cheese', 'Ketchup', 'Beer'], ['Beer', 'Beer', 'Beer'], ['Soap', 'Beer', 'Beer', 'Chocolate', 'Cola', 'Chocolate', 'Bread', 'Beer', 'Milk', 'Bread', 'Beer', 'Chocolate', 'Bread', 'Cola', 'Cola', 'Cheese', 'Beer', 'Cola', 'Soap', 'Yoghurt'], ['Beer', 'Chocolate'], ['Cola', 'Beer'], ['Yoghurt', 'Beer', 'Yoghurt', 'Yoghurt', 'Chips', 'Meat', 'Beer', 'Chocolate', 'Cola', 'Cola', 'Chips', 'Bread'], ['Cola', 'Cola', 'Cola', 'Cola', 'Cola', 'Bread', 'Chips', 'Soap', 'Cola', 'Chocolate', 'Beer', 'Beer'], ['Beer', 'Cola', 'Cola', 'Bread', 'Soap', 'Beer', 'Meat', 'Beer', 'Beer', 'Beer', 'Cola', 'Chips', 'Beer', 'Cola', 'Cola', 'Bread', 'Cheese', 'Beer'], ['Cola', 'Cola', 'Ketchup', 'Beer', 'Yoghurt', 'Bread'], ['Chips', 'Yoghurt', 'Cola', 'Cola', 'Cola', 'Chocolate', 'Chips', 'Bread', 'Chocolate', 'Yoghurt', 'Chocolate', 'Milk', 'Bread', 'Bread', 'Soap', 'Milk', 'Soap', 'Cola', 'Bread', 'Beer'], ['Beer', 'Beer', 'Ketchup', 'Cola', 'Beer', 'Bread', 'Beer', 'Cola', 'Beer', 'Chocolate'], ['Beer', 'Chocolate', 'Cola', 'Beer', 'Yoghurt', 'Milk', 'Bread', 'Cheese', 'Yoghurt', 'Beer', 'Cola', 'Yoghurt', 'Cola', 'Soap', 'Beer', 'Bread', 'Meat', 'Bread', 'Cola'], ['Beer', 'Cola', 'Chips', 'Cola'], ['Cola', 'Cola', 'Beer', 'Cheese'], ['Bread', 'Soap', 'Ketchup', 'Chocolate', 'Beer', 'Cola', 'Chocolate', 'Cola', 'Cola', 'Yoghurt', 'Beer', 'Bread', 'Cola', 'Ketchup', 'Beer'], ['Bread'], ['Bread', 'Beer', 'Yoghurt', 'Yoghurt', 'Bread', 'Milk', 'Soap', 'Meat', 'Bread', 'Beer', 'Cola', 'Milk', 'Milk', 'Bread', 'Beer', 'Cola', 'Ketchup', 'Cola'], ['Bread', 'Beer', 'Bread', 'Yoghurt', 'Beer', 'Bread', 'Cola', 'Cola', 'Cola', 'Beer', 'Bread', 'Milk', 'Chips', 'Cola', 'Beer', 'Bread', 'Soap', 'Bread', 'Yoghurt', 'Bread'], ['Yoghurt', 'Beer', 'Cola', 'Beer', 'Beer', 'Beer'], ['Chips', 'Chocolate', 'Soap', 'Chocolate', 'Cola', 'Bread', 'Beer', 'Cola', 'Beer', 'Ketchup', 'Chocolate', 'Ketchup', 'Ketchup', 'Cheese', 'Chips', 'Beer', 'Chips', 'Chocolate'], ['Bread', 'Cola', 'Cola', 'Beer', 'Bread', 'Bread', 'Beer', 'Chocolate', 'Bread', 'Cola', 'Milk', 'Chips', 'Meat', 'Beer', 'Beer', 'Soap', 'Bread'], ['Beer', 'Beer', 'Bread', 'Chips', 'Beer', 'Bread', 'Bread', 'Chips', 'Beer'], ['Yoghurt', 'Bread', 'Cola', 'Bread', 'Cola', 'Bread', 'Meat', 'Cola', 'Bread', 'Beer', 'Soap', 'Chips'], ['Bread', 'Beer'], ['Milk', 'Beer', 'Meat', 'Cola', 'Beer', 'Cola', 'Cola'], ['Beer', 'Chips', 'Yoghurt', 'Beer', 'Cola', 'Beer', 'Cola', 'Cola', 'Soap', 'Cola'], ['Bread', 'Cola', 'Cola', 'Meat'], ['Cola', 'Chocolate', 'Meat', 'Beer', 'Cola', 'Bread', 'Chips', 'Beer', 'Chips', 'Chips', 'Cola'], ['Bread', 'Cola', 'Cola', 'Cola', 'Beer', 'Cola', 'Yoghurt', 'Beer', 'Chips', 'Cola', 'Chocolate', 'Chips', 'Cola', 'Cola', 'Cola', 'Cola', 'Bread', 'Cola'], ['Cola', 'Soap', 'Cola'], ['Soap', 'Chips', 'Cola', 'Beer', 'Bread', 'Soap', 'Cheese', 'Bread', 'Beer', 'Chocolate']]         \n",
    "south = [['Cola', 'Meat', 'Cheese', 'Yoghurt', 'Beer', 'Milk', 'Milk', 'Meat', 'Cola', 'Cola', 'Cheese', 'Beer', 'Yoghurt', 'Beer', 'Bread', 'Bread', 'Milk', 'Cheese', 'Chocolate'], ['Soap', 'Milk', 'Cola'], ['Milk', 'Bread', 'Yoghurt', 'Meat', 'Meat'], ['Bread', 'Milk', 'Beer'], ['Beer'], ['Chocolate', 'Meat', 'Chocolate', 'Cola', 'Cola', 'Cola', 'Cola', 'Yoghurt', 'Bread', 'Meat', 'Soap', 'Soap', 'Milk', 'Milk', 'Cola'], ['Beer', 'Beer', 'Meat', 'Chips', 'Bread', 'Bread', 'Bread', 'Bread', 'Milk', 'Cola', 'Chocolate', 'Bread', 'Beer', 'Chips', 'Bread', 'Bread', 'Yoghurt'], ['Chips', 'Milk', 'Soap'], ['Meat', 'Beer', 'Milk', 'Chocolate', 'Bread', 'Yoghurt'], ['Chips', 'Meat', 'Chocolate', 'Bread', 'Cola', 'Cola', 'Chocolate', 'Meat', 'Yoghurt', 'Milk'], ['Bread', 'Soap', 'Bread', 'Meat', 'Beer', 'Yoghurt', 'Milk', 'Cola', 'Bread', 'Ketchup'], ['Meat', 'Milk'], ['Meat', 'Beer', 'Yoghurt'], ['Cola', 'Bread', 'Cola', 'Chocolate', 'Chips', 'Meat', 'Cheese'], ['Milk', 'Milk', 'Cheese', 'Meat'], ['Chips', 'Yoghurt', 'Cheese', 'Soap', 'Ketchup', 'Cheese', 'Soap', 'Beer', 'Ketchup', 'Ketchup', 'Milk', 'Bread', 'Bread', 'Beer'], ['Meat'], ['Ketchup', 'Bread', 'Beer', 'Milk', 'Bread', 'Meat', 'Ketchup', 'Cheese'], ['Meat', 'Chips', 'Bread', 'Meat', 'Milk', 'Soap', 'Chocolate', 'Meat', 'Chocolate', 'Chocolate', 'Bread', 'Cheese', 'Soap', 'Cola', 'Yoghurt'], ['Cheese', 'Milk', 'Bread', 'Milk', 'Chips', 'Chips', 'Meat', 'Beer', 'Chocolate', 'Chocolate'], ['Ketchup', 'Beer', 'Cheese', 'Cola'], ['Chocolate', 'Cheese', 'Bread'], ['Milk', 'Yoghurt', 'Ketchup', 'Beer', 'Meat', 'Chips', 'Yoghurt', 'Meat', 'Bread', 'Chips'], ['Yoghurt', 'Milk', 'Ketchup', 'Yoghurt', 'Beer', 'Cheese', 'Bread', 'Bread', 'Ketchup', 'Bread', 'Bread', 'Yoghurt', 'Meat'], ['Soap', 'Meat', 'Bread', 'Beer', 'Milk'], ['Beer', 'Cola', 'Beer', 'Meat', 'Meat', 'Cheese', 'Meat', 'Chocolate', 'Bread', 'Ketchup', 'Milk', 'Soap'], ['Cheese', 'Chocolate', 'Milk', 'Chocolate', 'Cola', 'Bread', 'Chips', 'Cheese', 'Soap', 'Ketchup', 'Cheese', 'Chips', 'Cheese', 'Cola', 'Chocolate', 'Beer'], ['Bread', 'Bread', 'Cola', 'Ketchup', 'Cola', 'Bread', 'Meat', 'Yoghurt', 'Milk', 'Beer', 'Beer', 'Cheese', 'Meat', 'Bread', 'Cheese', 'Meat', 'Chocolate'], ['Chocolate', 'Soap', 'Chips', 'Beer', 'Bread', 'Yoghurt', 'Chips', 'Chocolate', 'Beer', 'Cheese', 'Cola', 'Milk', 'Chips', 'Milk', 'Ketchup', 'Cola', 'Meat', 'Beer', 'Cheese', 'Yoghurt'], ['Soap'], ['Meat', 'Beer', 'Milk', 'Bread', 'Beer', 'Cheese', 'Chocolate', 'Beer', 'Beer', 'Milk', 'Beer', 'Bread', 'Meat', 'Beer', 'Chocolate', 'Beer', 'Soap', 'Chips', 'Cola'], ['Cola', 'Beer', 'Meat', 'Chips', 'Soap', 'Cola', 'Bread', 'Cola', 'Bread', 'Chips', 'Ketchup', 'Ketchup', 'Beer', 'Ketchup', 'Cola', 'Milk', 'Cheese'], ['Cheese', 'Milk', 'Chips', 'Bread', 'Yoghurt', 'Soap', 'Beer', 'Chips', 'Ketchup', 'Chips', 'Beer', 'Yoghurt', 'Cola', 'Cheese', 'Chocolate', 'Beer'], ['Meat', 'Bread', 'Meat', 'Bread'], ['Cola', 'Beer', 'Yoghurt'], ['Beer', 'Bread', 'Beer', 'Meat', 'Bread', 'Milk', 'Soap', 'Milk', 'Chocolate', 'Meat', 'Meat', 'Meat', 'Chips', 'Chocolate', 'Meat'], ['Beer', 'Cola', 'Chocolate', 'Bread', 'Cheese', 'Cheese'], ['Milk', 'Chips', 'Cola', 'Milk', 'Bread', 'Bread', 'Beer', 'Milk', 'Cola', 'Chocolate', 'Chocolate', 'Meat', 'Cola', 'Cola', 'Beer', 'Cola', 'Chocolate', 'Bread', 'Bread', 'Cola'], ['Chocolate', 'Chocolate', 'Beer', 'Beer', 'Bread', 'Yoghurt', 'Meat', 'Cola', 'Yoghurt'], ['Ketchup', 'Cola', 'Ketchup', 'Yoghurt', 'Chips', 'Soap', 'Soap', 'Chocolate', 'Chocolate', 'Bread', 'Beer', 'Meat'], ['Bread', 'Meat', 'Soap', 'Cola', 'Bread', 'Cola', 'Yoghurt', 'Meat', 'Bread', 'Cola', 'Cola', 'Ketchup', 'Beer', 'Bread', 'Milk', 'Yoghurt', 'Meat'], ['Chocolate', 'Yoghurt', 'Bread'], ['Meat', 'Bread', 'Bread', 'Bread'], ['Beer', 'Milk', 'Cola', 'Ketchup', 'Cola', 'Cheese', 'Meat', 'Chocolate'], ['Soap', 'Beer', 'Chocolate', 'Chocolate', 'Cola', 'Cola', 'Yoghurt', 'Ketchup', 'Milk'], ['Meat', 'Yoghurt', 'Bread', 'Ketchup', 'Ketchup', 'Milk', 'Meat'], ['Ketchup', 'Soap', 'Chips', 'Ketchup', 'Bread', 'Chocolate', 'Milk', 'Bread', 'Bread', 'Ketchup', 'Cola', 'Meat', 'Milk', 'Bread', 'Cola'], ['Meat', 'Beer', 'Yoghurt', 'Chips', 'Beer', 'Meat', 'Cola', 'Beer', 'Meat', 'Ketchup', 'Milk', 'Cola', 'Yoghurt', 'Beer', 'Meat', 'Bread', 'Bread'], ['Meat', 'Soap', 'Cheese', 'Ketchup', 'Cola', 'Cola', 'Bread', 'Chips', 'Meat', 'Cola', 'Bread', 'Beer', 'Beer', 'Beer'], ['Meat', 'Yoghurt', 'Bread', 'Milk', 'Beer', 'Beer']]        \n",
    "north = [['Milk', 'Milk', 'Beer'], ['Chocolate', 'Bread', 'Chips'], ['Cola', 'Cola', 'Yoghurt', 'Soap', 'Beer', 'Chips', 'Milk'], ['Soap', 'Soap', 'Cola', 'Cola', 'Chips'], ['Milk', 'Beer', 'Meat', 'Ketchup', 'Cola', 'Cola', 'Chips', 'Chips', 'Cola', 'Cola'], ['Beer', 'Bread', 'Bread', 'Beer', 'Beer', 'Beer', 'Bread', 'Cheese'], ['Yoghurt', 'Beer', 'Chips', 'Milk', 'Soap', 'Cola', 'Cola', 'Cola', 'Beer', 'Cola', 'Cola', 'Cola', 'Beer', 'Ketchup', 'Beer', 'Beer', 'Beer', 'Soap'], ['Milk', 'Cola', 'Cola', 'Beer', 'Beer', 'Bread', 'Bread', 'Soap', 'Cola', 'Cola', 'Beer', 'Meat', 'Bread', 'Chips'], ['Beer', 'Beer', 'Beer', 'Chips', 'Milk', 'Cola', 'Chocolate', 'Beer', 'Chocolate', 'Beer', 'Beer', 'Cola', 'Meat', 'Yoghurt', 'Beer'], ['Bread'], ['Chocolate', 'Beer', 'Meat', 'Yoghurt'], ['Cola', 'Beer', 'Beer', 'Beer', 'Chocolate', 'Beer', 'Soap', 'Beer', 'Chips', 'Soap', 'Chocolate', 'Bread', 'Chips', 'Cola', 'Bread', 'Beer', 'Cola', 'Bread'], ['Chips', 'Cola', 'Beer', 'Chips', 'Cola', 'Cola', 'Beer', 'Soap', 'Yoghurt', 'Yoghurt', 'Cola', 'Bread', 'Beer', 'Chocolate', 'Chips', 'Bread', 'Beer', 'Bread'], ['Cola', 'Chocolate'], ['Chocolate', 'Cola', 'Meat', 'Cola', 'Ketchup', 'Cola', 'Chocolate', 'Bread', 'Chocolate', 'Chocolate', 'Meat'], ['Bread', 'Milk', 'Chips', 'Ketchup', 'Cola', 'Cola', 'Cola', 'Beer', 'Beer', 'Soap', 'Beer', 'Cola'], ['Yoghurt', 'Milk', 'Soap', 'Bread', 'Cola', 'Cola', 'Milk', 'Bread', 'Chips', 'Cheese', 'Milk', 'Yoghurt', 'Bread', 'Yoghurt'], ['Cola', 'Ketchup'], ['Cola', 'Yoghurt', 'Bread', 'Cola', 'Cola', 'Chips', 'Yoghurt', 'Milk', 'Beer', 'Chips', 'Bread', 'Beer', 'Beer', 'Cola', 'Bread', 'Beer', 'Beer', 'Cheese'], ['Beer', 'Cheese', 'Ketchup', 'Beer'], ['Beer', 'Beer', 'Beer'], ['Soap', 'Beer', 'Beer', 'Chocolate', 'Cola', 'Chocolate', 'Bread', 'Beer', 'Milk', 'Bread', 'Beer', 'Chocolate', 'Bread', 'Cola', 'Cola', 'Cheese', 'Beer', 'Cola', 'Soap', 'Yoghurt'], ['Beer', 'Chocolate'], ['Cola', 'Beer'], ['Yoghurt', 'Beer', 'Yoghurt', 'Yoghurt', 'Chips', 'Meat', 'Beer', 'Chocolate', 'Cola', 'Cola', 'Chips', 'Bread'], ['Cola', 'Cola', 'Cola', 'Cola', 'Cola', 'Bread', 'Chips', 'Soap', 'Cola', 'Chocolate', 'Beer', 'Beer'], ['Beer', 'Cola', 'Cola', 'Bread', 'Soap', 'Beer', 'Meat', 'Beer', 'Beer', 'Beer', 'Cola', 'Chips', 'Beer', 'Cola', 'Cola', 'Bread', 'Cheese', 'Beer'], ['Cola', 'Cola', 'Ketchup', 'Beer', 'Yoghurt', 'Bread'], ['Chips', 'Yoghurt', 'Cola', 'Cola', 'Cola', 'Chocolate', 'Chips', 'Bread', 'Chocolate', 'Yoghurt', 'Chocolate', 'Milk', 'Bread', 'Bread', 'Soap', 'Milk', 'Soap', 'Cola', 'Bread', 'Beer'], ['Beer', 'Beer', 'Ketchup', 'Cola', 'Beer', 'Bread', 'Beer', 'Cola', 'Beer', 'Chocolate'], ['Beer', 'Chocolate', 'Cola', 'Beer', 'Yoghurt', 'Milk', 'Bread', 'Cheese', 'Yoghurt', 'Beer', 'Cola', 'Yoghurt', 'Cola', 'Soap', 'Beer', 'Bread', 'Meat', 'Bread', 'Cola'], ['Beer', 'Cola', 'Chips', 'Cola'], ['Cola', 'Cola', 'Beer', 'Cheese'], ['Bread', 'Soap', 'Ketchup', 'Chocolate', 'Beer', 'Cola', 'Chocolate', 'Cola', 'Cola', 'Yoghurt', 'Beer', 'Bread', 'Cola', 'Ketchup', 'Beer'], ['Bread'], ['Bread', 'Beer', 'Yoghurt', 'Yoghurt', 'Bread', 'Milk', 'Soap', 'Meat', 'Bread', 'Beer', 'Cola', 'Milk', 'Milk', 'Bread', 'Beer', 'Cola', 'Ketchup', 'Cola'], ['Bread', 'Beer', 'Bread', 'Yoghurt', 'Beer', 'Bread', 'Cola', 'Cola', 'Cola', 'Beer', 'Bread', 'Milk', 'Chips', 'Cola', 'Beer', 'Bread', 'Soap', 'Bread', 'Yoghurt', 'Bread'], ['Yoghurt', 'Beer', 'Cola', 'Beer', 'Beer', 'Beer'], ['Chips', 'Chocolate', 'Soap', 'Chocolate', 'Cola', 'Bread', 'Beer', 'Cola', 'Beer', 'Ketchup', 'Chocolate', 'Ketchup', 'Ketchup', 'Cheese', 'Chips', 'Beer', 'Chips', 'Chocolate'], ['Bread', 'Cola', 'Cola', 'Beer', 'Bread', 'Bread', 'Beer', 'Chocolate', 'Bread', 'Cola', 'Milk', 'Chips', 'Meat', 'Beer', 'Beer', 'Soap', 'Bread'], ['Beer', 'Beer', 'Bread', 'Chips', 'Beer', 'Bread', 'Bread', 'Chips', 'Beer'], ['Yoghurt', 'Bread', 'Cola', 'Bread', 'Cola', 'Bread', 'Meat', 'Cola', 'Bread', 'Beer', 'Soap', 'Chips'], ['Bread', 'Beer'], ['Milk', 'Beer', 'Meat', 'Cola', 'Beer', 'Cola', 'Cola'], ['Beer', 'Chips', 'Yoghurt', 'Beer', 'Cola', 'Beer', 'Cola', 'Cola', 'Soap', 'Cola'], ['Bread', 'Cola', 'Cola', 'Meat'], ['Cola', 'Chocolate', 'Meat', 'Beer', 'Cola', 'Bread', 'Chips', 'Beer', 'Chips', 'Chips', 'Cola'], ['Bread', 'Cola', 'Cola', 'Cola', 'Beer', 'Cola', 'Yoghurt', 'Beer', 'Chips', 'Cola', 'Chocolate', 'Chips', 'Cola', 'Cola', 'Cola', 'Cola', 'Bread', 'Cola'], ['Cola', 'Soap', 'Cola'], ['Soap', 'Chips', 'Cola', 'Beer', 'Bread', 'Soap', 'Cheese', 'Bread', 'Beer', 'Chocolate']]\n",
    "p(type(center), type(south), type(north))\n",
    "p(len(center), len(south), len(north))\n",
    "p(center, south, north )\n"
   ]
  },
  {
   "cell_type": "code",
   "execution_count": 296,
   "metadata": {
    "ExecuteTime": {
     "end_time": "2024-06-03T16:23:46.630010Z",
     "start_time": "2024-06-03T16:23:46.615980Z"
    }
   },
   "outputs": [
    {
     "name": "stdout",
     "output_type": "stream",
     "text": [
      "['Cola', 'Meat', 'Cheese', 'Yoghurt', 'Beer', 'Milk', 'Milk', 'Meat', 'Cola', 'Cola', 'Cheese', 'Beer', 'Yoghurt', 'Beer', 'Bread', 'Bread', 'Milk', 'Cheese', 'Chocolate', 'Soap', 'Milk', 'Cola', 'Milk', 'Bread', 'Yoghurt', 'Meat', 'Meat', 'Bread', 'Milk', 'Beer', 'Beer', 'Chocolate', 'Meat', 'Chocolate', 'Cola', 'Cola', 'Cola', 'Cola', 'Yoghurt', 'Bread', 'Meat', 'Soap', 'Soap', 'Milk', 'Milk', 'Cola', 'Beer', 'Beer', 'Meat', 'Chips', 'Bread', 'Bread', 'Bread', 'Bread', 'Milk', 'Cola', 'Chocolate', 'Bread', 'Beer', 'Chips', 'Bread', 'Bread', 'Yoghurt', 'Chips', 'Milk', 'Soap', 'Meat', 'Beer', 'Milk', 'Chocolate', 'Bread', 'Yoghurt', 'Chips', 'Meat', 'Chocolate', 'Bread', 'Cola', 'Cola', 'Chocolate', 'Meat', 'Yoghurt', 'Milk', 'Bread', 'Soap', 'Bread', 'Meat', 'Beer', 'Yoghurt', 'Milk', 'Cola', 'Bread', 'Ketchup', 'Meat', 'Milk', 'Meat', 'Beer', 'Yoghurt', 'Cola', 'Bread', 'Cola', 'Chocolate', 'Chips', 'Meat', 'Cheese', 'Milk', 'Milk', 'Cheese', 'Meat', 'Chips', 'Yoghurt', 'Cheese', 'Soap', 'Ketchup', 'Cheese', 'Soap', 'Beer', 'Ketchup', 'Ketchup', 'Milk', 'Bread', 'Bread', 'Beer', 'Meat', 'Ketchup', 'Bread', 'Beer', 'Milk', 'Bread', 'Meat', 'Ketchup', 'Cheese', 'Meat', 'Chips', 'Bread', 'Meat', 'Milk', 'Soap', 'Chocolate', 'Meat', 'Chocolate', 'Chocolate', 'Bread', 'Cheese', 'Soap', 'Cola', 'Yoghurt', 'Cheese', 'Milk', 'Bread', 'Milk', 'Chips', 'Chips', 'Meat', 'Beer', 'Chocolate', 'Chocolate', 'Ketchup', 'Beer', 'Cheese', 'Cola', 'Chocolate', 'Cheese', 'Bread', 'Milk', 'Yoghurt', 'Ketchup', 'Beer', 'Meat', 'Chips', 'Yoghurt', 'Meat', 'Bread', 'Chips', 'Yoghurt', 'Milk', 'Ketchup', 'Yoghurt', 'Beer', 'Cheese', 'Bread', 'Bread', 'Ketchup', 'Bread', 'Bread', 'Yoghurt', 'Meat', 'Soap', 'Meat', 'Bread', 'Beer', 'Milk', 'Beer', 'Cola', 'Beer', 'Meat', 'Meat', 'Cheese', 'Meat', 'Chocolate', 'Bread', 'Ketchup', 'Milk', 'Soap', 'Cheese', 'Chocolate', 'Milk', 'Chocolate', 'Cola', 'Bread', 'Chips', 'Cheese', 'Soap', 'Ketchup', 'Cheese', 'Chips', 'Cheese', 'Cola', 'Chocolate', 'Beer', 'Bread', 'Bread', 'Cola', 'Ketchup', 'Cola', 'Bread', 'Meat', 'Yoghurt', 'Milk', 'Beer', 'Beer', 'Cheese', 'Meat', 'Bread', 'Cheese', 'Meat', 'Chocolate', 'Chocolate', 'Soap', 'Chips', 'Beer', 'Bread', 'Yoghurt', 'Chips', 'Chocolate', 'Beer', 'Cheese', 'Cola', 'Milk', 'Chips', 'Milk', 'Ketchup', 'Cola', 'Meat', 'Beer', 'Cheese', 'Yoghurt', 'Soap', 'Meat', 'Beer', 'Milk', 'Bread', 'Beer', 'Cheese', 'Chocolate', 'Beer', 'Beer', 'Milk', 'Beer', 'Bread', 'Meat', 'Beer', 'Chocolate', 'Beer', 'Soap', 'Chips', 'Cola', 'Cola', 'Beer', 'Meat', 'Chips', 'Soap', 'Cola', 'Bread', 'Cola', 'Bread', 'Chips', 'Ketchup', 'Ketchup', 'Beer', 'Ketchup', 'Cola', 'Milk', 'Cheese', 'Cheese', 'Milk', 'Chips', 'Bread', 'Yoghurt', 'Soap', 'Beer', 'Chips', 'Ketchup', 'Chips', 'Beer', 'Yoghurt', 'Cola', 'Cheese', 'Chocolate', 'Beer', 'Meat', 'Bread', 'Meat', 'Bread', 'Cola', 'Beer', 'Yoghurt', 'Beer', 'Bread', 'Beer', 'Meat', 'Bread', 'Milk', 'Soap', 'Milk', 'Chocolate', 'Meat', 'Meat', 'Meat', 'Chips', 'Chocolate', 'Meat', 'Beer', 'Cola', 'Chocolate', 'Bread', 'Cheese', 'Cheese', 'Milk', 'Chips', 'Cola', 'Milk', 'Bread', 'Bread', 'Beer', 'Milk', 'Cola', 'Chocolate', 'Chocolate', 'Meat', 'Cola', 'Cola', 'Beer', 'Cola', 'Chocolate', 'Bread', 'Bread', 'Cola', 'Chocolate', 'Chocolate', 'Beer', 'Beer', 'Bread', 'Yoghurt', 'Meat', 'Cola', 'Yoghurt', 'Ketchup', 'Cola', 'Ketchup', 'Yoghurt', 'Chips', 'Soap', 'Soap', 'Chocolate', 'Chocolate', 'Bread', 'Beer', 'Meat', 'Bread', 'Meat', 'Soap', 'Cola', 'Bread', 'Cola', 'Yoghurt', 'Meat', 'Bread', 'Cola', 'Cola', 'Ketchup', 'Beer', 'Bread', 'Milk', 'Yoghurt', 'Meat', 'Chocolate', 'Yoghurt', 'Bread', 'Meat', 'Bread', 'Bread', 'Bread', 'Beer', 'Milk', 'Cola', 'Ketchup', 'Cola', 'Cheese', 'Meat', 'Chocolate', 'Soap', 'Beer', 'Chocolate', 'Chocolate', 'Cola', 'Cola', 'Yoghurt', 'Ketchup', 'Milk', 'Meat', 'Yoghurt', 'Bread', 'Ketchup', 'Ketchup', 'Milk', 'Meat', 'Ketchup', 'Soap', 'Chips', 'Ketchup', 'Bread', 'Chocolate', 'Milk', 'Bread', 'Bread', 'Ketchup', 'Cola', 'Meat', 'Milk', 'Bread', 'Cola', 'Meat', 'Beer', 'Yoghurt', 'Chips', 'Beer', 'Meat', 'Cola', 'Beer', 'Meat', 'Ketchup', 'Milk', 'Cola', 'Yoghurt', 'Beer', 'Meat', 'Bread', 'Bread', 'Meat', 'Soap', 'Cheese', 'Ketchup', 'Cola', 'Cola', 'Bread', 'Chips', 'Meat', 'Cola', 'Bread', 'Beer', 'Beer', 'Beer', 'Meat', 'Yoghurt', 'Bread', 'Milk', 'Beer', 'Beer', 'Milk', 'Milk', 'Beer', 'Chocolate', 'Bread', 'Chips', 'Cola', 'Cola', 'Yoghurt', 'Soap', 'Beer', 'Chips', 'Milk', 'Soap', 'Soap', 'Cola', 'Cola', 'Chips', 'Milk', 'Beer', 'Meat', 'Ketchup', 'Cola', 'Cola', 'Chips', 'Chips', 'Cola', 'Cola', 'Beer', 'Bread', 'Bread', 'Beer', 'Beer', 'Beer', 'Bread', 'Cheese', 'Yoghurt', 'Beer', 'Chips', 'Milk', 'Soap', 'Cola', 'Cola', 'Cola', 'Beer', 'Cola', 'Cola', 'Cola', 'Beer', 'Ketchup', 'Beer', 'Beer', 'Beer', 'Soap', 'Milk', 'Cola', 'Cola', 'Beer', 'Beer', 'Bread', 'Bread', 'Soap', 'Cola', 'Cola', 'Beer', 'Meat', 'Bread', 'Chips', 'Beer', 'Beer', 'Beer', 'Chips', 'Milk', 'Cola', 'Chocolate', 'Beer', 'Chocolate', 'Beer', 'Beer', 'Cola', 'Meat', 'Yoghurt', 'Beer', 'Bread', 'Chocolate', 'Beer', 'Meat', 'Yoghurt', 'Cola', 'Beer', 'Beer', 'Beer', 'Chocolate', 'Beer', 'Soap', 'Beer', 'Chips', 'Soap', 'Chocolate', 'Bread', 'Chips', 'Cola', 'Bread', 'Beer', 'Cola', 'Bread', 'Chips', 'Cola', 'Beer', 'Chips', 'Cola', 'Cola', 'Beer', 'Soap', 'Yoghurt', 'Yoghurt', 'Cola', 'Bread', 'Beer', 'Chocolate', 'Chips', 'Bread', 'Beer', 'Bread', 'Cola', 'Chocolate', 'Chocolate', 'Cola', 'Meat', 'Cola', 'Ketchup', 'Cola', 'Chocolate', 'Bread', 'Chocolate', 'Chocolate', 'Meat', 'Bread', 'Milk', 'Chips', 'Ketchup', 'Cola', 'Cola', 'Cola', 'Beer', 'Beer', 'Soap', 'Beer', 'Cola', 'Yoghurt', 'Milk', 'Soap', 'Bread', 'Cola', 'Cola', 'Milk', 'Bread', 'Chips', 'Cheese', 'Milk', 'Yoghurt', 'Bread', 'Yoghurt', 'Cola', 'Ketchup', 'Cola', 'Yoghurt', 'Bread', 'Cola', 'Cola', 'Chips', 'Yoghurt', 'Milk', 'Beer', 'Chips', 'Bread', 'Beer', 'Beer', 'Cola', 'Bread', 'Beer', 'Beer', 'Cheese', 'Beer', 'Cheese', 'Ketchup', 'Beer', 'Beer', 'Beer', 'Beer', 'Soap', 'Beer', 'Beer', 'Chocolate', 'Cola', 'Chocolate', 'Bread', 'Beer', 'Milk', 'Bread', 'Beer', 'Chocolate', 'Bread', 'Cola', 'Cola', 'Cheese', 'Beer', 'Cola', 'Soap', 'Yoghurt', 'Beer', 'Chocolate', 'Cola', 'Beer', 'Yoghurt', 'Beer', 'Yoghurt', 'Yoghurt', 'Chips', 'Meat', 'Beer', 'Chocolate', 'Cola', 'Cola', 'Chips', 'Bread', 'Cola', 'Cola', 'Cola', 'Cola', 'Cola', 'Bread', 'Chips', 'Soap', 'Cola', 'Chocolate', 'Beer', 'Beer', 'Beer', 'Cola', 'Cola', 'Bread', 'Soap', 'Beer', 'Meat', 'Beer', 'Beer', 'Beer', 'Cola', 'Chips', 'Beer', 'Cola', 'Cola', 'Bread', 'Cheese', 'Beer', 'Cola', 'Cola', 'Ketchup', 'Beer', 'Yoghurt', 'Bread', 'Chips', 'Yoghurt', 'Cola', 'Cola', 'Cola', 'Chocolate', 'Chips', 'Bread', 'Chocolate', 'Yoghurt', 'Chocolate', 'Milk', 'Bread', 'Bread', 'Soap', 'Milk', 'Soap', 'Cola', 'Bread', 'Beer', 'Beer', 'Beer', 'Ketchup', 'Cola', 'Beer', 'Bread', 'Beer', 'Cola', 'Beer', 'Chocolate', 'Beer', 'Chocolate', 'Cola', 'Beer', 'Yoghurt', 'Milk', 'Bread', 'Cheese', 'Yoghurt', 'Beer', 'Cola', 'Yoghurt', 'Cola', 'Soap', 'Beer', 'Bread', 'Meat', 'Bread', 'Cola', 'Beer', 'Cola', 'Chips', 'Cola', 'Cola', 'Cola', 'Beer', 'Cheese', 'Bread', 'Soap', 'Ketchup', 'Chocolate', 'Beer', 'Cola', 'Chocolate', 'Cola', 'Cola', 'Yoghurt', 'Beer', 'Bread', 'Cola', 'Ketchup', 'Beer', 'Bread', 'Bread', 'Beer', 'Yoghurt', 'Yoghurt', 'Bread', 'Milk', 'Soap', 'Meat', 'Bread', 'Beer', 'Cola', 'Milk', 'Milk', 'Bread', 'Beer', 'Cola', 'Ketchup', 'Cola', 'Bread', 'Beer', 'Bread', 'Yoghurt', 'Beer', 'Bread', 'Cola', 'Cola', 'Cola', 'Beer', 'Bread', 'Milk', 'Chips', 'Cola', 'Beer', 'Bread', 'Soap', 'Bread', 'Yoghurt', 'Bread', 'Yoghurt', 'Beer', 'Cola', 'Beer', 'Beer', 'Beer', 'Chips', 'Chocolate', 'Soap', 'Chocolate', 'Cola', 'Bread', 'Beer', 'Cola', 'Beer', 'Ketchup', 'Chocolate', 'Ketchup', 'Ketchup', 'Cheese', 'Chips', 'Beer', 'Chips', 'Chocolate', 'Bread', 'Cola', 'Cola', 'Beer', 'Bread', 'Bread', 'Beer', 'Chocolate', 'Bread', 'Cola', 'Milk', 'Chips', 'Meat', 'Beer', 'Beer', 'Soap', 'Bread', 'Beer', 'Beer', 'Bread', 'Chips', 'Beer', 'Bread', 'Bread', 'Chips', 'Beer', 'Yoghurt', 'Bread', 'Cola', 'Bread', 'Cola', 'Bread', 'Meat', 'Cola', 'Bread', 'Beer', 'Soap', 'Chips', 'Bread', 'Beer', 'Milk', 'Beer', 'Meat', 'Cola', 'Beer', 'Cola', 'Cola', 'Beer', 'Chips', 'Yoghurt', 'Beer', 'Cola', 'Beer', 'Cola', 'Cola', 'Soap', 'Cola', 'Bread', 'Cola', 'Cola', 'Meat', 'Cola', 'Chocolate', 'Meat', 'Beer', 'Cola', 'Bread', 'Chips', 'Beer', 'Chips', 'Chips', 'Cola', 'Bread', 'Cola', 'Cola', 'Cola', 'Beer', 'Cola', 'Yoghurt', 'Beer', 'Chips', 'Cola', 'Chocolate', 'Chips', 'Cola', 'Cola', 'Cola', 'Cola', 'Bread', 'Cola', 'Cola', 'Soap', 'Cola', 'Soap', 'Chips', 'Cola', 'Beer', 'Bread', 'Soap', 'Cheese', 'Bread', 'Beer', 'Chocolate'] ['Cola', 'Meat', 'Cheese', 'Yoghurt', 'Beer', 'Milk', 'Milk', 'Meat', 'Cola', 'Cola', 'Cheese', 'Beer', 'Yoghurt', 'Beer', 'Bread', 'Bread', 'Milk', 'Cheese', 'Chocolate', 'Soap', 'Milk', 'Cola', 'Milk', 'Bread', 'Yoghurt', 'Meat', 'Meat', 'Bread', 'Milk', 'Beer', 'Beer', 'Chocolate', 'Meat', 'Chocolate', 'Cola', 'Cola', 'Cola', 'Cola', 'Yoghurt', 'Bread', 'Meat', 'Soap', 'Soap', 'Milk', 'Milk', 'Cola', 'Beer', 'Beer', 'Meat', 'Chips', 'Bread', 'Bread', 'Bread', 'Bread', 'Milk', 'Cola', 'Chocolate', 'Bread', 'Beer', 'Chips', 'Bread', 'Bread', 'Yoghurt', 'Chips', 'Milk', 'Soap', 'Meat', 'Beer', 'Milk', 'Chocolate', 'Bread', 'Yoghurt', 'Chips', 'Meat', 'Chocolate', 'Bread', 'Cola', 'Cola', 'Chocolate', 'Meat', 'Yoghurt', 'Milk', 'Bread', 'Soap', 'Bread', 'Meat', 'Beer', 'Yoghurt', 'Milk', 'Cola', 'Bread', 'Ketchup', 'Meat', 'Milk', 'Meat', 'Beer', 'Yoghurt', 'Cola', 'Bread', 'Cola', 'Chocolate', 'Chips', 'Meat', 'Cheese', 'Milk', 'Milk', 'Cheese', 'Meat', 'Chips', 'Yoghurt', 'Cheese', 'Soap', 'Ketchup', 'Cheese', 'Soap', 'Beer', 'Ketchup', 'Ketchup', 'Milk', 'Bread', 'Bread', 'Beer', 'Meat', 'Ketchup', 'Bread', 'Beer', 'Milk', 'Bread', 'Meat', 'Ketchup', 'Cheese', 'Meat', 'Chips', 'Bread', 'Meat', 'Milk', 'Soap', 'Chocolate', 'Meat', 'Chocolate', 'Chocolate', 'Bread', 'Cheese', 'Soap', 'Cola', 'Yoghurt', 'Cheese', 'Milk', 'Bread', 'Milk', 'Chips', 'Chips', 'Meat', 'Beer', 'Chocolate', 'Chocolate', 'Ketchup', 'Beer', 'Cheese', 'Cola', 'Chocolate', 'Cheese', 'Bread', 'Milk', 'Yoghurt', 'Ketchup', 'Beer', 'Meat', 'Chips', 'Yoghurt', 'Meat', 'Bread', 'Chips', 'Yoghurt', 'Milk', 'Ketchup', 'Yoghurt', 'Beer', 'Cheese', 'Bread', 'Bread', 'Ketchup', 'Bread', 'Bread', 'Yoghurt', 'Meat', 'Soap', 'Meat', 'Bread', 'Beer', 'Milk', 'Beer', 'Cola', 'Beer', 'Meat', 'Meat', 'Cheese', 'Meat', 'Chocolate', 'Bread', 'Ketchup', 'Milk', 'Soap', 'Cheese', 'Chocolate', 'Milk', 'Chocolate', 'Cola', 'Bread', 'Chips', 'Cheese', 'Soap', 'Ketchup', 'Cheese', 'Chips', 'Cheese', 'Cola', 'Chocolate', 'Beer', 'Bread', 'Bread', 'Cola', 'Ketchup', 'Cola', 'Bread', 'Meat', 'Yoghurt', 'Milk', 'Beer', 'Beer', 'Cheese', 'Meat', 'Bread', 'Cheese', 'Meat', 'Chocolate', 'Chocolate', 'Soap', 'Chips', 'Beer', 'Bread', 'Yoghurt', 'Chips', 'Chocolate', 'Beer', 'Cheese', 'Cola', 'Milk', 'Chips', 'Milk', 'Ketchup', 'Cola', 'Meat', 'Beer', 'Cheese', 'Yoghurt', 'Soap', 'Meat', 'Beer', 'Milk', 'Bread', 'Beer', 'Cheese', 'Chocolate', 'Beer', 'Beer', 'Milk', 'Beer', 'Bread', 'Meat', 'Beer', 'Chocolate', 'Beer', 'Soap', 'Chips', 'Cola', 'Cola', 'Beer', 'Meat', 'Chips', 'Soap', 'Cola', 'Bread', 'Cola', 'Bread', 'Chips', 'Ketchup', 'Ketchup', 'Beer', 'Ketchup', 'Cola', 'Milk', 'Cheese', 'Cheese', 'Milk', 'Chips', 'Bread', 'Yoghurt', 'Soap', 'Beer', 'Chips', 'Ketchup', 'Chips', 'Beer', 'Yoghurt', 'Cola', 'Cheese', 'Chocolate', 'Beer', 'Meat', 'Bread', 'Meat', 'Bread', 'Cola', 'Beer', 'Yoghurt', 'Beer', 'Bread', 'Beer', 'Meat', 'Bread', 'Milk', 'Soap', 'Milk', 'Chocolate', 'Meat', 'Meat', 'Meat', 'Chips', 'Chocolate', 'Meat', 'Beer', 'Cola', 'Chocolate', 'Bread', 'Cheese', 'Cheese', 'Milk', 'Chips', 'Cola', 'Milk', 'Bread', 'Bread', 'Beer', 'Milk', 'Cola', 'Chocolate', 'Chocolate', 'Meat', 'Cola', 'Cola', 'Beer', 'Cola', 'Chocolate', 'Bread', 'Bread', 'Cola', 'Chocolate', 'Chocolate', 'Beer', 'Beer', 'Bread', 'Yoghurt', 'Meat', 'Cola', 'Yoghurt', 'Ketchup', 'Cola', 'Ketchup', 'Yoghurt', 'Chips', 'Soap', 'Soap', 'Chocolate', 'Chocolate', 'Bread', 'Beer', 'Meat', 'Bread', 'Meat', 'Soap', 'Cola', 'Bread', 'Cola', 'Yoghurt', 'Meat', 'Bread', 'Cola', 'Cola', 'Ketchup', 'Beer', 'Bread', 'Milk', 'Yoghurt', 'Meat', 'Chocolate', 'Yoghurt', 'Bread', 'Meat', 'Bread', 'Bread', 'Bread', 'Beer', 'Milk', 'Cola', 'Ketchup', 'Cola', 'Cheese', 'Meat', 'Chocolate', 'Soap', 'Beer', 'Chocolate', 'Chocolate', 'Cola', 'Cola', 'Yoghurt', 'Ketchup', 'Milk', 'Meat', 'Yoghurt', 'Bread', 'Ketchup', 'Ketchup', 'Milk', 'Meat', 'Ketchup', 'Soap', 'Chips', 'Ketchup', 'Bread', 'Chocolate', 'Milk', 'Bread', 'Bread', 'Ketchup', 'Cola', 'Meat', 'Milk', 'Bread', 'Cola', 'Meat', 'Beer', 'Yoghurt', 'Chips', 'Beer', 'Meat', 'Cola', 'Beer', 'Meat', 'Ketchup', 'Milk', 'Cola', 'Yoghurt', 'Beer', 'Meat', 'Bread', 'Bread', 'Meat', 'Soap', 'Cheese', 'Ketchup', 'Cola', 'Cola', 'Bread', 'Chips', 'Meat', 'Cola', 'Bread', 'Beer', 'Beer', 'Beer', 'Meat', 'Yoghurt', 'Bread', 'Milk', 'Beer', 'Beer'] ['Milk', 'Milk', 'Beer', 'Chocolate', 'Bread', 'Chips', 'Cola', 'Cola', 'Yoghurt', 'Soap', 'Beer', 'Chips', 'Milk', 'Soap', 'Soap', 'Cola', 'Cola', 'Chips', 'Milk', 'Beer', 'Meat', 'Ketchup', 'Cola', 'Cola', 'Chips', 'Chips', 'Cola', 'Cola', 'Beer', 'Bread', 'Bread', 'Beer', 'Beer', 'Beer', 'Bread', 'Cheese', 'Yoghurt', 'Beer', 'Chips', 'Milk', 'Soap', 'Cola', 'Cola', 'Cola', 'Beer', 'Cola', 'Cola', 'Cola', 'Beer', 'Ketchup', 'Beer', 'Beer', 'Beer', 'Soap', 'Milk', 'Cola', 'Cola', 'Beer', 'Beer', 'Bread', 'Bread', 'Soap', 'Cola', 'Cola', 'Beer', 'Meat', 'Bread', 'Chips', 'Beer', 'Beer', 'Beer', 'Chips', 'Milk', 'Cola', 'Chocolate', 'Beer', 'Chocolate', 'Beer', 'Beer', 'Cola', 'Meat', 'Yoghurt', 'Beer', 'Bread', 'Chocolate', 'Beer', 'Meat', 'Yoghurt', 'Cola', 'Beer', 'Beer', 'Beer', 'Chocolate', 'Beer', 'Soap', 'Beer', 'Chips', 'Soap', 'Chocolate', 'Bread', 'Chips', 'Cola', 'Bread', 'Beer', 'Cola', 'Bread', 'Chips', 'Cola', 'Beer', 'Chips', 'Cola', 'Cola', 'Beer', 'Soap', 'Yoghurt', 'Yoghurt', 'Cola', 'Bread', 'Beer', 'Chocolate', 'Chips', 'Bread', 'Beer', 'Bread', 'Cola', 'Chocolate', 'Chocolate', 'Cola', 'Meat', 'Cola', 'Ketchup', 'Cola', 'Chocolate', 'Bread', 'Chocolate', 'Chocolate', 'Meat', 'Bread', 'Milk', 'Chips', 'Ketchup', 'Cola', 'Cola', 'Cola', 'Beer', 'Beer', 'Soap', 'Beer', 'Cola', 'Yoghurt', 'Milk', 'Soap', 'Bread', 'Cola', 'Cola', 'Milk', 'Bread', 'Chips', 'Cheese', 'Milk', 'Yoghurt', 'Bread', 'Yoghurt', 'Cola', 'Ketchup', 'Cola', 'Yoghurt', 'Bread', 'Cola', 'Cola', 'Chips', 'Yoghurt', 'Milk', 'Beer', 'Chips', 'Bread', 'Beer', 'Beer', 'Cola', 'Bread', 'Beer', 'Beer', 'Cheese', 'Beer', 'Cheese', 'Ketchup', 'Beer', 'Beer', 'Beer', 'Beer', 'Soap', 'Beer', 'Beer', 'Chocolate', 'Cola', 'Chocolate', 'Bread', 'Beer', 'Milk', 'Bread', 'Beer', 'Chocolate', 'Bread', 'Cola', 'Cola', 'Cheese', 'Beer', 'Cola', 'Soap', 'Yoghurt', 'Beer', 'Chocolate', 'Cola', 'Beer', 'Yoghurt', 'Beer', 'Yoghurt', 'Yoghurt', 'Chips', 'Meat', 'Beer', 'Chocolate', 'Cola', 'Cola', 'Chips', 'Bread', 'Cola', 'Cola', 'Cola', 'Cola', 'Cola', 'Bread', 'Chips', 'Soap', 'Cola', 'Chocolate', 'Beer', 'Beer', 'Beer', 'Cola', 'Cola', 'Bread', 'Soap', 'Beer', 'Meat', 'Beer', 'Beer', 'Beer', 'Cola', 'Chips', 'Beer', 'Cola', 'Cola', 'Bread', 'Cheese', 'Beer', 'Cola', 'Cola', 'Ketchup', 'Beer', 'Yoghurt', 'Bread', 'Chips', 'Yoghurt', 'Cola', 'Cola', 'Cola', 'Chocolate', 'Chips', 'Bread', 'Chocolate', 'Yoghurt', 'Chocolate', 'Milk', 'Bread', 'Bread', 'Soap', 'Milk', 'Soap', 'Cola', 'Bread', 'Beer', 'Beer', 'Beer', 'Ketchup', 'Cola', 'Beer', 'Bread', 'Beer', 'Cola', 'Beer', 'Chocolate', 'Beer', 'Chocolate', 'Cola', 'Beer', 'Yoghurt', 'Milk', 'Bread', 'Cheese', 'Yoghurt', 'Beer', 'Cola', 'Yoghurt', 'Cola', 'Soap', 'Beer', 'Bread', 'Meat', 'Bread', 'Cola', 'Beer', 'Cola', 'Chips', 'Cola', 'Cola', 'Cola', 'Beer', 'Cheese', 'Bread', 'Soap', 'Ketchup', 'Chocolate', 'Beer', 'Cola', 'Chocolate', 'Cola', 'Cola', 'Yoghurt', 'Beer', 'Bread', 'Cola', 'Ketchup', 'Beer', 'Bread', 'Bread', 'Beer', 'Yoghurt', 'Yoghurt', 'Bread', 'Milk', 'Soap', 'Meat', 'Bread', 'Beer', 'Cola', 'Milk', 'Milk', 'Bread', 'Beer', 'Cola', 'Ketchup', 'Cola', 'Bread', 'Beer', 'Bread', 'Yoghurt', 'Beer', 'Bread', 'Cola', 'Cola', 'Cola', 'Beer', 'Bread', 'Milk', 'Chips', 'Cola', 'Beer', 'Bread', 'Soap', 'Bread', 'Yoghurt', 'Bread', 'Yoghurt', 'Beer', 'Cola', 'Beer', 'Beer', 'Beer', 'Chips', 'Chocolate', 'Soap', 'Chocolate', 'Cola', 'Bread', 'Beer', 'Cola', 'Beer', 'Ketchup', 'Chocolate', 'Ketchup', 'Ketchup', 'Cheese', 'Chips', 'Beer', 'Chips', 'Chocolate', 'Bread', 'Cola', 'Cola', 'Beer', 'Bread', 'Bread', 'Beer', 'Chocolate', 'Bread', 'Cola', 'Milk', 'Chips', 'Meat', 'Beer', 'Beer', 'Soap', 'Bread', 'Beer', 'Beer', 'Bread', 'Chips', 'Beer', 'Bread', 'Bread', 'Chips', 'Beer', 'Yoghurt', 'Bread', 'Cola', 'Bread', 'Cola', 'Bread', 'Meat', 'Cola', 'Bread', 'Beer', 'Soap', 'Chips', 'Bread', 'Beer', 'Milk', 'Beer', 'Meat', 'Cola', 'Beer', 'Cola', 'Cola', 'Beer', 'Chips', 'Yoghurt', 'Beer', 'Cola', 'Beer', 'Cola', 'Cola', 'Soap', 'Cola', 'Bread', 'Cola', 'Cola', 'Meat', 'Cola', 'Chocolate', 'Meat', 'Beer', 'Cola', 'Bread', 'Chips', 'Beer', 'Chips', 'Chips', 'Cola', 'Bread', 'Cola', 'Cola', 'Cola', 'Beer', 'Cola', 'Yoghurt', 'Beer', 'Chips', 'Cola', 'Chocolate', 'Chips', 'Cola', 'Cola', 'Cola', 'Cola', 'Bread', 'Cola', 'Cola', 'Soap', 'Cola', 'Soap', 'Chips', 'Cola', 'Beer', 'Bread', 'Soap', 'Cheese', 'Bread', 'Beer', 'Chocolate']\n"
     ]
    }
   ],
   "source": [
    "# Теперь получите объекты-счётчики (Counter) из каждого полученного в предыдущем задании списка покупок и сохраните их в отдельные переменные (они пригодятся для выполнения следующих задач).\n",
    "# Сколько раз покупали самый редкий товар в магазине north? Запишите ответ в числовой форме.\n",
    "def flatten_list(args):\n",
    "    flat_l = []   \n",
    "    for i in args:\n",
    "        if type(i) is list:\n",
    "            flat_l += flatten_list(i)\n",
    "        else:\n",
    "            flat_l.append(i)\n",
    "            \n",
    "    return flat_l \n",
    "            \n",
    "center_fl = flatten_list( center )\n",
    "south_fl = flatten_list( south )\n",
    "north_fl = flatten_list( north )\n",
    "\n",
    "p( center_fl, south_fl, north_fl )"
   ]
  },
  {
   "cell_type": "code",
   "execution_count": 297,
   "metadata": {
    "ExecuteTime": {
     "end_time": "2024-06-03T16:23:49.287751Z",
     "start_time": "2024-06-03T16:23:49.270730Z"
    }
   },
   "outputs": [
    {
     "name": "stdout",
     "output_type": "stream",
     "text": [
      "Counter({'Beer': 176, 'Cola': 176, 'Bread': 145, 'Meat': 75, 'Chocolate': 72, 'Milk': 68, 'Chips': 67, 'Yoghurt': 63, 'Soap': 52, 'Ketchup': 44, 'Cheese': 40}) \n",
      "\n",
      "Counter({'Bread': 73, 'Beer': 60, 'Meat': 60, 'Cola': 55, 'Milk': 46, 'Chocolate': 39, 'Yoghurt': 33, 'Cheese': 30, 'Ketchup': 30, 'Chips': 28, 'Soap': 24}) \n",
      "\n",
      "Counter({'Cola': 121, 'Beer': 116, 'Bread': 72, 'Chips': 39, 'Chocolate': 33, 'Yoghurt': 30, 'Soap': 28, 'Milk': 22, 'Meat': 15, 'Ketchup': 14, 'Cheese': 10}) \n",
      "\n"
     ]
    }
   ],
   "source": [
    "# Теперь получите объекты-счётчики (Counter) из каждого полученного в предыдущем задании списка покупок и сохраните их в отдельные переменные (они пригодятся для выполнения следующих задач).\n",
    "# Сколько раз покупали самый редкий товар в магазине north? Запишите ответ в числовой форме.\n",
    "\n",
    "c_center_fl = Counter(sorted(center_fl))\n",
    "c_south_fl = Counter(sorted(south_fl))\n",
    "c_north_fl = Counter(sorted(north_fl))\n",
    "\n",
    "[p(j, '\\n') for j in ( c_center_fl, c_south_fl, c_north_fl )];"
   ]
  },
  {
   "cell_type": "code",
   "execution_count": 258,
   "metadata": {
    "ExecuteTime": {
     "end_time": "2024-06-03T15:45:51.375827Z",
     "start_time": "2024-06-03T15:45:51.362753Z"
    }
   },
   "outputs": [
    {
     "name": "stdout",
     "output_type": "stream",
     "text": [
      "[('Bread', 73), ('Beer', 60), ('Meat', 60), ('Cola', 55), ('Milk', 46), ('Chocolate', 39), ('Yoghurt', 33), ('Cheese', 30), ('Ketchup', 30), ('Chips', 28), ('Soap', 24)]\n"
     ]
    }
   ],
   "source": [
    "# Выберите товар, который в магазине center покупали чаще, чем в магазине north:\n",
    "p( sorted( Counter(c_center_fl - c_north_fl).items(), key=lambda pair: pair[1], reverse=True) )"
   ]
  },
  {
   "cell_type": "code",
   "execution_count": 259,
   "metadata": {
    "ExecuteTime": {
     "end_time": "2024-06-03T15:45:52.336176Z",
     "start_time": "2024-06-03T15:45:52.326176Z"
    }
   },
   "outputs": [
    {
     "name": "stdout",
     "output_type": "stream",
     "text": [
      "[('Bread', 73), ('Beer', 60), ('Meat', 60), ('Cola', 55), ('Milk', 46), ('Chocolate', 39), ('Yoghurt', 33), ('Cheese', 30), ('Ketchup', 30), ('Chips', 28), ('Soap', 24)]\n"
     ]
    }
   ],
   "source": [
    "c_center_fl.subtract(c_north_fl)\n",
    "p( sorted(c_center_fl.items(), key=lambda pair: pair[1], reverse=True) )\n",
    "# Using the Counter.most_common([N]) method\n",
    "# It essentially returns a sorted list of the counts from the most common element to the least common element in the counter. If N is omitted it returns all elements in the counter and if N is mentioned it returns only the first N elements of the returned list. Elements with equal counts are ordered arbitrarily."
   ]
  },
  {
   "cell_type": "code",
   "execution_count": 287,
   "metadata": {
    "ExecuteTime": {
     "end_time": "2024-06-03T16:20:59.173307Z",
     "start_time": "2024-06-03T16:20:59.164321Z"
    }
   },
   "outputs": [
    {
     "name": "stdout",
     "output_type": "stream",
     "text": [
      "Counter({'Soap': -48, 'Chips': -56, 'Cheese': -60, 'Ketchup': -60, 'Yoghurt': -66, 'Chocolate': -78, 'Milk': -92, 'Cola': -110, 'Beer': -120, 'Meat': -120, 'Bread': -146}) \n",
      "\n"
     ]
    }
   ],
   "source": [
    "# Есть ли такой товар, который в одном из магазинов покупали чаще, чем в двух других вместе взятых? Если да, выберите магазин с настолько популярным товаром:\n",
    "c_center_fl = Counter(sorted(center_fl))\n",
    "c_south_fl = Counter(sorted(south_fl))\n",
    "c_north_fl = Counter(sorted(north_fl))\n",
    "p(c_center_fl, '\\n', c_south_fl + c_north_fl, '\\n\\n')\n",
    "c_center_fl.subtract(c_south_fl + c_north_fl)\n",
    "p( c_center_fl, '\\n' )\n",
    "\n",
    "c_center_fl = Counter(sorted(center_fl))\n",
    "c_south_fl = Counter(sorted(south_fl))\n",
    "c_north_fl = Counter(sorted(north_fl))\n",
    "c_south_fl.subtract(c_center_fl + c_north_fl)\n",
    "p(c_south_fl, '\\n')\n",
    "\n",
    "c_center_fl = Counter(sorted(center_fl))\n",
    "c_south_fl = Counter(sorted(south_fl))\n",
    "c_north_fl = Counter(sorted(north_fl))\n",
    "c_north_fl.subtract(c_south_fl + c_center_fl)\n",
    "p(c_north_fl, '\\n')\n"
   ]
  },
  {
   "cell_type": "code",
   "execution_count": 298,
   "metadata": {
    "ExecuteTime": {
     "end_time": "2024-06-03T16:24:06.568653Z",
     "start_time": "2024-06-03T16:24:06.562653Z"
    }
   },
   "outputs": [
    {
     "data": {
      "text/plain": [
       "[('Beer', 352),\n",
       " ('Bread', 290),\n",
       " ('Cheese', 80),\n",
       " ('Chips', 134),\n",
       " ('Chocolate', 144),\n",
       " ('Cola', 352),\n",
       " ('Ketchup', 88),\n",
       " ('Meat', 150),\n",
       " ('Milk', 136),\n",
       " ('Soap', 104),\n",
       " ('Yoghurt', 126)]"
      ]
     },
     "execution_count": 298,
     "metadata": {},
     "output_type": "execute_result"
    }
   ],
   "source": [
    "sorted( (c_center_fl + c_south_fl + c_north_fl) .items() )\n"
   ]
  },
  {
   "cell_type": "code",
   "execution_count": null,
   "metadata": {},
   "outputs": [],
   "source": [
    "ЧУШЬ!!!!!!!!!!!!!!!"
   ]
  },
  {
   "cell_type": "code",
   "execution_count": 328,
   "metadata": {
    "ExecuteTime": {
     "end_time": "2024-06-03T17:05:30.757071Z",
     "start_time": "2024-06-03T17:05:30.741848Z"
    }
   },
   "outputs": [
    {
     "data": {
      "text/plain": [
       "OrderedDict([('WokAndRice', 4.9),\n",
       "             ('WokToWork', 4.9),\n",
       "             ('General Foods', 4.8),\n",
       "             ('New Age', 4.6),\n",
       "             ('Belissimo', 4.5),\n",
       "             ('CakeAndCoffee', 4.2),\n",
       "             ('CakeOClock', 4.2),\n",
       "             ('CakeTime', 4.1),\n",
       "             ('Nice Cakes', 3.9),\n",
       "             ('Old Gold', 3.3),\n",
       "             ('Old Wine Cellar', 3.3),\n",
       "             ('Old York', 3.3)])"
      ]
     },
     "execution_count": 328,
     "metadata": {},
     "output_type": "execute_result"
    }
   ],
   "source": [
    "# Дан список кортежей ratings с рейтингами кафе. Кортеж состоит из названия и рейтинга кафе.\n",
    "# Необходимо отсортировать кортеж по убыванию рейтинга. Если рейтинги совпадают, то отсортировать кафе дополнительно по названию в алфавитном порядке.\n",
    "# Получите словарь cafes с упорядоченными ключами из отсортированного списка, где ключи — названия кафе, а значения — их рейтинг.\n",
    "from collections import OrderedDict\n",
    "from operator import itemgetter, attrgetter\n",
    "\n",
    "ratings = [('Old York', 3.3), ('New Age', 4.6), ('Old Gold', 3.3), ('General Foods', 4.8),\n",
    "           ('Belissimo', 4.5), ('CakeAndCoffee', 4.2), ('CakeOClock', 4.2), ('CakeTime', 4.1),\n",
    "           ('WokToWork', 4.9), ('WokAndRice', 4.9), ('Old Wine Cellar', 3.3), ('Nice Cakes', 3.9)]\n",
    "\n",
    "def multisort(xs, specs):\n",
    "    for key, reverse in reversed(specs):\n",
    "        xs.sort(key=lambda pair: pair[key], reverse=reverse)\n",
    "    return xs\n",
    "\n",
    "cafes = OrderedDict(multisort(list(ratings), ((1, True), (0, False))))\n",
    "cafes\n"
   ]
  },
  {
   "cell_type": "code",
   "execution_count": 417,
   "metadata": {
    "ExecuteTime": {
     "end_time": "2024-06-03T18:01:02.364493Z",
     "start_time": "2024-06-03T18:01:02.346493Z"
    }
   },
   "outputs": [
    {
     "name": "stdout",
     "output_type": "stream",
     "text": [
      "defaultdict(<class 'collections.deque'>, {'office': deque([36871, 40690, 33850]), 'voltage': deque([41667, 35364])})\n"
     ]
    }
   ],
   "source": [
    "# Напишите функцию task_manager(tasks), которая принимает список задач tasks для нескольких серверов. Каждый элемент списка состоит из кортежа (<номер задачи>, <название сервера>, <высокий приоритет задачи>).\n",
    "# Функция должна создавать словарь и заполнять его задачами по следующему принципу: название сервера — ключ, по которому хранится очередь задач для конкретного сервера.\n",
    "# Если поступает задача без высокого приоритета (последний элемент кортежа — False), добавить номер задачи в конец очереди. Если приоритет высокий, добавить номер в начало.\n",
    "# Для словаря используйте defaultdict, для очереди — deque.\n",
    "# Функция возвращает полученный словарь с задачами.\n",
    "from collections import defaultdict\n",
    "from collections import deque\n",
    "\n",
    "\n",
    "tasks = [(36871, 'office', False),\n",
    "(40690, 'office', False),\n",
    "(35364, 'voltage', False),\n",
    "(41667, 'voltage', True),\n",
    "(33850, 'office', False)]\n",
    "\n",
    "tasks = [(36871, 'office', False), (40690, 'office', False), (35364, 'voltage', False)\n",
    "         , (41667, 'voltage', True), (33850, 'office', False)]\n",
    "\n",
    "def task_manager(tasks):\n",
    "    tasks = sorted(tasks, key=lambda x: x[-1], reverse=True) \n",
    "    # p(tasks)\n",
    "    res = defaultdict(deque)\n",
    "    for n, s, boo in tasks:\n",
    "        res[s].append(n)\n",
    "#     return res\n",
    "    def task_m(t):\n",
    "#         p(t)\n",
    "        t = sorted(t.items(), key=lambda x: x[1], reverse=False) \n",
    "#         p(t)\n",
    "        res = defaultdict(deque)\n",
    "        for n, s in t:\n",
    "#             p(n, s)\n",
    "            res[n].extend(s)\n",
    "        return res \n",
    "    return task_m(OrderedDict(res))\n",
    "#     OrderedDict(res)\n",
    "\n",
    "z = task_manager(tasks)\n",
    "print(task_manager(tasks))\n",
    "# defaultdict(, {'voltage': deque([41667, 35364]),\n",
    "# 'office': deque([36871, 40690, 33850])})\n",
    "\n",
    "# Ожидаемый ответ:\n",
    "# defaultdict(<class 'collections.deque'>, {'office': deque([36871, 40690, 33850])\n",
    "#     , 'voltage': deque([41667, 35364])})\n"
   ]
  },
  {
   "cell_type": "markdown",
   "metadata": {
    "ExecuteTime": {
     "end_time": "2024-06-03T18:23:39.801975Z",
     "start_time": "2024-06-03T18:23:39.796972Z"
    }
   },
   "source": [
    "---\n",
    "\n",
    "##### Модуль NumPy. Типы данных\n",
    "\n",
    "<span style=\"font-size:0.8em;\"> [TOC](#mod1) </span>\n",
    "\n",
    "---\n"
   ]
  },
  {
   "attachments": {
    "image.png": {
     "image/png": "[encoded data removed]"
    }
   },
   "cell_type": "markdown",
   "metadata": {},
   "source": [
    "![image.png](attachment:image.png)"
   ]
  },
  {
   "cell_type": "code",
   "execution_count": 422,
   "metadata": {
    "ExecuteTime": {
     "end_time": "2024-06-03T18:26:20.706389Z",
     "start_time": "2024-06-03T18:26:20.693390Z"
    }
   },
   "outputs": [
    {
     "data": {
      "text/plain": [
       "32768.0"
      ]
     },
     "execution_count": 422,
     "metadata": {},
     "output_type": "execute_result"
    }
   ],
   "source": [
    "( 2**16 ) / 2"
   ]
  },
  {
   "cell_type": "code",
   "execution_count": 427,
   "metadata": {
    "ExecuteTime": {
     "end_time": "2024-06-03T18:29:55.694370Z",
     "start_time": "2024-06-03T18:29:55.675370Z"
    }
   },
   "outputs": [
    {
     "name": "stdout",
     "output_type": "stream",
     "text": [
      "25\n",
      "Machine parameters for int64\n",
      "---------------------------------------------------------------\n",
      "min = -9223372036854775808\n",
      "max = 9223372036854775807\n",
      "---------------------------------------------------------------\n",
      "\n",
      "124\n",
      "<class 'numpy.uint8'>\n"
     ]
    },
    {
     "data": {
      "text/plain": [
       "340282366920938463463374607431768211456"
      ]
     },
     "execution_count": 427,
     "metadata": {},
     "output_type": "execute_result"
    }
   ],
   "source": [
    "# Поэкспериментируйте с функцией iinfo и узнайте границы типов данных int16, int32 и int64.\n",
    "import numpy as np\n",
    "a = np.int8(25)\n",
    "print(a)\n",
    "\n",
    "# Можно применить к самому\n",
    "# названию типа данных\n",
    "np.iinfo(np.int8)\n",
    "# iinfo(min=-128, max=127, dtype=int8)\n",
    "# Можно применить к существующему\n",
    "# конкретному объекту\n",
    "np.iinfo(a)\n",
    "# iinfo(min=-128, max=127, dtype=int8)\n",
    "# Какое максимальное число может храниться в формате np.int64?\n",
    "print(np.iinfo(np.int64))\n",
    "# В NumPy доступны и беззнаковые целочисленные типы данных. Они имеют корень uint (unsigned int — беззнаковое целое). uint доступны также с выделением памяти в 8, 16, 32 и 64 бита. При этом максимально возможное число оказывается в два раза больше, чем для соответствующего int, поскольку отрицательные числа исключены из типа данных uint.\n",
    "b = np.uint8(124)\n",
    "print(b)\n",
    "# 124\n",
    "print(type(b))\n",
    "# <class 'numpy.uint8'>\n",
    "np.iinfo(b)\n",
    "# iinfo(min=0, max=255, dtype=uint8)\n",
    "\n",
    "2**128 "
   ]
  },
  {
   "cell_type": "markdown",
   "metadata": {
    "ExecuteTime": {
     "end_time": "2024-06-03T18:32:44.578883Z",
     "start_time": "2024-06-03T18:32:44.571884Z"
    }
   },
   "source": [
    "Типы данных с плавающей точкой в NumPy\n",
    "Помимо целых чисел, в NumPy, конечно, есть и дробные — float. Их названия строятся по тому же принципу: корень + объём памяти в битах. Беззнаковых float нет.\n",
    "Доступны следующие типы данных float: float16, float32, float64 (применяется по умолчанию, если объём памяти не задан дополнительно), float128.\n",
    "Чтобы узнать границы float и его точность, можно воспользоваться функцией np.finfo(<float тип данных>) (от англ. float info):\n",
    "Примечание. Если ввести в VS Code команду np.finfo(np.float128), ответом будет AttributeError: module 'numpy' has no attribute 'float128'. Всё потому, что numpy.float128 не поддерживается в Windows с использованием компилятора MS. Если вам всё же нужно поработать с numpy.float128, воспользуйтесь онлайн-IDE.\n"
   ]
  },
  {
   "cell_type": "code",
   "execution_count": 430,
   "metadata": {
    "ExecuteTime": {
     "end_time": "2024-06-03T18:33:38.142551Z",
     "start_time": "2024-06-03T18:33:38.116533Z"
    }
   },
   "outputs": [
    {
     "name": "stdout",
     "output_type": "stream",
     "text": [
      "4.12\n",
      "4.13\n",
      "4.12\n",
      "4.125\n",
      "4.125\n",
      "{'?': <class 'numpy.bool_'>, 0: <class 'numpy.bool_'>, 'byte': <class 'numpy.int8'>, 'b': <class 'numpy.int8'>, 1: <class 'numpy.int8'>, 'ubyte': <class 'numpy.uint8'>, 'B': <class 'numpy.uint8'>, 2: <class 'numpy.uint8'>, 'short': <class 'numpy.int16'>, 'h': <class 'numpy.int16'>, 3: <class 'numpy.int16'>, 'ushort': <class 'numpy.uint16'>, 'H': <class 'numpy.uint16'>, 4: <class 'numpy.uint16'>, 'i': <class 'numpy.intc'>, 5: <class 'numpy.intc'>, 'uint': <class 'numpy.uint32'>, 'I': <class 'numpy.uintc'>, 6: <class 'numpy.uintc'>, 'intp': <class 'numpy.int64'>, 'p': <class 'numpy.int64'>, 9: <class 'numpy.int64'>, 'uintp': <class 'numpy.uint64'>, 'P': <class 'numpy.uint64'>, 10: <class 'numpy.uint64'>, 'long': <class 'numpy.int32'>, 'l': <class 'numpy.int32'>, 7: <class 'numpy.int32'>, 'L': <class 'numpy.uint32'>, 8: <class 'numpy.uint32'>, 'longlong': <class 'numpy.int64'>, 'q': <class 'numpy.int64'>, 'ulonglong': <class 'numpy.uint64'>, 'Q': <class 'numpy.uint64'>, 'half': <class 'numpy.float16'>, 'e': <class 'numpy.float16'>, 23: <class 'numpy.float16'>, 'f': <class 'numpy.float32'>, 11: <class 'numpy.float32'>, 'double': <class 'numpy.float64'>, 'd': <class 'numpy.float64'>, 12: <class 'numpy.float64'>, 'longdouble': <class 'numpy.longdouble'>, 'g': <class 'numpy.longdouble'>, 13: <class 'numpy.longdouble'>, 'cfloat': <class 'numpy.complex128'>, 'F': <class 'numpy.complex64'>, 14: <class 'numpy.complex64'>, 'cdouble': <class 'numpy.complex128'>, 'D': <class 'numpy.complex128'>, 15: <class 'numpy.complex128'>, 'clongdouble': <class 'numpy.clongdouble'>, 'G': <class 'numpy.clongdouble'>, 16: <class 'numpy.clongdouble'>, 'O': <class 'numpy.object_'>, 17: <class 'numpy.object_'>, 'S': <class 'numpy.bytes_'>, 18: <class 'numpy.bytes_'>, 'unicode': <class 'numpy.str_'>, 'U': <class 'numpy.str_'>, 19: <class 'numpy.str_'>, 'void': <class 'numpy.void'>, 'V': <class 'numpy.void'>, 20: <class 'numpy.void'>, 'M': <class 'numpy.datetime64'>, 21: <class 'numpy.datetime64'>, 'm': <class 'numpy.timedelta64'>, 22: <class 'numpy.timedelta64'>, 'bool8': <class 'numpy.bool_'>, 'b1': <class 'numpy.bool_'>, 'int64': <class 'numpy.int64'>, 'i8': <class 'numpy.int64'>, 'uint64': <class 'numpy.uint64'>, 'u8': <class 'numpy.uint64'>, 'float16': <class 'numpy.float16'>, 'f2': <class 'numpy.float16'>, 'float32': <class 'numpy.float32'>, 'f4': <class 'numpy.float32'>, 'float64': <class 'numpy.float64'>, 'f8': <class 'numpy.float64'>, 'complex64': <class 'numpy.complex64'>, 'c8': <class 'numpy.complex64'>, 'complex128': <class 'numpy.complex128'>, 'c16': <class 'numpy.complex128'>, 'object0': <class 'numpy.object_'>, 'bytes0': <class 'numpy.bytes_'>, 'str0': <class 'numpy.str_'>, 'void0': <class 'numpy.void'>, 'datetime64': <class 'numpy.datetime64'>, 'M8': <class 'numpy.datetime64'>, 'timedelta64': <class 'numpy.timedelta64'>, 'm8': <class 'numpy.timedelta64'>, 'Bytes0': <class 'numpy.bytes_'>, 'Datetime64': <class 'numpy.datetime64'>, 'Str0': <class 'numpy.str_'>, 'Uint64': <class 'numpy.uint64'>, 'int32': <class 'numpy.int32'>, 'i4': <class 'numpy.int32'>, 'uint32': <class 'numpy.uint32'>, 'u4': <class 'numpy.uint32'>, 'int16': <class 'numpy.int16'>, 'i2': <class 'numpy.int16'>, 'uint16': <class 'numpy.uint16'>, 'u2': <class 'numpy.uint16'>, 'int8': <class 'numpy.int8'>, 'i1': <class 'numpy.int8'>, 'uint8': <class 'numpy.uint8'>, 'u1': <class 'numpy.uint8'>, 'complex_': <class 'numpy.complex128'>, 'int0': <class 'numpy.int64'>, 'uint0': <class 'numpy.uint64'>, 'single': <class 'numpy.float32'>, 'csingle': <class 'numpy.complex64'>, 'singlecomplex': <class 'numpy.complex64'>, 'float_': <class 'numpy.float64'>, 'intc': <class 'numpy.intc'>, 'uintc': <class 'numpy.uintc'>, 'int_': <class 'numpy.int32'>, 'longfloat': <class 'numpy.longdouble'>, 'clongfloat': <class 'numpy.clongdouble'>, 'longcomplex': <class 'numpy.clongdouble'>, 'bool_': <class 'numpy.bool_'>, 'bytes_': <class 'numpy.bytes_'>, 'string_': <class 'numpy.bytes_'>, 'str_': <class 'numpy.str_'>, 'unicode_': <class 'numpy.str_'>, 'object_': <class 'numpy.object_'>, 'int': <class 'numpy.int32'>, 'float': <class 'numpy.float64'>, 'complex': <class 'numpy.complex128'>, 'bool': <class 'numpy.bool_'>, 'object': <class 'numpy.object_'>, 'str': <class 'numpy.str_'>, 'bytes': <class 'numpy.bytes_'>, 'a': <class 'numpy.bytes_'>}\n",
      "135\n",
      "<class 'numpy.bool_'>\n",
      "<class 'numpy.bytes_'>\n",
      "<class 'numpy.clongdouble'>\n",
      "<class 'numpy.complex128'>\n",
      "<class 'numpy.complex64'>\n",
      "<class 'numpy.datetime64'>\n",
      "<class 'numpy.float16'>\n",
      "<class 'numpy.float32'>\n",
      "<class 'numpy.float64'>\n",
      "<class 'numpy.int16'>\n",
      "<class 'numpy.int32'>\n",
      "<class 'numpy.int64'>\n",
      "<class 'numpy.int8'>\n",
      "<class 'numpy.intc'>\n",
      "<class 'numpy.longdouble'>\n",
      "<class 'numpy.object_'>\n",
      "<class 'numpy.str_'>\n",
      "<class 'numpy.timedelta64'>\n",
      "<class 'numpy.uint16'>\n",
      "<class 'numpy.uint32'>\n",
      "<class 'numpy.uint64'>\n",
      "<class 'numpy.uint8'>\n",
      "<class 'numpy.uintc'>\n",
      "<class 'numpy.void'>\n"
     ]
    }
   ],
   "source": [
    "np.finfo(np.float16)\n",
    "# finfo(resolution=0.001, min=-6.55040e+04, max=6.55040e+04, dtype=float16)\n",
    "np.finfo(np.float32)\n",
    "# finfo(resolution=1e-06, min=-3.4028235e+38, max=3.4028235e+38, dtype=float32)\n",
    "np.finfo(np.float64)\n",
    "# finfo(resolution=1e-15, min=-1.7976931348623157e+308, max=1.7976931348623157e+308, dtype=float64)\n",
    "# np.finfo(np.float128)\n",
    "# finfo(resolution=1e-18, min=-1.189731495357231765e+4932, max=1.189731495357231765e+4932, dtype=float128)\n",
    "print(np.float16(4.12))\n",
    "# 4.12\n",
    "print(np.float16(4.13))\n",
    "# 4.13\n",
    "print(np.float16(4.123))\n",
    "# 4.12\n",
    "print(np.float16(4.124))\n",
    "# 4.125\n",
    "print(np.float16(4.125))\n",
    "# 4.125\n",
    "print(np.sctypeDict)\n",
    "print(len(np.sctypeDict))\n",
    "# 158, но может быть 135 или 139\n",
    "print(*sorted(map(str, set(np.sctypeDict.values()))), sep='\\n')\n"
   ]
  },
  {
   "cell_type": "code",
   "execution_count": 435,
   "metadata": {
    "ExecuteTime": {
     "end_time": "2024-06-03T18:36:11.669462Z",
     "start_time": "2024-06-03T18:36:11.664463Z"
    }
   },
   "outputs": [
    {
     "data": {
      "text/plain": [
       "56"
      ]
     },
     "execution_count": 435,
     "metadata": {},
     "output_type": "execute_result"
    }
   ],
   "source": [
    "# Преобразуйте число -456 в беззнаковый целый тип данных с выделенной памятью 1 байт. Запишите полученное после преобразования число.\n",
    "np.uint8(-456)"
   ]
  },
  {
   "cell_type": "code",
   "execution_count": null,
   "metadata": {},
   "outputs": [],
   "source": [
    "# Создадим одномерный массив из пяти элементов:\n",
    "zeros_1d = np.zeros(5)\n",
    "zeros_1d\n",
    "# array([0., 0., 0., 0., 0.])\n",
    "# Создадим трёхмерный массив с формой 5x4x3 и типом float32:\n",
    "zeros_3d = np.zeros((5,4,3), dtype=np.float32)\n",
    "print(zeros_3d.shape)\n",
    "# (5, 4, 3)\n",
    "# Поэкспериментируем. Создадим массив из пяти чисел от 0 до 4:\n",
    "np.arange(5)\n",
    "# array([0, 1, 2, 3, 4])\n",
    "# Создадим массив от 2.5 до 5:\n",
    "np.arange(2.5, 5)\n",
    "# array([2.5, 3.5, 4.5])\n",
    "# Создадим массив от 2.5 до 5 с шагом 0.5:\n",
    "np.arange(2.5, 5, 0.5)\n",
    "# array([2.5, 3. , 3.5, 4. , 4.5])\n",
    "# Создадим массив от 2.5 до 5 с шагом 0.5 и с типом float16:\n",
    "np.arange(2.5, 5, 0.5, dtype=np.float16)\n",
    "# array([2.5, 3. , 3.5, 4. , 4.5], dtype=float16)"
   ]
  },
  {
   "cell_type": "code",
   "execution_count": null,
   "metadata": {},
   "outputs": [],
   "source": []
  },
  {
   "cell_type": "markdown",
   "metadata": {
    "ExecuteTime": {
     "end_time": "2024-06-04T12:48:04.676031Z",
     "start_time": "2024-06-04T12:48:04.671038Z"
    }
   },
   "source": [
    "---\n",
    "\n",
    "##### Модуль NumPy. Массивы / Действия с массивами\n",
    "\n",
    "<span style=\"font-size:0.8em;\"> [TOC](#mod1) </span>\n",
    "\n",
    "---\n"
   ]
  },
  {
   "cell_type": "markdown",
   "metadata": {
    "ExecuteTime": {
     "end_time": "2024-06-04T07:09:36.797805Z",
     "start_time": "2024-06-04T07:09:36.777774Z"
    }
   },
   "source": [
    "На самом деле операции с плавающей точкой не всегда бывают предсказуемыми из-за особенностей хранения таких чисел в памяти компьютера. Поэтому для работы с дробными параметрами start, stop и step лучше использовать функцию linspace (англ. linear space — линейное пространство). Она тоже возвращает одномерный массив из чисел, расположенных на равном удалении друг от друга между началом и концом диапазона, но обладает немного другим поведением и сигнатурой:\n",
    "\n",
    "np.linspace(start, stop, num=50, endpoint=True, retstep=False, dtype=None)\n",
    "\n",
    "start и stop являются обязательными параметрами, задающими начало и конец возвращаемого диапазона;\n",
    "num — параметр, задающий число элементов, которое должно оказаться в массиве (по умолчанию 50);\n",
    "endpoint — включён или исключён конец диапазона (по умолчанию включён);\n",
    "retstep (по умолчанию False) позволяет указать, возвращать ли использованный шаг между значениями, помимо самого массива;\n",
    "dtype — уже хорошо знакомый нам параметр, задающий тип данных (если не задан, определяется автоматически).\n"
   ]
  },
  {
   "cell_type": "code",
   "execution_count": 2,
   "metadata": {
    "ExecuteTime": {
     "end_time": "2024-06-04T07:09:48.209592Z",
     "start_time": "2024-06-04T07:09:48.193569Z"
    }
   },
   "outputs": [
    {
     "name": "stdout",
     "output_type": "stream",
     "text": [
      "0.1111111111111111\n",
      "0.1\n"
     ]
    }
   ],
   "source": [
    "arr, step = np.linspace(1, 2, 10, endpoint=True, retstep=True)\n",
    "print(step)\n",
    "# 0.1111111111111111\n",
    "arr, step = np.linspace(1, 2, 10, endpoint=False, retstep=True)\n",
    "print(step)\n",
    "# 0.1\n"
   ]
  },
  {
   "cell_type": "code",
   "execution_count": 6,
   "metadata": {
    "ExecuteTime": {
     "end_time": "2024-06-04T07:11:10.619205Z",
     "start_time": "2024-06-04T07:11:10.601184Z"
    }
   },
   "outputs": [
    {
     "data": {
      "text/plain": [
       "0.46"
      ]
     },
     "execution_count": 6,
     "metadata": {},
     "output_type": "execute_result"
    }
   ],
   "source": [
    "# С каким шагом сгенерируется массив из 60 чисел от -6 до 21 включительно? Ответ округлите до двух знаков после точки.\n",
    "arr, step = np.linspace(-6, 21, 60, endpoint=True, retstep=True)\n",
    "round(step,2)"
   ]
  },
  {
   "cell_type": "code",
   "execution_count": 7,
   "metadata": {
    "ExecuteTime": {
     "end_time": "2024-06-04T07:12:48.800535Z",
     "start_time": "2024-06-04T07:12:48.793466Z"
    }
   },
   "outputs": [
    {
     "data": {
      "text/plain": [
       "0.45"
      ]
     },
     "execution_count": 7,
     "metadata": {},
     "output_type": "execute_result"
    }
   ],
   "source": [
    "# С каким шагом сгенерируется массив из 60 чисел от -6 (включительно) до 21 (не включительно)? Ответ округлите до 2 знаков после точки.\n",
    "arr, step = np.linspace(-6, 21, 60, endpoint=False, retstep=True)\n",
    "round(step,2)"
   ]
  },
  {
   "cell_type": "code",
   "execution_count": 10,
   "metadata": {
    "ExecuteTime": {
     "end_time": "2024-06-04T07:48:28.039312Z",
     "start_time": "2024-06-04T07:48:28.033313Z"
    },
    "code_folding": []
   },
   "outputs": [],
   "source": [
    "# mystery1  = [[[     inf      inf      inf   6112.       inf      inf      inf]\n",
    "#       [     inf      inf      inf -51040.       inf      inf      inf]\n",
    "#       [ -5432.       inf      inf      inf      inf      inf      inf]\n",
    "#       [     inf      inf      inf      inf  26544.       inf     -inf]\n",
    "#       [     inf      inf      inf      inf      inf      inf      inf]]\n",
    "\n",
    "#      [[     inf -15896.       inf -34080.       inf      inf      inf]\n",
    "#       [     inf      inf      inf      inf      inf      inf      inf]\n",
    "#       [     inf      inf      inf      inf      inf      inf      inf]\n",
    "#       [     inf      inf      inf      inf      inf      inf      inf]\n",
    "#       [     inf      inf      inf      inf      inf      inf      inf]]\n",
    "\n",
    "#      [[-27664.       inf      inf      inf      inf      inf  64288. ]\n",
    "#       [     inf      inf      inf      inf      inf      inf      inf]\n",
    "#       [     inf  56704.   44160.       inf      inf      inf  50912. ]\n",
    "#       [     inf  30064.       inf      inf     -inf  60384.       inf]\n",
    "#       [     inf      inf -13000.       inf   3218.  -27904.      -inf]]\n",
    "\n",
    "#      [[     inf      inf    469.8      inf      inf      inf      inf]\n",
    "#       [  7808.       inf      inf -32832.       inf      inf      inf]\n",
    "#       [     inf      inf      inf      inf      inf      inf  43680. ]\n",
    "#       [     inf      inf      inf      inf      inf      inf      inf]\n",
    "#       [-51392.       inf  12960.       inf      inf      inf      inf]]\n",
    "\n",
    "#      [[     inf      inf  44992.  -51136.       inf      inf      inf]\n",
    "#       [     inf      inf      inf      inf      inf      inf      inf]\n",
    "#       [-56480.       inf  48096.  -13608.       inf      inf -65472. ]\n",
    "#       [     inf      inf      inf      inf      inf      inf      inf]\n",
    "#       [     inf      inf      inf      inf -18272.       inf      inf]]\n",
    "\n",
    "#      [[     inf      inf      inf      inf      inf      inf     -inf]\n",
    "#       [     inf      inf      inf      inf      inf  26176.       inf]\n",
    "#       [     inf      inf      inf      inf      inf      inf  24576. ]\n",
    "#       [     inf      inf      inf      inf      inf      inf      inf]\n",
    "#       [     inf      inf      inf      inf     -inf -52640.       inf]]]"
   ]
  },
  {
   "cell_type": "code",
   "execution_count": null,
   "metadata": {},
   "outputs": [],
   "source": [
    "print(mystery1.shape, mystery1.dtype, mystery1.itemsize)\n",
    "# Узнайте вес всех элементов в массиве в байтах.\n",
    "# mystery1.shape перемножить все mystery1.itemsize  \n",
    "# 6*5*7 = 210 и на вес одного mystery1.itemsize"
   ]
  },
  {
   "cell_type": "code",
   "execution_count": 33,
   "metadata": {
    "ExecuteTime": {
     "end_time": "2024-06-04T08:40:27.643806Z",
     "start_time": "2024-06-04T08:40:27.632797Z"
    }
   },
   "outputs": [
    {
     "data": {
      "text/plain": [
       "array([[-1297, -4593,  6451],\n",
       "       [28655, -6012, 21762],\n",
       "       [32592, 20149, 13754]], dtype=int16)"
      ]
     },
     "execution_count": 33,
     "metadata": {},
     "output_type": "execute_result"
    }
   ],
   "source": [
    "# Вам дан массив mystery\n",
    "mystery = np.array([[-13586,  15203,  28445, -27117,  -1781, -17182, -18049],\n",
    "       [ 25936, -30968,  -1297,  -4593,   6451,  15790,   7181],\n",
    "       [ 13348,  28049,  28655,  -6012,  21762,  25397,   8225],\n",
    "       [ 13240,   7994,  32592,  20149,  13754,  11795,   -564],\n",
    "       [-21725,  -8681,  30305,  22260, -17918,  12578,  29943],\n",
    "       [-16841, -25392, -17278,  11740,   5916,    -47, -32037]],\n",
    "      dtype=np.int16)\n",
    "# Выполните все пукты задания по порядку.\n",
    "# Пожалуйста, не меняйте названия переменных, в которых должны появиться ответы.\n",
    "# В переменную elem_5_3 сохраните элемент из 5 строки и 3 столбца\n",
    "# В переменную last сохраните элемент из последней строки последнего столбца\n",
    "# В переменную line_4 сохраните строку 4\n",
    "# В переменную col_2 сохраните предпоследний столбец\n",
    "# Из строк 2-4 (включительно) получите столбцы 3-5 (включительно). \n",
    "# Результат сохраните в переменную part\n",
    "# Сохраните в переменную rev последний столбец в обратном порядке\n",
    "# Сохраните в переменную trans транспонированный массив\n",
    "elem_5_3 = mystery[5-1,3-1]\n",
    "elem_5_3\n",
    "last = mystery[-1,-1]\n",
    "last\n",
    "line_4 = mystery[4-1,]\n",
    "line_4\n",
    "col_2 = mystery[:,-2]\n",
    "col_2\n",
    "part = mystery[ 2-1:4, 3-1:5 ]\n",
    "part\n",
    "# rev = mystery[:,-1][::-1]\n",
    "# rev \n",
    "# trans = mystery.transpose()\n",
    "# trans "
   ]
  },
  {
   "cell_type": "code",
   "execution_count": 34,
   "metadata": {
    "ExecuteTime": {
     "end_time": "2024-06-04T08:41:23.223585Z",
     "start_time": "2024-06-04T08:41:23.200074Z"
    }
   },
   "outputs": [
    {
     "name": "stdout",
     "output_type": "stream",
     "text": [
      "[23 12 45 12 23  4 15  3]\n",
      "[ 3  4 12 12 15 23 23 45]\n",
      "None\n",
      "[ 3  4 12 12 15 23 23 45]\n"
     ]
    }
   ],
   "source": [
    "# Способ 1. Функция np.sort(<массив>) возвращает новый отсортированный массив:\n",
    "arr = np.array([23,12,45,12,23,4,15,3])\n",
    "arr_new = np.sort(arr)\n",
    "print(arr)\n",
    "# [23 12 45 12 23  4 15  3]\n",
    "print(arr_new)\n",
    "# [ 3  4 12 12 15 23 23 45]\n",
    "\n",
    "# Способ 2. Функция <массив>.sort() сортирует исходный массив и возвращает None:\n",
    "arr = np.array([23,12,45,12,23,4,15,3])\n",
    "print(arr.sort())\n",
    "# None\n",
    "print(arr)\n",
    "# [ 3  4 12 12 15 23 23 45]"
   ]
  },
  {
   "cell_type": "code",
   "execution_count": 36,
   "metadata": {
    "ExecuteTime": {
     "end_time": "2024-06-04T08:44:20.987736Z",
     "start_time": "2024-06-04T08:44:20.975602Z"
    }
   },
   "outputs": [
    {
     "name": "stdout",
     "output_type": "stream",
     "text": [
      "<class 'NoneType'>\n",
      "<class 'float'>\n",
      "True\n",
      "False\n",
      "True\n",
      "True\n",
      "False\n",
      "True\n"
     ]
    }
   ],
   "source": [
    "# Отличие 1. None является отдельным объектом типа NoneType. np.nan — это отдельный представитель класса float:\n",
    "print(type(None))\n",
    "# <class 'NoneType'>\n",
    "print(type(np.nan))\n",
    "# <class 'float'>\n",
    "# Отличие 2. None могут быть равны друг другу, а np.nan — нет:\n",
    "print(None == None)\n",
    "# True\n",
    "print(np.nan == np.nan)\n",
    "# False\n",
    "# Как вы помните, чтобы грамотно сравнить что-либо с None, необходимо использовать оператор is. Это ещё более актуально для np.nan. Однако None даже через is не является эквивалентным np.nan:\n",
    "print(None is None)\n",
    "# True\n",
    "print(np.nan is np.nan)\n",
    "# True\n",
    "print(np.nan is None)\n",
    "# False\n",
    "print(np.isnan(np.nan))"
   ]
  },
  {
   "cell_type": "code",
   "execution_count": 62,
   "metadata": {
    "ExecuteTime": {
     "end_time": "2024-06-04T09:07:28.728176Z",
     "start_time": "2024-06-04T09:07:28.709175Z"
    }
   },
   "outputs": [
    {
     "data": {
      "text/plain": [
       "array([-2365., 12279., 16132., 25933., 28745.], dtype=float32)"
      ]
     },
     "execution_count": 62,
     "metadata": {},
     "output_type": "execute_result"
    }
   ],
   "source": [
    "# Вам дан массив mystery:\n",
    "mystery = np.array([ 12279., -26024.,  28745.,  np.nan,  31244.,  -2365.,  -6974.,\n",
    "        -9212., np.nan, -17722.,  16132.,  25933.,  np.nan, -16431.,\n",
    "        29810.], dtype=np.float32)\n",
    "# Получите булевый массив nans_index с информацией о np.nan в массиве mystery: True - значение пропущено, False - значение не пропущено\n",
    "# В переменную n_nan сохраните число пропущенных значений\n",
    "# Скопируйте массив mystery в массив mystery_new. Заполните пропущенные значения в массиве mystery_new нулями\n",
    "# Поменяйте тип данных в массиве mystery на int32 и сохраните в переменную mystery_int\n",
    "# Отсортируйте значения в массиве mystery по возрастанию и сохраните результат в переменную array\n",
    "# Сохраните в массив table двухмерный массив, полученный из массива array. В нём должно быть 5 строк и 3 столбца. Причём порядок заполнения должен быть по столбцам!\n",
    "# Например,\n",
    "#  1, 2, 3, 4 -> 1    3\n",
    "#                2    4\n",
    "# Сохраните в переменную col средний столбец из table\n",
    "nans_index  = np.isnan(mystery)\n",
    "nans_index \n",
    "n_nan = sum(np.isnan(mystery))\n",
    "n_nan\n",
    "mystery_new = np.copy(mystery)\n",
    "mystery_new[np.isnan(mystery_new)] = 0\n",
    "mystery_new\n",
    "mystery_int = mystery.astype(int)\n",
    "mystery_int \n",
    "array = np.sort(mystery)\n",
    "array\n",
    "table = array.reshape((5,3), order='F')\n",
    "table \n",
    "col = table[:, 1]\n",
    "col"
   ]
  },
  {
   "cell_type": "code",
   "execution_count": null,
   "metadata": {},
   "outputs": [],
   "source": []
  },
  {
   "cell_type": "markdown",
   "metadata": {
    "ExecuteTime": {
     "end_time": "2024-06-04T12:48:04.676031Z",
     "start_time": "2024-06-04T12:48:04.671038Z"
    }
   },
   "source": [
    "---\n",
    "\n",
    "##### Модуль NumPy. Операции с векторами\n",
    "\n",
    "<span style=\"font-size:0.8em;\"> [TOC](#mod1) </span>\n",
    "\n",
    "---\n"
   ]
  },
  {
   "attachments": {
    "image.png": {
     "image/png": "[encoded data removed]"
    }
   },
   "cell_type": "markdown",
   "metadata": {
    "ExecuteTime": {
     "end_time": "2024-06-04T08:52:24.202891Z",
     "start_time": "2024-06-04T08:52:24.193893Z"
    }
   },
   "source": [
    "Векторы в геометрии называются сонаправленными, если они коллинеарны и их направления совпадают. Отметим, что прямые, на которых лежат сонаправленные вектора, всегда по определению являются параллельными.\n",
    "На рисунке ниже представлен пример сонаправленных векторов a, b и c:\n",
    "\n",
    "Img\n",
    "![image.png](attachment:image.png)\n",
    "Однако на практике не всегда есть возможность нарисовать вектора, чтобы понять, являются ли они сонаправленными. Поэтому есть несколько математических способов определить сонаправленность векторов. Один из них: сумма длин сонаправленных векторов должна быть равной длине суммы двух векторов.\n",
    "\n"
   ]
  },
  {
   "cell_type": "code",
   "execution_count": null,
   "metadata": {},
   "outputs": [],
   "source": [
    "# Произведём сложение двух векторов:\n",
    "import numpy as np\n",
    "vec1 = np.array([2, 4, 7, 2.5])\n",
    "vec2 = np.array([12, 6, 3.6, 13])\n",
    "vec1 + vec2\n",
    "# array([14. , 10. , 10.6, 15.5])\n",
    "# По сути, расстояние между векторами — это длина такого вектора, который является разностью этих векторов. В самом деле, при вычитании двух векторов вычитаются их соответствующие координаты.\n",
    "# Реализуем вычисление расстояния в коде. Сначала — «сложным» способом напрямую из формулы:\n",
    "vec1 = np.array([0, 3, 5])\n",
    "vec2 = np.array([12, 4, 7])\n",
    "distance = np.sqrt(np.sum((vec1 - vec2) ** 2))\n",
    "distance\n",
    "# 12.206555615733702\n",
    "# А теперь применим более простой способ — используем уже известную нам функцию np.linalg.norm:\n",
    "vec1 = np.array([0, 3, 5])\n",
    "vec2 = np.array([12, 4, 7])\n",
    "distance = np.linalg.norm(vec1 - vec2)\n",
    "distance\n",
    "# 12.206555615733702"
   ]
  },
  {
   "cell_type": "code",
   "execution_count": 93,
   "metadata": {
    "ExecuteTime": {
     "end_time": "2024-06-04T12:31:42.599450Z",
     "start_time": "2024-06-04T12:31:42.584424Z"
    }
   },
   "outputs": [
    {
     "name": "stdout",
     "output_type": "stream",
     "text": [
      "[23 34 27] [-54   1  46] [46 68 54]\n"
     ]
    }
   ],
   "source": [
    "a,b,c = np.array([23, 34, 27]), \\\n",
    "    np.array([-54,   1,  46]), \\\n",
    "    np.array([46, 68, 54])\n",
    "p(a,b,c)"
   ]
  },
  {
   "cell_type": "code",
   "execution_count": 94,
   "metadata": {
    "ExecuteTime": {
     "end_time": "2024-06-04T12:31:42.929378Z",
     "start_time": "2024-06-04T12:31:42.908117Z"
    }
   },
   "outputs": [
    {
     "ename": "NameError",
     "evalue": "name 'x' is not defined",
     "output_type": "error",
     "traceback": [
      "\u001b[1;31m---------------------------------------------------------------------------\u001b[0m",
      "\u001b[1;31mNameError\u001b[0m                                 Traceback (most recent call last)",
      "\u001b[1;32m~\\AppData\\Local\\Temp\\ipykernel_2300\\2864259993.py\u001b[0m in \u001b[0;36m<module>\u001b[1;34m\u001b[0m\n\u001b[0;32m      1\u001b[0m \u001b[1;31m# сумма длин сонаправленных векторов должна быть равной длине суммы двух векторов\u001b[0m\u001b[1;33m\u001b[0m\u001b[1;33m\u001b[0m\u001b[0m\n\u001b[1;32m----> 2\u001b[1;33m \u001b[0mnp\u001b[0m\u001b[1;33m.\u001b[0m\u001b[0mlinalg\u001b[0m\u001b[1;33m.\u001b[0m\u001b[0mnorm\u001b[0m\u001b[1;33m(\u001b[0m\u001b[0mx\u001b[0m\u001b[1;33m)\u001b[0m \u001b[1;31m# длина вектора\u001b[0m\u001b[1;33m\u001b[0m\u001b[1;33m\u001b[0m\u001b[0m\n\u001b[0m\u001b[0;32m      3\u001b[0m \u001b[0mnp\u001b[0m\u001b[1;33m.\u001b[0m\u001b[0mlinalg\u001b[0m\u001b[1;33m.\u001b[0m\u001b[0mnorm\u001b[0m\u001b[1;33m(\u001b[0m\u001b[0mx\u001b[0m\u001b[1;33m-\u001b[0m\u001b[0my\u001b[0m\u001b[1;33m)\u001b[0m\u001b[1;33m\u001b[0m\u001b[1;33m\u001b[0m\u001b[0m\n",
      "\u001b[1;31mNameError\u001b[0m: name 'x' is not defined"
     ]
    }
   ],
   "source": [
    "# сумма длин сонаправленных векторов должна быть равной длине суммы двух векторов\n",
    "np.linalg.norm(x) # длина вектора\n",
    "np.linalg.norm(x-y) # расстояние между векторами\n",
    "# С помощью введённого ранее критерия сонаправленности найдите пару сонаправленных векторов среди векторов a, b и c."
   ]
  },
  {
   "cell_type": "code",
   "execution_count": 95,
   "metadata": {
    "ExecuteTime": {
     "end_time": "2024-06-04T12:31:43.283913Z",
     "start_time": "2024-06-04T12:31:43.267893Z"
    }
   },
   "outputs": [
    {
     "data": {
      "text/plain": [
       "(120.07611358830478, 86.68909966079934)"
      ]
     },
     "execution_count": 95,
     "metadata": {},
     "output_type": "execute_result"
    }
   ],
   "source": [
    "# сумма длин\n",
    "np.linalg.norm(a) + np.linalg.norm(b), \\\n",
    "    np.linalg.norm(a + b) # длине суммы"
   ]
  },
  {
   "cell_type": "code",
   "execution_count": 96,
   "metadata": {
    "ExecuteTime": {
     "end_time": "2024-06-04T12:31:43.627649Z",
     "start_time": "2024-06-04T12:31:43.622652Z"
    }
   },
   "outputs": [
    {
     "data": {
      "text/plain": [
       "(169.20858757445777, 121.75795661885921)"
      ]
     },
     "execution_count": 96,
     "metadata": {},
     "output_type": "execute_result"
    }
   ],
   "source": [
    "b,c\n",
    "# сумма длин\n",
    "np.linalg.norm(b) + np.linalg.norm(c), \\\n",
    "    np.linalg.norm(b + c) # длине суммы"
   ]
  },
  {
   "cell_type": "code",
   "execution_count": 97,
   "metadata": {
    "ExecuteTime": {
     "end_time": "2024-06-04T12:31:43.975189Z",
     "start_time": "2024-06-04T12:31:43.964136Z"
    }
   },
   "outputs": [
    {
     "data": {
      "text/plain": [
       "(147.39742195845895, 147.39742195845895)"
      ]
     },
     "execution_count": 97,
     "metadata": {},
     "output_type": "execute_result"
    }
   ],
   "source": [
    "a,c\n",
    "# сумма длин\n",
    "np.linalg.norm(a) + np.linalg.norm(c), \\\n",
    "    np.linalg.norm(a + c) # длине суммы"
   ]
  },
  {
   "cell_type": "code",
   "execution_count": 100,
   "metadata": {
    "ExecuteTime": {
     "end_time": "2024-06-04T12:36:47.004424Z",
     "start_time": "2024-06-04T12:36:46.997420Z"
    }
   },
   "outputs": [
    {
     "name": "stdout",
     "output_type": "stream",
     "text": [
      "85.901105930017 120.6358155772986 49.13247398615299\n"
     ]
    }
   ],
   "source": [
    "# Найдите пару векторов, расстояние между которыми больше 100.\n",
    "p( np.linalg.norm(a - b)\n",
    "    ,np.linalg.norm(b - c) \n",
    "    ,np.linalg.norm(a - c) )"
   ]
  },
  {
   "attachments": {
    "image.png": {
     "image/png": "[encoded data removed]"
    }
   },
   "cell_type": "markdown",
   "metadata": {
    "ExecuteTime": {
     "end_time": "2024-06-04T12:36:50.131578Z",
     "start_time": "2024-06-04T12:36:50.117551Z"
    }
   },
   "source": [
    "Наконец, скалярным произведением двух векторов называют сумму произведений их соответствующих координат. Вот формула для скалярного произведения векторов  и  из  координат:\n",
    "![image.png](attachment:image.png)\n",
    "Да! Для этого используют функцию np.dot(x, y):\n",
    "\n",
    "Скалярное произведение также имеет широкое применение в математике и других операциях с векторами. В частности, равенство скалярного произведения нулю означает перпендикулярность рассматриваемых векторов:\n",
    "\n",
    "\n"
   ]
  },
  {
   "cell_type": "code",
   "execution_count": 102,
   "metadata": {
    "ExecuteTime": {
     "end_time": "2024-06-04T12:38:51.140685Z",
     "start_time": "2024-06-04T12:38:51.134655Z"
    }
   },
   "outputs": [
    {
     "data": {
      "text/plain": [
       "0"
      ]
     },
     "execution_count": 102,
     "metadata": {},
     "output_type": "execute_result"
    }
   ],
   "source": [
    "x = np.array([25, 0])\n",
    "y = np.array([0, 10])\n",
    "np.dot(x, y)\n",
    "# 0\n"
   ]
  },
  {
   "cell_type": "code",
   "execution_count": 103,
   "metadata": {
    "ExecuteTime": {
     "end_time": "2024-06-04T12:39:21.541675Z",
     "start_time": "2024-06-04T12:39:21.533662Z"
    }
   },
   "outputs": [
    {
     "name": "stdout",
     "output_type": "stream",
     "text": [
      "34 68 4828\n"
     ]
    }
   ],
   "source": [
    "# Найдите пару перпендикулярных векторов с помощью скалярного произведения (оно должно быть равно нулю).\n",
    "p( np.dot(a, b)\n",
    "    ,np.dot(b, c) \n",
    "    ,np.dot(a, c) )"
   ]
  },
  {
   "cell_type": "code",
   "execution_count": 112,
   "metadata": {
    "ExecuteTime": {
     "end_time": "2024-06-04T12:44:15.179062Z",
     "start_time": "2024-06-04T12:44:15.161031Z"
    }
   },
   "outputs": [
    {
     "name": "stdout",
     "output_type": "stream",
     "text": [
      "[481  18 308  13 652 391  63  62 353 111 805 251  36 544 600 799 283 880\n",
      " 470 599 814 507 242 650 180 860 979 298 621 197 572 976 905 427 119 905\n",
      "  64 430 742 563 382 211 228 760 567 366 103 409 211 952   5 493 151 267\n",
      " 517 495 375  80 341  39 560  85 490  44  17 151  42 688 648 501 437 154\n",
      "  66  28 921 642 196 719 208 492 538 687 841 933 386 719 114 261 838 228\n",
      " 120 508 316 476 233 902 698 471 604 172 993 790 557 129 446  64 317 997\n",
      " 509 710 909 147 228 595 188 246 728 509 365 139 773 426 929 888 534 513\n",
      " 666  77 299 943 985 588 137  31 385 405 980 854 327 714 318 909 803 334\n",
      " 130 949 532 640 820 975 889 240 878 294 899 488 639 961 819 649 939 163\n",
      " 209 879 479 573 557  25 783 332 311 425 140 678 766 492 234 316 811 447\n",
      " 772 325 640 387 858 208 739 870 227 385  24 286  22 599 951 994 457  99\n",
      " 238 172 549 932 412 545 713  19 785 931 684 333 630 752 191 949 200 361\n",
      " 887 243 753 600 635 243 173 249 294 583 106 772 848 387 874 321 562  96\n",
      " 211 561 918 868 206 745 710 869 387 600 726 179 336 806 392 612]\n"
     ]
    }
   ],
   "source": [
    "mystery2 = np.array('''481  18 308  13 652 391  63  62 353 111 805 251  36 544 600 799 283 880\n",
    " 470 599 814 507 242 650 180 860 979 298 621 197 572 976 905 427 119 905\n",
    "  64 430 742 563 382 211 228 760 567 366 103 409 211 952   5 493 151 267\n",
    " 517 495 375  80 341  39 560  85 490  44  17 151  42 688 648 501 437 154\n",
    "  66  28 921 642 196 719 208 492 538 687 841 933 386 719 114 261 838 228\n",
    " 120 508 316 476 233 902 698 471 604 172 993 790 557 129 446  64 317 997\n",
    " 509 710 909 147 228 595 188 246 728 509 365 139 773 426 929 888 534 513\n",
    " 666  77 299 943 985 588 137  31 385 405 980 854 327 714 318 909 803 334\n",
    " 130 949 532 640 820 975 889 240 878 294 899 488 639 961 819 649 939 163\n",
    " 209 879 479 573 557  25 783 332 311 425 140 678 766 492 234 316 811 447\n",
    " 772 325 640 387 858 208 739 870 227 385  24 286  22 599 951 994 457  99\n",
    " 238 172 549 932 412 545 713  19 785 931 684 333 630 752 191 949 200 361\n",
    " 887 243 753 600 635 243 173 249 294 583 106 772 848 387 874 321 562  96\n",
    " 211 561 918 868 206 745 710 869 387 600 726 179 336 806 392 612'''.split()\n",
    "                   ).astype(int)\n",
    "p(mystery2)"
   ]
  },
  {
   "cell_type": "code",
   "execution_count": 115,
   "metadata": {
    "ExecuteTime": {
     "end_time": "2024-06-04T12:45:28.088746Z",
     "start_time": "2024-06-04T12:45:28.069747Z"
    }
   },
   "outputs": [
    {
     "data": {
      "text/plain": [
       "(5, 997, 490.368, 491.0)"
      ]
     },
     "execution_count": 115,
     "metadata": {},
     "output_type": "execute_result"
    }
   ],
   "source": [
    "np.min(mystery2), np.max(mystery2), np.mean(mystery2), np.median(mystery2), "
   ]
  },
  {
   "cell_type": "code",
   "execution_count": 116,
   "metadata": {
    "ExecuteTime": {
     "end_time": "2024-06-04T12:46:44.061723Z",
     "start_time": "2024-06-04T12:46:44.056724Z"
    }
   },
   "outputs": [
    {
     "data": {
      "text/plain": [
       "(289.01097656663495,)"
      ]
     },
     "execution_count": 116,
     "metadata": {},
     "output_type": "execute_result"
    }
   ],
   "source": [
    "np.std(mystery2),"
   ]
  },
  {
   "cell_type": "markdown",
   "metadata": {
    "ExecuteTime": {
     "end_time": "2024-06-04T12:48:04.676031Z",
     "start_time": "2024-06-04T12:48:04.671038Z"
    }
   },
   "source": [
    "---\n",
    "\n",
    "##### Модуль NumPy. Случайные числа\n",
    "\n",
    "<span style=\"font-size:0.8em;\"> [TOC](#mod1) </span>\n",
    "\n",
    "---\n"
   ]
  },
  {
   "cell_type": "code",
   "execution_count": null,
   "metadata": {},
   "outputs": [],
   "source": [
    "# получать одинаковые наборы случайных чисел с помощью seed.\n",
    "# Случайные числа в NumPy\n",
    "# Генерация float\n",
    "import numpy as np\n",
    "np.random.rand()\n",
    "# 0.06600758835806675\n",
    "np.random.rand(2, 3)\n",
    "# array([[0.94931212, 0.06680018, 0.26707599],\n",
    "#      [0.67908873, 0.18001743, 0.97732239]])\n",
    "shape = (3, 4)\n",
    "np.random.rand(*shape)\n",
    "# TypeError: 'tuple' object cannot be interpreted as an integer\n",
    "# Ошибка типов: кортеж не может быть интерпретирован как целое число.\n",
    "# Но в NumPy есть и другая функция, генерирующая массивы случайных чисел от 0 до 1, которая принимает в качестве аргумента именно кортеж без распаковки. Она называется sample:\n",
    "shape = (2, 3)\n",
    "np.random.sample(shape)\n",
    "# array([[0.39756103, 0.01995168, 0.2768951 ],\n",
    "#       [0.82195372, 0.26435273, 0.00957881]])\n",
    "# Получим массив из двух строк и трёх столбцов из чисел в интервале от -1000 до 500:\n",
    "np.random.uniform(-1000, 500, size=(2, 3))\n",
    "# array([[ 129.22164163,   77.69090611, -132.9656972 ],\n",
    "#        [  18.65802226, -317.14793906,   85.3613547 ]])\n",
    "# Генерация int randint(low, high=None, size=None, dtype=int)\n",
    "np.random.randint(6, 12, size=(3,3))\n",
    "# array([[ 9,  6, 10],\n",
    "#        [10, 11, 10],\n",
    "#        [ 7, 10, 11]])\n",
    "# Генерация выборок random.shuffle\n",
    "# Функция random.shuffle перемешивает тот массив, к которому применяется, и возвращает None.\n",
    "# Чтобы получить новый перемешанный массив\n",
    "# , а исходный оставить без изменений, можно использовать функцию \n",
    "# random.permutation. Она принимает на вход один аргумент — или массив целиком, или одно число:\n",
    "playlist = [\"The Beatles\", \"Pink Floyd\", \"ACDC\", \"Deep Purple\"]\n",
    "shuffled = np.random.permutation(playlist)\n",
    "print(shuffled)\n",
    "# ['The Beatles' 'Pink Floyd' 'Deep Purple' 'ACDC']\n",
    "print(playlist)\n",
    "# ['The Beatles', 'Pink Floyd', 'ACDC', 'Deep Purple']\n",
    "# Перемешать набор чисел от 0 до n-1 можно с помощью записи np.random.permutation(n), где n — верхняя граница, которая бы использовалась для генерации набора чисел функцией arange.\n",
    "np.random.permutation(10)\n",
    "# array([7, 8, 2, 9, 4, 3, 1, 0, 5, 6])\n",
    "# Чтобы получить случайный набор объектов из массива, используется функция random.choice:\n",
    "# choice(a, size=None, replace=True)\n",
    "# a — одномерный массив или число для генерации arange(a);\n",
    "# size — желаемая форма массива (число для получения одномерного массива, кортеж — для многомерного; если параметр не задан, возвращается один объект);\n",
    "# replace — параметр, задающий, могут ли элементы повторяться (по умолчанию могут).\n",
    "workers = ['Ivan', 'Nikita', 'Maria', 'John', 'Kate']\n",
    " choice = np.random.choice(workers, size=2, replace=False)\n",
    "print(choice)\n",
    "workers = ['Ivan', 'Nikita', 'Maria', 'John', 'Kate']\n",
    "choice = np.random.choice(workers, size=10, replace=False)\n",
    "print(choice)\n",
    "# ValueError: Cannot take a larger sample than population when 'replace=False'\n",
    "# Ошибка значения: нельзя получить выборку больше, чем популяция (популяция — весь доступный набор объектов, из которого получаем выборку), если replace=False (то есть выборка без повторений).\n",
    "choice = np.random.choice([1,2,3,4,5,6], size=10)\n",
    "print(choice)\n",
    "# [3 5 5 6 6 4 2 2 1 3]\n",
    "# В данном случае ошибка не возникает за счёт того, что объекты могут повторяться.\n",
    "np.random.seed(23)\n",
    "np.random.randint(10, size=(3,4))\n",
    "# array([[3, 6, 8, 9],\n",
    "#        [6, 8, 7, 9],\n",
    "#        [3, 6, 1, 2]])\n",
    "np.random.seed(100)\n",
    "print(np.random.randint(10, size=3))\n",
    "# [8 8 3]\n",
    "print(np.random.randint(10, size=3))\n",
    "# [7 7 0]\n",
    "print(np.random.randint(10, size=3))\n",
    "# [4 2 5]\n",
    "# Самостоятельно задать seed в NumPy можно с помощью функции np.random.seed(<np.uint32>). \n",
    "# Число в скобках должно быть в пределах от 0 до 2**32 - 1 (=4294967295).\n",
    "# Как можно сгенерировать десять случайных чисел в диапазоне от 1 до 20 \n",
    "# (включительно), которые гарантированно не будут повторяться?\n",
    "# np.random.choice(np.arange(1, 21), size=10, replace=False)\n"
   ]
  },
  {
   "cell_type": "code",
   "execution_count": 180,
   "metadata": {
    "ExecuteTime": {
     "end_time": "2024-06-04T14:02:44.703163Z",
     "start_time": "2024-06-04T14:02:44.692696Z"
    }
   },
   "outputs": [
    {
     "data": {
      "text/plain": [
       "array([ 8,  2, 10])"
      ]
     },
     "execution_count": 180,
     "metadata": {},
     "output_type": "execute_result"
    }
   ],
   "source": [
    "# Задайте seed = 2021.\n",
    "# Сохраните в переменные необходимые значения.\n",
    "# Примечание 1. Не меняйте названия переменных и последовательность генерации случайных чисел в задании.\n",
    "# Примечание 2. Не забудьте импортировать numpy и сразу задать seed = 2021\n",
    "# Примечание 3. Необходимый тип данных в подзаданиях — numpy.array.\n",
    "# В simple сохраните случайное число в диапазоне от 0 до 1\n",
    "# Сгенерируйте 120 чисел в диапазоне от -150 до 2021, сохраните их в переменную randoms\n",
    "# Получите массив из случайных целых чисел от 1 до 100 (включительно) из 3 строк и 2 столбцов. Сохраните результат в table\n",
    "# В переменную even сохраните четные числа от 2 до 16 (включительно)\n",
    "# Скопируйте even в переменную mix. Перемешайте числа в mix так, чтобы массив изменился\n",
    "# Получите из even 3 числа без повторений. Сохраните их в переменную select\n",
    "# Получите переменную triplet, которая должна содержать перемешанные значения из массива select (сам select измениться не должен)\n",
    "import numpy as np\n",
    "np.random.seed(2021)\n",
    "simple = np.random.rand()\n",
    "simple\n",
    "randoms = np.linspace(-150, 2021+1, 120)\n",
    "randoms\n",
    "table = np.random.randint(1, 100+1, size=(3,2))\n",
    "table\n",
    "even = [n for n in np.arange(2, 16+1) if n % 2 == 0] \n",
    "even = np.arange(2, 16+1, 2)\n",
    "even \n",
    "mix = np.random.permutation(even)\n",
    "mix\n",
    "select = np.random.choice(even, size=3, replace=False)\n",
    "select\n",
    "# triplet = np.random.permutation(select)\n",
    "# triplet"
   ]
  },
  {
   "cell_type": "code",
   "execution_count": null,
   "metadata": {
    "ExecuteTime": {
     "end_time": "2024-06-04T16:55:50.712526Z",
     "start_time": "2024-06-04T16:55:50.699311Z"
    }
   },
   "outputs": [],
   "source": []
  },
  {
   "cell_type": "markdown",
   "metadata": {
    "ExecuteTime": {
     "end_time": "2024-06-04T12:48:04.676031Z",
     "start_time": "2024-06-04T12:48:04.671038Z"
    }
   },
   "source": [
    "---\n",
    "\n",
    "##### Модуль NumPy. Закрепление знаний\n",
    "\n",
    "<span style=\"font-size:0.8em;\"> [TOC](#mod1) </span>\n",
    "\n",
    "---\n"
   ]
  },
  {
   "cell_type": "code",
   "execution_count": 184,
   "metadata": {
    "ExecuteTime": {
     "end_time": "2024-06-04T14:12:04.206390Z",
     "start_time": "2024-06-04T14:12:04.201359Z"
    }
   },
   "outputs": [
    {
     "data": {
      "text/plain": [
       "4294954884"
      ]
     },
     "execution_count": 184,
     "metadata": {},
     "output_type": "execute_result"
    }
   ],
   "source": [
    "x ,y = np.uint64(2147483548), np.uint64(2147471336)\n",
    "x + y\n"
   ]
  },
  {
   "cell_type": "code",
   "execution_count": 214,
   "metadata": {
    "ExecuteTime": {
     "end_time": "2024-06-04T14:30:44.604739Z",
     "start_time": "2024-06-04T14:30:44.597741Z"
    }
   },
   "outputs": [
    {
     "data": {
      "text/plain": [
       "array([[0.]])"
      ]
     },
     "execution_count": 214,
     "metadata": {},
     "output_type": "execute_result"
    }
   ],
   "source": [
    "# Напишите функцию get_chess(a), которая принимает на вход длину стороны квадрата a и возвращает\n",
    "# двумерный массив формы (a, a), заполненный 0 и 1 в шахматном порядке. \n",
    "# В левом верхнем углу всегда должен быть ноль.\n",
    "# Примечание. воспользуйтесь функцией np.zeros, а затем с помощью срезов без циклов задайте \n",
    "# необходимым элементам значение 1.\n",
    "# В Python для получения каждого второго элемента используется срез [::2]. \n",
    "# Подумайте, как грамотно применить этот принцип к двумерному массиву.\n",
    "def get_chess(a):\n",
    "    res = np.zeros((a,a))\n",
    "    res[1::2, 0::2] = 1\n",
    "    res[0::2, 1::2] = 1\n",
    "    return res\n",
    "\n",
    "get_chess(1)\n",
    "# array([[0.]])\n",
    "# p(get_chess(4))\n",
    "# array([[0., 1., 0., 1.],\n",
    "#        [1., 0., 1., 0.],\n",
    "#        [0., 1., 0., 1.],\n",
    "#        [1., 0., 1., 0.]])"
   ]
  },
  {
   "cell_type": "code",
   "execution_count": 2,
   "metadata": {
    "ExecuteTime": {
     "end_time": "2024-06-04T14:52:26.914415Z",
     "start_time": "2024-06-04T14:52:26.892401Z"
    }
   },
   "outputs": [
    {
     "data": {
      "text/plain": [
       "(array([1, 3, 5, 4, 2]), 3041364066)"
      ]
     },
     "execution_count": 2,
     "metadata": {},
     "output_type": "execute_result"
    }
   ],
   "source": [
    "import numpy as np\n",
    "\n",
    "# Вы разрабатываете приложение для прослушивания музыки. Конечно же, там будет доступна функция \n",
    "# перемешивания плейлиста. Пользователю может настолько понравиться перемешанная версия плейлиста, что он \n",
    "# захочет сохранить его копию. Однако вы не хотите хранить в памяти новую версию плейлиста, а просто \n",
    "# хотите сохранять тот seed, с которым он был сгенерирован.\n",
    "# Для этого напишите функцию shuffle_seed(array), которая принимает на вход массив из чисел, \n",
    "# генерирует случайное число для seed в диапазоне от 0 до 2**32 - 1 (включительно) и возвращает кортеж: \n",
    "#     перемешанный с данным seed массив (исходный массив должен оставаться без изменений), а также seed, \n",
    "# с которым этот массив был получен.\n",
    "def shuffle_seed(array):\n",
    "    array = np.array(array)\n",
    "    new_seed = np.random.randint(0, high = (2**32 - 1) +1, size=None, dtype=np.uint64)\n",
    "    np.random.seed( new_seed )\n",
    "    sh_array = np.random.permutation(array)\n",
    "    return sh_array, new_seed\n",
    "\n",
    "array = [1, 2, 3, 4, 5]\n",
    "shuffle_seed(array)\n",
    "# (array([1, 3, 2, 4, 5]), 2332819(какой то разный сид) )\n",
    "# shuffle_seed(array)\n",
    "# (array([4, 5, 2, 3, 1]), 4155165971)\n"
   ]
  },
  {
   "cell_type": "code",
   "execution_count": 36,
   "metadata": {
    "ExecuteTime": {
     "end_time": "2024-06-04T15:14:00.743809Z",
     "start_time": "2024-06-04T15:14:00.722809Z"
    }
   },
   "outputs": [
    {
     "data": {
      "text/plain": [
       "(5.196152422706632, 10.392304845413264)"
      ]
     },
     "execution_count": 36,
     "metadata": {},
     "output_type": "execute_result"
    }
   ],
   "source": [
    "import numpy as np\n",
    "# Напишите функцию min_max_dist(*vectors), которая принимает на вход неограниченное число векторов через запятую. Гарантируется, что все векторы, которые передаются, одинаковой длины.\n",
    "# Функция возвращает минимальное и максимальное расстояние между векторами в виде кортежа.\n",
    "def min_max_dist(*vectors):\n",
    "    res = []\n",
    "#     import itertools\n",
    "#     for x,y in itertools.combinations(vectors, 2):\n",
    "# #         print( x,y, np.float64( np.linalg.norm( x - y ) ) )\n",
    "#         res.append(np.linalg.norm( x - y ))\n",
    "    for i in range(len(vectors)):\n",
    "        for j in range(i + 1, len(vectors)):\n",
    "            res.append(np.linalg.norm( vectors[i] - vectors[j]))\n",
    "    \n",
    "    return np.min(res), np.max(res)\n",
    "# distance = np.linalg.norm(vec1 - vec2)\n",
    "# расстояние между векторами\n",
    "vec1 = np.array([1,2,3])\n",
    "vec2 = np.array([4,5,6])\n",
    "vec3 = np.array([7, 8, 9])\n",
    "min_max_dist(vec1, vec2, vec3)\n",
    "# (5.196152422706632, 10.392304845413264)"
   ]
  },
  {
   "cell_type": "code",
   "execution_count": 42,
   "metadata": {
    "ExecuteTime": {
     "end_time": "2024-06-04T15:17:41.869515Z",
     "start_time": "2024-06-04T15:17:41.850516Z"
    }
   },
   "outputs": [
    {
     "name": "stdout",
     "output_type": "stream",
     "text": [
      "True\n"
     ]
    }
   ],
   "source": [
    "import numpy as np\n",
    "# Напишите функцию any_normal, которая принимает на вход неограниченное число векторов через запятую. Гарантируется, что все векторы, которые передаются, одинаковой длины.\n",
    "# Функция возвращает True, если есть хотя бы одна пара перпендикулярных векторов. Иначе возвращает False.\n",
    "def any_normal(*vectors):\n",
    "    res = []\n",
    "#     import itertools\n",
    "#     for x,y in itertools.combinations(vectors, 2):\n",
    "# #         print( x,y, np.float64( np.linalg.norm( x - y ) ) )\n",
    "#         res.append(np.linalg.norm( x - y ))\n",
    "    for i in range(len(vectors)):\n",
    "        for j in range(i + 1, len(vectors)):\n",
    "            res.append(np.dot( vectors[i], vectors[j]))    \n",
    "    return True if 0 in res else False\n",
    "# Скалярное произведение также имеет широкое применение в математике и других операциях с векторами. \n",
    "# В частности, равенство скалярного произведения нулю означает перпендикулярность рассматриваемых векторов:\n",
    "vec1 = np.array([2, 1])\n",
    "vec2 = np.array([-1, 2])\n",
    "vec3 = np.array([3,4])\n",
    "print(any_normal(vec1, vec2, vec3))\n",
    "# True"
   ]
  },
  {
   "cell_type": "code",
   "execution_count": 73,
   "metadata": {
    "ExecuteTime": {
     "end_time": "2024-06-04T16:35:39.708922Z",
     "start_time": "2024-06-04T16:35:39.690456Z"
    }
   },
   "outputs": [
    {
     "data": {
      "text/plain": [
       "array([[[ 81,  84,  77,  22,  50],\n",
       "        [ 22,  43,  87,  32,  80],\n",
       "        [ 17,  69,  39,  54,   6],\n",
       "        [ 89,   3,   8,  13, 100],\n",
       "        [ 45,  77,  84,  38,  85]],\n",
       "\n",
       "       [[ 97,  97, 100,  80, 101],\n",
       "        [ 59,  63,   2,  61,  26],\n",
       "        [ 86,  18,  53,  20,   8],\n",
       "        [ 62,  66,  17,  97,  71],\n",
       "        [ 21,  95,  95,  44,  17]],\n",
       "\n",
       "       [[ 24,  26,  94,  22,  51],\n",
       "        [ 36,  55,  80,  86,  40],\n",
       "        [ 47,  18,  31,  17,  50],\n",
       "        [ 47,  74,  53,  97,  28],\n",
       "        [  5,  18,  67,  84,  55]]], dtype=uint64)"
      ]
     },
     "execution_count": 73,
     "metadata": {},
     "output_type": "execute_result"
    }
   ],
   "source": [
    "import numpy as np\n",
    "# Напишите функцию get_loto(num), генерирующую трёхмерный массив случайных целых чисел от 1 до 100 (включительно). Это поля для игры в лото.\n",
    "# Трёхмерный массив должен состоять из таблиц чисел формы 5х5, то есть итоговая форма — (num, 5, 5).\n",
    "# Функция возвращает полученный массив.\n",
    "def get_loto(num):\n",
    "    return np.random.randint(0, high = (100 + 1) +1, size=(num, 5,5), dtype=np.uint64) \n",
    "get_loto(3)\n",
    "# array([[[ 35,  66,  38,  11,  32],\n",
    "#        [ 32,   7,  37,  83,  42],\n",
    "#        [ 89,  37,  19,  51,  89],\n",
    "#        [ 70, 100,  83,   5,  11],\n",
    "#        [ 20,  13,  60,  26,  41]],\n",
    "\n",
    "#       [[ 23,  49,  76,  44,  43],\n",
    "#        [ 59,  63,  99,  92,   2],\n",
    "#        [ 83,   4,  25,  73,  19],\n",
    "#        [ 10,  18,  40,  11,  21],\n",
    "#        [ 58,  45,  73,  93,  61]],\n",
    "\n",
    "#       [[100,  88,  70,  34,  51],\n",
    "#        [  5,  35,  36,  85,  88],\n",
    "#        [ 72,  23,  87,  30,  40],\n",
    "#        [ 29,  21,  51,  73,  81],\n",
    "#        [ 91,  19,  87,  60,  27]]])\n"
   ]
  },
  {
   "cell_type": "code",
   "execution_count": 121,
   "metadata": {
    "ExecuteTime": {
     "end_time": "2024-06-04T16:56:40.446695Z",
     "start_time": "2024-06-04T16:56:40.426185Z"
    }
   },
   "outputs": [
    {
     "data": {
      "text/plain": [
       "array([[[ 7, 13, 84, 19, 41],\n",
       "        [53, 80, 36, 10, 75],\n",
       "        [35, 71, 49, 64, 67],\n",
       "        [73, 88,  6, 70,  5],\n",
       "        [44,  4, 16, 90, 83]],\n",
       "\n",
       "       [[13, 20, 59, 48, 88],\n",
       "        [70, 66, 18, 73, 68],\n",
       "        [90,  7, 92, 44, 32],\n",
       "        [96,  3, 11, 53, 52],\n",
       "        [78, 65, 34, 69, 51]],\n",
       "\n",
       "       [[46, 47, 81, 89, 98],\n",
       "        [73, 19, 60, 12,  1],\n",
       "        [41, 91, 64, 97, 37],\n",
       "        [29, 14, 74, 90, 25],\n",
       "        [30, 42, 31, 86, 62]]])"
      ]
     },
     "execution_count": 121,
     "metadata": {},
     "output_type": "execute_result"
    }
   ],
   "source": [
    "# np.randНапишите функцию get_unique_loto(num). Она так же, как и функция в задании 49.9.10, генерирует num полей для игры в лото, однако теперь на каждом поле 5х5 числа не могут повторяться.\n",
    "# Функция также должна возвращать массив формы num x 5 x 5.\n",
    "# om.randint(0, high = (100 + 1) +1, size=(3, 5,5), dtype=np.uint64) \n",
    "import numpy as np\n",
    "def get_unique_loto(num):\n",
    "    sample = np.arange(1, 101)\n",
    "    res = list()\n",
    "    for i in range(num):\n",
    "        res.append(np.random.choice(sample,\n",
    "            replace=False, size=(5, 5)))\n",
    "    res = np.array(res)\n",
    "    return res\n",
    "get_unique_loto(3)\n",
    "# array([[[26, 91, 73,  7, 16],\n",
    "#        [46, 85, 78, 77, 51],\n",
    "#        [84, 86, 55, 71, 58],\n",
    "#        [17, 61, 50, 30, 97],\n",
    "#        [66, 29, 38, 41, 32]],\n",
    "\n",
    "#       [[49, 32,  3, 21, 85],\n",
    "#        [45,  8, 94, 46, 96],\n",
    "#        [41, 38, 58, 37, 98],\n",
    "#        [66, 77, 54, 80, 26],\n",
    "#        [62, 63, 72,  5, 43]],\n",
    "\n",
    "#       [[55, 60,  6, 80, 97],\n",
    "#        [23, 69, 94,  9, 24],\n",
    "#        [17, 98, 27, 63, 79],\n",
    "#        [84, 74, 51, 39, 54],\n",
    "#        [77, 30, 48, 75, 85]]])\n"
   ]
  },
  {
   "cell_type": "markdown",
   "metadata": {
    "ExecuteTime": {
     "end_time": "2024-06-13T05:45:54.377350Z",
     "start_time": "2024-06-13T05:45:54.358328Z"
    }
   },
   "source": [
    "---\n",
    "\n",
    "##### Модуль NumPy. Подсказки и эталонные ответы к заданиям модуля\n",
    "\n",
    "\n",
    "<span style=\"font-size:0.8em;\"> [TOC](#mod1) </span>\n",
    "\n",
    "---\n"
   ]
  },
  {
   "cell_type": "code",
   "execution_count": 2,
   "metadata": {
    "ExecuteTime": {
     "end_time": "2024-06-13T06:11:53.378563Z",
     "start_time": "2024-06-13T06:11:53.335550Z"
    }
   },
   "outputs": [
    {
     "ename": "SyntaxError",
     "evalue": "invalid syntax (3376006408.py, line 1)",
     "output_type": "error",
     "traceback": [
      "\u001b[1;36m  File \u001b[1;32m\"C:\\Users\\dadsmldl\\AppData\\Local\\Temp\\ipykernel_3456\\3376006408.py\"\u001b[1;36m, line \u001b[1;32m1\u001b[0m\n\u001b[1;33m    2. Модуль Collections. Counter и defaultdict\u001b[0m\n\u001b[1;37m       ^\u001b[0m\n\u001b[1;31mSyntaxError\u001b[0m\u001b[1;31m:\u001b[0m invalid syntax\n"
     ]
    }
   ],
   "source": [
    "2. Модуль Collections. Counter и defaultdict\n",
    "ЗАДАНИЕ 2.3\n",
    "\n",
    "from hidden import clients\n",
    "from collections import Counter\n",
    "\n",
    "c = Counter(clients)\n",
    "print(c.most_common(1))\n",
    "ЗАДАНИЕ 2.4\n",
    "\n",
    "from hidden import clients\n",
    "from collections import Counter\n",
    "c = Counter(clients)\n",
    "print(c[953421102])\n",
    "ЗАДАНИЕ 2.5\n",
    "\n",
    "from hidden import clients\n",
    "from collections import Counter\n",
    "c = Counter(clients)\n",
    "print(len(list(c)))\n",
    "ЗАДАНИЕ 2.8\n",
    "\n",
    "from hidden import mystery\n",
    "print(mystery['any_key'])\n",
    "# deque([])\n",
    "Вернуться в юнит 2 →\n",
    "\n",
    "3. Модуль Collections. Deque и OrderedDict\n",
    "ЗАДАНИЕ 3.2\n",
    "\n",
    "from collections import OrderedDict\n",
    "temps.sort(key=lambda x: x[1], reverse=True)\n",
    "od = OrderedDict(temps)\n",
    "print(od)\n",
    "ЗАДАНИЕ 3.5\n",
    "\n",
    "from hidden import users\n",
    "from collections import deque\n",
    "users = deque(users)\n",
    "user_id = users.popleft()\n",
    "print(user_id)\n",
    "ЗАДАНИЕ 3.6\n",
    "\n",
    "from hidden import users\n",
    "from collections import deque\n",
    "users = deque(users)\n",
    "user_id = users.popleft()\n",
    "# Окончание копии предыдущего решения\n",
    "users.rotate(-5)\n",
    "user_id = users.pop()\n",
    "print(user_id)\n",
    "ЗАДАНИЕ 3.7\n",
    "\n",
    "from hidden import users\n",
    "from collections import deque\n",
    "users = deque(users)\n",
    "user_id = users.popleft()\n",
    "users.rotate(-5)\n",
    "user_id = users.pop()\n",
    "# Окончание копии предыдущего решения\n",
    "print(users.count(user_id))\n",
    "Вернуться в юнит 3 →\n",
    "\n",
    "4. Модуль Collections. Закрепление знаний\n",
    "ЗАДАНИЕ 4.3\n",
    "\n",
    "from collections import deque\n",
    "\n",
    "def brackets(line):\n",
    "    # Напишите тело функции\n",
    "    stack = deque()\n",
    "    for i in line:\n",
    "        if i == \"(\":\n",
    "            stack.append(i)\n",
    "        elif i == \")\":\n",
    "            if len(stack) == 0:\n",
    "                return False\n",
    "            stack.pop()\n",
    "    if len(stack) == 0:\n",
    "        return True\n",
    "    return False\n",
    "ЗАДАНИЕ 4.4\n",
    "\n",
    "north_list = [elem for bill in north for elem in bill]\n",
    "south_list = [elem for bill in south for elem in bill]\n",
    "center_list = [elem for bill in center for elem in bill]\n",
    "print(len(north_list))\n",
    "# 500\n",
    "print(len(south_list))\n",
    "# 478\n",
    "print(len(center_list))\n",
    "# 548\n",
    "ЗАДАНИЕ 4.5\n",
    "\n",
    "from collections import Counter\n",
    "north_list = [elem for bill in north for elem in bill]\n",
    "south_list = [elem for bill in south for elem in bill]\n",
    "center_list = [elem for bill in center for elem in bill]\n",
    " \n",
    "c = Counter(center_list)\n",
    "s = Counter(south_list)\n",
    "n = Counter(north_list)\n",
    " \n",
    "print(n.most_common()[-1])\n",
    "# ('Cheese', 10)\n",
    "ЗАДАНИЕ 4.6\n",
    "\n",
    "from collections import Counter\n",
    "north_list = [elem for bill in north for elem in bill]\n",
    "south_list = [elem for bill in south for elem in bill]\n",
    "center_list = [elem for bill in center for elem in bill]\n",
    "c = Counter(center_list)\n",
    "s = Counter(south_list)\n",
    "n = Counter(north_list)\n",
    "print(c - n)\n",
    "# Counter({'Meat': 31, 'Cheese': 29, 'Bread': 23,\n",
    "# 'Chips': 22, 'Milk': 21, 'Ketchup': 19, 'Chocolate': 2})\n",
    "ЗАДАНИЕ 4.7\n",
    "\n",
    "from collections import Counter\n",
    "north_list = [elem for bill in north for elem in bill]\n",
    "south_list = [elem for bill in south for elem in bill]\n",
    "center_list = [elem for bill in center for elem in bill]\n",
    "c = Counter(center_list)\n",
    "s = Counter(south_list)\n",
    "n = Counter(north_list)\n",
    "print(c - (n + s))\n",
    "# Counter()\n",
    "print(n - (s + c))\n",
    "# Counter({'Cola': 6})\n",
    "print(s - (c + n))\n",
    "# Counter()\n",
    "ЗАДАНИЕ 4.8\n",
    "\n",
    "from collections import Counter\n",
    "north_list = [elem for bill in north for elem in bill]\n",
    "south_list = [elem for bill in south for elem in bill]\n",
    "center_list = [elem for bill in center for elem in bill]\n",
    "c = Counter(center_list)\n",
    "s = Counter(south_list)\n",
    "n = Counter(north_list)\n",
    "print((s + c + n).most_common()[1])\n",
    "# ('Bread', 240)\n",
    "ЗАДАНИЕ 4.9\n",
    "\n",
    "ratings = [('Old York', 3.3), ('New Age', 4.6), ('Old Gold', 3.3), ('General Foods', 4.8),\n",
    "          ('Belissimo', 4.5), ('CakeAndCoffee', 4.2), ('CakeOClock', 4.2), ('CakeTime', 4.1),\n",
    "          ('WokToWork', 4.9), ('WokAndRice', 4.9), ('Old Wine Cellar', 3.3), ('Nice Cakes', 3.9)]\n",
    "# Отсортируйте список ratings по убыванию рейтинга. Для кафе\n",
    "# с одинаковым рейтингом отсортируйте кортежи по названию.\n",
    "ratings.sort(key=lambda x: (-x[1], x[0]))\n",
    "# Сохраните данные с рейтингом в словарь cafes, где ключами являются\n",
    "# названия кафе, а значениями - их рейтинг.\n",
    "from collections import OrderedDict\n",
    "cafes = OrderedDict(ratings)\n",
    "ЗАДАНИЕ 4.10\n",
    "\n",
    "from collections import deque, defaultdict\n",
    "\n",
    "def task_manager(tasks):\n",
    "    servers = defaultdict(deque)\n",
    "    for task in tasks:\n",
    "        if task[-1]:\n",
    "            servers[task[1]].appendleft(task[0])\n",
    "        else:\n",
    "            servers[task[1]].append(task[0])\n",
    "    return servers\n",
    "Вернуться в юнит 4 →\n",
    "\n",
    "6. Модуль NumPy. Массивы\n",
    "ЗАДАНИЕ 6.8\n",
    "\n",
    "print(mystery.ndim)\n",
    "ЗАДАНИЕ 6.9\n",
    "\n",
    "print(max(mystery.shape))\n",
    "ЗАДАНИЕ 6.10\n",
    "\n",
    "print(mystery.size)\n",
    "ЗАДАНИЕ 6.11\n",
    "\n",
    "print(mystery.dtype)\n",
    "# float16\n",
    "ЗАДАНИЕ 6.12\n",
    "\n",
    "print(mystery.itemsize * mystery.size)\n",
    "# 420\n",
    "Вернуться в юнит 6 →\n",
    "\n",
    "7. Модуль NumPy. Действия с массивами\n",
    "ЗАДАНИЕ 7.2\n",
    "\n",
    "import numpy as np\n",
    "\n",
    "mystery = np.array([[-13586,  15203,  28445, -27117,  -1781, -17182, -18049],\n",
    "       [ 25936, -30968,  -1297,  -4593,   6451,  15790,   7181],\n",
    "       [ 13348,  28049,  28655,  -6012,  21762,  25397,   8225],\n",
    "       [ 13240,   7994,  32592,  20149,  13754,  11795,   -564],\n",
    "       [-21725,  -8681,  30305,  22260, -17918,  12578,  29943],\n",
    "       [-16841, -25392, -17278,  11740,   5916,    -47, -32037]],\n",
    "      dtype=np.int16)\n",
    "\n",
    "# В переменную elem_5_3 сохраните элемент из 5 строки и 3 столбца\n",
    "elem_5_3 = mystery[4, 2]\n",
    "\n",
    "# В переменную last сохраните элемент из последней строки последнего столбца\n",
    "last = mystery[-1, -1]\n",
    "\n",
    "# В переменную line_4 сохраните строку 4\n",
    "line_4 = mystery[3]\n",
    "\n",
    "# В переменную col_2 сохраните предпоследний столбец\n",
    "col_2 = mystery[:, -2]\n",
    "\n",
    "# Из строк 2-4 (включительно) получите столбцы 3-5 (включительно)\n",
    "part = mystery[1:4, 2:5]\n",
    "\n",
    "# Сохраните в переменную rev последний столбец в обратном порядке\n",
    "rev = mystery[::-1, -1]\n",
    "\n",
    "# Сохраните в переменную trans транспонированный массив\n",
    "trans = mystery.transpose()\n",
    "ЗАДАНИЕ 7.4\n",
    "\n",
    "import numpy as np\n",
    "\n",
    "mystery = np.array([ 12279., -26024.,  28745.,  np.nan,  31244.,  -2365.,  -6974.,\n",
    "        -9212., np.nan, -17722.,  16132.,  25933.,  np.nan, -16431.,\n",
    "        29810.], dtype=np.float32)\n",
    "\n",
    "# Получите булевый массив с информацией о np.nan в массиве mystery\n",
    "# True - значение пропущено, False - значение не пропущено\n",
    "nans_index = np.isnan(mystery)\n",
    "\n",
    "# В переменную n_nan сохраните число пропущенных значений\n",
    "n_nan = sum(nans_index)\n",
    "\n",
    "# Скопируйте массив `mystery` в массив `mystery_new`. Заполните пропущенные \n",
    "# значения в массиве `mystery_new` нулями\n",
    "mystery_new = mystery.copy()\n",
    "mystery_new[nans_index] = 0\n",
    "\n",
    "# Поменяйте тип данных в массиве mystery на int32\n",
    "mystery_int = np.int32(mystery)\n",
    "\n",
    "# Отсортируйте значения в массиве по возрастанию и сохраните\n",
    "# результат в переменную array\n",
    "array = np.sort(mystery)\n",
    "\n",
    "# Сохраните в массив table двухмерный массив, полученный из массива array\n",
    "# В нём должно быть 5 строк и 3 столбца. Причём порядок заполнения должен быть\n",
    "# по столбцам! Например, 1, 2, 3, 4 -> 1    3\n",
    "#                                      2    4\n",
    "table = array.reshape((5,3), order='F')\n",
    "\n",
    "#  Сохраните в переменную col столбец 2\n",
    "col = table[:, 1]\n",
    "Вернуться в юнит 7 →\n",
    "\n",
    "8. Модуль NumPy. Операции с векторами\n",
    "ЗАДАНИЕ 8.4\n",
    "\n",
    "a = np.array([23, 34, 27])\n",
    "b = np.array([-54, 1,  46])\n",
    "c = np.array([46, 68, 54])\n",
    " \n",
    "len_a = np.linalg.norm(a)\n",
    "len_b = np.linalg.norm(b)\n",
    "len_c = np.linalg.norm(c)\n",
    " \n",
    "len_a_b = np.linalg.norm(a + b)\n",
    "len_b_c = np.linalg.norm(b + c)\n",
    "len_a_c = np.linalg.norm(a + c)\n",
    " \n",
    "print(len_a_b == len_a + len_b)\n",
    "# False\n",
    "print(len_b_c == len_b + len_c)\n",
    "# False\n",
    "print(len_a_c == len_a + len_c)\n",
    "# True\n",
    "ЗАДАНИЕ 8.5\n",
    "\n",
    "a = np.array([23, 34, 27])\n",
    "b = np.array([-54, 1,  46])\n",
    "c = np.array([46, 68, 54])\n",
    " \n",
    "len_a_b = np.linalg.norm(a - b)\n",
    "len_b_c = np.linalg.norm(b - c)\n",
    "len_a_c = np.linalg.norm(a - c)\n",
    " \n",
    "print(len_a_b)\n",
    "# 85.901105930017\n",
    "print(len_b_c)\n",
    "# 120.6358155772986\n",
    "print(len_a_c)\n",
    "# 49.13247398615299\n",
    "ЗАДАНИЕ 8.6\n",
    "\n",
    "import numpy as np\n",
    "a = np.array([23, 34, 27])\n",
    "b = np.array([-54, 1,  46])\n",
    "c = np.array([46, 68, 54])\n",
    " \n",
    "dot_a_b = np.dot(a, b)\n",
    "dot_b_c = np.dot(b, c)\n",
    "dot_a_c = np.dot(a, c)\n",
    " \n",
    "print(dot_a_b)\n",
    "# 34\n",
    "print(dot_b_c)\n",
    "# 68\n",
    "print(dot_a_c)\n",
    "# 4828\n",
    "ЗАДАНИЕ 8.7\n",
    "\n",
    "from hidden import mystery\n",
    "import numpy as np\n",
    "print(np.min(mystery))\n",
    "# 5\n",
    "ЗАДАНИЕ 8.8\n",
    "\n",
    "from hidden import mystery\n",
    "import numpy as np\n",
    "print(np.mean(mystery))\n",
    "# 490.368\n",
    "ЗАДАНИЕ 8.9\n",
    "\n",
    "from hidden import mystery\n",
    "import numpy as np\n",
    "print(np.median(mystery))\n",
    "# 491.0\n",
    "ЗАДАНИЕ 8.10\n",
    "\n",
    "from hidden import mystery\n",
    "import numpy as np\n",
    "print(np.std(mystery))\n",
    "# 289.01097656663495\n",
    "Вернуться в юнит 8 →\n",
    "\n",
    "9. Модуль NumPy. Случайные числа\n",
    "ЗАДАНИЕ 9.6\n",
    "\n",
    "# Не забудьте импортировать numpy и сразу задать seed 2021\n",
    "import numpy as np\n",
    "np.random.seed(2021)\n",
    "# В simple сохраните случайное число в диапазоне от 0 до 1\n",
    "simple = np.random.rand()\n",
    "\n",
    "# Сгенерируйте 120 чисел в диапазоне от -150 до 2021, сохраните их\n",
    "# в переменную randoms\n",
    "randoms = np.random.uniform(-150, 2021, size=120)\n",
    "\n",
    "# Получите массив из случайных целых чисел от 1 до 100 включительно\n",
    "# из 3 строк и 2 столбцов. Сохраните результат в переменную table\n",
    "table = np.random.randint(1, 101, size=(3,2))\n",
    "\n",
    "# В переменную even сохраните чётные числа от 2 до 16 включительно\n",
    "even = np.arange(2,17,2)\n",
    "\n",
    "# Скопируйте even в переменную mix. Перемешайте числа в mix так, чтобы массив mix изменился\n",
    "mix = even.copy()\n",
    "np.random.shuffle(mix)\n",
    "\n",
    "# Получите из even 3 числа без повторений. Сохраните их в переменную select\n",
    "select = np.random.choice(even, replace=False, size=3)\n",
    "\n",
    "# Получите переменную triplet, которая должна содержать перемешанные\n",
    "# значения из массива select (сам select измениться не должен)\n",
    "triplet = np.random.permutation(select)\n",
    "Вернуться в юнит 9 →\n",
    "\n",
    "10. Модуль NumPy. Закрепление знаний\n",
    "ЗАДАНИЕ 10.5\n",
    "\n",
    "from hidden import x, y\n",
    "# Пишите здесь команды, который помогут\n",
    "# найти ответы на вопросы\n",
    "import numpy as np\n",
    "print(np.int64(x) + np.int64(y))\n",
    "# 4294954884\n",
    "ЗАДАНИЕ 10.6\n",
    "\n",
    "import numpy as np\n",
    "\n",
    "def get_chess(a):\n",
    "    arr = np.zeros((a, a))\n",
    "    arr[1::2, ::2] = 1\n",
    "    arr[::2, 1::2] = 1\n",
    "    return arr\n",
    "ЗАДАНИЕ 10.7\n",
    "\n",
    "import numpy as np\n",
    "\n",
    "def shuffle_seed(array):\n",
    "    seed = np.random.randint(2 ** 32)\n",
    "    np.random.seed(seed)\n",
    "    result = np.random.permutation(array)\n",
    "    return result, seed\n",
    "ЗАДАНИЕ 10.8\n",
    "\n",
    "import numpy as np\n",
    "\n",
    "def min_max_dist(*vectors):\n",
    "    dists = list()\n",
    "    for i in range(len(vectors)):\n",
    "        for j in range(i + 1, len(vectors)):\n",
    "            dists.append(np.linalg.norm(vectors[i] - vectors[j]))\n",
    "    return (min(dists), max(dists))\n",
    "ЗАДАНИЕ 10.9\n",
    "\n",
    "import numpy as np\n",
    "\n",
    "def any_normal(*vectors):\n",
    "    for i in range(len(vectors)):\n",
    "        for j in range(i + 1, len(vectors)):\n",
    "            if np.dot(vectors[i], vectors[j]) == 0:\n",
    "                return True\n",
    "    return False\n",
    "ЗАДАНИЕ 10.10\n",
    "\n",
    "import numpy as np\n",
    "\n",
    "def get_loto(num):\n",
    "    loto = np.random.randint(1, 101, size=(num, 5, 5))\n",
    "    return loto\n",
    "ЗАДАНИЕ 10.11\n",
    "\n",
    "import numpy as np\n",
    "\n",
    "def get_unique_loto(num):\n",
    "    sample = np.arange(1, 101)\n",
    "    res = list()\n",
    "    for i in range(num):\n",
    "        res.append(np.random.choice(sample, replace=False, size=(5, 5)))\n",
    "    res = np.array(res)\n",
    "    return res\n",
    "Вернуться в юнит 10 →\n",
    "\n",
    "\n"
   ]
  },
  {
   "cell_type": "code",
   "execution_count": null,
   "metadata": {},
   "outputs": [],
   "source": []
  },
  {
   "cell_type": "markdown",
   "metadata": {},
   "source": [
    "\n",
    "---\n",
    "<a id='3'> </a>\n",
    "\n",
    "### 3 УРОК: *PEP - BONUS. Как писать красивый код на Python?\n",
    "\n",
    "<span style=\"font-size:0.8em;\"> [TOC](#mod1) </span>\n",
    "\n",
    "---\n"
   ]
  },
  {
   "cell_type": "markdown",
   "metadata": {
    "ExecuteTime": {
     "end_time": "2024-06-13T06:19:02.103080Z",
     "start_time": "2024-06-13T06:19:02.089027Z"
    }
   },
   "source": [
    "Полезная информация на python.org\n",
    "\n",
    "https://peps.python.org/pep-0008/\n",
    "    \n",
    "Больше о стандарте PEP 8 на realpython.com\n",
    "\n",
    "https://realpython.com/python-pep8/"
   ]
  },
  {
   "cell_type": "code",
   "execution_count": null,
   "metadata": {},
   "outputs": [],
   "source": [
    "Общие рекомендации\n",
    "Кликайте на пункты списка, чтобы увидеть информацию.\n",
    "\n",
    "1. Имена функций и переменных должны быть строчными, слова должны быть разделены подчёркиванием.\n",
    "Это лишь одно из распространённых соглашений об именах. Однако для того чтобы написать читаемый код, вы всё равно должны быть осторожны с выбором букв и слов.\n",
    "\n",
    "# Not recommended\n",
    "def Tworemainder(x):\n",
    "    return x % 2\n",
    "\n",
    "Divider = None\n",
    "Firstnumber = None\n",
    "# Recommended\n",
    "def two_remainder(x):\n",
    "    return x % 2\n",
    "\n",
    "divider = None\n",
    "first_number = None\n",
    "2. Имя объекта должно отражать его функциональность.\n",
    "Представьте, что вы сохраняете имя человека в виде строки и хотите использовать деление строк, чтобы по-разному форматировать его имя. Возможно, вы получите что-то похожее:\n",
    "\n",
    "# Not recommended\n",
    "\n",
    "x = 'Ivan Ivanov'\n",
    "y, z = x.split()\n",
    "print(z, y, sep=', ')\n",
    "Точно так же, чтобы уменьшить количество набираемого текста, может быть соблазнительно использовать сокращения при выборе имён. В приведённом ниже примере определена функция db(), которая принимает один аргумент x и удваивает его.\n",
    "\n",
    "# Not recommended\n",
    "\n",
    "def db(x):\n",
    "    return x * 2\n",
    "Но представьте, что вы вернётесь к этому коду через несколько дней. Возможно, вы забыли, чего пытались достичь с помощью этой функции, а вспомнить из-за сокращений теперь затруднительно.\n",
    "\n",
    "Следующий пример намного понятнее. Если вы вернётесь к этому коду через пару дней после его написания, вы всё равно сможете прочитать и понять назначение этой функции:\n",
    "\n",
    "# Recommended\n",
    "\n",
    "def multiply_by_two(x):\n",
    "    return x * 2\n",
    "3. Избегайте использования слишком общих или слишком многословных имён.\n",
    "Напомним, что имя объекта должно отражать его функциональность. Следующие названия переменных совершенно ничего не говорят об их предназначении:\n",
    "\n",
    "# Bad\n",
    "my_list = None\n",
    "data_structure = None\n",
    "info_map = None\n",
    "Используйте более говорящие названия:\n",
    "\n",
    "# Good\n",
    "user_profile = None\n",
    "menu_options = None\n",
    "word_definiton = None\n",
    "Однако не переусердствуйте:\n",
    "\n",
    "# Absolutely not\n",
    "dictionary_for_the_purpose_of_storing_data_representing_word_definitions = None\n",
    "4. Используйте только английские слова (English Only). Никакого транслита!\n",
    "Всегда пишите код на английском языке. На родном языке можно писать только в случае, если вы на 120% уверены, что ваш код будут читать только говорящие на вашем языке коллеги.\n",
    "\n",
    "# Very bad\n",
    "spisok_chisel = None\n",
    "delitel = None\n",
    "# Good\n",
    "numbers_list = None\n",
    "divider = None"
   ]
  },
  {
   "cell_type": "code",
   "execution_count": null,
   "metadata": {},
   "outputs": [],
   "source": [
    "То, как вы пишете код, играет огромную роль в его читабельности. В этом разделе вы увидите, как использовать вертикальные пробелы для улучшения читабельности вашего кода. Также вы узнаете, как обрабатывать ограничение в 79 символов, рекомендованное в PEP 8.\n",
    "\n",
    "Кликайте на пункты списка, чтобы увидеть информацию.\n",
    "\n",
    "1. Разделяйте определения функций и классов двумя пустыми строками.\n",
    "Функции и классы могут быть достаточно автономными и обрабатывать отдельные функции. Имеет смысл поместить дополнительное вертикальное пространство вокруг них, чтобы было ясно, что они разделены.\n",
    "\n",
    "# Recommended\n",
    "\n",
    "class MyFirstClass:\n",
    "    pass\n",
    "\n",
    "\n",
    "class MySecondClass:\n",
    "    pass\n",
    "\n",
    "\n",
    "def first_function():\n",
    "    return None\n",
    "\n",
    "\n",
    "def second_function():\n",
    "    return None\n",
    "2. Используйте пустые строки в функциях, чтобы разделить логические блоки.\n",
    "Иногда сложная функция должна выполнить несколько шагов перед оператором return. Чтобы помочь читателю понять логику внутри функции, может быть полезно оставить пустую строку между шагами.\n",
    "\n",
    "def calculate_variance(number_list):\n",
    "    \"\"\"Function to calculate variance\"\"\"\n",
    "    sum_list = 0\n",
    "    for number in number_list:\n",
    "        sum_list = sum_list + number\n",
    "    mean = sum_list / len(number_list)\n",
    "\n",
    "    sum_squares = 0\n",
    "    for number in number_list:\n",
    "        sum_squares = sum_squares + number**2\n",
    "    mean_squares = sum_squares / len(number_list) \n",
    "\n",
    "    return mean_squares - mean**2\n",
    "3. Ограничьте максимальную длину строки 79 символами.\n",
    "# Not recommended\n",
    "with open('/path/to/some/file/you/want/to/read') as file_1, open('/path/to/some/file/being/written', 'w') as file_2:\n",
    "    file_2.write(file_1.read())\n",
    "\n",
    "\n",
    "# Recommended\n",
    "with open('/path/to/some/file/you/want/to/read') as file_1, \\\n",
    "     open('/path/to/some/file/being/written', 'w') as file_2:\n",
    "    file_2.write(file_1.read())\n",
    "4. Переносите строку до бинарного оператора.\n",
    "Если разрыв строки должен происходить вокруг бинарных операторов, таких как + и *, это должно происходить перед оператором. Это правило вытекает из математики. Математики сходятся во мнении, что разрыв перед двоичными операторами улучшает читабельность.\n",
    "\n",
    "# Нет: Бинарный оператор отдельно от операнда. \n",
    "income = (gross_wages +\n",
    "          taxable_interest +\n",
    "          (dividends - qualified_dividends) -\n",
    "          ira_deduction -\n",
    "          student_loan_interest)\n",
    "\n",
    "\n",
    "# Да: Бинарный оператор легко воспринимается вместе с операндом.\n",
    "income = (gross_wages\n",
    "          + taxable_interest\n",
    "          + (dividends - qualified_dividends)\n",
    "          - ira_deduction\n",
    "          - student_loan_interest)\n",
    "5. Однозначно определите удобное для вас положение закрывающей скобки.\n",
    "PEP 8 предоставляет две опции для расположения закрывающей скобки:\n",
    "\n",
    "# Yes\n",
    "list_of_numbers = [\n",
    "    1, 2, 3,\n",
    "    4, 5, 6,\n",
    "    7, 8, 9\n",
    "    ]\n",
    "\n",
    "# Yes\n",
    "list_of_numbers = [\n",
    "    1, 2, 3,\n",
    "    4, 5, 6,\n",
    "    7, 8, 9\n",
    "]"
   ]
  },
  {
   "cell_type": "code",
   "execution_count": null,
   "metadata": {},
   "outputs": [],
   "source": [
    "Комментарии должны быть полными предложениями. Первое слово должно быть написано с заглавной буквы.\n",
    "2. Не злоупотребляйте комментариями.\n",
    "Понятный и красивый код лучше, чем излишнее комментирование.\n",
    "\n",
    "# Bad\n",
    "empty_list = []  # Initialize empty list\n",
    "\n",
    "x = 5\n",
    "x = x * 5  # Multiply x by 5\n",
    "3. Если код слишком технический, необходимо использовать более одного абзаца в комментарии к блоку.\n",
    "Если вы создаёте функцию, вы должны сделать краткое описание к ней. Это позволит другим лучше ориентироваться в вашем коде.\n",
    "\n",
    "def quadratic(a, b, c):\n",
    "    \"\"\"Solve quadratic equation via the quadratic formula.\n",
    "\n",
    "    A quadratic equation has the following form:\n",
    "    ax**2 + bx + c = 0\n",
    "\n",
    "    There always two solutions to a quadratic equation: x_1 & x_2.\n",
    "    \"\"\"\n",
    "    x_1 = (- b+(b**2-4*a*c)**(1/2)) / (2*a)\n",
    "    x_2 = (- b-(b**2-4*a*c)**(1/2)) / (2*a)\n",
    "\n",
    "    return x_1, x_2"
   ]
  },
  {
   "cell_type": "code",
   "execution_count": null,
   "metadata": {},
   "outputs": [],
   "source": [
    "1. Не окружайте пробелами символ '=' при определении аргумента функции по умолчанию.\n",
    "# Not recommended\n",
    "def function(default_parameter = 5):\n",
    "    return None\n",
    "\n",
    "\n",
    "# Recommended\n",
    "def function(default_parameter=5):\n",
    "    return None\n",
    "2. Окружайте пробелами бинарные операторы, имеющие меньший приоритет.\n",
    "Когда в выражении присутствует более чем один оператор, добавление одного пробела до и после каждого оператора может показаться запутанным. Вместо этого лучше всего добавлять пробелы вокруг операторов с самым низким приоритетом, особенно при выполнении математических операций.\n",
    "\n",
    "# Not Recommended\n",
    "y = x ** 2 + 5\n",
    "z = (x + y) * (x - y)\n",
    "\n",
    "\n",
    "# Recommended\n",
    "y = x**2 + 5\n",
    "z = (x+y) * (x-y)\n",
    "Вы также можете применить это правило и к операторам if с несколькими условиями:\n",
    "\n",
    "# Not recommended\n",
    "if x > 5 and x % 2 == 0:\n",
    "    print('x is larger than 5 and divisible by 2!')\n",
    "\n",
    "# Recommended\n",
    "if x>5 and x%2==0:\n",
    "    print('x is larger than 5 and divisible by 2!')"
   ]
  },
  {
   "cell_type": "markdown",
   "metadata": {
    "ExecuteTime": {
     "end_time": "2024-06-13T06:28:02.253077Z",
     "start_time": "2024-06-13T06:28:02.243061Z"
    }
   },
   "source": [
    "---\n",
    "\n",
    "##### IT HERO\n",
    "\n",
    "> https://ithero.itresume.ru/\n",
    " — это онлайн-сервис с задачами по программированию, своеобразный тренажёр для подготовки к техническим собеседованиям. Сейчас в сервисе есть задачи по Python и SQL.\n",
    "\n",
    "<span style=\"font-size:0.8em;\"> [TOC](#mod1) </span>\n",
    "\n",
    "---\n"
   ]
  },
  {
   "cell_type": "code",
   "execution_count": null,
   "metadata": {},
   "outputs": [],
   "source": [
    "https://ithero.itresume.ru/"
   ]
  },
  {
   "cell_type": "markdown",
   "metadata": {
    "ExecuteTime": {
     "end_time": "2024-06-13T06:35:56.549174Z",
     "start_time": "2024-06-13T06:35:56.529174Z"
    }
   },
   "source": [
    "Станьте IT HERO!\n",
    "Предлагаем вам закрепить знания по программированию в новом увлекательном формате — вас ждёт настоящее кодинг-соревнование на площадке IT HERO!\n",
    "\n",
    "IT HERO — это онлайн-сервис с задачами по программированию, своеобразный тренажёр для подготовки к техническим собеседованиям. Сейчас в сервисе есть задачи по Python и SQL.\n",
    "\n",
    "Почему полезно писать код в режиме соревнования?\n",
    "Решение множества задач расширит ваш кругозор и прочно свяжет теорию с практикой. Вы научитесь быстро вникать в условия, находить оптимальные инструменты для решения и писать грамотный код. Эти навыки очень пригодятся вам на технических собеседованиях, где решающую роль играют качество и скорость выполнения задания.\n",
    "\n",
    "Как устроен сервис IT HERO?\n",
    "Первым делом посмотрите видеоинструкцию — в ней вы найдёте подробные объяснения, как всё устроено и с чего лучше начать.\n",
    "\n",
    "\n",
    "Выберите в настройках подходящий уровень сложности (лёгкий — рекомендуем начинать именно с него, средний, сложный), и система автоматически подберёт для вас оппонента. Победит тот, кто первым найдёт решение за ограниченное время.\n",
    "\n",
    "По результатам матчей сервис формирует турнирную доску. Пользователи на топовых позициях получают приятные бонусы от школы.\n",
    "\n",
    "Чтобы начать соревноваться, перейдите по ссылке. Добро пожаловать на IT HERO и успешных вам матчей!"
   ]
  },
  {
   "cell_type": "code",
   "execution_count": null,
   "metadata": {},
   "outputs": [],
   "source": []
  },
  {
   "cell_type": "markdown",
   "metadata": {},
   "source": [
    "\n",
    "---\n",
    "<a id='4'> </a>\n",
    "\n",
    "### 4 УРОК: PYTHON-7. Введение в Pandas\n",
    "\n",
    "<span style=\"font-size:0.8em;\"> [TOC](#mod1) </span>\n",
    "\n",
    "---\n"
   ]
  },
  {
   "cell_type": "markdown",
   "metadata": {
    "ExecuteTime": {
     "end_time": "2024-06-04T12:48:04.676031Z",
     "start_time": "2024-06-04T12:48:04.671038Z"
    }
   },
   "source": [
    "---\n",
    "\n",
    "##### Модуль NumPy. Массивы / Действия с массивами\n",
    "\n",
    "<span style=\"font-size:0.8em;\"> [TOC](#mod1) </span>\n",
    "\n",
    "---\n"
   ]
  },
  {
   "cell_type": "code",
   "execution_count": null,
   "metadata": {},
   "outputs": [],
   "source": []
  },
  {
   "cell_type": "code",
   "execution_count": null,
   "metadata": {},
   "outputs": [],
   "source": []
  },
  {
   "cell_type": "code",
   "execution_count": null,
   "metadata": {},
   "outputs": [],
   "source": []
  },
  {
   "cell_type": "markdown",
   "metadata": {},
   "source": [
    "\n",
    "---\n",
    "<a id='5'> </a>\n",
    "\n",
    "### 5 УРОК: *\n",
    "\n",
    "<span style=\"font-size:0.8em;\"> [TOC](#mod1) </span>\n",
    "\n",
    "---\n"
   ]
  },
  {
   "cell_type": "code",
   "execution_count": null,
   "metadata": {},
   "outputs": [],
   "source": []
  },
  {
   "cell_type": "code",
   "execution_count": null,
   "metadata": {},
   "outputs": [],
   "source": []
  },
  {
   "cell_type": "code",
   "execution_count": null,
   "metadata": {},
   "outputs": [],
   "source": []
  },
  {
   "cell_type": "markdown",
   "metadata": {},
   "source": [
    "\n",
    "---\n",
    "<a id='6'> </a>\n",
    "\n",
    "### 6 УРОК: *\n",
    "\n",
    "<span style=\"font-size:0.8em;\"> [TOC](#mod1) </span>\n",
    "\n",
    "---\n"
   ]
  },
  {
   "cell_type": "code",
   "execution_count": null,
   "metadata": {},
   "outputs": [],
   "source": []
  },
  {
   "cell_type": "code",
   "execution_count": null,
   "metadata": {},
   "outputs": [],
   "source": []
  },
  {
   "cell_type": "code",
   "execution_count": null,
   "metadata": {},
   "outputs": [],
   "source": []
  },
  {
   "cell_type": "markdown",
   "metadata": {},
   "source": [
    "\n",
    "---\n",
    "<a id='7'> </a>\n",
    "\n",
    "### 7 УРОК: *\n",
    "\n",
    "<span style=\"font-size:0.8em;\"> [TOC](#mod1) </span>\n",
    "\n",
    "---\n"
   ]
  },
  {
   "cell_type": "code",
   "execution_count": null,
   "metadata": {},
   "outputs": [],
   "source": []
  },
  {
   "cell_type": "code",
   "execution_count": null,
   "metadata": {},
   "outputs": [],
   "source": []
  },
  {
   "cell_type": "code",
   "execution_count": null,
   "metadata": {},
   "outputs": [],
   "source": []
  },
  {
   "cell_type": "markdown",
   "metadata": {},
   "source": [
    "\n",
    "---\n",
    "<a id='8'> </a>\n",
    "\n",
    "### 8 УРОК: *\n",
    "\n",
    "<span style=\"font-size:0.8em;\"> [TOC](#mod1) </span>\n",
    "\n",
    "---\n"
   ]
  },
  {
   "cell_type": "code",
   "execution_count": null,
   "metadata": {},
   "outputs": [],
   "source": []
  },
  {
   "cell_type": "code",
   "execution_count": null,
   "metadata": {},
   "outputs": [],
   "source": []
  },
  {
   "cell_type": "code",
   "execution_count": null,
   "metadata": {},
   "outputs": [],
   "source": [
    "\n",
    "\n"
   ]
  }
 ],
 "metadata": {
  "colab": {
   "authorship_tag": "ABX9TyPsGJ0dJnDgJWLVASg5Dngn",
   "provenance": [],
   "toc_visible": true
  },
  "hide_input": false,
  "kernelspec": {
   "display_name": "Python 3 (ipykernel)",
   "language": "python",
   "name": "python3"
  },
  "language_info": {
   "codemirror_mode": {
    "name": "ipython",
    "version": 3
   },
   "file_extension": ".py",
   "mimetype": "text/x-python",
   "name": "python",
   "nbconvert_exporter": "python",
   "pygments_lexer": "ipython3",
   "version": "3.9.13"
  },
  "toc": {
   "base_numbering": 1,
   "nav_menu": {},
   "number_sections": false,
   "sideBar": true,
   "skip_h1_title": false,
   "title_cell": "Table of Contents",
   "title_sidebar": "Table of Contents",
   "toc_cell": false,
   "toc_position": {
    "height": "1057px",
    "left": "101px",
    "top": "90px",
    "width": "418.391px"
   },
   "toc_section_display": true,
   "toc_window_display": true
  },
  "varInspector": {
   "cols": {
    "lenName": 16,
    "lenType": 16,
    "lenVar": 40
   },
   "kernels_config": {
    "python": {
     "delete_cmd_postfix": "",
     "delete_cmd_prefix": "del ",
     "library": "var_list.py",
     "varRefreshCmd": "print(var_dic_list())"
    },
    "r": {
     "delete_cmd_postfix": ") ",
     "delete_cmd_prefix": "rm(",
     "library": "var_list.r",
     "varRefreshCmd": "cat(var_dic_list()) "
    }
   },
   "types_to_exclude": [
    "module",
    "function",
    "builtin_function_or_method",
    "instance",
    "_Feature"
   ],
   "window_display": false
  }
 },
 "nbformat": 4,
 "nbformat_minor": 4
}
