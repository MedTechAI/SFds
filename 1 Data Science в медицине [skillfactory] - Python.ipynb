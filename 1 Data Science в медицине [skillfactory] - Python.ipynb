{
 "cells": [
  {
   "cell_type": "markdown",
   "metadata": {
    "id": "u-wNOcsdfxxw"
   },
   "source": [
    "\n",
    "---\n",
    "\n",
    "---\n",
    "\n",
    "# **Data Science в медицине [skillfactory]**   <a id='top'> </a>\n",
    "\n",
    "---\n",
    "\n",
    "---\n"
   ]
  },
  {
   "cell_type": "markdown",
   "metadata": {},
   "source": [
    "\n",
    "---\n",
    "\n",
    "### !pip install / import / google.colab import drive\n",
    ">\n",
    "\n",
    "---\n"
   ]
  },
  {
   "cell_type": "code",
   "execution_count": 4,
   "metadata": {},
   "outputs": [],
   "source": [
    "from pprint import pprint\n",
    "# !pip install psycopg2 \n",
    "# def p( *args, **kwargs ):\n",
    "#     return print(*args, **kwargs)\n",
    "# p('ARH', ';kj')\n",
    "p = print\n",
    "pp = pprint"
   ]
  },
  {
   "cell_type": "code",
   "execution_count": 11,
   "metadata": {},
   "outputs": [
    {
     "name": "stdout",
     "output_type": "stream",
     "text": [
      "C:\\Users\\dadsmldl\\.jupyter\n"
     ]
    }
   ],
   "source": [
    "!jupyter --config-dir"
   ]
  },
  {
   "cell_type": "code",
   "execution_count": 12,
   "metadata": {},
   "outputs": [
    {
     "ename": "ModuleNotFoundError",
     "evalue": "No module named 'psycopg2'",
     "output_type": "error",
     "traceback": [
      "\u001b[1;31m---------------------------------------------------------------------------\u001b[0m",
      "\u001b[1;31mModuleNotFoundError\u001b[0m                       Traceback (most recent call last)",
      "\u001b[1;32m~\\AppData\\Local\\Temp\\ipykernel_3040\\3599179018.py\u001b[0m in \u001b[0;36m<module>\u001b[1;34m\u001b[0m\n\u001b[0;32m      1\u001b[0m \u001b[1;32mfrom\u001b[0m \u001b[0mcalendar\u001b[0m \u001b[1;32mimport\u001b[0m \u001b[0mday_name\u001b[0m\u001b[1;33m\u001b[0m\u001b[1;33m\u001b[0m\u001b[0m\n\u001b[1;32m----> 2\u001b[1;33m \u001b[1;32mimport\u001b[0m \u001b[0mpsycopg2\u001b[0m\u001b[1;33m\u001b[0m\u001b[1;33m\u001b[0m\u001b[0m\n\u001b[0m\u001b[0;32m      3\u001b[0m \u001b[1;32mfrom\u001b[0m \u001b[0mcollections\u001b[0m \u001b[1;32mimport\u001b[0m \u001b[0mdeque\u001b[0m\u001b[1;33m\u001b[0m\u001b[1;33m\u001b[0m\u001b[0m\n\u001b[0;32m      4\u001b[0m \u001b[1;31m# from google.colab import drive\u001b[0m\u001b[1;33m\u001b[0m\u001b[1;33m\u001b[0m\u001b[0m\n\u001b[0;32m      5\u001b[0m \u001b[1;32mfrom\u001b[0m \u001b[0mio\u001b[0m \u001b[1;32mimport\u001b[0m \u001b[0mBytesIO\u001b[0m\u001b[1;33m\u001b[0m\u001b[1;33m\u001b[0m\u001b[0m\n",
      "\u001b[1;31mModuleNotFoundError\u001b[0m: No module named 'psycopg2'"
     ]
    }
   ],
   "source": [
    "from calendar import day_name\n",
    "import psycopg2\n",
    "from collections import deque\n",
    "# from google.colab import drive\n",
    "from io import BytesIO\n",
    "from pathlib import Path\n",
    "from urllib.parse import urlencode\n",
    "import datetime\n",
    "# import gspread\n",
    "import json\n",
    "import matplotlib as plt\n",
    "import matplotlib.pyplot as plt\n",
    "import numpy as np\n",
    "import os\n",
    "import pandas as pd\n",
    "import plotly.express as px\n",
    "import random\n",
    "import requests\n",
    "import subprocess\n",
    "import seaborn as sns\n",
    "import sys\n",
    "# import vk_api\n",
    "\n",
    "###\n",
    "\n",
    "\n",
    "sns.set(rc={'figure.figsize':(8,3)})"
   ]
  },
  {
   "cell_type": "code",
   "execution_count": null,
   "metadata": {},
   "outputs": [],
   "source": [
    "# from google.colab import drive\n",
    "# drive.mount('/content/drive')"
   ]
  },
  {
   "cell_type": "markdown",
   "metadata": {},
   "source": [
    "<a id='mod1'> </a>\n",
    "## [ МОДУЛЬ ] 1 Программирование на Python "
   ]
  },
  {
   "cell_type": "markdown",
   "metadata": {},
   "source": [
    "\n",
    "---\n",
    "\n",
    "<a id='toc'> </a>\n",
    "> Table of Contents TOC \n",
    "\n",
    " * [1 УРОК ](#1)\n",
    " * [2 УРОК ](#2)\n",
    " * [3 УРОК ](#3)\n",
    " * [4 УРОК ](#4)\n",
    " * [5 УРОК ](#5)\n",
    " * [6 УРОК ](#6)\n",
    " * [7 УРОК ](#7)\n",
    " * [8 УРОК ](#8)\n",
    "   * [под урок](#9)\n",
    "\n",
    "---\n",
    "\n",
    "---"
   ]
  },
  {
   "cell_type": "markdown",
   "metadata": {
    "id": "2vhSk6Vygk4y"
   },
   "source": [
    "\n",
    "---\n",
    "<a id='1'> </a>\n",
    "\n",
    "### 1 УРОК: Адаптационный курс\n",
    "\n",
    "<span style=\"font-size:0.8em;\"> [TOC](#mod1) </span>\n",
    "\n",
    "---\n"
   ]
  },
  {
   "cell_type": "code",
   "execution_count": null,
   "metadata": {},
   "outputs": [],
   "source": []
  },
  {
   "cell_type": "markdown",
   "metadata": {},
   "source": [
    "\n",
    "---\n",
    "<a id='2'> </a>\n",
    "\n",
    "### 2 УРОК: Погружение в типы данных\n",
    "\n",
    "<span style=\"font-size:0.8em;\"> [TOC](#mod1) </span>\n",
    "\n",
    "---\n"
   ]
  },
  {
   "cell_type": "markdown",
   "metadata": {},
   "source": [
    "\n",
    "---\n",
    "\n",
    "#### *PYTHON-1. Введение*\n",
    "\n",
    "<span style=\"font-size:0.8em;\"> [TOC](#mod1) </span>\n",
    "\n",
    "---\n"
   ]
  },
  {
   "cell_type": "code",
   "execution_count": null,
   "metadata": {},
   "outputs": [
    {
     "name": "stderr",
     "output_type": "stream",
     "text": [
      "\"ls\" ­Ґ пў«пҐвбп ў­гваҐ­­Ґ© Ё«Ё ў­Ґи­Ґ©\n",
      "Є®¬ ­¤®©, ЁбЇ®«­пҐ¬®© Їа®Ја ¬¬®© Ё«Ё Ї ЄҐв­л¬ д ©«®¬.\n"
     ]
    }
   ],
   "source": [
    "!ls"
   ]
  },
  {
   "cell_type": "code",
   "execution_count": null,
   "metadata": {},
   "outputs": [],
   "source": []
  },
  {
   "cell_type": "markdown",
   "metadata": {},
   "source": [
    "\n",
    "---\n",
    "\n",
    "#### *PYTHON-2. Погружение в типы данных*\n",
    "\n",
    "<span style=\"font-size:0.8em;\"> [TOC](#mod1) </span>\n",
    "\n",
    "---\n"
   ]
  },
  {
   "cell_type": "code",
   "execution_count": null,
   "metadata": {},
   "outputs": [
    {
     "name": "stdout",
     "output_type": "stream",
     "text": [
      "[]\n",
      "[]\n"
     ]
    }
   ],
   "source": [
    "empty_list = list()\n",
    "print(empty_list)\n",
    "\n",
    "another_empty_list = []\n",
    "print(another_empty_list)"
   ]
  },
  {
   "cell_type": "code",
   "execution_count": null,
   "metadata": {},
   "outputs": [
    {
     "name": "stdout",
     "output_type": "stream",
     "text": [
      "[-10, -9, -8, -7, -6, -5, -4, -3, -2, -1, 0, 1, 2, 3, 4, 5, 6, 7, 8, 9, 10, 11, 12, 13, 14, 15, 16, 17, 18, 19, 20, 21, 22, 23, 24, 25, 26, 27, 28, 29, 30, 31, 32, 33, 34, 35, 36, 37, 38, 39, 40, 41, 42, 43, 44, 45, 46, 47, 48, 49, 50, 51, 52, 53, 54, 55, 56, 57, 58, 59, 60, 61, 62, 63, 64, 65, 66, 67, 68, 69, 70, 71, 72, 73, 74, 75, 76, 77, 78, 79, 80, 81, 82, 83, 84, 85, 86, 87, 88, 89, 90, 91, 92, 93, 94, 95, 96, 97, 98, 99]\n",
      "[50, 48, 46, 44, 42, 40, 38, 36, 34, 32, 30, 28, 26, 24, 22]\n"
     ]
    }
   ],
   "source": [
    "a = list(range(-10,100))\n",
    "print(a)\n",
    "\n",
    "b = list(range(50,20,-2))\n",
    "print(b)"
   ]
  },
  {
   "cell_type": "code",
   "execution_count": null,
   "metadata": {},
   "outputs": [
    {
     "name": "stdout",
     "output_type": "stream",
     "text": [
      "[1, 2]\n",
      "[-1, 0, 1, 2, 3]\n",
      "[6, 5, 4, 3, 2, 1, 0, -1, -2, -3]\n",
      "['kitty', '!']\n"
     ]
    }
   ],
   "source": [
    "a = list(range(1,11))\n",
    "a_slice = a[:2]\n",
    "print(a_slice)\n",
    "\n",
    "\n",
    "a = list(range(-5,6))\n",
    "a_slice = a[4:9]\n",
    "print(a_slice)\n",
    "\n",
    "a = list(range(-3,7))\n",
    "a_slice = a[::-1]\n",
    "print(a_slice)\n",
    "\n",
    "\n",
    "\n",
    "qwe = 'hello kitty !'.split()[-2:]\n",
    "print(qwe)"
   ]
  },
  {
   "cell_type": "code",
   "execution_count": null,
   "metadata": {},
   "outputs": [
    {
     "name": "stdout",
     "output_type": "stream",
     "text": [
      "['order1', 'order2', 'order3']\n"
     ]
    }
   ],
   "source": [
    "a,b,c = 'order1', 'order2', 'order3'\n",
    "orders = [] \n",
    "orders.append(a)\n",
    "orders.append(b)\n",
    "orders.append(c)\n",
    "# orders.append([a,b,c])\n",
    "print(orders)"
   ]
  },
  {
   "cell_type": "code",
   "execution_count": null,
   "metadata": {},
   "outputs": [
    {
     "name": "stdout",
     "output_type": "stream",
     "text": [
      "[]\n"
     ]
    }
   ],
   "source": [
    "letters = ['abcd']\n",
    "letters.clear()\n",
    "print(letters)"
   ]
  },
  {
   "cell_type": "code",
   "execution_count": null,
   "metadata": {},
   "outputs": [
    {
     "name": "stdout",
     "output_type": "stream",
     "text": [
      "\n",
      "4\n",
      "['a', '5', '5', '5', 'd', '1', '1', 'r', 'h', 'a', 'd', 'r', 'h']\n",
      "3\n"
     ]
    }
   ],
   "source": [
    "print(  )\n",
    "a = [\"a\", \"b\", \"c\", \"d\", \"b\", \"b\", \"g\", \"b\", \"r\"]\n",
    "print(a.count(\"b\") )\n",
    "\n",
    "numbers = list('a555d11rhadrh')\n",
    "print( numbers )\n",
    "print( numbers.count('5') )\n"
   ]
  },
  {
   "cell_type": "code",
   "execution_count": null,
   "metadata": {},
   "outputs": [
    {
     "name": "stdout",
     "output_type": "stream",
     "text": [
      "[1, 2, 3]\n",
      "['book1', 'book2', 'book3', 'book4', 'book5'] ['book1', 'book2', 'book3', 'book4', 'book5']\n",
      "['order1', 'order2', 'order3', 'order4', 'order5'] ['order1', 'order2', 'order3', 'order4', 'order5']\n"
     ]
    }
   ],
   "source": [
    "a = [1,2,3]\n",
    "b = a.copy()\n",
    "print( b )\n",
    "\n",
    "my_books = ['book1', 'book2', 'book3', 'book4', 'book5']\n",
    "tom_books = my_books.copy()\n",
    "print( my_books, tom_books )\n",
    "\n",
    "\n",
    "my_orders =['order1', 'order2', 'order3', 'order4', 'order5']\n",
    "anne_orders = my_orders[:]\n",
    "print( my_orders, anne_orders )"
   ]
  },
  {
   "cell_type": "code",
   "execution_count": null,
   "metadata": {},
   "outputs": [
    {
     "name": "stdout",
     "output_type": "stream",
     "text": [
      "['a', 'b', 'c', 'd', 'e']\n",
      "['order1', 'order2', 'order3', 'book1', 'book2']\n"
     ]
    }
   ],
   "source": [
    "a = [\"a\", \"b\", \"c\"]\n",
    "b = [\"d\", \"e\"]\n",
    "a.extend(b)\n",
    "print( a )\n",
    "\n",
    "all_things = ['order1', 'order2', 'order3']\n",
    "only_books = ['book1', 'book2']\n",
    "all_things.extend(only_books)\n",
    "print( all_things )"
   ]
  },
  {
   "cell_type": "code",
   "execution_count": null,
   "metadata": {},
   "outputs": [
    {
     "name": "stdout",
     "output_type": "stream",
     "text": [
      "[5, 4, 3, 2, 1]\n",
      "[10, 9, 8, 7, 6, 5, 4, 3, 2, 1]\n",
      "[2, 3, 4, 1, 2, 3, 4, 1, 2, 3, 4, 5]\n",
      "[2, 3, 4, 1, 2, 3, 4, 1, 2, 3, 4, 5]\n",
      "[2, 3, 4, 1, 2, 3, 4, 1, 2, 3, 4, 5]\n"
     ]
    },
    {
     "data": {
      "text/plain": [
       "3"
      ]
     },
     "execution_count": 18,
     "metadata": {},
     "output_type": "execute_result"
    }
   ],
   "source": [
    "a = [1,2,3,4,5]\n",
    "a.reverse()\n",
    "print( a )\n",
    "\n",
    "nums =list(range(1,10+1))\n",
    "nums.reverse()\n",
    "print( nums )\n",
    "\n",
    "a = [1,2,3,4,1,2,3,4,1,2,3,4,5]\n",
    "a.remove(1) # удалить элеммент (не по индексу а pop по индексу)\n",
    "print( a )\n",
    "\n",
    "a = [1,2,3,4,1,2,3,4,1,2,3,4,5]\n",
    "a.pop(0) # index\n",
    "print( a )\n",
    "\n",
    "a = [1,2,3,4,1,2,3,4,1,2,3,4,5]\n",
    "del a[0] \n",
    "print( a )\n",
    "\n",
    "a = [1,2,3,4,1,2,3,4,1,2,3,4,5]\n",
    "b = [1,2]\n",
    "[j for j in a if j not in b]\n",
    "a.count(1) # и удалить в цикле столько раз элемент сколько раз он встретился \n"
   ]
  },
  {
   "cell_type": "code",
   "execution_count": null,
   "metadata": {},
   "outputs": [
    {
     "name": "stdout",
     "output_type": "stream",
     "text": [
      "[0, 1, 2, 3, 4, 5, 10]\n",
      "[-5, -1, 0, 2, 3, 5, 10, 15]\n"
     ]
    }
   ],
   "source": [
    "a = [3,4,1,5,10,0, 2]\n",
    "a.sort()\n",
    "print( a )\n",
    "\n",
    "random_values = [3, 5, 0, -1, 2, 10, 15, -5]\n",
    "random_values.sort()\n",
    "print( random_values )"
   ]
  },
  {
   "cell_type": "code",
   "execution_count": null,
   "metadata": {},
   "outputs": [
    {
     "name": "stdout",
     "output_type": "stream",
     "text": [
      "40\n",
      "[5, 0.2, 'hello there', [1, 2, 3, 4], 'bye']\n",
      "88\n",
      "72\n",
      "()\n",
      "(255,)\n",
      "(15, 22, 0)\n"
     ]
    }
   ],
   "source": [
    "list1 = []\n",
    "print(list1.__sizeof__())\n",
    "list1.extend([ 5,0.2,'hello there',[1,2,3,4],'bye' ])\n",
    "print(list1)\n",
    "\n",
    "print(list1.__sizeof__())\n",
    "print([1,2,3,4].__sizeof__())\n",
    "\n",
    "tpl = tuple()\n",
    "print( tpl )\n",
    "\n",
    "tpl2 = (255,)\n",
    "print(tpl2)\n",
    "\n",
    "tpl3 = (15,22,0)\n",
    "print(tpl3)"
   ]
  },
  {
   "cell_type": "code",
   "execution_count": null,
   "metadata": {},
   "outputs": [
    {
     "name": "stdout",
     "output_type": "stream",
     "text": [
      "{} {}\n",
      "4\n",
      "50\n",
      "{1: 100, 2: 50, 3: 10, 4: 5}\n",
      "{1: 100, 2: 50, 3: 25}\n"
     ]
    }
   ],
   "source": [
    "empty_dict = dict()\n",
    "empty_dict\n",
    "\n",
    "empty_dict2 = {}\n",
    "print( empty_dict, empty_dict2 )\n",
    "\n",
    "alphabet_dict = {'a':1, 'b':2, 'c':3, 'd':4, 'e':5}\n",
    "print(alphabet_dict['d'])\n",
    "\n",
    "place_and_money = {1:100, 2:50, 3:10}\n",
    "print(place_and_money[2])\n",
    "\n",
    "\n",
    "place_and_money = {1: 100, 2: 50, 3: 10}\n",
    "place_and_money[4] = 5\n",
    "print(place_and_money)\n",
    "\n",
    "place_and_money = {1: 100, 2: 50, 3: 10}\n",
    "place_and_money[3] = 25\n",
    "print(place_and_money)"
   ]
  },
  {
   "cell_type": "code",
   "execution_count": null,
   "metadata": {},
   "outputs": [
    {
     "name": "stdout",
     "output_type": "stream",
     "text": [
      "{}\n",
      "dict_keys([1, 2, 3])\n",
      "dict_keys(['Anne', 'Anton', 'Phillip'])\n",
      "dict_values([22, 27, 30])\n",
      "dict_values([100, 50, 10])\n",
      "{1: 100, 2: 50, 3: 10, 4: 5, 5: 1}\n",
      "{'Anne': 23, 'Anton': 27, 'Phillip': 29}\n",
      "10\n",
      "27\n",
      "{1: 100, 2: 50, 3: 10, 10: 1}\n",
      "{'Anne': 22, 'Anton': 27, 'Phillip': 30}\n",
      "{5: [3, 4, 5], (3, 4, 5): 'strong man'}\n",
      "{'name': 'Sancho', 'surname': 'Panso', 'info': {'age': 35, 'country': 'Mexico'}}\n",
      "{'info': [10, 15, 27], 'about': 'dont know'}\n"
     ]
    }
   ],
   "source": [
    "place_and_money = {1: 100, 2: 50, 3: 10}\n",
    "place_and_money.clear()\n",
    "print( place_and_money )\n",
    "\n",
    "place_and_money = {1: 100, 2: 50, 3: 10}\n",
    "print( place_and_money.keys() )\n",
    "\n",
    "name_to_age = {'Anne': 22, 'Anton': 27, 'Phillip': 30}\n",
    "print( name_to_age.keys() )\n",
    "\n",
    "name_to_age = {'Anne': 22, 'Anton': 27, 'Phillip': 30}\n",
    "print( name_to_age.values() )\n",
    "\n",
    "place_and_money = {1: 100, 2: 50, 3: 10}\n",
    "print( place_and_money.values() )\n",
    "\n",
    "place_and_money = {1: 100, 2: 50, 3: 10}\n",
    "place_and_money.get(20, 0) \n",
    "\n",
    "name_to_age = {'Anne': 22, 'Anton': 27, 'Phillip': 30}\n",
    "name_to_age.get( 'Danny', -1 ) \n",
    "\n",
    "place_and_money = {1: 100, 2: 50, 3: 10}\n",
    "place_and_money.update( {4:5, 5:1} )\n",
    "print( place_and_money )\n",
    "\n",
    "name_to_age = {'Anne': 22, 'Anton': 27, 'Phillip': 30}\n",
    "name_to_age.update({ 'Anne': 23, 'Phillip': 29 })\n",
    "print( name_to_age )\n",
    "\n",
    "place_and_money  = {1: 100, 2: 50, 3: 10}\n",
    "result = place_and_money.pop(3)\n",
    "print( result )\n",
    "\n",
    "name_to_age = {'Anne': 22, 'Anton': 27, 'Phillip': 30}\n",
    "result = name_to_age.pop('Anton')\n",
    "# result = name_to_age.pop('Vasya') # KeyError\n",
    "print( result )\n",
    "\n",
    "\n",
    "place_and_money = {1: 100, 2: 50, 3: 10}\n",
    "place_and_money.setdefault(10,1)\n",
    "print( place_and_money )\n",
    "\n",
    "name_to_age = {'Anne': 22, 'Anton': 27, 'Phillip': 30}\n",
    "name_to_age.setdefault('Anne', 32)\n",
    "print( name_to_age )\n",
    "\n",
    "test_dict = {}\n",
    "test_dict.update( {5:[3,4,5]} )\n",
    "test_dict.update( {(3,4,5):'strong man'} )\n",
    "print( test_dict )\n",
    "\n",
    "test_dict2 = {'name':'Sancho'}\n",
    "test_dict2.update({'surname':'Panso', 'info':{'age': 35, 'country': 'Mexico'}})\n",
    "print( test_dict2 )\n",
    "\n",
    "test_dict3 = {}\n",
    "test_dict3.update({'info':[10, 15, 27], 'about':{'game': 'football', 'period': 5}})\n",
    "test_dict3.update({'about':'dont know'})\n",
    "print( test_dict3 )\n"
   ]
  },
  {
   "cell_type": "code",
   "execution_count": null,
   "metadata": {},
   "outputs": [
    {
     "name": "stdout",
     "output_type": "stream",
     "text": [
      "set()\n",
      "{2, 3, 5, 10, 11}\n",
      "{'w', 'o', 'l', 'c', 'a', 't', ' ', 'h', 's'}\n",
      "<class 'set'> {'wow thats cool'}\n",
      "{'a', 'e', 'hello', 'b', 'd', 'c'}\n",
      "{'a', 'e', 'b', 'c'}\n",
      "{'a', 'e', 'b', 'd', 'c'}\n",
      "{'a', 'e', 'b', 'd', 'c'}\n",
      "{'e', 'o', 'y', 'd', 'c', 'a', ' ', 'b'}\n",
      "{'e', 'c'} \n",
      "\n",
      "{0, 1, 2, 3, 4, 5, 6, 7, 8, 9, 10}\n",
      "{'a', 'b', 'd'}\n",
      "{8, 1, 4, 9}\n",
      "{0, 2, 3, 5, 6, 7, 10}\n",
      "False\n"
     ]
    }
   ],
   "source": [
    "s1 = set()\n",
    "print( s1 )\n",
    "\n",
    "s2 = {5, 10, 3, 2, 11}\n",
    "print( s2 )\n",
    "\n",
    "s3 = set('wow thats cool')\n",
    "print( s3 )\n",
    "\n",
    "s3 = {'wow thats cool'}\n",
    "print( type(s3), s3 )\n",
    "\n",
    "s1 = {'a', 'b', 'c', 'd', 'e'}\n",
    "s1.add('hello')\n",
    "print(s1)\n",
    "\n",
    "s1 = {'a', 'b', 'c', 'd', 'e'}\n",
    "s1.remove('d')\n",
    "print(s1)\n",
    "\n",
    "s1 = {'a', 'b', 'c', 'd', 'e'}\n",
    "s1.discard('f')\n",
    "print(s1)\n",
    "\n",
    "s1 = {'a', 'b', 'c', 'd', 'e', 'f'}\n",
    "s1.remove('f')\n",
    "print(s1)\n",
    "\n",
    "alpha_set = {'a', 'b', 'c', 'd', 'e'}\n",
    "name = set('bad boy')\n",
    "res = alpha_set.union(name)\n",
    "print( res )\n",
    "\n",
    "alpha_set = {'a', 'b', 'c', 'd', 'e'}\n",
    "name = set('bad boy')\n",
    "res = alpha_set.difference(name)\n",
    "print( res, '\\n' )\n",
    "\n",
    "num_set = {0,1,2,3,4,5,6,7,8,9,10}\n",
    "date_num = [1,9,4,8]\n",
    "res = num_set.union(date_num)\n",
    "print( res )\n",
    "\n",
    "alpha_set = {'a', 'b', 'c', 'd', 'e'}\n",
    "name = set('bad boy')\n",
    "res = alpha_set.intersection(name)\n",
    "print( res )\n",
    "\n",
    "num_set = {0,1,2,3,4,5,6,7,8,9,10}\n",
    "date_num = [1,9,4,8]\n",
    "res = num_set.intersection(date_num)\n",
    "print( res )\n",
    "\n",
    "num_set = {0,1,2,3,4,5,6,7,8,9,10}\n",
    "date_num = [1,9,4,8]\n",
    "res = num_set.difference(date_num)\n",
    "print( res )\n",
    "\n",
    "cluster1 = {\"item1\", \"item2\", \"item3\"}\n",
    "cluster2 = {\"item2\", \"item3\", \"item4\", \"item5\", \"item6\"}\n",
    "print( cluster1.issubset(cluster2) )"
   ]
  },
  {
   "cell_type": "code",
   "execution_count": null,
   "metadata": {},
   "outputs": [
    {
     "name": "stdout",
     "output_type": "stream",
     "text": [
      "3 3.0 <class 'int'> <class 'float'>\n",
      "6.5\n",
      "6.5 6.5\n",
      "1\n",
      "my age is 18\n",
      "I have 5 brothers\n",
      "11.0\n",
      "50.4\n",
      "(1, 2, 3, 4, 5)\n",
      "['a', 'b', 'c', 'd', 'e']\n"
     ]
    }
   ],
   "source": [
    "a = 3\n",
    "b = float(a)\n",
    "print( a, b, type(a), type(b) )\n",
    "\n",
    "num1 = 3\n",
    "num2 = 3.5\n",
    "sum1 = num1 + num2\n",
    "print(sum1)\n",
    "sum2 = float(num1) + num2\n",
    "print(sum1, sum2)\n",
    "\n",
    "int_one = 1\n",
    "str_one = str(int_one)\n",
    "print(str_one)\n",
    "\n",
    "str_age_begin = 'my age is '\n",
    "int_age = 18\n",
    "result_string = str_age_begin + str(int_age)\n",
    "print(result_string)\n",
    "\n",
    "str_brothers_begin = 'I have '\n",
    "count = 5\n",
    "str_brothers_end = ' brothers'\n",
    "result_string = str_brothers_begin + str(count) + str_brothers_end\n",
    "print(result_string)\n",
    "\n",
    "s = 'hello world'\n",
    "# int(s)\n",
    "\n",
    "s = '10'\n",
    "int(s)\n",
    "\n",
    "s = '11'\n",
    "s = float(s)\n",
    "print(s)\n",
    "\n",
    "s = '50.4'\n",
    "s = float(s)\n",
    "print(s)\n",
    "\n",
    "s = '50.4'\n",
    "# s = int(s)  ValueError: invalid literal for int() with base 10: '50.4'\n",
    "# print(s)\n",
    "\n",
    "\n",
    "list1 = list(range(1, 6))\n",
    "# OR list1 = [1, 2, 3, 4, 5]\n",
    "print(tuple(list1))\n",
    "\n",
    "tpl1 =tuple('abcde')\n",
    "print( list(tpl1) )\n"
   ]
  },
  {
   "cell_type": "code",
   "execution_count": null,
   "metadata": {},
   "outputs": [
    {
     "name": "stdout",
     "output_type": "stream",
     "text": [
      "[1, 2, 3]\n",
      "[1, 2, 3, 4, -5, -3, -1, 1, 3, 5, 7, 9, 11, 13]\n",
      "[3, 1, -10, 5, 11, 20, 1, -10] [20, 11, 5, 3, 1, 1, -10, -10]\n",
      "{(10, 15): 'hello'}\n",
      "{'name': 'unknown'} {'name': 'Tom'} dict_keys(['name']) dict_values(['unknown'])\n",
      "{'w', 'e', 'h', 'o', 'l'} {'o'} {'l', 'e', 'h'}\n",
      "age is 15\n"
     ]
    }
   ],
   "source": [
    "list1 = []\n",
    "list1.append(1)\n",
    "list1.append(2)\n",
    "list1.append(3)\n",
    "# list1.extend([1, 2, 3]) or\n",
    "print(list1)\n",
    "\n",
    "list2 = list(range(-5,15,2))\n",
    "list3 = [1,2,3,4]\n",
    "list3.extend(list2)\n",
    "print(list3)\n",
    "\n",
    "list6 = [3, 1, -10, 5, 11, 20, 1, -10]\n",
    "list7 = list6.copy()\n",
    "list6.sort()\n",
    "list6.reverse()\n",
    "list_result = list6.copy()\n",
    "# list_result = list6[::-1]\n",
    "print(list7, list_result)\n",
    "\n",
    "list1 = [10, 15]\n",
    "tpl1 = tuple(list1) \n",
    "dict1 = {}\n",
    "dict1.update({tpl1:'hello'})\n",
    "print(dict1)\n",
    "\n",
    "dict1, dict2 = {},{}\n",
    "dict1['name']  ='unknown'\n",
    "dict2.update({'name':'Tom'})\n",
    "print(dict1,dict2,dict1.keys(),dict1.values())\n",
    "\n",
    "s1, s2 = set('hello'), set(['w', 'o', 'w'])\n",
    "print( s1.union(s2), s1.intersection(s2), s1.difference(s2) )\n",
    "\n",
    "result = 'age is ' + str(15)\n",
    "print(result)\n",
    "\n",
    "\n",
    "\n"
   ]
  },
  {
   "cell_type": "markdown",
   "metadata": {},
   "source": [
    "\n",
    "---\n",
    "\n",
    "#### *PYTHON-3. Условные операторы*\n",
    "\n",
    "<span style=\"font-size:0.8em;\"> [TOC](#mod1) </span>\n",
    "\n",
    "---\n"
   ]
  },
  {
   "cell_type": "code",
   "execution_count": null,
   "metadata": {},
   "outputs": [
    {
     "name": "stdout",
     "output_type": "stream",
     "text": [
      "True True True False\n"
     ]
    }
   ],
   "source": [
    "a = [1, 2, 3]\n",
    "b = a\n",
    "c = [1, 2, 3]\n",
    "print(a == b, a == c, a is b, a is c)"
   ]
  },
  {
   "cell_type": "code",
   "execution_count": null,
   "metadata": {},
   "outputs": [
    {
     "name": "stdout",
     "output_type": "stream",
     "text": [
      "False\n"
     ]
    }
   ],
   "source": [
    "# Напишите условие, которое проверяет, является ли строка палиндромом.\n",
    "# Палиндром читается одинаково слева направо и справа налево. Например: \"шалаш\", \"казак\", \"мадам\", \"коту тащат уток\".\n",
    "# Строка, которую мы хотим проверить, находится в переменной target_string.\n",
    "\n",
    "target_string = 'коту тащат уток'\n",
    "# result = True\n",
    "target_string = 'Шалаш'\n",
    "# result = True\n",
    "target_string = 'кота тащат в шалаш'\n",
    "# result = False\n",
    "\n",
    "result = target_string.lower().replace(' ','') == target_string.lower().replace(' ','')[::-1]    \n",
    "print( result )"
   ]
  },
  {
   "cell_type": "code",
   "execution_count": null,
   "metadata": {
    "editable": true,
    "slideshow": {
     "slide_type": ""
    },
    "tags": []
   },
   "outputs": [
    {
     "name": "stdout",
     "output_type": "stream",
     "text": [
      "True\n"
     ]
    }
   ],
   "source": [
    "# Напишите условие, которое проверяет, что значение переменной a, возведенное в квадрат строго больше, чем значение переменных b и c одновременно.\n",
    "# Результатом работы условия должно стать булево значение — True или False, в зависимости от выполнения заданного условия.\n",
    "# Занесите этот результат в переменную result.\n",
    "a, b, c = 2, 5, 10\n",
    "# result = False\n",
    "a, b, c = 3, 5, 8\n",
    "# result = True\n",
    "\n",
    "result = (a**2) > b and (a**2) > c\n",
    "print( result )"
   ]
  },
  {
   "cell_type": "code",
   "execution_count": null,
   "metadata": {},
   "outputs": [
    {
     "name": "stdout",
     "output_type": "stream",
     "text": [
      "True\n"
     ]
    }
   ],
   "source": [
    "# Представьте, что вы работаете аналитиком данных в больнице. Пусть переменные diagnosis_1, diagnosis_2 и diagnosis_3 хранят информацию о наличии у пациента различных хронических заболеваний (yes — да, no — нет). Реализуйте условие, которое проверяет, страдает ли пациент хотя бы от одного из них?\n",
    "# Результатом должно стать булево значение — True или False. Занесите этот результат в переменную result.\n",
    "diagnosis_1, diagnosis_2, diagnosis_3 = 'yes', 'yes', 'no'\n",
    "# result = True\n",
    "# diagnosis_1, diagnosis_2, diagnosis_3 = 'no', 'no', 'no'\n",
    "# result = False\n",
    "result = diagnosis_1 == 'yes' or diagnosis_2 == 'yes' or diagnosis_3 == 'yes'\n",
    "print( result )\n"
   ]
  },
  {
   "cell_type": "code",
   "execution_count": null,
   "metadata": {},
   "outputs": [
    {
     "name": "stdout",
     "output_type": "stream",
     "text": [
      "False\n"
     ]
    }
   ],
   "source": [
    "# Дано n-значное целое число N. Напишите условие для проверки того, входят ли в заданное число цифры 3 и 7.\n",
    "# Результатом выполнения условия должно стать значение True или False. Занесите этот результат в переменную contains.\n",
    "N = 12043879584\n",
    "# contains = True\n",
    "N = 59005085801\n",
    "# contains = False\n",
    "# 1 str\n",
    "contains = ('3' in list(str(N))) and ('7' in list(str(N))) \n",
    "print(contains)\n",
    "\n",
    "# 2 j for j \n",
    "# 3 map"
   ]
  },
  {
   "cell_type": "code",
   "execution_count": null,
   "metadata": {},
   "outputs": [
    {
     "name": "stdout",
     "output_type": "stream",
     "text": [
      "False\n"
     ]
    }
   ],
   "source": [
    "# Напишите условие проверки корректности хода. Ход считается корректным, если новые координаты фигуры не выходят за пределы шахматной доски.\n",
    "# Результат работы условия присвойте переменной move_is_correct, в которой должно содержаться значение True или False в зависимости от того, является ли ход корректным.\n",
    "x, y = 'F', 7 \n",
    "# move_is_correct = True\n",
    "x, y = 'K', 1\n",
    "# move_is_correct = False\n",
    "# abcdef\n",
    "# list(range(1,8+1))\n",
    "move_is_correct = y in list(range(1,8+1)) and x.lower() in list('abcdef')\n",
    "print(move_is_correct)"
   ]
  },
  {
   "cell_type": "code",
   "execution_count": null,
   "metadata": {},
   "outputs": [
    {
     "name": "stdout",
     "output_type": "stream",
     "text": [
      "True\n"
     ]
    }
   ],
   "source": [
    "# Дано n-значное целое число N. Реализуйте условие для проверки того, начинается ли число N с четной цифры.\n",
    "# Результатом работы условия должно стать булево значение True или False. Занесите этот результат в переменную first_is_even.\n",
    "N = 782\n",
    "# first_is_even = False\n",
    "N = 45901\n",
    "# first_is_even = True\n",
    "first_is_even = int(str(N)[0]) % 2 == 0\n",
    "print(first_is_even)"
   ]
  },
  {
   "cell_type": "code",
   "execution_count": null,
   "metadata": {},
   "outputs": [
    {
     "name": "stdout",
     "output_type": "stream",
     "text": [
      "True\n"
     ]
    }
   ],
   "source": [
    "# Напишите условие, которое проверяет, что год является високосным.\n",
    "# Известно, что год является високосным при выполнении хотя бы одного из следующих условий:\n",
    "# Номер года делится (без остатка) на 400.\n",
    "# Номер года делится (без остатка) на 4 и не делится на 100 одновременно.\n",
    "# Номер года находится в переменной year.\n",
    "# Результат выполнения условия занесите в переменную year_is_leap. Её значение должно быть равно True или False, в зависимости от того, является ли заданный год високосным.\n",
    "year = 2000\n",
    "# year_is_leap = True\n",
    "# year = 1900\n",
    "# year_is_leap = False\n",
    "# year = 2015\n",
    "# year_is_leap = False\n",
    "\n",
    "year_is_leap = (year % 400 == 0) or ( (year % 4 == 0) and (year % 100 != 0) )\n",
    "print(year_is_leap)\n",
    "\n"
   ]
  },
  {
   "cell_type": "code",
   "execution_count": null,
   "metadata": {},
   "outputs": [
    {
     "name": "stdout",
     "output_type": "stream",
     "text": [
      "False\n"
     ]
    }
   ],
   "source": [
    "# Шоколадка имеет вид прямоугольника размером n*m долек. Шоколадку можно один раз разломить по прямой на две части.\n",
    "# Необходимо реализовать условие, проверяющее, можно ли таким образом отломить от шоколадки часть, состоящую ровно из k долек. Два примера таких разделений — по горизонтали и вертикали — приведены на рисунке.\n",
    "# Информация о количестве долек в ширину и длину шоколадки, а также количество долек, которое должно получиться после разделения, содержится в переменных n, m и k соответственно.\n",
    "# Не забудьте также учесть, что количество долек, получаемое в остатке, должно быть строго меньше, чем общее количество долек, из которых состоит шоколадка.\n",
    "# Результат работы условия занесите в переменную result, значение которой равно True или False в зависимости от выполнения условия.\n",
    "n, m, k = 5, 4, 8\n",
    "# result = True\n",
    "n, m, k = 5, 4, 3\n",
    "# result = False\n",
    "n, m, k = 5, 4, 25\n",
    "# result = False\n",
    "\n",
    "result = k < m*n and (k%m==0 or k%n==0)\n",
    "print(result)\n"
   ]
  },
  {
   "cell_type": "code",
   "execution_count": null,
   "metadata": {},
   "outputs": [
    {
     "name": "stdout",
     "output_type": "stream",
     "text": [
      "False\n"
     ]
    }
   ],
   "source": [
    "# Представьте, что вы обрабатываете заполненные пользователями онлайн-заявки. Переменная phone в виде строки хранит указанный пользователем номер телефона и None, если соответствующее поле в анкете заполнено не было.\n",
    "# Реализуйте условие, которое проверит, оставил ли пользователь номер телефона. Результатом работы условия должно стать булево значение True или False в зависимости от того, заполнено ли поле с номером телефона.\n",
    "# Результат занесите в переменную phone_is_defined.\n",
    "phone = '+7 927 124 42 12'\n",
    "# phone_is_defined = True\n",
    "phone = None\n",
    "# phone_is_defined = False\n",
    "phone_is_defined = phone is not None\n",
    "print(phone_is_defined)"
   ]
  },
  {
   "cell_type": "code",
   "execution_count": null,
   "metadata": {},
   "outputs": [
    {
     "name": "stdout",
     "output_type": "stream",
     "text": [
      "False\n"
     ]
    }
   ],
   "source": [
    "# В словаре arrival_of_goods хранится информация о приходах товара на склад интернет-магазина. Ключами этого словаря являются номера накладных, а значениями — словари, в которых содержится информация о товаре и его количестве в каждой из накладной.\n",
    "arrival_of_goods = {\n",
    "    '148902': {\n",
    "        'Футболка с принтом': 180,\n",
    "        'Свитшот черный': 245,\n",
    "        'Джинсы серые': 252\n",
    "    },\n",
    "    '893516': {\n",
    "        'Футболка с принтом': 43,\n",
    "        'Свитшот черный': 64,\n",
    "        'Джинсы черные': 102\n",
    "    },\n",
    "    '893481': {\n",
    "        'Кружка керамическая': 35,\n",
    "        'Свитшот черный': 10,\n",
    "        'Джинсы сервые': 14\n",
    "    }\n",
    "}\n",
    "# Мы проводим аналитику прихода товара на склад. В переменной invoice_number содержится номер накладной, который мы хотим найти.\n",
    "# С помощью метода словарей get() и проверки на None реализуйте условие, которое проверяет, есть ли в истории прихода накладная с указанным в переменной invoice_number номером.\n",
    "# Результатом работы условия должна стать булева переменная со значением True или False в зависимости от того, существует ли в системе указанная накладная.\n",
    "# Результат занесите в переменную invoice_exists.\n",
    "invoice_number = '148902'\n",
    "# invoice_exists = True\n",
    "invoice_number = '892421'\n",
    "# invoice_exists = False\n",
    "invoice_exists = arrival_of_goods.get(invoice_number) is not None\n",
    "print(invoice_exists)"
   ]
  },
  {
   "cell_type": "code",
   "execution_count": null,
   "metadata": {},
   "outputs": [
    {
     "name": "stdout",
     "output_type": "stream",
     "text": [
      "-5\n",
      "0\n"
     ]
    }
   ],
   "source": [
    "# Начинающий программист торопился и допустил в своей программе несколько синтаксических ошибок. Ваша задача — исправить код так, чтобы он отработал без синтаксических ошибок\n",
    "\n",
    "mx = 0\n",
    "s = 0\n",
    "\n",
    "x = -5\n",
    "if x < 0:\n",
    "    s = x\n",
    "\n",
    "if x > mx:\n",
    "    mx = x\n",
    "\n",
    "print(s)\n",
    "print(mx)\n"
   ]
  },
  {
   "cell_type": "code",
   "execution_count": null,
   "metadata": {},
   "outputs": [
    {
     "name": "stdout",
     "output_type": "stream",
     "text": [
      "Всё занято. Подождите!\n"
     ]
    }
   ],
   "source": [
    "# Вам необходимо запрограммировать сенсор в общественном помещении, который определяет количество человек.\n",
    "# Если людей в помещении меньше 10, то на табло должно гореть сообщение «Добро пожаловать!», а в противном случае — «Всё занято. Подождите!».\n",
    "# Количество человек в помещении хранится в переменной people_count. Организуйте вывод на табло с помощью функции print().\n",
    "people_count = 5\n",
    "# Добро пожаловать!\n",
    "people_count = 10\n",
    "# Всё занято. Подождите!\n",
    "\n",
    "if people_count < 10:\n",
    "    print('Добро пожаловать!')\n",
    "else:\n",
    "    print('Всё занято. Подождите!')\n"
   ]
  },
  {
   "cell_type": "code",
   "execution_count": null,
   "metadata": {},
   "outputs": [
    {
     "name": "stdout",
     "output_type": "stream",
     "text": [
      "Вы ввели неверный пароль!\n"
     ]
    }
   ],
   "source": [
    "# Представьте, что вам нужно написать программу, которая запрашивает у пользователя пароль для входа и проверяет, верен ли он. Верный пароль хранится в переменной password. Пароль, который вводит пользователь, хранится в переменной answer.\n",
    "# Напишите часть кода, которая отвечает за проверку ввода пароля: если верный, то выводится информация «Добро пожаловать!», если неверный, то «Вы ввели неверный пароль!».\n",
    "password = '879f2aabS'\n",
    "answer = '879f2aabS'\n",
    "# Добро пожаловать!\n",
    "password = '879f2aabS'\n",
    "answer = '879f2aabs'\n",
    "# Вы ввели неверный пароль!\n",
    "if password==answer:\n",
    "    print('Добро пожаловать!')\n",
    "else:\n",
    "    print('Вы ввели неверный пароль!')\n"
   ]
  },
  {
   "cell_type": "code",
   "execution_count": null,
   "metadata": {},
   "outputs": [
    {
     "name": "stdout",
     "output_type": "stream",
     "text": [
      "Привет, Павел! Приносим свои извинения, но вы не можете гулять после 22:00\n"
     ]
    }
   ],
   "source": [
    "# Пользователь вводит своё имя и возраст, их значения хранятся в переменных name и age соответственно.\n",
    "# Если возраст пользователя больше либо равен 18, то программа должна вывести строку \"Добрый вечер, <name>!\", меньше — \"Привет, <name>! Приносим свои извинения, но вы не можете гулять после 22:00\".\n",
    "name = 'Андрей'\n",
    "age = 21\n",
    "# \"Добрый вечер, Андрей!\"\n",
    "name = 'Павел'\n",
    "age = 17\n",
    "# Привет, Павел! Приносим свои извинения, но вы не можете гулять после 22:00\n",
    "if age >= 18:\n",
    "    print(f'Добрый вечер, {name}!')\n",
    "else:\n",
    "    print(f'Привет, {name}! Приносим свои извинения, но вы не можете гулять после 22:00')\n"
   ]
  },
  {
   "cell_type": "code",
   "execution_count": null,
   "metadata": {},
   "outputs": [
    {
     "name": "stdout",
     "output_type": "stream",
     "text": [
      "27 не делится ни на 2, ни на 5\n"
     ]
    }
   ],
   "source": [
    "# Используя вложенный условный оператор, напишите программу, которая проверяет, что число number делится на 2 и на 5 без остатка.\n",
    "# Если число делится на 2 и на 5, программа должна выводить на экран фразу \"<число> делится на 2 и на 5\".\n",
    "# Если число делится на 2, но не делится на 5 — программа должна выводить на экран фразу \"<число> делится на 2, но не делится на 5\".\n",
    "# Если число не делится на 2, но делится на 5 — программа должна выводить на экран фразу \"<число> не делится на 2, но делится на 5\".\n",
    "# Если число не делится ни на 2, ни на 5 — программа должна выводить на экран фразу \"<число> не делится ни на 2, ни на 5\".\n",
    "number = 200\n",
    "# 200 делится на 2 и на 5\n",
    "number = 8\n",
    "# 8 делится на 2, но не делится на 5\n",
    "number = 15\n",
    "# 15 не делится на 2, но делится на 5\n",
    "number = 27\n",
    "# 27 не делится ни на 2, ни на 5\n",
    "\n",
    "if number % 2 == 0 and number % 5 == 0:\n",
    "    print(f\"{number} делится на 2 и на 5\")\n",
    "if number % 2 == 0 and number % 5 != 0:\n",
    "    print(f\"{number} делится на 2, но не делится на 5\")\n",
    "if number % 2 != 0 and number % 5 == 0:\n",
    "    print(f\"{number} не делится на 2, но делится на 5\")\n",
    "if number % 2 != 0 and number % 5 != 0:\n",
    "    print(f\"{number} не делится ни на 2, ни на 5\")\n"
   ]
  },
  {
   "cell_type": "code",
   "execution_count": null,
   "metadata": {},
   "outputs": [
    {
     "name": "stdout",
     "output_type": "stream",
     "text": [
      "11\n"
     ]
    }
   ],
   "source": [
    "result = 10\n",
    "my_dict = {'key_1': 10}\n",
    "item = my_dict.pop('key_1')\n",
    "if my_dict:\n",
    "    result = result + item\n",
    "else:\n",
    "    result = result + 1\n",
    " \n",
    "print(result)"
   ]
  },
  {
   "cell_type": "code",
   "execution_count": null,
   "metadata": {},
   "outputs": [],
   "source": [
    "lst = ['a', 'b', 'c']\n",
    "if 'f' in lst:\n",
    "    x = 5\n",
    "else:\n",
    "    x = None\n",
    "# либо\n",
    "x = 5 if 'f' in lst else None"
   ]
  },
  {
   "cell_type": "code",
   "execution_count": null,
   "metadata": {},
   "outputs": [
    {
     "name": "stdout",
     "output_type": "stream",
     "text": [
      "20\n"
     ]
    }
   ],
   "source": [
    "# Нам нужно установить конкретную ставку скидки в зависимости от того, соответствует ли клиент критериям. По умолчанию наше приложение для бронирования мероприятий предоставляет всем клиентам скидку 10%; однако клиенты в возрасте 60 лет и старше имеют право на скидку 20%.\n",
    "# С помощью тернарного оператора напишите программу, которая определяет скидку клиента. Возраст клиента хранится в переменной cust_age.\n",
    "# Значение скидки занесите в переменную cust_discount.\n",
    "cust_age = 40\n",
    "# cust_discount  = 10\n",
    "cust_age = 68\n",
    "# cust_discount  = 20\n",
    "cust_discount = 20 if cust_age >=60 else 10\n",
    "print(cust_discount)"
   ]
  },
  {
   "cell_type": "code",
   "execution_count": null,
   "metadata": {},
   "outputs": [
    {
     "name": "stdout",
     "output_type": "stream",
     "text": [
      "Ты проспал!\n"
     ]
    }
   ],
   "source": [
    "# Пользователь вводит целое число — текущее время в часах, значение которого хранится в переменной time. Если количество часов находится между 7 и 10 (включая обе границы), то программа должна вывести строку «Пора вставать!», иначе выведется строка «Ты проспал!».\n",
    "# Примечание: В рамках данной задачи условимся, что пользователь считается проспавшим в любое время, отличное от указанного интервала.\n",
    "time = 8\n",
    "# Пора вставать!\n",
    "time = 12\n",
    "# Ты проспал!\n",
    "print('Пора вставать!') if time >= 7 and time <= 10 else print('Ты проспал!')\n"
   ]
  },
  {
   "cell_type": "code",
   "execution_count": null,
   "metadata": {},
   "outputs": [
    {
     "name": "stdout",
     "output_type": "stream",
     "text": [
      "Ух ты! Вы ввели редкое слово!\n"
     ]
    }
   ],
   "source": [
    "# Считается, что буквы q и z встречается в английском языке реже остальных букв. Вы решили написать программу, которая позволяет пользователям вводить слова и проверяет, можно считать это слово редким или нет. Интересующее вас слово содержится в переменной target_word.\n",
    "# Пусть эта программа выводит на экран одну из двух фраз: «Ух ты! Вы ввели редкое слово!», если в слове есть буква q или букву z, или «Это не очень редкое слово...», если в нём этих букв нет.\n",
    "target_word = \"quantity\"\n",
    "target_word = 'zero'\n",
    "# Ух ты! Вы ввели редкое слово!\n",
    "# target_word = \"apply\"\n",
    "# Это не очень редкое слово...\n",
    "\n",
    "print('Ух ты! Вы ввели редкое слово!') if 'q' in target_word or 'z' in target_word else print('Это не очень редкое слово...') "
   ]
  },
  {
   "cell_type": "code",
   "execution_count": null,
   "metadata": {},
   "outputs": [
    {
     "name": "stdout",
     "output_type": "stream",
     "text": [
      "Попробуем поискать еще!\n"
     ]
    }
   ],
   "source": [
    "# Вы работаете в агентстве знакомств. К вам обратилась некая Алла, которая ищет мужчину ростом строго выше 180 см, весом строго менее 80 кг. Также Алла верит в гороскопы и согласно гороскопу ей подходят только весы, дева, овен и козерог.\n",
    "# Напишите условие, которое позволит определить, подходит ли Алле тот или иной кандидат. В результате работы программы на экран должно быть введено:\n",
    "# «Ваша половинка нашлась!» — если кандидат подходит Алле по параметрам.\n",
    "# «Попробуем поискать еще!» — если кандидат не подходит Алле по параметрам.\n",
    "height = 183\n",
    "weight = 78\n",
    "zodiac_sign = 'козерог'\n",
    "# \"Ваша половинка нашлась!\"\n",
    "height = 171\n",
    "weight = 75\n",
    "zodiac_sign = 'весы'\n",
    "# \"Попробуем поискать еще!\"\n",
    "\n",
    "print('Ваша половинка нашлась!') \\\n",
    "    if height >= 180 and weight < 80 and zodiac_sign in ['весы', 'дева', 'овен', 'козерог'] \\\n",
    "    else print('Попробуем поискать еще!') "
   ]
  },
  {
   "cell_type": "code",
   "execution_count": null,
   "metadata": {},
   "outputs": [
    {
     "name": "stdout",
     "output_type": "stream",
     "text": [
      "hurricane [4]\n"
     ]
    }
   ],
   "source": [
    "# Необходимо реализовать условный оператор, который печатает на экран характеристику ветра и его класс (от 1 до 4) в зависимости от его характера:\n",
    "# \"weak [1]\" — от 1 до 4 м/с\n",
    "# \"moderate [2]\" — от 5 до 10 м/c\n",
    "# \"strong [3]\" — от 11 до 18 м/c\n",
    "# \"hurricane [4]\" — от 19 м/c\n",
    "# Скорость ветра хранится в переменной speed.\n",
    "speed = 4\n",
    "# \"weak [1]\"\n",
    "speed = 10\n",
    "#  \"moderate [2]\" \n",
    "speed = 14\n",
    "# \"strong [3]\"\n",
    "speed = 25\n",
    "# \"hurricane [4]\" \n",
    "if speed in range( 1, 4+1):\n",
    "    print('weak [1]')\n",
    "elif speed in range( 5, 10+1):\n",
    "    print('moderate [2]')\n",
    "elif speed in range( 11, 18+1):\n",
    "    print('strong [3]')\n",
    "elif speed >= 19 :\n",
    "    print('hurricane [4]')\n"
   ]
  },
  {
   "cell_type": "code",
   "execution_count": null,
   "metadata": {},
   "outputs": [
    {
     "name": "stdout",
     "output_type": "stream",
     "text": [
      "Второй игрок — победитель!\n"
     ]
    }
   ],
   "source": [
    "# Друг, зная, что вы отличный программист, попросил вас запрограммировать игру «Камень, ножницы, бумага» для своего младшего брата. Правила игры всем известны: камень побеждает ножницы; ножницы — бумагу; бумага — камень.\n",
    "# Жесты, выполняемые первым и вторым игроками находятся в переменных player_1 и player_2 соответственно. Обратите внимание, что названия жестов должны быть написаны строчными буквами.\n",
    "# Напишите программу, которая определяет победителя. Если побеждает первый игрок, то выводится сообщение «Первый игрок — победитель!». Если второй — «Второй игрок — победитель!». Если ничья — выводится «Ничья!».\n",
    "player_1 = 'камень'\n",
    "player_2 = 'камень'\n",
    "# Ничья!\n",
    "player_1 = 'ножницы'\n",
    "player_2 = 'бумага'\n",
    "# Первый игрок — победитель!\n",
    "player_1 = 'камень'\n",
    "player_2 = 'бумага'\n",
    "# Второй игрок — победитель!\n",
    "\n",
    "if (player_1 == 'камень' and player_2 == 'ножницы') \\\n",
    "    or (player_1 == 'ножницы' and player_2 == 'бумага') \\\n",
    "    or (player_1 == 'бумага' and player_2 == 'камень'):\n",
    "    print('Первый игрок — победитель!')\n",
    "elif player_1 == player_2:\n",
    "    print('Ничья!')\n",
    "else:\n",
    "    print('Второй игрок — победитель!')\n",
    "    "
   ]
  },
  {
   "cell_type": "code",
   "execution_count": null,
   "metadata": {},
   "outputs": [
    {
     "name": "stdout",
     "output_type": "stream",
     "text": [
      "Стоимость заказа составила: 13100. С учетом скидки в 10% — 11790.0\n"
     ]
    }
   ],
   "source": [
    "# Обдумывая акцию для распродажи, владелец компании пришёл к выводу, что продавать все кроссовки по акции на сайте компании невыгодно. Поэтому была придумана новая схема: если клиент покупает одновременно кроссовки двух разных брендов, то его общая скидка составит 5 %, если две пары от одного бренда — то 10 %.\n",
    "# Для упрощения задачи будем считать, что покупатель в любом случае купит не более двух пар кроссовок. Список товаров в корзине хранится в переменной purchases и может быть пустым.\n",
    "# Также будем считать, что для всех товаров бренда действует одна и та же цена. Расценки товаров хранятся в словаре prices:\n",
    "prices = {'Adidas': 4298, 'Nike': 6550, 'Puma': 4490, 'Asics': 3879}\n",
    "# Напишите программу, которая:\n",
    "# Выводит на экран информацию об ошибке, если список покупок пуст в виде строки: Ваша корзина пуста\n",
    "# Выводит на экран информацию об общей стоимости товара, если куплен только один товар Стоимость заказа составила: <стоимость заказа>\n",
    "# Выводит на экран информацию о полученной скидке, сумме оплаты без скидки и сумму со скидкой в следующем формате:\n",
    "# Стоимость заказа составила: <стоимость заказа без скидки>. С учетом скидки в <размер скидки>% — <стоимость заказа со скидкой>\n",
    "purchases = [\"Adidas\", \"Nike\"]\n",
    "# Стоимость заказа составила: 10848. С учетом скидки в 5% — 10305.6\n",
    "purchases = [\"Nike\", \"Nike\"]\n",
    "# Стоимость заказа составила: 13100. С учетом скидки в 10% — 11790.0\n",
    "# purchases = []\n",
    "# Ваша корзина пуста\n",
    "if len(set(purchases))==2: #5\n",
    "    p = prices[purchases[0]] + prices[purchases[1]]\n",
    "    print(fr'Стоимость заказа составила: {p}. С учетом скидки в 5% — {p * 0.95}')    \n",
    "elif len(set(purchases))==1: #10\n",
    "    p = prices[purchases[0]] + prices[purchases[1]]\n",
    "    print(fr'Стоимость заказа составила: {p}. С учетом скидки в 10% — {p * 0.9}')    \n",
    "else:\n",
    "    print('Ваша корзина пуста')\n"
   ]
  },
  {
   "cell_type": "code",
   "execution_count": null,
   "metadata": {},
   "outputs": [],
   "source": [
    "# При составлении резюме на платформе поиска работы автоматически указывается дата обновления этого резюме. Дата содержится в поле date.\n",
    "date = '16.04.2019 15:59'\n",
    "date = '12.05.2019 08:42'\n",
    "date = '05.07.2018 20:15'\n",
    "# Мы распределяем резюме по категориям:\n",
    "# Категория 1 — резюме, обновленные в мае 2019\n",
    "# Категория 2 — резюме, обновленные в период с января по май (не включая май) 2019 года\n",
    "# Категория 3 — резюме, составленные раньше, чем 1 января 2019 года\n",
    "# Напишите программу, которая определяет категорию резюме. Категорию занесите целым числом в переменную category.\n",
    "# Известно, что в базе нет резюме, обновлённых после 1 июня 2019 года. Формат строки date одинаков для всех записей из базы данных, вы можете воспользоваться им.\n",
    "date = '16.04.2019 15:59'\n",
    "# category = 2\n",
    "date = '12.05.2019 08:42'\n",
    "# category = 1\n",
    "date = '05.07.2018 20:15'\n",
    "# category = 3\n",
    "# Примечание: Для отправки кода на проверку переменную date объявлять не нужно. Не забудьте удалить строку кода с её объявлением перед тестированием.\n",
    "d = (date.split(' ')[0]).split('.')\n",
    "if d[1] == '05' and d[2] == '2019':\n",
    "    category = 1\n",
    "elif d[1] in ['01', '02', '03', '04'] and d[2] == '2019':\n",
    "    category = 2\n",
    "else:\n",
    "    category = 3\n"
   ]
  },
  {
   "cell_type": "code",
   "execution_count": null,
   "metadata": {},
   "outputs": [
    {
     "data": {
      "text/plain": [
       "'Город миллионник'"
      ]
     },
     "execution_count": 52,
     "metadata": {},
     "output_type": "execute_result"
    }
   ],
   "source": [
    "# Мы занимаемся обработкой и анализом базы данных, содержащей резюме соискателей. Напишем скрипт для автоматического извлечение информации о городе, в котором проживает соискатель.\n",
    "# В поле city_info содержится информация о городе, а также о готовности соискателя к переезду и командировкам.\n",
    "# Примеры переменной city_info:\n",
    "city_info = \"Москва , не готов к переезду , готов к командировкам\"\n",
    "city_info = \"Москва , м. Беломорская , не готов к переезду, не готов к командировкам\"\n",
    "city_info = \"Санкт-Петербург , готов к переезду (Сочи, Москва) , готов к командировкам\"\n",
    "city_info = \"Новосибирск , готов к переезду, не готов к командировкам\"\n",
    "# Нас интересует только город. Причём мы не хотим учитывать все города. Разделим их на 4 категории:\n",
    "# \"Москва\"\n",
    "# \"Санкт-Петербург\"\n",
    "# \"Город миллионник\"\n",
    "# \"Другое\"\n",
    "# Напишите программу, которая в переменную city записывает одну из четырёх категорий городов, приведённых выше (в точности как указано в задании) на основе информации, содержащейся в переменной city_info.\n",
    "# Чтобы отделить город от ненужной информации обратите внимание на структуру строки: город, готовность к командировкам и переезду разделены последовательностью символов ' , '.\n",
    "# Также вам понадобится список городов-миллионников:\n",
    "million_cities = ['Новосибирск', 'Екатеринбург', 'Нижний Новгород', 'Казань', 'Челябинск', 'Омск', 'Самара', 'Ростов-на-Дону', 'Уфа', 'Красноярск', 'Пермь', 'Воронеж', 'Волгоград']\n",
    "city_info = \"Москва , не готов к переезду , готов к командировкам\"\n",
    "# city = 'Москва'\n",
    "city_info = \"Иваново , готов к переезду (Сочи, Москва, Санкт-Петербург) , готов к командировкам\"\n",
    "# city = 'Другое'\n",
    "city_info = \"Санкт-Петербург , готов к переезду (Сочи, Москва) , готов к командировкам\"\n",
    "# city = 'Санкт-Петербург'\n",
    "city_info = \"Новосибирск , готов к переезду, не готов к командировкам\"\n",
    "# city = 'Город миллионник'\n",
    "c = city_info.split(' , ')[0]\n",
    "if c == \"Москва\":\n",
    "    city = \"Москва\"\n",
    "    \n",
    "elif c == \"Санкт-Петербург\":\n",
    "    city = \"Санкт-Петербург\"\n",
    "    \n",
    "elif c in million_cities:\n",
    "    city = \"Город миллионник\"\n",
    "else:\n",
    "    city = \"Другое\"\n",
    "city"
   ]
  },
  {
   "cell_type": "code",
   "execution_count": null,
   "metadata": {},
   "outputs": [
    {
     "name": "stdout",
     "output_type": "stream",
     "text": [
      "99\n"
     ]
    }
   ],
   "source": [
    "# Задан словарь medicines с ценами на лекарства в онлайн-аптеке и строка name.\n",
    "# С помощью конструкции try-except реализуйте программу, которая печатает на экран значение, хранящееся по ключу из переменной name. Если строка name не является ключом словаря, то на экран через print выводится сообщение «Такого ключа в словаре нет».\n",
    "medicines = {'Ибупрофен': 99, 'Эспумизан': 279, 'Пенталгин': 119}\n",
    "name = 'Визин'\n",
    "# Такого ключа в словаре нет\n",
    "medicines = {'Ибупрофен': 99, 'Эспумизан': 279, 'Пенталгин': 119}\n",
    "name = 'Ибупрофен'\n",
    "# 99\n",
    "try:\n",
    "    print(medicines[name])\n",
    "except:\n",
    "    print('Такого ключа в словаре нет')\n"
   ]
  },
  {
   "cell_type": "code",
   "execution_count": null,
   "metadata": {},
   "outputs": [],
   "source": [
    "age = int(input(\"How old are you?\"))\n",
    "# Проверяем, что возраст пользователя корректный\n",
    "if age > 100 or age <= 0:\n",
    "    # Намеренно вызываем ошибку, в скобках указываем текст ошибки\n",
    "    raise ValueError(\"You are too old or don't exist\") \n",
    "# Возраст выводится только в том случае, если пользователь ввёл правильный возраст. \n",
    "print(\"You are {} years old!\".format(age)) "
   ]
  },
  {
   "cell_type": "code",
   "execution_count": null,
   "metadata": {},
   "outputs": [],
   "source": [
    "# В переменной number хранится некоторое число.\n",
    "# Напишите программу со следующим условием: если число number не ноль, то программа делит 10 на введённое число и записывает результат, округлённый до трёх знаков после запятой, в переменную result. Если же в переменной number хранится ноль, то программа должна выбросить исключение ZeroDivisionError с фразой \"Вы собираетесь делить на 0\" с помощью ключевого слова raise.\n",
    "number = 20\n",
    "# result = 0.5\n",
    "number = 7\n",
    "# result = 1.429\n",
    "# number = 0\n",
    "# ZeroDivisionError: Вы собираетесь делить на 0\n",
    "# Подсказка: для округления чисел можно воспользоваться встроенной функцией round().\n",
    "if number != 0:\n",
    "    result = round(10 / number, 3)\n",
    "elif number == 0:\n",
    "    raise ZeroDivisionError('Вы собираетесь делить на 0') \n",
    "result"
   ]
  },
  {
   "cell_type": "code",
   "execution_count": null,
   "metadata": {},
   "outputs": [],
   "source": []
  },
  {
   "cell_type": "markdown",
   "metadata": {},
   "source": [
    "\n",
    "---\n",
    "\n",
    "#### *PYTHON-4. Циклы*\n",
    "\n",
    "<span style=\"font-size:0.8em;\"> [TOC](#mod1) </span>\n",
    "\n",
    "---\n"
   ]
  },
  {
   "cell_type": "code",
   "execution_count": null,
   "metadata": {},
   "outputs": [],
   "source": [
    "# Напишите программу, которая находит произведение элементов списка num_list. В качестве начального значения произведения задайте 1. Далее в цикле перебирайте элементы списка num_list и умножайте значение произведения на элемент списка.\n",
    "# Результирующее произведение занесите в переменную p.\n",
    "num_list = [98, 24, 23, 12, 3]\n",
    "## p = 1947456\n",
    "# num_list = [1, 10, 0.5, 21, 0.13]\n",
    "# p = 13.65\n",
    "p = 1\n",
    "for i in num_list:\n",
    "    p *= i\n",
    "print(p)\n"
   ]
  },
  {
   "cell_type": "code",
   "execution_count": null,
   "metadata": {},
   "outputs": [],
   "source": [
    "# В математике факториал числа n — это произведение чисел от 1 до n включительно. Это записывается как:\n",
    "# n! = 1 · 2 · 3 · ... · (n-1) · n\n",
    "# Например:\n",
    "# 3! = 1 · 2 · 3 = 6\n",
    "# 5! = 1 · 2 · 3 · 4 · 5 = 120\n",
    "# Факториал часто применяется в высшей математике, например в комбинаторике, теории вероятностей и дифференциальном исчислении.\n",
    "# В переменной n хранится натуральное число. Напишите программу для вычисления факториала числа n. Результат запишите в переменную p.\n",
    "n = 3\n",
    "## p = 6\n",
    "n = 5\n",
    "## p = 120\n",
    "n = 10\n",
    "## p = 3628800\n",
    "p = 1\n",
    "for i in range(1,n+1):\n",
    "    p *= i\n",
    "print(p)\n"
   ]
  },
  {
   "cell_type": "code",
   "execution_count": null,
   "metadata": {},
   "outputs": [],
   "source": [
    "# Напишите программу, которая будет печатать «лесенку» из символов '*' в зависимости от значения переменной n. Число n может быть любым натуральным числом (1, 2, 3…) и задаётся внешней программой при тестировании.\n",
    "n = 3\n",
    "# *\n",
    "# **\n",
    "# ***\n",
    "n = 4\n",
    "# *\n",
    "# **\n",
    "# ***\n",
    "# ****\n",
    "p = '*'\n",
    "for i in range(1,n+1):\n",
    "    print(p*i)\n"
   ]
  },
  {
   "cell_type": "code",
   "execution_count": null,
   "metadata": {
    "scrolled": true
   },
   "outputs": [],
   "source": [
    "# Вам задан список num_list, состоящий из чисел (int и float) например:\n",
    "num_list = [1, 10, 3, -5]\n",
    "# Отсортируйте его с помощью метода sort() для списков, а затем последовательно выведите на экран элементы этого списка с помощью цикла for в следующем формате: \"element {i}: {elem}\", где i - индекс элемента в списке, elem - элемент.\n",
    "num_list = [1, 10, 3, -5]\n",
    "## element 0: -5\n",
    "## element 1: 1\n",
    "## element 2: 3\n",
    "## element 3: 10\n",
    "\n",
    "num_list.sort()\n",
    "for i in range(len(num_list)):\n",
    "    print(f\"element {i}: {num_list[i]}\")\n",
    "    "
   ]
  },
  {
   "cell_type": "code",
   "execution_count": null,
   "metadata": {},
   "outputs": [],
   "source": [
    "# Дан список num_list, состоящий из целых чисел (int). Например:\n",
    "num_list = list(range(0, 100, 3)) \n",
    "# С помощью цикла for посчитайте количество чётных элементов в списке. Результат запишите в переменную count_even.\n",
    "num_list = list(range(0, 100, 3)) \n",
    "## count_even = 17\n",
    "num_list = [10, 4, 4, 21, 2, 0, -10]\n",
    "## count_even = 6\n",
    "num_list = list(range(0, 81, 5)) \n",
    "## count_even = 9\n",
    "count_even = 0\n",
    "for i in num_list:\n",
    "    if i % 2 == 0:\n",
    "        count_even += 1\n",
    "count_even\n"
   ]
  },
  {
   "cell_type": "code",
   "execution_count": null,
   "metadata": {
    "editable": true,
    "slideshow": {
     "slide_type": ""
    },
    "tags": []
   },
   "outputs": [],
   "source": [
    "# Дан список mixture_list, элементами которого могут являться любые типы данных Python. Например:\n",
    "mixture_list = [True, 1, -10, 'hello', False, 'string_1', 123, 2.5, [1, 2], 'another'] \n",
    "# С помощью цикла for посчитайте количество элементов типа str в списке. Результат запишите в переменную count_str.\n",
    "mixture_list = [True, 1, -10, 'hello', False, 'string_1', 123, 2.5, [1, 2], 'another'] \n",
    "## count_str = 3\n",
    "mixture_list = ['My', 'Simple', -10, True, 'False', 'string_1', False, 2.5, [1, 2], 'True'] \n",
    "## count_str = 5\n",
    "count_str = 0\n",
    "for i in mixture_list: # isinstance(o, str)\n",
    "    if type(i) is str:\n",
    "        count_str += 1\n",
    "print(count_str)"
   ]
  },
  {
   "cell_type": "code",
   "execution_count": null,
   "metadata": {},
   "outputs": [],
   "source": [
    "# Мы генерируем текст с помощью нейронной сети. В списке word_list в виде строк задана сгенерированная нейронной сетью последовательность слов. Например:\n",
    "word_list = [\"My\", \"name\", \"is\", \"Sergei\", \"EOS\", \"I'm\", \"from\", \"Moscow\", \"EOS\"] \n",
    "# Напишите программу для объединения строк из списка word_list в предложения.\n",
    "# Гарантируется, что конец каждого предложения обозначается специальной последовательностью символов — \"EOS\" (End Of Sentence). Вместо этого символа в предложении ставится точка — \".\". Для простоты условимся, что другие знаки препинания (запятые, восклицательные знаки и т. д.) нейронная сеть генерировать не умеет.\n",
    "# Для решения задачи воспользуйтесь циклом for. Результирующий текст запишите в переменную text.\n",
    "word_list = [\"My\", \"name\", \"is\", \"Sergei\", \"EOS\", \"I'm\", \"from\", \"Moscow\", \"EOS\"]\n",
    "## text = \"My name is Sergei. I'm from Moscow.\"\n",
    "word_list = [\"Человек\", \"он\", \"умный\", \"EOS\", \"Но\", \"чтоб\", \"умно\", \"поступать\", \"одного\", \"ума\", \"мало\", \"EOS\"]\n",
    "## \"Человек он умный. Но чтоб умно поступать одного ума мало.\"\n",
    "text = ''\n",
    "for i in word_list: # isinstance(o, str)\n",
    "    text += i.replace('EOS','.') + ' '\n",
    "text = text.replace(' . ','. ')[:-1]\n"
   ]
  },
  {
   "cell_type": "code",
   "execution_count": null,
   "metadata": {
    "editable": true,
    "slideshow": {
     "slide_type": ""
    },
    "tags": []
   },
   "outputs": [],
   "source": [
    "# Сосуд вмещает в себя ровно volume литров жидкости. Каждый раз в него вливается 0.0033 кубических метра жидкости. Понятно, что в какой-то момент сосуд наполнится до краёв, и жидкость начнёт выливаться из него. В тот момент, когда жидкость начинает выливаться (заполненный объём становится больше, чем вместимость сосуда), наполнение сосуда прекращается.\n",
    "# С помощью цикла while опишите данный процесс и найдите, сколько литров жидкости выльется из сосуда. Результат запишите в переменную cost.\n",
    "# Учтите, что 1 кубический метр равен 1 000 литрам (0.0033 * 1000 = 3.3).\n",
    "volume = 10\n",
    "## cost = 3.1999999999999993\n",
    "# volume = 15\n",
    "## cost = 1.5\n",
    "j = 0\n",
    "i = 0\n",
    "while j < volume :\n",
    "    i += 1\n",
    "    j += 0.0033*1000\n",
    "cost = j - volume\n",
    "i, cost \n",
    "\n"
   ]
  },
  {
   "cell_type": "code",
   "execution_count": null,
   "metadata": {
    "editable": true,
    "slideshow": {
     "slide_type": ""
    },
    "tags": []
   },
   "outputs": [],
   "source": [
    "# Напишите цикл while, который находит минимальное натуральное число number, квадрат которого больше некоторого заданного value.\n",
    "# Результирующий ответ запишите в переменную number.\n",
    "value = 10\n",
    "## number = 4\n",
    "value = 159\n",
    "## number = 13\n",
    "value = 1000\n",
    "## number = 32\n",
    "number = 1\n",
    "while number**2 < value:\n",
    "    number += 1\n",
    "number"
   ]
  },
  {
   "cell_type": "code",
   "execution_count": null,
   "metadata": {},
   "outputs": [],
   "source": [
    "# Напишите бесконечный цикл while с условием выхода внутри цикла, который находит минимальное натуральное число, квадрат которого больше value.\n",
    "# Запишите результат в переменную number.\n",
    "value = 10\n",
    "## number = 4\n",
    "value = 159\n",
    "## number = 13\n",
    "value = 1000\n",
    "## number = 32\n",
    "number = 1\n",
    "while True:\n",
    "    number += 1\n",
    "    if number**2 > value:\n",
    "        break \n",
    "number"
   ]
  },
  {
   "cell_type": "code",
   "execution_count": null,
   "metadata": {},
   "outputs": [],
   "source": [
    "# Перед вами программа, которая должна вывести слово 'Hello' n раз. Переменная n задаётся извне и может быть любым числом:\n",
    "# i = 0\n",
    "# while i < n:\n",
    "#     print('Hello')\n",
    "#     break \n",
    "# Однако сейчас эта программа работает некорректно: она бесконечно выводит слово 'Hello' на экран. Исправьте программу, добавив в неё недостающую строку.\n",
    "n = 3\n",
    "## Hello\n",
    "## Hello\n",
    "## Hello\n",
    "# n = 5\n",
    "## Hello\n",
    "## Hello\n",
    "## Hello\n",
    "## Hello\n",
    "## Hello\n",
    "i = 0\n",
    "while i < n:\n",
    "    print('Hello')\n",
    "    i += 1 \n",
    "\n",
    "\n"
   ]
  },
  {
   "cell_type": "code",
   "execution_count": null,
   "metadata": {},
   "outputs": [],
   "source": [
    "# Начинающий программист написал программу, которая находит наименьшее натуральное число x, квадрат которого нацело делится на число n, и выводит его на экран. Значение переменной n задаётся внешней программой, поэтому может быть любым.\n",
    "# Однако код содержит ряд ошибок. Найдите и исправьте их:\n",
    "# x = 1\n",
    "# while x ** 2 % n == 0\n",
    "# x += 1\n",
    "# print(x)\n",
    "n = 10\n",
    "## 10\n",
    "n = 156\n",
    "## 78\n",
    "n = 12\n",
    "## 6\n",
    "x = 1\n",
    "while (x ** 2) % n != 0:\n",
    "    x += 1\n",
    "print(x)"
   ]
  },
  {
   "cell_type": "code",
   "execution_count": null,
   "metadata": {
    "scrolled": true
   },
   "outputs": [],
   "source": [
    "# Напишите цикл while, который вычисляет произведение натуральных чисел (1 * 2 * 3 * 4 * ...). Цикл должен выполняться до тех пор, пока значение произведения не превысит число value.\n",
    "# Результирующее произведение запишите в переменную p.\n",
    "value = 1000\n",
    "## p = 5040\n",
    "# value = 178\n",
    "## p = 720\n",
    "# value = 10\n",
    "## 24\n",
    "p = 1\n",
    "i = 1\n",
    "while True:\n",
    "    p *= i\n",
    "    i += 1\n",
    "    # print( p, i )\n",
    "    if p > value:\n",
    "        break\n",
    "p, i"
   ]
  },
  {
   "cell_type": "code",
   "execution_count": null,
   "metadata": {},
   "outputs": [],
   "source": [
    "# Олег положил money рублей в банк под 8 % годовых с ежегодной капитализацией процентов. Через сколько лет у него на счету будет не менее target_money рублей?\n",
    "# Запишите ответ в переменную year_count.\n",
    "# Для моделирования процесса увеличения денежной суммы на счёте воспользуйтесь циклом while. В случае, когда значение target_money < money, в переменной year_count должен содержаться 0.\n",
    "money = 1000\n",
    "target_money = 3000\n",
    "## year_count = 15\n",
    "# money = 8000\n",
    "# target_money = 15000\n",
    "## year_count = 9\n",
    "# money = 1500\n",
    "# target_money = 300\n",
    "## year_count = 0 \n",
    "year_count  = 0 \n",
    "m = money\n",
    "while True:\n",
    "    if target_money < money:\n",
    "        break\n",
    "    year_count += 1\n",
    "    m += m * 8/100\n",
    "    # print(m)\n",
    "    if m > target_money:\n",
    "        break\n",
    "year_count"
   ]
  },
  {
   "cell_type": "code",
   "execution_count": null,
   "metadata": {},
   "outputs": [],
   "source": [
    "# Вы играете в компьютерную игру, дошли до схватки с финальным боссом, но вот незадача: ваш компьютер «заглючил», и вы не можете управлять вашим персонажем. Босс атакует и каждую секунду наносит один удар, который отнимает у персонажа damage единиц здоровья. На схватку с боссом ваш персонаж вышел с health единиц здоровья.\n",
    "# Создайте цикл, позволяющий понять, через сколько секунд босс убьёт вашего персонажа. В результате работы вашей программы в переменной seconds_num должно быть сохранено количество секунд, в течение которых будет длиться схватка.\n",
    "health = 500\n",
    "damage = 80\n",
    "## seconds_num = 7\n",
    "health = 3014\n",
    "damage = 174\n",
    "## seconds_num = 18\n",
    "seconds_num = 0\n",
    "while True :\n",
    "    health -= damage\n",
    "    # print(health)\n",
    "    seconds_num += 1\n",
    "    if health <= 0:\n",
    "        break\n",
    "seconds_num\n"
   ]
  },
  {
   "cell_type": "code",
   "execution_count": null,
   "metadata": {
    "editable": true,
    "slideshow": {
     "slide_type": ""
    },
    "tags": []
   },
   "outputs": [
    {
     "name": "stdout",
     "output_type": "stream",
     "text": [
      "3\n",
      "4\n",
      "5\n",
      "6\n",
      "7\n",
      "8\n",
      "9\n"
     ]
    },
    {
     "data": {
      "text/plain": [
       "[1, 1, 2, 3, 5, 8, 13, 21, 34]"
      ]
     },
     "execution_count": 28,
     "metadata": {},
     "output_type": "execute_result"
    }
   ],
   "source": [
    "# Числа Фибоначчи — это бесконечная последовательность чисел, которую можно получить рекурсивно. Каждое число из последовательности является суммой двух предыдущих.\n",
    "# Последовательность Фибоначчи активно применяется в комбинаторике и аналитике. О значении и вариантах применения чисел Фибоначчи вы можете прочитать в блоге Skillfactory.\n",
    "# Напишите программу, которая выводит первые n чисел Фибоначчи. Значение n может быть любым.\n",
    "# Для решения воспользуйтесь следующим алгоритмом:\n",
    "# Инициализируем начальные значения последовательности: a = 1, b = 1 , i = 2.\n",
    "# Пока i ≤ n:\n",
    "# Вычислить новое значение b по формуле: b = a + b.\n",
    "# Заменить значение a = b.\n",
    "# Увеличить i на 1.\n",
    "# Добавить элемент b в последовательность.\n",
    "# Результирующую последовательность чисел сохраните в списке fibonacci_list.\n",
    "n = 3\n",
    "## fibonacci_list = [1, 1, 2]\n",
    "n = 5\n",
    "## fibonacci_list = [1, 1, 2, 3, 5]\n",
    "n = 9\n",
    "## fibonacci_list =[1, 1, 2, 3, 5, 8, 13, 21, 34]\n",
    "a = 1\n",
    "b = 1\n",
    "i = 2 \n",
    "fibonacci_list = []\n",
    "fibonacci_list.append(a)\n",
    "fibonacci_list.append(b)\n",
    "while i <= n-1:\n",
    "    b = fibonacci_list[i-1] + fibonacci_list[i-2]\n",
    "    a = fibonacci_list[i-2]\n",
    "    fibonacci_list.append(b)\n",
    "    print(a, b, fibonacci_list)\n",
    "    i += 1\n",
    "    print(i)\n",
    "    \n",
    "fibonacci_list"
   ]
  },
  {
   "cell_type": "code",
   "execution_count": null,
   "metadata": {},
   "outputs": [
    {
     "data": {
      "text/plain": [
       "[121, 91, 98]"
      ]
     },
     "execution_count": 31,
     "metadata": {},
     "output_type": "execute_result"
    }
   ],
   "source": [
    "# Дана двумерная матрица random_matrix размера n x n (список списков). Напишите программу, которая определяет максимумы в каждой строке исходной матрицы.\n",
    "# Максимумы должны быть представлены в виде списка. Запишите результат в переменную max_value_rows.\n",
    "random_matrix = [\n",
    "    [9, 2, 1],\n",
    "    [2, 5, 3],\n",
    "    [4, 8, 5]\n",
    "]\n",
    "## max_value_rows = [9, 5, 8]\n",
    "random_matrix = [\n",
    "    [9, 121, 1, 10, 42],\n",
    "    [91, 5, 3, 34, -1],\n",
    "    [-8, 98, 5, 24, -420]\n",
    "]\n",
    "## max_value_rows = [121, 91, 98]\n",
    "max_value_rows = []\n",
    "for i in random_matrix:\n",
    "    max_value_rows.append(max(i))\n",
    "max_value_rows\n"
   ]
  },
  {
   "cell_type": "code",
   "execution_count": null,
   "metadata": {},
   "outputs": [
    {
     "data": {
      "text/plain": [
       "False"
      ]
     },
     "execution_count": 36,
     "metadata": {},
     "output_type": "execute_result"
    }
   ],
   "source": [
    "# Напишите код, который определяет, является ли вложенный список test_matrix квадратной матрицей (то есть матрицей, у которой количество строк равно количеству столбцов).\n",
    "# Примеры квадратной и неквадратной (прямоугольной) матрицы: слева — квадратная, справа — неквадратная.\n",
    "# В результате работы программы в переменной is_square должно лежать булево значение — True или False — в зависимости от заданного вложенного списка.\n",
    "test_matrix = [\n",
    "    [1, 2, 3],\n",
    "    [7, -1, 2],\n",
    "    [123, 2, -1]\n",
    "]\n",
    "## is_square = True\n",
    "test_matrix = [\n",
    "    [1, 2, 3],\n",
    "    [7, -1, 2],\n",
    "    [123, 2, -1],\n",
    "    [123, 5, 1]\n",
    "]\n",
    "## is_square = False\n",
    "test_matrix = [\n",
    "    [1, 2, 3,  4],\n",
    "    [7, -1, 2, 5],\n",
    "    [123, 2, -1, 3],\n",
    "    [123, 5, 1]\n",
    "]\n",
    "## is_square = False\n",
    "for j in test_matrix:\n",
    "    is_square = len(test_matrix) == len(j)\n",
    "is_square\n"
   ]
  },
  {
   "cell_type": "code",
   "execution_count": null,
   "metadata": {},
   "outputs": [
    {
     "data": {
      "text/plain": [
       "[[25, 27, 28, 26, 27, 26, 25, 2, 26],\n",
       " [21, 22, 28, 27, 28, 26, 25, 19, 26],\n",
       " [19, 21, 25, 27, 28, 25, 21, 20, 26]]"
      ]
     },
     "execution_count": 58,
     "metadata": {},
     "output_type": "execute_result"
    }
   ],
   "source": [
    "# При формировании данных о температуре за три летних месяца допустили ошибку: некоторые значения оказались отрицательными. Вам необходимо заменить все отрицательные значения на положительные.\n",
    "# Список со значениями температуры задан в переменной temp. Необходимо перезаписать значения этого списка.\n",
    "temp = [[25, 27, 28, 26, 27, -26, -25, -2, 26], [21, 22, 28, 27, 28, 26, 25, 19, 26], [-19, 21, 25, -27, 28, 25, 21, 20, 26]]\n",
    "# После обработки\n",
    "## temp = [[25, 27, 28, 26, 27, 26, 25, 2, 26], [21, 22, 28, 27, 28, 26, 25, 19, 26], [19, 21, 25, 27, 28, 25, 21, 20, 26]]\n",
    "for row in range(len(temp)):\n",
    "    # print(row)\n",
    "    for col in range(len(temp[row])):\n",
    "        # print(col)\n",
    "        # print(temp[row][col])\n",
    "        temp[row][col] = abs(temp[row][col])\n",
    "temp"
   ]
  },
  {
   "cell_type": "code",
   "execution_count": null,
   "metadata": {},
   "outputs": [
    {
     "data": {
      "text/plain": [
       "([0.73, 0.62, 0.52, 0.76], 0.76)"
      ]
     },
     "execution_count": 63,
     "metadata": {},
     "output_type": "execute_result"
    }
   ],
   "source": [
    "# Дан список customer_satisfaction, состоящий из вложенных списков с показателями удовлетворённости клиентов компании по месяцам. Удовлетворённость измеряется от 0 до 1.\n",
    "customer_satisfaction = [\n",
    "    [0.87, 0.56, 0.77],\n",
    "    [0.22, 0.46, 0.56, 0.89, 0.95],\n",
    "    [0.45, 0.44, 0.68],\n",
    "    [0.73, 0.88, 0.95, 0.49]\n",
    "]\n",
    "# Напишите программу, которая вычисляет средние значения удовлетворённости клиентов за каждый месяц (среднее значение в каждом из вложенных списков), округлённые до двух знаков после точки-разделителя, а также максимальное из этих средних значений.\n",
    "# Средняя удовлетворённость по месяцам должна быть представлена в виде списка month_satisfaction. Максимальная удовлетворённость должна быть представлена в виде float-числа и записана в переменную max_satisfaction.\n",
    "customer_satisfaction = [\n",
    "    [0.87, 0.56, 0.77],\n",
    "    [0.22, 0.46, 0.56, 0.89, 0.95],\n",
    "    [0.45, 0.44, 0.68],\n",
    "    [0.73, 0.88, 0.95, 0.49]\n",
    "]\n",
    "## month_satisfaction = [0.73, 0.62, 0.52, 0.76]\n",
    "## max_satisfaction = 0.76\n",
    "# При решении задачи постарайтесь обойтись без использования встроенных функций для вычисления суммы списка (sum), длины списка (len), а также максимального значения в списке (max). Решите задачу, используя вложенные циклы, и опишите весь алгоритм самостоятельно.\n",
    "month_satisfaction = []\n",
    "for i in customer_satisfaction:\n",
    "    month_satisfaction.append( round(sum(i) / len(i), 2) )\n",
    "max_satisfaction = max(month_satisfaction)\n",
    "month_satisfaction, max_satisfaction"
   ]
  },
  {
   "cell_type": "code",
   "execution_count": null,
   "metadata": {},
   "outputs": [
    {
     "data": {
      "text/plain": [
       "[[0, 'Hel'],\n",
       " [1, 'my'],\n",
       " [2, 'nam'],\n",
       " [3, 'is'],\n",
       " [4, 'Eze'],\n",
       " [5, 'I'],\n",
       " [6, 'lik'],\n",
       " [7, 'kni']]"
      ]
     },
     "execution_count": 74,
     "metadata": {},
     "output_type": "execute_result"
    }
   ],
   "source": [
    "# Дан список, состоящий из строк. Список хранится в переменной str_list. Создайте новый список cut_str_list.\n",
    "# В цикле добавляйте в список cut_str_list списки, состоящие из порядкового номера строки из списка str_list (номер в рамках данной задачи начинается с 0) и трёх первых символов из каждой строки. Если длина строки меньше трёх символов, то добавляется вся строка целиком.\n",
    "str_list = ['Hello', 'my', 'name', 'is', 'Ezeikel', 'I', 'like', 'knitting']\n",
    "## cut_str_list = [[0, 'Hel'], [1, 'my'], [2, 'nam'], [3, 'is'], [4, 'Eze'], [5, 'I'], [6, 'lik'], [7, 'kni']]\n",
    "# При решении задачи воспользуйтесь функцией enumerate().\n",
    "cut_str_list = []\n",
    "for i, j in enumerate(str_list):\n",
    "    cut_str_list.append([i, j[:3]])\n",
    "cut_str_list"
   ]
  },
  {
   "cell_type": "code",
   "execution_count": null,
   "metadata": {},
   "outputs": [
    {
     "name": "stdout",
     "output_type": "stream",
     "text": [
      "Syracuse hypothesis holds for number 25921\n"
     ]
    },
    {
     "data": {
      "text/plain": [
       "1"
      ]
     },
     "execution_count": 82,
     "metadata": {},
     "output_type": "execute_result"
    }
   ],
   "source": [
    "# Допишите программу, которая проверяет гипотезу Сиракуз.\n",
    "# Гипотеза Сиракуз заключается в том, что любое натуральное число n можно свести к 1, если повторять над ним следующие действия:\n",
    "# если число чётное, разделить его нацело пополам, т. е. n = n // 2;\n",
    "# если нечётное — умножить на 3, прибавить 1 и результат нацело разделить на 2, т. е. n = (n * 3 + 1) // 2.\n",
    "# Мы тестируем только целые числа!\n",
    "n = 19\n",
    "## Syracuse hypothesis holds for number 19\n",
    "n = 25921\n",
    "## Syracuse hypothesis holds for number 25921\n",
    "origin = n\n",
    "# Создаём бесконечный цикл\n",
    "while True:\n",
    "    if n%2 == 0:\n",
    "        n = n // 2\n",
    "    else:\n",
    "        n = (n * 3 + 1) // 2    \n",
    "    # Проверяем, что результат равен 1\n",
    "    if n == 1: \n",
    "        # Если условие выполняется, выводим утвердительное сообщение.\n",
    "        print(f'Syracuse hypothesis holds for number {origin}') \n",
    "        # Ваш код здесь\n",
    "        break\n",
    "n"
   ]
  },
  {
   "cell_type": "code",
   "execution_count": null,
   "metadata": {},
   "outputs": [
    {
     "name": "stdout",
     "output_type": "stream",
     "text": [
      "24 0\n",
      "1.4 1\n",
      "14 1\n",
      "16.24 2\n",
      "124.2414 3\n",
      "12.2 4\n"
     ]
    },
    {
     "data": {
      "text/plain": [
       "5"
      ]
     },
     "execution_count": 88,
     "metadata": {},
     "output_type": "execute_result"
    }
   ],
   "source": [
    "# Дан словарь mixture_dict. Значения в нём могут быть трёх типов: строки (str) или числа (int и float).\n",
    "# Посчитайте, сколько значений в словаре mixture_dict являются числами. Результат занесите в переменную count_numbers. Используйте в своём коде оператор continue.\n",
    "mixture_dict = {'a': 15, 'b': 10.5, 'c': '15', 'd': 50, 'e': 15, 'f': '15'}\n",
    "## count_numbers = 4\n",
    "mixture_dict = {'key1': 24, 'key2': '1.4', 'key3': 14, 'key4': 16.24, 'key6': 124.2414, 'key7': 12.2}\n",
    "## count_numbers = 5\n",
    "count_numbers = 0\n",
    "for j in mixture_dict:\n",
    "    # print(mixture_dict[j], count_numbers)\n",
    "    if type(mixture_dict[j]) in [int, float]:\n",
    "        count_numbers += 1\n",
    "    else:\n",
    "        continue\n",
    "count_numbers"
   ]
  },
  {
   "cell_type": "code",
   "execution_count": null,
   "metadata": {},
   "outputs": [
    {
     "name": "stdout",
     "output_type": "stream",
     "text": [
      "{'t': 88, 'h': 63, 'e': 112, 'r': 39, 'a': 70, 'b': 15, 'i': 47, '-': 2, 'o': 80, 'l': 55, 'w': 31, 'n': 57, 's': 60, 'g': 17, 'k': 14, 'u': 22, 'f': 28, 'm': 17, 'y': 18, ',': 13, 'd': 43, 'p': 23, 'c': 9, 'v': 8, '.': 5, 'x': 1, ';': 3, 'j': 2, '`': 3, \"'\": 5, ':': 1, '!': 4, '(': 1, ')': 1}\n"
     ]
    }
   ],
   "source": [
    "text = \"\"\"\n",
    "The rabbit-hole went straight on like a tunnel for some way, and then dipped suddenly down, so suddenly that Alice had not a moment to think about stopping herself before she found herself falling down a very deep well.\n",
    "Either the well was very deep, or she fell very slowly, for she had plenty of time as she went down to look about her and to wonder what was going to happen next. First, she tried to look down and make out what she was coming to, but it was too dark to see anything; then she looked at the sides of the well, and noticed that they were filled with cupboards and book-shelves; here and there she saw maps and pictures hung upon pegs. She took down a jar from one of the shelves as she passed; it was labelled `ORANGE MARMALADE', but to her great disappointment it was empty: she did not like to drop the jar for fear of killing somebody, so managed to put it into one of the cupboards as she fell past it.\n",
    "`Well!' thought Alice to herself, `after such a fall as this, I shall think nothing of tumbling down stairs! How brave they'll all think me at home! Why, I wouldn't say anything about it, even if I fell off the top of the house!' (Which was very likely true.)\n",
    "\"\"\"\n",
    "# Приводим текст к нижнему регистру\n",
    "text = text.lower() \n",
    "# Заменяем пробелы на пустые строки\n",
    "text = text.replace(\" \", \"\") \n",
    "# Заменяем символы переноса строки на пустые строки\n",
    "text = text.replace(\"\\n\", \"\") \n",
    "# Создаём пустой словарь для подсчёта количества символов\n",
    "count_dict = {} \n",
    "# Создаём цикл по символам в строке text\n",
    "for symbol in text: # symbol — текущий символ в тексте\n",
    "    # Проверяем условие, что символа ещё нет среди ключей словаря.\n",
    "    if symbol not in count_dict:\n",
    "        # Если условие выполняется, заносим символ в словарь со значением 1.\n",
    "        count_dict[symbol] = 1 #\n",
    "    else: \n",
    "        # В противном случае увеличиваем частоту символа\n",
    "        count_dict[symbol] += 1 \n",
    "# Выводим результирующий словарь\n",
    "print(count_dict) \n",
    "## {'t': 88, 'h': 63, 'e': 112, 'r': 39, 'a': 70, 'b': 15, 'i': 47, '-': 2, 'o': 80, 'l': 55, 'w': 31, 'n': 57, 's': 60, 'g': 17, 'k': 14, 'u': 22, 'f': 28, 'm': 17, 'y': 18, ',': 13, 'd': 43, 'p': 23, 'c': 9, 'v': 8, '.': 5, 'x': 1, ';': 3, 'j': 2, '`': 3, \"'\": 5, ':': 1, '!': 4, '(': 1, ')': 1}\n"
   ]
  },
  {
   "cell_type": "code",
   "execution_count": null,
   "metadata": {},
   "outputs": [
    {
     "data": {
      "text/plain": [
       "('Инойразказалосьему,чтоонужесмесяцлежит;вдругойраз—чтовсётотжеденьидет.Нообтом—обтомонсовершеннозабыл;затоежеминутнопомнил,чтообчемтозабыл,чегонельзязабывать,—терзался,мучился,припоминая,стонал,впадалвбешенствоиливужасный,невыносимыйстрах.Тогдаонпорывалсясместа,хотелбежать,новсегдактонибудьегоостанавливалсилой,ионопятьвпадалвбессилиеибеспамятство.Наконецонсовсемпришелвсебя!',\n",
       " {',': 12, '.': 3, '?': 0, '!': 1, ';': 2, '—': 3},\n",
       " True)"
      ]
     },
     "execution_count": 100,
     "metadata": {},
     "output_type": "execute_result"
    }
   ],
   "source": [
    "# Дана переменная text, в которой содержится некоторый текст. В этом тексте могут присутствовать знаки препинания: точки ('.'), запятые(','), точки с запятой (';'), вопросительные ('?') и восклицательные знаки ('!'), а также тире ('—').\n",
    "# Напишите программу, формирующую словарь count_punctuation, ключами которого являются знаки препинания, а значениями — их количество в тексте.\n",
    "# Обратите внимание, что если какого-то из шести указанных знаков препинания нет в тексте, то в итоговом словаре значение, соответствующее этому знаку препинания, должно быть равно 0. Также имейте в виду, что тире и дефис являются разными символами.\n",
    "text = \"\"\"\n",
    "She sells sea shells on the sea shore;\n",
    "The shells that she sells are sea shells I am sure.\n",
    "So if she sells sea shells on the sea shore,\n",
    "I am sure that the shells are sea shore shells.\n",
    "\"\"\"\n",
    "## count_punctuation = {',': 1, '.': 2, '?': 0, '!': 0, ';': 1, '—': 0}\n",
    "text = \"\"\"\n",
    "Иной раз казалось ему, что он уже с месяц лежит; в другой раз — что всё тот же день идет. Но об том — об том он совершенно забыл; зато ежеминутно помнил, что об чем-то забыл, чего нельзя забывать, — терзался, мучился, припоминая, стонал, впадал в бешенство или в ужасный, невыносимый страх.\n",
    "Тогда он порывался с места, хотел бежать, но всегда кто-нибудь его останавливал силой, и он опять впадал в бессилие и беспамятство. Наконец он совсем пришел в себя!\n",
    "\"\"\"\n",
    "## count_punctuation = {',': 12, '.': 3, '?': 0, '!': 1, ';': 2, '—': 3}\n",
    "text = text.replace(' ','').replace('\\n','').replace('-','')\n",
    "count_punctuation = {',': 0, '.': 0, '?': 0, '!': 0, ';': 0, '—': 0}\n",
    "for i in text:\n",
    "    if i.isalpha() or i.isdigit():\n",
    "        continue\n",
    "    elif i not in count_punctuation:\n",
    "        count_punctuation[i] = 1\n",
    "    else:\n",
    "        count_punctuation[i] += 1\n",
    "\n",
    "count_punctuation1 = {',': 12, '.': 3, '?': 0, '!': 1, ';': 2, '—': 3}\n",
    "text, count_punctuation, count_punctuation == count_punctuation1\n"
   ]
  },
  {
   "cell_type": "code",
   "execution_count": null,
   "metadata": {},
   "outputs": [
    {
     "name": "stdout",
     "output_type": "stream",
     "text": [
      "{'she': 3, 'sells': 3, 'sea': 6, 'shells': 6, 'on': 2, 'the': 4, 'shore': 3, 'that': 2, 'are': 2, 'i': 2, 'am': 2, 'sure': 2, 'so': 1, 'if': 1}\n"
     ]
    }
   ],
   "source": [
    "text = \"\"\"\n",
    "She sells sea shells on the sea shore;\n",
    "The shells that she sells are sea shells I am sure.\n",
    "So if she sells sea shells on the sea shore,\n",
    "I am sure that the shells are sea shore shells.\n",
    "\"\"\"\n",
    "# Приводим текст к нижнему регистру\n",
    "text = text.lower() \n",
    "# Заменяем символы переноса строки на пробелы\n",
    "text = text.replace(\"\\n\", \" \") \n",
    "# Заменяем запятые на пустые строки\n",
    "text = text.replace(\",\", \"\") \n",
    "# Заменяем точки на пустые строки\n",
    "text = text.replace(\".\", \"\") \n",
    "# Заменяем точки с запятыми на пустые строки\n",
    "text = text.replace(\";\", \"\") \n",
    "# Разделяем текст на слова\n",
    "word_list = text.split()\n",
    "# Создаём пустой словарь для подсчёта количества слов\n",
    "count_dict = {} \n",
    "# Создаём цикл по словам в списке word_list\n",
    "# word — текущее слово из списка word_list\n",
    "for word in word_list: \n",
    "    # Проверяем условие, что слова ещё нет среди ключей словаря.\n",
    "    if word not in count_dict:\n",
    "        # Если условие выполняется, заносим слово в словарь со значением 1.\n",
    "        count_dict[word] = 1\n",
    "    else: \n",
    "        # В противном случае увеличиваем частоту слова\n",
    "        count_dict[word] += 1\n",
    "# Выводим результирующий словарь\n",
    "print(count_dict) \n",
    "## Будет выведено:\n",
    "## {'she': 3, 'sells': 3, 'sea': 6, 'shells': 6, 'on': 2, 'the': 4, 'shore': 3, 'that': 2, 'are': 2, 'i': 2, 'am': 2, 'sure': 2, 'so': 1, 'if': 1}\n"
   ]
  },
  {
   "cell_type": "code",
   "execution_count": null,
   "metadata": {},
   "outputs": [
    {
     "data": {
      "text/plain": [
       "{'счастье': 1,\n",
       " 'не': 1,\n",
       " 'в': 2,\n",
       " 'том': 2,\n",
       " 'чтобы': 2,\n",
       " 'делать': 1,\n",
       " 'всегда': 2,\n",
       " 'что': 2,\n",
       " 'хочешь': 1,\n",
       " 'а': 1,\n",
       " 'хотеть': 1,\n",
       " 'того': 1,\n",
       " 'делаешь': 1}"
      ]
     },
     "execution_count": 105,
     "metadata": {},
     "output_type": "execute_result"
    }
   ],
   "source": [
    "# Дано предложение, хранящееся в переменной sentence.\n",
    "# Выполните следующие действия:\n",
    "# Приведите все символы в предложении к нижнему регистру.\n",
    "# Исключите знаки препинания (запятые и точки).\n",
    "# Разделите строку по пробелам и создайте список слов, которые входят в предложение.\n",
    "# Подсчитайте количество повторений каждого слова.\n",
    "# Для подсчёта слов используйте словарь. Ключами словаря будут слова, а значениями — число вхождений этих слов в предложение. В результате работы вашей программы в переменной word_dict должен храниться результирующий словарь.\n",
    "sentence = 'A roboT MAY Not injure a humAn BEING or, tHROugh INACtion, allow a human BEING to come to harm.'\n",
    "## word_dict = {'a': 3, 'robot': 1, 'may': 1, 'not': 1, 'injure': 1, 'human': 2, 'being': 2, 'or': 1, 'through': 1, 'inaction': 1, 'allow': 1, 'to': 2, 'come': 1, 'harm': 1}\n",
    "sentence = \"СчастьЕ нЕ в тоМ, чтобы делать всегда, что хочешь, а в Том, чтОБЫ всегдА хотеть того, ЧТО дЕлаешь.\"\n",
    "## word_dict = {'счастье': 1, 'не': 1, 'в': 2, 'том': 2, 'чтобы': 2, 'делать': 1, 'всегда': 2, 'что': 2, 'хочешь': 1, 'а': 1, 'хотеть': 1, 'того': 1, 'делаешь': 1}\n",
    "sentence = sentence.lower() .replace(\"\\n\", \" \") .replace(\",\", \"\") .replace(\".\", \"\") \n",
    "word_dict = {}\n",
    "for i in sentence.split():\n",
    "    if i not in word_dict:\n",
    "        word_dict[i] = 1\n",
    "    else:\n",
    "        word_dict[i] += 1\n",
    "word_dict"
   ]
  },
  {
   "cell_type": "code",
   "execution_count": null,
   "metadata": {},
   "outputs": [
    {
     "data": {
      "text/plain": [
       "{'text': 0, 'morning': 2, 'notepad': 1, 'television': 1, 'ornament': 2}"
      ]
     },
     "execution_count": 108,
     "metadata": {},
     "output_type": "execute_result"
    }
   ],
   "source": [
    "# Дан список из строк str_list. Например:\n",
    "str_list = [\"text\", \"morning\", \"notepad\", \"television\", \"ornament\"]\n",
    "# Напишите программу для подсчёта количества вхождений заданного символа в каждую из строк этого списка. Искомый символ хранится в переменной symbol_to_check.\n",
    "# Для подсчёта используйте словарь: в качестве ключа запишите в него строку, в качестве значения — число вхождений искомого символа в эту строку. Для хранения словаря используйте переменную с именем word_dict.\n",
    "str_list = [\"text\", \"morning\", \"notepad\", \"television\", \"ornament\"]\n",
    "symbol_to_check = 't'\n",
    "## word_dict = {'text': 2, 'morning': 0, 'notepad': 1, 'television': 1, 'ornament': 1}\n",
    "str_list = [\"text\", \"morning\", \"notepad\", \"television\", \"ornament\"]\n",
    "symbol_to_check = 'n'\n",
    "## word_dict = {'text': 0, 'morning': 2, 'notepad': 1, 'television': 1, 'ornament': 2}\n",
    "word_dict = {}\n",
    "for i in str_list:\n",
    "    if symbol_to_check in i:\n",
    "        word_dict[i] = i.count(symbol_to_check)\n",
    "    else:\n",
    "        word_dict[i] = 0\n",
    "word_dict"
   ]
  },
  {
   "cell_type": "code",
   "execution_count": null,
   "metadata": {},
   "outputs": [],
   "source": []
  },
  {
   "cell_type": "markdown",
   "metadata": {},
   "source": [
    "\n",
    "---\n",
    "\n",
    "#### *PYTHON-5.1. Введение в функции в Python*\n",
    "\n",
    "<span style=\"font-size:0.8em;\"> [TOC](#mod1) </span>\n",
    "\n",
    "---\n"
   ]
  },
  {
   "cell_type": "code",
   "execution_count": null,
   "metadata": {},
   "outputs": [
    {
     "name": "stdout",
     "output_type": "stream",
     "text": [
      "750\n"
     ]
    }
   ],
   "source": [
    "# Напишите функцию get_total(units, price), которая принимает на вход число единиц товара и стоимость каждой единицы. Функция возвращает одно число — общую стоимость данного числа товаров.\n",
    "# Пример: print(get_total(15, 50))\n",
    "def get_total(units, price):\n",
    "    res = units * price\n",
    "    return res\n",
    "\n",
    "print(get_total(15, 50))"
   ]
  },
  {
   "cell_type": "code",
   "execution_count": null,
   "metadata": {},
   "outputs": [
    {
     "ename": "ValueError",
     "evalue": "Speed cannot be equal to 0!",
     "output_type": "error",
     "traceback": [
      "\u001b[1;31m---------------------------------------------------------------------------\u001b[0m",
      "\u001b[1;31mValueError\u001b[0m                                Traceback (most recent call last)",
      "Cell \u001b[1;32mIn[4], line 10\u001b[0m\n\u001b[0;32m      7\u001b[0m     result \u001b[38;5;241m=\u001b[39m distance \u001b[38;5;241m/\u001b[39m speed\n\u001b[0;32m      8\u001b[0m     \u001b[38;5;28;01mreturn\u001b[39;00m result\n\u001b[1;32m---> 10\u001b[0m get_time(\u001b[38;5;241m100\u001b[39m, \u001b[38;5;241m0\u001b[39m)\n",
      "Cell \u001b[1;32mIn[4], line 6\u001b[0m, in \u001b[0;36mget_time\u001b[1;34m(distance, speed)\u001b[0m\n\u001b[0;32m      4\u001b[0m     \u001b[38;5;28;01mraise\u001b[39;00m \u001b[38;5;167;01mValueError\u001b[39;00m(\u001b[38;5;124m\"\u001b[39m\u001b[38;5;124mDistance or speed cannot be below 0!\u001b[39m\u001b[38;5;124m\"\u001b[39m)\n\u001b[0;32m      5\u001b[0m \u001b[38;5;28;01mif\u001b[39;00m speed \u001b[38;5;241m==\u001b[39m \u001b[38;5;241m0\u001b[39m:\n\u001b[1;32m----> 6\u001b[0m     \u001b[38;5;28;01mraise\u001b[39;00m \u001b[38;5;167;01mValueError\u001b[39;00m(\u001b[38;5;124m\"\u001b[39m\u001b[38;5;124mSpeed cannot be equal to 0!\u001b[39m\u001b[38;5;124m\"\u001b[39m)\n\u001b[0;32m      7\u001b[0m result \u001b[38;5;241m=\u001b[39m distance \u001b[38;5;241m/\u001b[39m speed\n\u001b[0;32m      8\u001b[0m \u001b[38;5;28;01mreturn\u001b[39;00m result\n",
      "\u001b[1;31mValueError\u001b[0m: Speed cannot be equal to 0!"
     ]
    }
   ],
   "source": [
    "# Попробуйте добавить в функцию get_time проверку скорости на равенство нулю. Если скорость равна нулю, верните ValueError с сообщением \"Speed cannot be equal to 0!\".\n",
    "def get_time(distance, speed):\n",
    "    if distance < 0 or speed < 0:\n",
    "        raise ValueError(\"Distance or speed cannot be below 0!\")\n",
    "    if speed == 0:\n",
    "        raise ValueError(\"Speed cannot be equal to 0!\")\n",
    "    result = distance / speed\n",
    "    return result\n",
    "    \n",
    "get_time(100, 0)\n",
    "# ValueError: Speed cannot be equal to 0!\n",
    "\n"
   ]
  },
  {
   "cell_type": "code",
   "execution_count": null,
   "metadata": {},
   "outputs": [
    {
     "ename": "ValueError",
     "evalue": "Invalid Mark!",
     "output_type": "error",
     "traceback": [
      "\u001b[1;31m---------------------------------------------------------------------------\u001b[0m",
      "\u001b[1;31mValueError\u001b[0m                                Traceback (most recent call last)",
      "Cell \u001b[1;32mIn[5], line 10\u001b[0m\n\u001b[0;32m      8\u001b[0m     \u001b[38;5;28;01mreturn\u001b[39;00m journal\n\u001b[0;32m      9\u001b[0m \u001b[38;5;66;03m# Дополните её код таким образом, чтобы возникала ошибка ValueError с текстом \"Invalid Mark!\" при попытке поставить оценку не из списка: 2, 3, 4 или 5.\u001b[39;00m\n\u001b[1;32m---> 10\u001b[0m add_mark(\u001b[38;5;124m'\u001b[39m\u001b[38;5;124mIvanov\u001b[39m\u001b[38;5;124m'\u001b[39m, \u001b[38;5;241m6\u001b[39m)\n",
      "Cell \u001b[1;32mIn[5], line 4\u001b[0m, in \u001b[0;36madd_mark\u001b[1;34m(name, mark, journal)\u001b[0m\n\u001b[0;32m      1\u001b[0m \u001b[38;5;28;01mdef\u001b[39;00m \u001b[38;5;21madd_mark\u001b[39m(name, mark, journal\u001b[38;5;241m=\u001b[39m\u001b[38;5;28;01mNone\u001b[39;00m):\n\u001b[0;32m      2\u001b[0m    \u001b[38;5;66;03m# Добавьте здесь проверку аргумента mark\u001b[39;00m\n\u001b[0;32m      3\u001b[0m     \u001b[38;5;28;01mif\u001b[39;00m mark \u001b[38;5;129;01mnot\u001b[39;00m \u001b[38;5;129;01min\u001b[39;00m [\u001b[38;5;241m2\u001b[39m, \u001b[38;5;241m3\u001b[39m, \u001b[38;5;241m4\u001b[39m, \u001b[38;5;241m5\u001b[39m]:\n\u001b[1;32m----> 4\u001b[0m         \u001b[38;5;28;01mraise\u001b[39;00m \u001b[38;5;167;01mValueError\u001b[39;00m(\u001b[38;5;124m\"\u001b[39m\u001b[38;5;124mInvalid Mark!\u001b[39m\u001b[38;5;124m\"\u001b[39m) \n\u001b[0;32m      5\u001b[0m     \u001b[38;5;28;01mif\u001b[39;00m journal \u001b[38;5;129;01mis\u001b[39;00m \u001b[38;5;28;01mNone\u001b[39;00m:\n\u001b[0;32m      6\u001b[0m        journal \u001b[38;5;241m=\u001b[39m {}\n",
      "\u001b[1;31mValueError\u001b[0m: Invalid Mark!"
     ]
    }
   ],
   "source": [
    "def add_mark(name, mark, journal=None):\n",
    "    if mark not in [2, 3, 4, 5]:\n",
    "        raise ValueError(\"Invalid Mark!\") \n",
    "    if journal is None:\n",
    "       journal = {}\n",
    "    journal[name] = mark\n",
    "    return journal\n",
    "# Дополните её код таким образом, чтобы возникала ошибка ValueError с текстом \"Invalid Mark!\" при попытке поставить оценку не из списка: 2, 3, 4 или 5.\n",
    "add_mark('Ivanov', 6)\n",
    "# ValueError: Invalid Mark!\n",
    "\n"
   ]
  },
  {
   "cell_type": "code",
   "execution_count": null,
   "metadata": {},
   "outputs": [
    {
     "name": "stdout",
     "output_type": "stream",
     "text": [
      "150\n"
     ]
    }
   ],
   "source": [
    "# Напишите функцию mult, которая считает произведение переданных в неё чисел через запятую.\n",
    "# Примечание. Посчитайте результат с использованием цикла for.\n",
    "def mult(*args):\n",
    "    res = 1\n",
    "    for i in args:\n",
    "        res *= i        \n",
    "    return res \n",
    "\n",
    "# Пример:\n",
    "print(mult(3,5,10))\n",
    "# Должно быть напечатано:\n",
    "# 150\n"
   ]
  },
  {
   "cell_type": "code",
   "execution_count": null,
   "metadata": {},
   "outputs": [
    {
     "name": "stdout",
     "output_type": "stream",
     "text": [
      "['cc', 'aaa', 'bbb', 'aaaaa', 'ababa']\n"
     ]
    }
   ],
   "source": [
    "new_list = ['bbb', 'ababa','aaa', 'aaaaa',  'cc']\n",
    "new_list.sort(key=lambda word: (len(word), word))\n",
    "print(new_list)\n",
    "# Будет напечатано:\n",
    "# ['cc', 'aaa', 'bbb', 'aaaaa', 'ababa']"
   ]
  },
  {
   "cell_type": "code",
   "execution_count": null,
   "metadata": {},
   "outputs": [
    {
     "name": "stdout",
     "output_type": "stream",
     "text": [
      "5.0\n",
      "9.055385138137417\n"
     ]
    }
   ],
   "source": [
    "# Напишите lambda-функцию для расчёта гипотенузы прямоугольного треугольника: она принимает на вход длины двух катетов и возвращает длину гипотенузы (третьей, самой длинной стороны прямоугольного треугольника).\n",
    "# Формула: c = (a**2 + b**2) ** (1/2), где a и b — длины катетов, — длина гипотенузы. Сохраните эту функцию в переменную hyp.\n",
    "hyp = lambda a,b: (a**2 + b**2) ** (1/2)\n",
    "print(hyp(3,4))\n",
    "print(hyp(1,9))\n",
    "# 5.0\n",
    "# 9.055385138137417\n",
    "\n"
   ]
  },
  {
   "cell_type": "code",
   "execution_count": null,
   "metadata": {},
   "outputs": [
    {
     "name": "stdout",
     "output_type": "stream",
     "text": [
      "[(3, 4), (2, 9), (1, 10), (5, 12)]\n"
     ]
    }
   ],
   "source": [
    "# Напишите функцию sort_sides(l_in), которая сортирует переданный в неё список l_in.\n",
    "# Входной список состоит из кортежей с парами чисел — длинами катетов прямоугольных треугольников.\n",
    "# Функция должна возвращать список, отсортированный по возрастанию длин гипотенуз треугольников.\n",
    "# Примечание. Вам пригодится lambda-функция из предыдущего задания. При этом вам потребуется заменить lambda от двух аргументов на lambda от одного аргумента и обращаться к элементам кортежа уже при вычислении гипотенузы.\n",
    "# Пример работы функции\n",
    "def sort_sides(l_in):\n",
    "    l_in.sort(key = lambda r: (r[0]**2 + r[1]**2) ** (1/2)  )\n",
    "    # l_in = sorted(l_in, key = lambda r: (r[0], r[1]) )\n",
    "    return l_in\n",
    "\n",
    "print(sort_sides( [(1, 10), (2, 9), (5, 12), (3, 4)] ))\n",
    "# [(1, 2), (3, 4), (10, 10)]\n"
   ]
  },
  {
   "cell_type": "code",
   "execution_count": null,
   "metadata": {},
   "outputs": [
    {
     "name": "stdout",
     "output_type": "stream",
     "text": [
      "([1, 2, 3],)\n"
     ]
    }
   ],
   "source": [
    "z = lambda *args: print(args)\n",
    "z( [1,2,3] ) "
   ]
  },
  {
   "cell_type": "code",
   "execution_count": null,
   "metadata": {},
   "outputs": [
    {
     "name": "stdout",
     "output_type": "stream",
     "text": [
      "1\n",
      "None\n",
      "24\n",
      "None\n"
     ]
    }
   ],
   "source": [
    "# Задание 7.9 \n",
    "# Напишите функцию get_less(list_in, num), которая принимает на вход список list_in, состоящий из чисел, и ещё одно число num.\n",
    "# Функция должна вернуть первое найденное число из списка, которое меньше переданного во втором аргументе. Если такого числа нет, необходимо вернуть None.\n",
    "def get_less(list_in, num):\n",
    "    if len(list_in)==0:\n",
    "        res = None\n",
    "    for i in list_in:\n",
    "        if i < num:\n",
    "            res = i\n",
    "            return res\n",
    "        else: \n",
    "            res = None\n",
    "    return res\n",
    "    \n",
    "print(get_less([1, 5, 8,  10], 8))\n",
    "# 1\n",
    "print(get_less([1, 5, 8,  10], 0))\n",
    "# None\n",
    "print(get_less([25, 26, 24, 1, 0], 25))\n",
    "# 24\n",
    "print(get_less([], 25))\n",
    "# None\n"
   ]
  },
  {
   "cell_type": "code",
   "execution_count": null,
   "metadata": {},
   "outputs": [
    {
     "name": "stdout",
     "output_type": "stream",
     "text": [
      "1\n",
      "None\n",
      "24\n",
      "None\n"
     ]
    }
   ],
   "source": [
    "def get_less(list_in, num):\n",
    "    for i in list_in:\n",
    "        if i < num:\n",
    "            return i\n",
    "    return None\n",
    "\n",
    "print(get_less([1, 5, 8,  10], 8))\n",
    "# 1\n",
    "print(get_less([1, 5, 8,  10], 0))\n",
    "# None\n",
    "print(get_less([25, 26, 24, 1, 0], 25))\n",
    "# 24\n",
    "print(get_less([], 25))\n",
    "# None"
   ]
  },
  {
   "cell_type": "code",
   "execution_count": null,
   "metadata": {},
   "outputs": [
    {
     "name": "stdout",
     "output_type": "stream",
     "text": [
      "(31, 1, 2019)\n"
     ]
    }
   ],
   "source": [
    "# Напишите функцию split_date(date), которая принимает на вход строку, задающую дату, в формате ддммгггг без разделителей. Функция должна вернуть кортеж из чисел (int): день, месяц, год.\n",
    "# Примечание. Здесь вам пригодятся срезы строк.\n",
    "def split_date(date):\n",
    "    return int(date[:2]), int(date[2:4]), int(date[-4:])\n",
    "\n",
    "print(split_date(\"31012019\"))\n",
    "# (31, 1, 2019)"
   ]
  },
  {
   "cell_type": "code",
   "execution_count": null,
   "metadata": {},
   "outputs": [
    {
     "name": "stdout",
     "output_type": "stream",
     "text": [
      "False\n",
      "False\n",
      "True\n"
     ]
    }
   ],
   "source": [
    "# Напишите функцию is_prime(num), которая проверяет, является ли число простым.\n",
    "# Функция должна вернуть True, если число простое, иначе — False.\n",
    "# Примечание. Простым называют число, которое делится только на 1 или на само себя. Число 1 простым не является.\n",
    "def is_prime(num):\n",
    "    if num == 1:\n",
    "        return False\n",
    "    for i in range(2, num):\n",
    "        if num % i == 0:\n",
    "            return False\n",
    "    return True\n",
    "    \n",
    "print(is_prime(1))\n",
    "print(is_prime(10))\n",
    "print(is_prime(13))\n",
    "# False\n",
    "# False\n",
    "# True\n"
   ]
  },
  {
   "cell_type": "code",
   "execution_count": null,
   "metadata": {},
   "outputs": [],
   "source": []
  },
  {
   "cell_type": "code",
   "execution_count": null,
   "metadata": {},
   "outputs": [
    {
     "name": "stdout",
     "output_type": "stream",
     "text": [
      "10.0\n",
      "3.0\n"
     ]
    }
   ],
   "source": [
    "# Напишите функцию between_min_max(...), которая принимает на вход числа через запятую.\n",
    "# Функция возвращает среднее арифметическое между максимальным и минимальным значением этих чисел, то есть (max + min)/2.\n",
    "def between_min_max(*args):\n",
    "    if len(args) == 0: return None\n",
    "    if len(args) == 1: return float(args[0])\n",
    "    if len(args) > 1: return (min(args) + max(args)) / 2\n",
    "\n",
    "print(between_min_max(10))\n",
    "print(between_min_max(1,2,3,4,5))\n",
    "# 10.0\n",
    "# 3.0\n"
   ]
  },
  {
   "cell_type": "code",
   "execution_count": null,
   "metadata": {},
   "outputs": [
    {
     "name": "stdout",
     "output_type": "stream",
     "text": [
      "Mike\n",
      "Tom\n",
      "Jerry\n"
     ]
    }
   ],
   "source": [
    "# Напишите функцию best_student(...), которая принимает на вход в виде именованных аргументов имена студентов и их номера в рейтинге (нагляднее в примере).\n",
    "# Необходимо вернуть имя студента с минимальным номером по рейтингу.\n",
    "def best_student(**kwargs):\n",
    "    search_age = min(kwargs.values()) \n",
    "    for name, age in kwargs.items():\n",
    "        if age == search_age:\n",
    "            return name\n",
    "   \n",
    "print(best_student(Tom=12, Mike=3))\n",
    "print(best_student(Tom=12))\n",
    "print(best_student(Tom=12, Jerry=1, Jane=2))\n",
    "# Mike\n",
    "# Tom\n",
    "# Jerry\n"
   ]
  },
  {
   "cell_type": "code",
   "execution_count": null,
   "metadata": {},
   "outputs": [
    {
     "name": "stdout",
     "output_type": "stream",
     "text": [
      "Mike\n",
      "Tom\n",
      "Jerry\n"
     ]
    }
   ],
   "source": [
    "def best_student(**students):\n",
    "    best_name = None\n",
    "    best_rating = None\n",
    "    for (student, rating) in students.items():\n",
    "        if best_name is None:\n",
    "            best_name = student\n",
    "            best_rating = rating\n",
    "        if rating < best_rating:\n",
    "            best_rating = rating\n",
    "            best_name = student\n",
    "    return best_name\n",
    "    \n",
    "print(best_student(Tom=12, Mike=3))\n",
    "print(best_student(Tom=12))\n",
    "print(best_student(Tom=12, Jerry=1, Jane=2))\n",
    "# Mike\n",
    "# Tom\n",
    "# Jerry"
   ]
  },
  {
   "cell_type": "code",
   "execution_count": null,
   "metadata": {},
   "outputs": [
    {
     "name": "stdout",
     "output_type": "stream",
     "text": [
      "no\n",
      "yes\n",
      "yes\n"
     ]
    }
   ],
   "source": [
    "# Напишите lambda-функцию is_palindrom(str), которая принимает на вход одну строку str (имя параметра - x) и проверяет, является ли она палиндромом, то есть читается ли она слева-направо и справа-налево одинаково.\n",
    "# Функция возвращает yes, если строка является палиндромом, иначе — no.\n",
    "# Примечание. Не пытайтесь схитрить — в тест включена проверка на то, что функция действительно является lambda.\n",
    "is_palindrom = lambda x: 'yes' if x == x[::-1] else 'no'\n",
    "print(is_palindrom('1234'))\n",
    "print(is_palindrom('12321'))\n",
    "x = '121'\n",
    "print(is_palindrom(x = '121'))\n",
    "# no\n",
    "# yes\n"
   ]
  },
  {
   "cell_type": "code",
   "execution_count": null,
   "metadata": {},
   "outputs": [
    {
     "name": "stdout",
     "output_type": "stream",
     "text": [
      "60\n"
     ]
    }
   ],
   "source": [
    "# Напишите lambda-функцию area(a,b), которая принимает на вход два числа — стороны прямоугольника — через запятую и возвращает площадь прямоугольника.\n",
    "area = lambda a,b: a*b\n",
    "print(area(12,5))\n"
   ]
  },
  {
   "cell_type": "code",
   "execution_count": null,
   "metadata": {},
   "outputs": [
    {
     "name": "stdout",
     "output_type": "stream",
     "text": [
      "3.0\n"
     ]
    }
   ],
   "source": [
    "# Перепишите функцию between_min_max из задания 7.12 в lambda-функцию. Функция принимает на вход числа через запятую и возвращает одно число — среднее между максимумом и минимумом этих чисел.\n",
    "between_min_max = lambda *args: float(args[0]) if len(args) == 1 else (min(args) + max(args)) / 2\n",
    "print(between_min_max(1,2,3,4,5))\n",
    "# 3.0\n"
   ]
  },
  {
   "cell_type": "code",
   "execution_count": null,
   "metadata": {},
   "outputs": [
    {
     "name": "stdout",
     "output_type": "stream",
     "text": [
      "['abc', 'Acc']\n"
     ]
    }
   ],
   "source": [
    "# Напишите функцию sort_ignore_case(ls), которая принимает на вход список ls и сортирует его без учёта регистра по алфавиту.\n",
    "# Функция возвращает отсортированный список.\n",
    "def sort_ignore_case(ls):\n",
    "    ls.sort(key = lambda x: x.lower() )\n",
    "    return ls\n",
    "print(sort_ignore_case(['Acc', 'abc']))\n",
    "# ['abc', 'Acc']"
   ]
  },
  {
   "cell_type": "code",
   "execution_count": null,
   "metadata": {},
   "outputs": [
    {
     "name": "stdout",
     "output_type": "stream",
     "text": [
      "85.0\n",
      "8500\n",
      "11.764705882352942\n"
     ]
    }
   ],
   "source": [
    "# Напишите функцию exchange(usd, rub, rate), которая может принимать на вход сумму в долларах (usd), сумму в рублях (rub) и обменный курс (rate). Обменный курс показывает, сколько стоит один доллар. Например, курс 85.46 означает, что один доллар стоит 85 рублей и 46 копеек.\n",
    "# В функцию должно одновременно передавать два аргумента. Если передано менее двух аргументов, должна возникнуть ошибка ValueError('Not enough arguments'). Если же передано три аргумента, должна возникнуть ошибка: ValueError('Too many arguments').\n",
    "# Функция должна находить третий аргумент по двум переданным. Например, если переданы суммы в разных валютах, должен возвращаться обменный курс. Если известны сумма в рублях и курс, должна быть получена эквивалентная сумма в долларах, аналогично — если передана сумма в долларах и обменный курс.\n",
    "def exchange(usd = None, rub = None, rate = None):\n",
    "    if (usd is None and rub is None) or (rub is None and rate is None) or (usd is None and rate is None):\n",
    "        raise ValueError('Not enough arguments') \n",
    "    if (usd is not None) and (rub is not None) and (rate is not None):\n",
    "        raise ValueError('Too many arguments') \n",
    "    if (usd is not None and rub is not None): return rub / usd\n",
    "    if (usd is not None and rate is not None): return usd * rate\n",
    "    if (rub is not None and rate is not None): return rub / rate\n",
    "    \n",
    "print(exchange(usd=100, rub=8500))\n",
    "# 85.0\n",
    "print(exchange(usd=100, rate=85))\n",
    "# # 8500\n",
    "print(exchange(rub=1000, rate=85))\n",
    "# # 11.764705882352942\n",
    "# print(exchange(rub=1000, rate=85, usd=90))\n",
    "# ValueError: Too many arguments\n",
    "# print(exchange(rub=1000))\n",
    "# ValueError: Not enough arguments"
   ]
  },
  {
   "cell_type": "code",
   "execution_count": null,
   "metadata": {},
   "outputs": [
    {
     "name": "stdout",
     "output_type": "stream",
     "text": [
      "85.0\n",
      "8500\n",
      "11.764705882352942\n"
     ]
    }
   ],
   "source": [
    "def exchange(usd=None, rub=None, rate=None):\n",
    "    if (usd is not None) and (rub is not None) and (rate is not None):\n",
    "        raise ValueError('Too many arguments')\n",
    "    not_enough_error = ValueError('Not enough arguments')\n",
    "    if usd is not None:\n",
    "        if rub is not None:\n",
    "            return rub/usd\n",
    "        if rate is not None:\n",
    "            return usd * rate\n",
    "    if rub is not None:\n",
    "        if rate is not None:\n",
    "            return rub/rate\n",
    "    raise not_enough_error\n",
    "    \n",
    "print(exchange(usd=100, rub=8500))\n",
    "# 85.0\n",
    "print(exchange(usd=100, rate=85))\n",
    "# # 8500\n",
    "print(exchange(rub=1000, rate=85))\n",
    "# # 11.764705882352942\n",
    "# print(exchange(rub=1000, rate=85, usd=90))\n",
    "# ValueError: Too many arguments\n",
    "# print(exchange(rub=1000))\n",
    "# ValueError: Not enough arguments\n"
   ]
  },
  {
   "cell_type": "markdown",
   "metadata": {},
   "source": [
    "\n",
    "---\n",
    "\n",
    "#### **BONUS. Продвинутое использование функций в Python*\n",
    "\n",
    "<span style=\"font-size:0.8em;\"> [TOC](#mod1) </span>\n",
    "\n",
    "---\n"
   ]
  },
  {
   "cell_type": "code",
   "execution_count": null,
   "metadata": {},
   "outputs": [
    {
     "ename": "NameError",
     "evalue": "name 'printer' is not defined",
     "output_type": "error",
     "traceback": [
      "\u001b[1;31m---------------------------------------------------------------------------\u001b[0m",
      "\u001b[1;31mNameError\u001b[0m                                 Traceback (most recent call last)",
      "Cell \u001b[1;32mIn[3], line 4\u001b[0m\n\u001b[0;32m      2\u001b[0m     \u001b[38;5;28;01mdef\u001b[39;00m \u001b[38;5;21mprinter\u001b[39m():\n\u001b[0;32m      3\u001b[0m         \u001b[38;5;28mprint\u001b[39m(msg)\n\u001b[1;32m----> 4\u001b[0m printer(\u001b[38;5;124m'\u001b[39m\u001b[38;5;124mHello\u001b[39m\u001b[38;5;124m'\u001b[39m)\n",
      "\u001b[1;31mNameError\u001b[0m: name 'printer' is not defined"
     ]
    }
   ],
   "source": [
    "def print_msg(msg):\n",
    "    def printer():\n",
    "        print(msg)\n",
    "printer('Hello')"
   ]
  },
  {
   "cell_type": "code",
   "execution_count": null,
   "metadata": {},
   "outputs": [
    {
     "ename": "NameError",
     "evalue": "name 'cube' is not defined",
     "output_type": "error",
     "traceback": [
      "\u001b[1;31m---------------------------------------------------------------------------\u001b[0m",
      "\u001b[1;31mNameError\u001b[0m                                 Traceback (most recent call last)",
      "Cell \u001b[1;32mIn[4], line 7\u001b[0m\n\u001b[0;32m      4\u001b[0m         \u001b[38;5;28;01mreturn\u001b[39;00m result\n\u001b[0;32m      6\u001b[0m     \u001b[38;5;28;01mreturn\u001b[39;00m \u001b[38;5;28mmin\u001b[39m(cube(x), cube(y))\n\u001b[1;32m----> 7\u001b[0m \u001b[38;5;28mprint\u001b[39m(cube(a\u001b[38;5;241m=\u001b[39m\u001b[38;5;241m5\u001b[39m))\n",
      "\u001b[1;31mNameError\u001b[0m: name 'cube' is not defined"
     ]
    }
   ],
   "source": [
    "def min_of_cubes(x, y):\n",
    "    def cube(a):\n",
    "        result = a**3\n",
    "        return result\n",
    "\n",
    "    return min(cube(x), cube(y))\n",
    "print(cube(a=5))\n"
   ]
  },
  {
   "cell_type": "code",
   "execution_count": null,
   "metadata": {},
   "outputs": [
    {
     "data": {
      "text/plain": [
       "9"
      ]
     },
     "execution_count": 17,
     "metadata": {},
     "output_type": "execute_result"
    }
   ],
   "source": [
    "# На первом этапе напишите функцию get_count_unique_symbols(), которая:\n",
    "# принимает на вход строку s,\n",
    "# приводит её к нижнему регистру,\n",
    "# убирает из неё все пробелы,\n",
    "# возвращает количество уникальных символов в строке.\n",
    "def get_count_unique_symbols(s):\n",
    "    return len(set(s.lower().replace(' ','')))\n",
    "  \n",
    "get_count_unique_symbols('Это простая строка')\n",
    "## 9\n",
    "# get_count_unique_symbols('This is a simple string')\n",
    "## 12\n",
    "\n"
   ]
  },
  {
   "cell_type": "code",
   "execution_count": null,
   "metadata": {},
   "outputs": [
    {
     "name": "stdout",
     "output_type": "stream",
     "text": [
      "Это простая строка\n",
      "Great phrase\n",
      "('школа', 'school')\n"
     ]
    }
   ],
   "source": [
    "# На втором этапе напишите функцию get_min_string(), которая:\n",
    "# принимает на вход две строки s1 и s2,\n",
    "# возвращает ту, в которой количество уникальных символов меньше.\n",
    "# Чтобы определить количество уникальных символов, воспользуйтесь функцией get_count_unique_symbols(), которую вы написали в предыдущем задании. Поместите ее определение и вызов внутрь функции get_min_string().\n",
    "# Функция get_min_string() должна возвращать:\n",
    "# строку s1, если количество уникальных символов в ней меньше, чем в s2;\n",
    "# строку s2, если количество уникальных символов в ней меньше, чем в s1;\n",
    "# кортеж из строк s1 и s2 при равенстве количества уникальных символов.\n",
    "\n",
    "def get_min_string(s1, s2):\n",
    "    def get_count_unique_symbols(s):\n",
    "        return len(set(s.lower().replace(' ','')))\n",
    "    # Применяем вложенную функцию к каждой из строк\n",
    "    s1_len = get_count_unique_symbols(s1)\n",
    "    s2_len = get_count_unique_symbols(s2)\n",
    "    if s1_len == s2_len: return (s1, s2)\n",
    "    return s1 if s1_len < s2_len else s2\n",
    "\n",
    "print(get_min_string(s1='Это простая строка', s2='This is a simple string'))\n",
    "## Это простая строка\n",
    "print(get_min_string(s1='Отличная фраза', s2='Great phrase'))\n",
    "## Great phrase\n",
    "print(get_min_string(s1='школа', s2='school'))\n",
    "## ('школа', 'school')\n"
   ]
  },
  {
   "cell_type": "code",
   "execution_count": null,
   "metadata": {},
   "outputs": [
    {
     "name": "stdout",
     "output_type": "stream",
     "text": [
      "['ArithmeticError', 'AssertionError', 'AttributeError', 'BaseException', 'BaseExceptionGroup', 'BlockingIOError', 'BrokenPipeError', 'BufferError', 'BytesWarning', 'ChildProcessError', 'ConnectionAbortedError', 'ConnectionError', 'ConnectionRefusedError', 'ConnectionResetError', 'DeprecationWarning', 'EOFError', 'Ellipsis', 'EncodingWarning', 'EnvironmentError', 'Exception', 'ExceptionGroup', 'False', 'FileExistsError', 'FileNotFoundError', 'FloatingPointError', 'FutureWarning', 'GeneratorExit', 'IOError', 'ImportError', 'ImportWarning', 'IndentationError', 'IndexError', 'InterruptedError', 'IsADirectoryError', 'KeyError', 'KeyboardInterrupt', 'LookupError', 'MemoryError', 'ModuleNotFoundError', 'NameError', 'None', 'NotADirectoryError', 'NotImplemented', 'NotImplementedError', 'OSError', 'OverflowError', 'PendingDeprecationWarning', 'PermissionError', 'ProcessLookupError', 'RecursionError', 'ReferenceError', 'ResourceWarning', 'RuntimeError', 'RuntimeWarning', 'StopAsyncIteration', 'StopIteration', 'SyntaxError', 'SyntaxWarning', 'SystemError', 'SystemExit', 'TabError', 'TimeoutError', 'True', 'TypeError', 'UnboundLocalError', 'UnicodeDecodeError', 'UnicodeEncodeError', 'UnicodeError', 'UnicodeTranslateError', 'UnicodeWarning', 'UserWarning', 'ValueError', 'Warning', 'WindowsError', 'ZeroDivisionError', '__IPYTHON__', '__build_class__', '__debug__', '__doc__', '__import__', '__loader__', '__name__', '__package__', '__spec__', 'abs', 'aiter', 'all', 'anext', 'any', 'ascii', 'bin', 'bool', 'breakpoint', 'bytearray', 'bytes', 'callable', 'chr', 'classmethod', 'compile', 'complex', 'copyright', 'credits', 'delattr', 'dict', 'dir', 'display', 'divmod', 'enumerate', 'eval', 'exec', 'execfile', 'filter', 'float', 'format', 'frozenset', 'get_ipython', 'getattr', 'globals', 'hasattr', 'hash', 'help', 'hex', 'id', 'input', 'int', 'isinstance', 'issubclass', 'iter', 'len', 'license', 'list', 'locals', 'map', 'max', 'memoryview', 'min', 'next', 'object', 'oct', 'open', 'ord', 'pow', 'print', 'property', 'range', 'repr', 'reversed', 'round', 'runfile', 'set', 'setattr', 'slice', 'sorted', 'staticmethod', 'str', 'sum', 'super', 'tuple', 'type', 'vars', 'zip']\n"
     ]
    }
   ],
   "source": [
    "# Встроенные переменные (built-in) — это имена объектов, которые встроены в функционал Python изначально.\n",
    "# К ним относятся, например, функции print, len, структуры данных list, dict, tuple и другие.\n",
    "# Примечание. Вывести полный список встроенных имён вы можете, выполнив следующий код:\n",
    "print(dir(__builtins__))"
   ]
  },
  {
   "cell_type": "markdown",
   "metadata": {},
   "source": [
    "Мы пишем приложение для рисования графических фигур. Пока мы можем рисовать только окружности и эллипсы.\n",
    "Чтобы закрашивать фигуры, которые мы рисуем, необходимо рассчитывать площадь этих фигур. Для расчета площади воспользуемся простейшими формулами.\n",
    "Площадь окружности вычисляется по формуле:\n",
    "S = πr², где r — радиус окружности.\n",
    "Площадь эллипса вычисляется по формуле:\n",
    "S = πab, где a и b — длины полуосей эллипса.\n",
    "При разработке приложения мы принимаем, что π = 3,1416.\n",
    "Обратите внимание! Это число является константой — его значение не меняется на всём протяжении выполнения программы.\n",
    "Напишите функции calculate_area_circle() и calculate_area_ellipse().\n",
    "Первая функция должна принимать один аргумент r — радиус окружности, вторая функция должна принимать два аргумента a и b — длины полуосей эллипса.\n",
    "Каждая из функций должна возвращать площадь соответствующей фигуры, округленную до третьего знака после запятой.\n",
    "Обе функции должны использовать внутри себя локальные переменные с одним и тем же именем area (площади фигур) и глобальную переменную pi, объявленную вне этих функций.\n"
   ]
  },
  {
   "cell_type": "code",
   "execution_count": null,
   "metadata": {},
   "outputs": [
    {
     "name": "stdout",
     "output_type": "stream",
     "text": [
      "78.54\n",
      "23.562\n",
      "78.5\n",
      "23.55\n"
     ]
    }
   ],
   "source": [
    "def calculate_area_circle(r):\n",
    "    area = pi * r ** 2\n",
    "    return round(area, 2)\n",
    "    \n",
    "def calculate_area_ellipse(a, b):\n",
    "    area = pi * a * b\n",
    "    return round(area, 3) \n",
    "\n",
    "pi = 3.1416\n",
    "print(calculate_area_circle(r=5))\n",
    "## 78.54\n",
    "print(calculate_area_ellipse(a=3, b=2.5))\n",
    "## 23.562\n",
    "pi = 3.14\n",
    "print(calculate_area_circle(r=5))\n",
    "## 78.5\n",
    "print(calculate_area_ellipse(a=3, b=2.5))\n",
    "## 23.55нную вне этих функций.\n",
    "\n"
   ]
  },
  {
   "cell_type": "code",
   "execution_count": null,
   "metadata": {},
   "outputs": [
    {
     "name": "stdout",
     "output_type": "stream",
     "text": [
      "199000\n",
      "199000\n",
      "30000\n"
     ]
    }
   ],
   "source": [
    "# Вам необходимо написать программу, которая будет вычислять сумму, оставшуюся на счёте у пользователя банковской карты. Посмотрите на код ниже и внесите в него исправление так, чтобы он работал верно.\n",
    "def cash(less_money):\n",
    "    global money \n",
    "    money -= less_money\n",
    "    return money\n",
    "    \n",
    "money = 200000\n",
    "print(cash(1000))\n",
    "# Не добавляйте аргументы в функцию cash, помимо less_money.\n",
    "money = 200000\n",
    "print(cash(1000))\n",
    "## 199000\n",
    "money = 30240\n",
    "print(cash(240))\n",
    "## 30000"
   ]
  },
  {
   "cell_type": "code",
   "execution_count": null,
   "metadata": {},
   "outputs": [
    {
     "name": "stdout",
     "output_type": "stream",
     "text": [
      "None\n",
      "1351.3513513513512\n",
      "1136.3636363636363\n"
     ]
    }
   ],
   "source": [
    "# Вы написали программу, которая позволяет конвертировать рубли в выбранную валюту. При написании программы вы использовали global, но позже узнали, что не стоит так часто его использовать. Перепишите следующий код, не используя global.\n",
    "# Словарь с курсами валют (по отношению к рублю)\n",
    "currencies = {'USD': 74, 'EUR': 88, 'GBP': 98 , 'CHF': 82}\n",
    "money = 100000\n",
    "# Функция для конвертации валюты, аргумент - наименование валюты\n",
    "def convert(currency):\n",
    "    global money\n",
    "    money = money / currencies[currency]\n",
    "print(convert('USD'))\n",
    "# Перепишите функцию convert() так, чтобы словарь с курсами валют и количество денег на счету были её первым и вторым аргументом, а валюта, в которую необходимо произвести конвертацию, — третьим.\n",
    "\n",
    "def convert(currencies, money, currency):\n",
    "        return money / currencies[currency]\n",
    "\n",
    "currencies = {'USD': 74, 'EUR': 88, 'GBP': 98 , 'CHF': 82}\n",
    "money = 100000\n",
    "\n",
    "convert_money = convert(currencies, money, 'USD')  \n",
    "print(convert_money)  \n",
    "## 1351.3513513513512  \n",
    "convert_money = convert(currencies, money, 'EUR')  \n",
    "print(convert_money)  \n",
    "## 1136.3636363636363"
   ]
  },
  {
   "cell_type": "code",
   "execution_count": null,
   "metadata": {},
   "outputs": [
    {
     "ename": "UnboundLocalError",
     "evalue": "cannot access local variable 'total' where it is not associated with a value",
     "output_type": "error",
     "traceback": [
      "\u001b[1;31m---------------------------------------------------------------------------\u001b[0m",
      "\u001b[1;31mUnboundLocalError\u001b[0m                         Traceback (most recent call last)",
      "Cell \u001b[1;32mIn[47], line 8\u001b[0m\n\u001b[0;32m      6\u001b[0m         \u001b[38;5;28;01mreturn\u001b[39;00m total\n\u001b[0;32m      7\u001b[0m     \u001b[38;5;28;01mreturn\u001b[39;00m multiplier()\n\u001b[1;32m----> 8\u001b[0m total_multiplier(\u001b[38;5;241m10\u001b[39m)\n",
      "Cell \u001b[1;32mIn[47], line 7\u001b[0m, in \u001b[0;36mtotal_multiplier\u001b[1;34m(n)\u001b[0m\n\u001b[0;32m      5\u001b[0m     total \u001b[38;5;241m+\u001b[39m\u001b[38;5;241m=\u001b[39m product\n\u001b[0;32m      6\u001b[0m     \u001b[38;5;28;01mreturn\u001b[39;00m total\n\u001b[1;32m----> 7\u001b[0m \u001b[38;5;28;01mreturn\u001b[39;00m multiplier()\n",
      "Cell \u001b[1;32mIn[47], line 5\u001b[0m, in \u001b[0;36mtotal_multiplier.<locals>.multiplier\u001b[1;34m()\u001b[0m\n\u001b[0;32m      3\u001b[0m \u001b[38;5;28;01mdef\u001b[39;00m \u001b[38;5;21mmultiplier\u001b[39m():\n\u001b[0;32m      4\u001b[0m     product \u001b[38;5;241m=\u001b[39m \u001b[38;5;241m10\u001b[39m \u001b[38;5;241m*\u001b[39m n\n\u001b[1;32m----> 5\u001b[0m     total \u001b[38;5;241m+\u001b[39m\u001b[38;5;241m=\u001b[39m product\n\u001b[0;32m      6\u001b[0m     \u001b[38;5;28;01mreturn\u001b[39;00m total\n",
      "\u001b[1;31mUnboundLocalError\u001b[0m: cannot access local variable 'total' where it is not associated with a value"
     ]
    }
   ],
   "source": [
    "def total_multiplier(n):\n",
    "    total = 0\n",
    "    def multiplier():\n",
    "        product = 10 * n\n",
    "        total += product\n",
    "        return total\n",
    "    return multiplier()\n",
    "total_multiplier(10)"
   ]
  },
  {
   "cell_type": "code",
   "execution_count": null,
   "metadata": {},
   "outputs": [
    {
     "data": {
      "text/plain": [
       "100"
      ]
     },
     "execution_count": 48,
     "metadata": {},
     "output_type": "execute_result"
    }
   ],
   "source": [
    "# В теле функции multiplier дописать строку nonlocal total.\n",
    "\n",
    "def total_multiplier(n):\n",
    "    total = 0\n",
    "    def multiplier():\n",
    "    \n",
    "        nonlocal total\n",
    "\n",
    "        product = 10 * n\n",
    "        total += product\n",
    "        return total\n",
    "    return multiplier()\n",
    "total_multiplier(10)"
   ]
  },
  {
   "cell_type": "code",
   "execution_count": null,
   "metadata": {},
   "outputs": [
    {
     "data": {
      "text/plain": [
       "2"
      ]
     },
     "execution_count": 51,
     "metadata": {},
     "output_type": "execute_result"
    }
   ],
   "source": [
    "# Мы реализуем функцию count_occurrences(), у которой есть два параметра s — строка и symbols — список из символов. Функция вычисляет, сколько раз символ symbol встречается в строке s.\n",
    "# Перед подсчётом количества символов строка s проходит предобработку: из неё удаляются пробелы, а символы приводятся к нижнему регистру.\n",
    "# Функция для вычисления количества символов (symbol) в строке s\n",
    "# Сейчас при попытке вызвать функцию: count_occurrences('This is simple string', symbol='t') вызывается исключение UnboundLocalError.\n",
    "# Исправьте код таким образом, чтобы он отрабатывал без ошибки.\n",
    "\n",
    "\n",
    "def count_occurrences(s, symbol):\n",
    "    # Внутренняя функция для предобработки строки s\n",
    "    def preprocessing_s():\n",
    "        nonlocal s\n",
    "        # Удаляем пробелы из строки\n",
    "        s = s.replace(' ', '')\n",
    "        # Приводим строку к нижнему регистру\n",
    "        s = s.lower()\n",
    "    # Вызываем функцию для предобработки аргумента s\n",
    "    preprocessing_s()\n",
    "    # Считаем количество символов symbol в строке s и возвращаем результат\n",
    "    return s.count(symbol)\n",
    "\n",
    "count_occurrences('This is simple string', symbol='t')\n",
    "## 2"
   ]
  },
  {
   "cell_type": "code",
   "execution_count": null,
   "metadata": {},
   "outputs": [
    {
     "name": "stdout",
     "output_type": "stream",
     "text": [
      "ютуб\n",
      "вк\n",
      "радио\n"
     ]
    }
   ],
   "source": [
    "# Нам необходимо проанализировать, какая из рекламных кампаний оказалась наиболее успешной. Данные хранятся в словаре advertising_campaigns, где ключ — это рекламный канал, а значение — список, в котором задано суммарное количество вновь нажавших на кнопку рекламного баннера в 2021 и 2022 годах.\n",
    "advertising_campaigns = {'ютуб': [212, 248], 'вк': [514, 342], 'радио': [339, 125]}\n",
    "# Для каждого рекламного канала нужно получить максимальное количество откликнувшихся за 2021 и 2022 годы.\n",
    "# Для этого мы создали пустой словарь advertising_campaigns_max и написали цикл for, в котором:\n",
    "# проходимся по ключам исходного словаря;\n",
    "# вычисляем максимумы в списках, соответствующих этим ключам;\n",
    "# добавляем эти значения в новый словарь.\n",
    "\n",
    "# Создаём новый пустой словарь  \n",
    "advertising_campaigns_max = {}  \n",
    "# Создаём цикл по ключам исходного словаря  \n",
    "for key in advertising_campaigns:  \n",
    "    # Вычисляем максимум в списке, лежащем по ключу key  \n",
    "    maxi = max(advertising_campaigns[key])  \n",
    "    # Добавляем максимум в новый словарь  \n",
    "    advertising_campaigns_max[key] = maxi\n",
    "# Но что-то пошло не так, и код падает с ошибкой:\n",
    "# TypeError: 'int' object is not callable\n",
    "# Выясните, в чём дело, и исправьте код. В результате выполнения кода у вас должен получиться словарь advertising_campaigns_max следующего вида:\n",
    "## {'ютуб': 248, 'вк': 514, 'радио': 339}\n"
   ]
  },
  {
   "cell_type": "code",
   "execution_count": null,
   "metadata": {},
   "outputs": [
    {
     "name": "stdout",
     "output_type": "stream",
     "text": [
      "True\n",
      "False\n",
      "True\n",
      "False\n"
     ]
    }
   ],
   "source": [
    "# Напишите функцию is_leap(year), которая принимает на вход год и возвращает True, если год високосный, иначе — False.\n",
    "# Как определить, является ли год високосным:\n",
    "# годы, номера которых кратны 400 - високосные;\n",
    "# остальные годы, кратные 100 - невисокосные (то есть 1700, 1800, 1900, 2100, 2200, 2300 годы — невисокосные);\n",
    "# остальные годы, которых кратны 4 - високосные (например, 1964, 2004, 2008);\n",
    "# оставшиеся годы - не високосные (например, 1789, 2013, 2014).\n",
    "# Подробнее об этом можно почитать здесь.\n",
    "def is_leap(year):\n",
    "    # year = int(input(\"Введите год: \"))\n",
    "    if year % 4 != 0 or (year % 100 == 0 and year % 400 != 0):\n",
    "        return False\n",
    "    else:\n",
    "        return True\n",
    "print(is_leap(2000))\n",
    "# True\n",
    "print(is_leap(1900))\n",
    "# False\n",
    "print(is_leap(2020))\n",
    "# True\n",
    "print(is_leap(1700))\n",
    "# False\n"
   ]
  },
  {
   "cell_type": "code",
   "execution_count": null,
   "metadata": {},
   "outputs": [
    {
     "name": "stdout",
     "output_type": "stream",
     "text": [
      "None\n",
      "False\n",
      "False\n",
      "False\n",
      "False\n"
     ]
    }
   ],
   "source": [
    "# Сделайте функцию is_leap() из предыдущего задания внутренней функцией функции check_date().\n",
    "# Модифицируйте код функции check_date() так, чтобы она корректно обрабатывала високосные года.\n",
    "\n",
    "def check_date(d,m,y):\n",
    "    # print( d,m,y )\n",
    "    def is_leap(year):\n",
    "        # year = int(input(\"Введите год: \"))\n",
    "        if year % 4 != 0 or (year % 100 == 0 and year % 400 != 0):\n",
    "            return False\n",
    "        else:\n",
    "            return True\n",
    "    return is_leap(y)\n",
    "\n",
    "print(check_date(18, 9, 1999))\n",
    "# True\n",
    "print(check_date(29, 2, 2000))\n",
    "# True\n",
    "print(check_date(29, 2, 2021))\n",
    "# False\n",
    "print(check_date(13, 13, 2021))\n",
    "# False\n",
    "print(check_date(13.5, 12, 2021))\n",
    "# False\n"
   ]
  },
  {
   "cell_type": "code",
   "execution_count": null,
   "metadata": {},
   "outputs": [
    {
     "name": "stdout",
     "output_type": "stream",
     "text": [
      "{'a': 2.1360009363293826, 'b': 2.692582403567252, 'c': 4.422951503238533, 'perimeter': 9.251534843135168, 'area': 2.1250000000000027}\n",
      "{'a': 3.0, 'b': 4.0, 'c': 5.0, 'perimeter': 12.0, 'area': 6.0}\n"
     ]
    }
   ],
   "source": [
    "# Итоговый код будет выглядеть следующим образом:\n",
    "\n",
    "def triangle(p1, p2, p3):\n",
    "    # Функция для вычисления сторон треугольника\n",
    "    # По умолчанию параметры функции берутся из объемлющей области видимости\n",
    "    def sides(p1, p2, p3):\n",
    "        # Распаковываем кортежи для удобства, “;” означает новую строку кода\n",
    "        x1, y1 = p1; x2, y2 = p2; x3, y3 = p3\n",
    "        # Вычисляем стороны по теореме Пифагора\n",
    "        a = ((x2 - x1) ** 2 + (y2 - y1)** 2) ** 0.5\n",
    "        b = ((x3 - x1) ** 2 + (y3 - y1)** 2) ** 0.5\n",
    "        c = ((x3 - x2) ** 2 + (y3 - y2)** 2) ** 0.5\n",
    "        return a, b, c\n",
    "\n",
    "    # Функция для вычисления периметра треугольника\n",
    "    def calculate_perimeter_triangle(a, b, c):\n",
    "        # Периметр — сумма всех сторон треугольника\n",
    "        perimeter = a + b + c\n",
    "        return perimeter\n",
    "\n",
    "    # Функция для вычисления площади треугольника\n",
    "    def calculate_area_triangle(a, b, c):\n",
    "        # Вычисляем полупериметр \n",
    "        # Значение perimeter берётся из объемлющей области видимости\n",
    "        p = perimeter / 2\n",
    "        # Вычисляем площадь по формуле Герона\n",
    "        area = (p * (p - a) * (p - b) * (p - c)) ** 0.5\n",
    "        return area\n",
    "    a, b, c = sides(p1, p2, p3)\n",
    "    perimeter = calculate_perimeter_triangle(a, b, c)\n",
    "    area = calculate_area_triangle(a, b, c)\n",
    "    result = {'a': a, 'b': b, 'c': c, 'perimeter': perimeter, 'area': area}\n",
    "    return result\n",
    "    \n",
    "print(triangle(p1=(2, 2), p2=(4, 1.25), p3=(1, 4.5)))\n",
    "## {'a': 2.1360009363293826, 'b': 2.692582403567252, 'c': 4.422951503238533, 'perimeter': 9.251534843135168, 'area': 2.1250000000000027}\n",
    "print(triangle(p1=(1, 1), p2=(1, 4), p3=(5, 1)))\n",
    "## {'a': 3.0, 'b': 4.0, 'c': 5.0, 'perimeter': 12.0, 'area': 6.0}\n"
   ]
  },
  {
   "cell_type": "code",
   "execution_count": null,
   "metadata": {},
   "outputs": [
    {
     "name": "stdout",
     "output_type": "stream",
     "text": [
      "0.1\n",
      "1\n"
     ]
    }
   ],
   "source": [
    "# Напишите рекурсивную функцию multiply_lst(lst), которая перемножает элементы заданного списка lst между собой. Если в функцию передаётся пустой список, она должна возвращать 1.\n",
    "\n",
    "def multiply_lst(lst):\n",
    "    if len(lst) == 0: return 1\n",
    "    else: return int(lst[0] * multiply_lst(lst[1:]))\n",
    "\n",
    "print(multiply_lst([1, 5, 2, 1.5]))\n",
    "## 15\n",
    "print(multiply_lst([]))\n",
    "## 1 "
   ]
  },
  {
   "cell_type": "code",
   "execution_count": null,
   "metadata": {},
   "outputs": [
    {
     "name": "stdout",
     "output_type": "stream",
     "text": [
      "0.475\n",
      "1.975\n",
      "0\n"
     ]
    }
   ],
   "source": [
    "# Напишите рекурсивную функцию inv_sum_list(). На вход ей подаётся список из чисел, а она вычисляет сумму чисел, являющихся обратными к своим элементам. Обратным числу x называется число 1/x. Например, обратным числу 2 является 1/2 = 0.5.\n",
    "# Например, если на вход программы подается список [10, 4, 8], то функция должна вернуть сумму 0.1 + 0.25 + 0.125 = 0.475.\n",
    "# Если на вход функции передаётся пустой список, она должна возвращать 0.\n",
    "def inv_sum_list(lst):\n",
    "    if len(lst) == 0: return 0\n",
    "    a = 1/lst[0]\n",
    "    if inv_sum_list(lst[1:]) == 0: b = 0\n",
    "    else: b = inv_sum_list(lst[1:])\n",
    "    return a + b\n",
    "\n",
    "print(inv_sum_list([10, 4, 8]))\n",
    "## 0.475\n",
    "print(inv_sum_list([10, 1, 2, 4, 8]))\n",
    "## 1.975\n",
    "print(inv_sum_list([]))\n",
    "## 0"
   ]
  },
  {
   "cell_type": "code",
   "execution_count": null,
   "metadata": {},
   "outputs": [
    {
     "name": "stdout",
     "output_type": "stream",
     "text": [
      "1\n",
      "6\n",
      "120\n"
     ]
    }
   ],
   "source": [
    "def factorial(n):\n",
    "    # Задаём условия выхода из рекурсии:\n",
    "    if n==0: return 1\n",
    "    if n==1: return 1\n",
    "    # Во всех других случаях возвращаем\n",
    "    # произведение текущего числа n и функции от n-1\n",
    "    return factorial(n-1)*n\n",
    "print(factorial(0))\n",
    "print(factorial(3))\n",
    "print(factorial(5))\n",
    "## Будет напечатано:\n",
    "## 1\n",
    "## 6\n",
    "## 120"
   ]
  },
  {
   "attachments": {
    "4bebc165-2a80-4f37-aa24-df77c99819f3.png": {
     "image/png": "[encoded data removed]"
    }
   },
   "cell_type": "markdown",
   "metadata": {},
   "source": [
    "В компании, где работает  человек, надо отправить  человек в командировку.  Сколькими способами это можно сделать?\n",
    "Для ответа на этот вопрос используются сочетания (combination). Сочетания в математике обозначаются как  (читается как «число сочетаний из  по ») и выражаются формулой:\n",
    "\n",
    "Например, если в коллективе работает 10 сотрудников и пять из них надо отправить в командировку, то число способов, которыми это можно сделать, равно:\n",
    "\n",
    " способа\n",
    "\n",
    "![image.png](attachment:4bebc165-2a80-4f37-aa24-df77c99819f3.png)"
   ]
  },
  {
   "cell_type": "code",
   "execution_count": null,
   "metadata": {},
   "outputs": [
    {
     "name": "stdout",
     "output_type": "stream",
     "text": [
      "252.0\n",
      "220.0\n",
      "1.0\n",
      "1.0\n"
     ]
    }
   ],
   "source": [
    "# Напишем функцию combination(n, k), которая позволит нам автоматически вычислять значение сочетания по формуле, приведённой выше, для любых n и k.\n",
    "# При расчёте воспользуйтесь рекурсивной функцией factorial(), которую мы написали выше. Можете сделать её внутренней для функции combination() или независимой функцией, на ваш вкус. Главное, добавьте в свой код объявление функции factorial().\n",
    "def combination(n, k):\n",
    "    def factorial(n):\n",
    "        # Задаём условия выхода из рекурсии:\n",
    "        if n==0: return 1\n",
    "        if n==1: return 1\n",
    "        # Во всех других случаях возвращаем\n",
    "        # произведение текущего числа n и функции от n-1\n",
    "        return factorial(n-1)*n\n",
    "    c = factorial(n) / ( factorial(n-k) * factorial(k) )\n",
    "    return c\n",
    "\n",
    "\n",
    "print(combination(n=10, k=5))\n",
    "## 252.0\n",
    "print(combination(n=12, k=3))\n",
    "## 220.0\n",
    "print(combination(n=1, k=1))\n",
    "## 1.0\n",
    "print(combination(n=0, k=0))\n",
    "## 1.0\n"
   ]
  },
  {
   "cell_type": "code",
   "execution_count": null,
   "metadata": {},
   "outputs": [
    {
     "name": "stdout",
     "output_type": "stream",
     "text": [
      "2.2010486125946045\n"
     ]
    }
   ],
   "source": [
    "from time import time\n",
    "import sys\n",
    "# Увеличим глубину рекурсии\n",
    "sys.setrecursionlimit(1000000000)\n",
    "# Объявляем рекурсивную функцию для расчёта факториала\n",
    "def factorial(n):\n",
    "    if n==0: return 1\n",
    "    if n==1: return 1\n",
    "    return factorial(n-1)*n\n",
    "# Засекаем время до начала выполнения цикла\n",
    "a = time()\n",
    "for i in range(100):\n",
    "    factorial(10000)\n",
    "# Засекаем время после выполнения цикла\n",
    "b = time()\n",
    "# Считаем разницу: вычисляем время, потраченное на выполнение\n",
    "print(b-a)\n",
    "# Будет напечатано:\n",
    "# 4.058465242385864"
   ]
  },
  {
   "cell_type": "code",
   "execution_count": null,
   "metadata": {},
   "outputs": [
    {
     "name": "stdout",
     "output_type": "stream",
     "text": [
      "2.0709073543548584\n"
     ]
    }
   ],
   "source": [
    "from time import time\n",
    "# Объявляем функцию для расчёта факториала через цикл\n",
    "def factorial_for(n):\n",
    "    # Для расчёта произведения первый член — единица, а не ноль!\n",
    "    result = 1\n",
    "    # Перемножаем числа от 1 до n\n",
    "    for i in range(1, n+1):\n",
    "        result *= i\n",
    "    return result\n",
    "# Засекаем время до начала выполнения цикла\n",
    "a = time()\n",
    "for i in range(100):\n",
    "    factorial_for(10000)\n",
    "# Засекаем время после выполнения цикла\n",
    "b = time()\n",
    "# Считаем разницу: вычисляем время, потраченное на выполнение\n",
    "print(b-a)\n",
    "## Будет напечатано:\n",
    "## 3.0138471126556396"
   ]
  },
  {
   "cell_type": "markdown",
   "metadata": {},
   "source": [
    "Примеры программ с использованием рекурсии на языке Python\n",
    "\n",
    "\n",
    "https://pythonist.ru/primery-programm-s-ispolzovaniem-rekursii-na-yazyke-python/"
   ]
  },
  {
   "cell_type": "code",
   "execution_count": null,
   "metadata": {},
   "outputs": [
    {
     "name": "stdout",
     "output_type": "stream",
     "text": [
      "1\n",
      "1\n",
      "8\n",
      "13\n",
      "21\n"
     ]
    }
   ],
   "source": [
    "# Числа Фибоначчи — пример последовательности, которую можно получить рекурсивно. Каждое число из последовательности является суммой двух предыдущих.\n",
    "# Последовательность Фибоначчи активно применяется в комбинаторике и аналитике. О значении и вариантах применения чисел Фибоначчи вы можете прочитать в блоге Skillfactory.\n",
    "# Можно записать рекурсивное выражение для расчёта n-ого числа из последовательности Фибоначчи:\n",
    "# Напишите рекурсивную функцию fib(n), которая считает n-ое число Фибоначчи. Алгоритм работы функции:\n",
    "# Если n=1 или n=2, вернуть 1, так как первый и второй элементы ряда Фибоначчи равны единице.\n",
    "# Во всех остальных случаях вызвать эту же функцию с аргументами n-1 и n-2 и сложить результаты двух вызовов.\n",
    "\n",
    "def fib(n):\n",
    "    # if n == 0: return 1\n",
    "    if n == 1: return 1\n",
    "    if n == 2: return 1\n",
    "    return fib(n-1) + fib(n-2)\n",
    "\n",
    "print(fib(1))\n",
    "# 1\n",
    "print(fib(2))\n",
    "# 1\n",
    "print(fib(6))\n",
    "# 8\n",
    "print(fib(7))\n",
    "# 13\n",
    "print(fib(8))\n",
    "# 21\n"
   ]
  },
  {
   "cell_type": "code",
   "execution_count": null,
   "metadata": {},
   "outputs": [
    {
     "name": "stdout",
     "output_type": "stream",
     "text": [
      "1\n",
      "625\n"
     ]
    }
   ],
   "source": [
    "# Напишите рекурсивную функцию power(val, n), которая возводит число в заданную целую натуральную степень (или в степень 0).\n",
    "# Использовать встроенный оператор ** для возведения в степень запрещено. Пользуйтесь только умножением *. Например, 2 ** 4 = (((2 * 2) * 2) * 2) = 16.\n",
    "# В качестве первого аргумента функция принимает число, в качестве второго — желаемую степень.\n",
    "# Примечание. В качестве базовых случаев для рекурсии возьмите условия, что любое число в степени 0 — 1, любое число в степени 1 — это же число.\n",
    "def power(val, n):\n",
    "    if n == 0: return 1\n",
    "    return val * power(val, n-1)\n",
    "    \n",
    "print(power(25, 0))\n",
    "# 1\n",
    "print(power(-5, 4))\n",
    "# 625"
   ]
  },
  {
   "cell_type": "markdown",
   "metadata": {},
   "source": [
    "Примечание\n",
    "Пример построения последовательности Фибоначчи через циклы можно найти здесь.\n",
    "\n",
    "> Числа Фибоначчи: циклом и рекурсией\n",
    "\n",
    "\n",
    "https://younglinux.info/algorithm/fibonacci\n"
   ]
  },
  {
   "cell_type": "code",
   "execution_count": null,
   "metadata": {},
   "outputs": [
    {
     "name": "stdout",
     "output_type": "stream",
     "text": [
      "Номер элемента ряда Фибоначчи:  4\n"
     ]
    },
    {
     "name": "stdout",
     "output_type": "stream",
     "text": [
      "Значение этого элемента: 3\n"
     ]
    }
   ],
   "source": [
    "fib1 = 1\n",
    "fib2 = 1\n",
    "n = input('Номер элемента ряда Фибоначчи: ')\n",
    "n = int(n)\n",
    "i = 0\n",
    "while i < n - 2:\n",
    "    fib_sum = fib1 + fib2\n",
    "    fib1 = fib2\n",
    "    fib2 = fib_sum\n",
    "    i = i + 1\n",
    "print('Значение этого элемента:', fib2)"
   ]
  },
  {
   "cell_type": "code",
   "execution_count": null,
   "metadata": {},
   "outputs": [
    {
     "name": "stdout",
     "output_type": "stream",
     "text": [
      "Номер элемента ряда Фибоначчи:  4\n"
     ]
    },
    {
     "name": "stdout",
     "output_type": "stream",
     "text": [
      "Значение этого элемента: 3\n"
     ]
    }
   ],
   "source": [
    "fib1 = fib2 = 1\n",
    "n = input('Номер элемента ряда Фибоначчи: ')\n",
    "n = int(n) - 2\n",
    "while n > 0:\n",
    "    fib1, fib2 = fib2, fib1 + fib2\n",
    "    n -= 1\n",
    "print('Значение этого элемента:', fib2)"
   ]
  },
  {
   "cell_type": "code",
   "execution_count": null,
   "metadata": {},
   "outputs": [
    {
     "name": "stdout",
     "output_type": "stream",
     "text": [
      " 4\n"
     ]
    },
    {
     "name": "stdout",
     "output_type": "stream",
     "text": [
      "1 1 2 3 "
     ]
    }
   ],
   "source": [
    "fib1 = fib2 = 1\n",
    "n = int(input())\n",
    "print(fib1, fib2, end=' ')\n",
    "for i in range(2, n):\n",
    "    fib1, fib2 = fib2, fib1 + fib2\n",
    "    print(fib2, end=' ')"
   ]
  },
  {
   "cell_type": "code",
   "execution_count": null,
   "metadata": {},
   "outputs": [
    {
     "name": "stdout",
     "output_type": "stream",
     "text": [
      "55\n"
     ]
    }
   ],
   "source": [
    "def fibonacci(n):\n",
    "    if n in (1, 2):\n",
    "        return 1\n",
    "    return fibonacci(n - 1) + fibonacci(n - 2)\n",
    "print(fibonacci(10))"
   ]
  },
  {
   "cell_type": "code",
   "execution_count": null,
   "metadata": {},
   "outputs": [
    {
     "name": "stdout",
     "output_type": "stream",
     "text": [
      "e(x(a(m)p)l)e\n",
      "c(ar)r\n",
      "h(e(l)l)o\n"
     ]
    }
   ],
   "source": [
    "### Задача №1\n",
    "# **Условие задачи.** Необходимо написать функцию add_brackets(), которая принимает на вход строку, содержащую только английские буквы (большие и маленькие). Функция должна добавлять в строку открывающиеся и закрывающиеся скобки по следующему образцу: \"example\" -> \"e(x(a(m)p)l)e\".\n",
    "# До середины добавляются открывающие скобки, после середины – закрывающие. Если длина строки равна чётному числу, в скобках, расположенных в середине, должно быть два символа: \"card\" → \"c(ar)d\" (но не \"c(a()r)d\").\n",
    "\n",
    "# Функция для создания строки со скобками\n",
    "def add_brackets(s):\n",
    "    # Проверяем условие остановки: строка состоит из одного или двух символов\n",
    "    if len(s) == 1 or len(s) == 2:\n",
    "        # Возвращаем эти символы\n",
    "        return s\n",
    "    # В противном случае:\n",
    "    # «Отщипываем» от строки первый и последний символы,\n",
    "    # добавляем к ним скобки, а также результат вызова функции, в которую\n",
    "    # передаем строку без первого и последнего символов\n",
    "    return s[0] + '(' + add_brackets(s[1:-1]) + ')' + s[-1]\n",
    "\n",
    "print(add_brackets('example'))\n",
    "print(add_brackets('carr'))\n",
    "print(add_brackets('hello'))"
   ]
  },
  {
   "cell_type": "code",
   "execution_count": null,
   "metadata": {},
   "outputs": [
    {
     "name": "stdout",
     "output_type": "stream",
     "text": [
      "h*e*l*l*o\n",
      "L*I*t*B*e*o*F*L*c*S*G*B*O*F*Q*x*M*H*o*I*u*D*D*W*c*q*c*V*g*k*c*R*o*A*e*o*c*X*O\n",
      "g*k*a*f*k*a*f*k*K*d*a*f*l*k*f*a\n"
     ]
    }
   ],
   "source": [
    "# Дана строка, содержащая только английские буквы (большие и маленькие).\n",
    "# Напишите рекурсивную функцию add_asterisk(). Она должна принимать в качестве аргумента строку и добавлять символ * (звёздочка) между буквами. Перед первой и после последней буквами символ * добавлять не нужно.\n",
    "\n",
    "def add_asterisk(s):\n",
    "    if len(s) == 1: return s\n",
    "    if len(s) == 2: return s[0] + '*' + s[-1]\n",
    "    return s[0] + '*' + add_asterisk(s[1:-1]) + '*' + s[-1]\n",
    "\n",
    "print(add_asterisk('hello'))\n",
    "## h*e*l*l*o\n",
    "print(add_asterisk('LItBeoFLcSGBOFQxMHoIuDDWcqcVgkcRoAeocXO'))\n",
    "## L*I*t*B*e*o*F*L*c*S*G*B*O*F*Q*x*M*H*o*I*u*D*D*W*c*q*c*V*g*k*c*R*o*A*e*o*c*X*O\n",
    "print(add_asterisk('gkafkafkKdaflkfa'))\n",
    "## g*k*a*f*k*a*f*k*K*d*a*f*l*k*f*a\n"
   ]
  },
  {
   "cell_type": "code",
   "execution_count": null,
   "metadata": {},
   "outputs": [
    {
     "name": "stdout",
     "output_type": "stream",
     "text": [
      "[1, 1, 0, 4, 2, 1, 0, 2, 1]\n",
      "[1, 1, 5, 10, 34, 24, 1, 0, 4, 9, 8, 10, 1, 0, 2, 1]\n"
     ]
    }
   ],
   "source": [
    "# Функция для выпрямления списка\n",
    "def flatten(lst):\n",
    "    # Создаём новый пустой список\n",
    "    result = []\n",
    "    # Создаём цикл по элементам списка\n",
    "    for elem in lst:\n",
    "        # Если элемент списка является списком,\n",
    "        if type(elem) is list:\n",
    "            # Применяем к нему функцию выпрямления и добавляем элементы к результату\n",
    "            result += flatten(elem)\n",
    "        else: # Если элемент не является списоком,\n",
    "            # Добавляем элемент в новый список\n",
    "            result.append(elem)\n",
    "    return result\n",
    "matrix = [\n",
    "    [1, 1, 0],\n",
    "    [4, 2, 1],\n",
    "    [0, 2, 1]\n",
    "]\n",
    "print(flatten(matrix))\n",
    "## Будет выведено:\n",
    "## [1, 1, 0, 4, 2, 1, 0, 2, 1]\n",
    "matrix = [\n",
    "    [1, 1, [5, 10, 34, [24, 1, 0]]],\n",
    "    [4, [9, 8, 10], 1],\n",
    "    [0, 2, 1]\n",
    "]\n",
    "print(flatten(matrix))\n",
    "## Будет выведено:\n",
    "## [1, 1, 5, 10, 34, 24, 1, 0, 4, 9, 8, 10, 1, 0, 2, 1]"
   ]
  },
  {
   "cell_type": "code",
   "execution_count": null,
   "metadata": {
    "scrolled": true
   },
   "outputs": [
    {
     "name": "stdout",
     "output_type": "stream",
     "text": [
      "12\n",
      "82\n"
     ]
    }
   ],
   "source": [
    "# Другая важная операция в нейронных сетях — это суммирование элементов исходной матрицы.\n",
    "# Напишите функцию sum_list(). Она принимает на вход вложенный список, элементами которого являются числа, и возвращает сумму всех элементов.\n",
    "# Примеры вызова функции:\n",
    "def sum_list(el):\n",
    "    sum_el = 0\n",
    "    for i in el:\n",
    "        # print(i)\n",
    "        if type(i) is list:\n",
    "            pass\n",
    "            sum_el += sum_list(i)\n",
    "        else:\n",
    "            sum_el += i\n",
    "    return sum_el\n",
    "    \n",
    "matrix = [\n",
    "    # 3, 2, \n",
    "    [1, 1, 0],\n",
    "    [4, 2, 1],\n",
    "    [0, 2, 1]\n",
    "]\n",
    "print(sum_list(matrix))\n",
    "## 12\n",
    "matrix = [\n",
    "    [1, 1, [1, 2, 3], 0],\n",
    "    [4, 2, 1, [10, 52, 2]],\n",
    "    [0, 2, 1]\n",
    "]\n",
    "print(sum_list(matrix))\n",
    "# 82\n"
   ]
  },
  {
   "cell_type": "code",
   "execution_count": null,
   "metadata": {},
   "outputs": [
    {
     "name": "stdout",
     "output_type": "stream",
     "text": [
      "{1: {'parrent_link': None, 'child_link': [3, 4]}, 2: {'parrent_link': None, 'child_link': []}, 3: {'parrent_link': 1, 'child_link': [6]}, 4: {'parrent_link': 1, 'child_link': []}, 6: {'parrent_link': 3, 'child_link': []}}\n",
      "{1: {'parrent_link': None, 'child_link': [4]}, 2: {'parrent_link': None, 'child_link': []}, 4: {'parrent_link': 1, 'child_link': []}}\n",
      "{2: {'parrent_link': None, 'child_link': []}}\n"
     ]
    }
   ],
   "source": [
    "forum_messages = {\n",
    "    1: {'parrent_link': None, 'child_link': [3, 4]},\n",
    "    2: {'parrent_link': None, 'child_link': [5]},\n",
    "    3: {'parrent_link': 1, 'child_link': [6]},\n",
    "    4: {'parrent_link': 1, 'child_link': []},\n",
    "    5: {'parrent_link': 2, 'child_link': []},\n",
    "    6: {'parrent_link': 3, 'child_link': []}\n",
    "}\n",
    "\n",
    "# Функция для удаления сообщения на форуме и всех его потомков\n",
    "def delete_message(messages, msg_id):\n",
    "    # Удаляем из словаря сообщение с идентификатором msg_id\n",
    "    # Метод pop() возвращает значение, лежащее по удаляемому ключу\n",
    "    result = messages.pop(msg_id)\n",
    "    # Получаем идентификатор родителя\n",
    "    parrent_link = result['parrent_link']\n",
    "    # Получаем список идентификаторов потомков\n",
    "    child_link = result['child_link']\n",
    "    # Если у сообщения был родитель и он ещё не был удален\n",
    "    # Эта запись будет аналогична parrent_link is not None\n",
    "    if parrent_link and parrent_link in messages:\n",
    "        # Обращаемся к словарю messages по ключу родителя\n",
    "        # Удаляем потомка из списка потомков\n",
    "        messages[parrent_link]['child_link'].remove(msg_id)\n",
    "    # Если у сообщения были потомки\n",
    "    # Эта запись будет аналогична child_link == []\n",
    "    if child_link:\n",
    "        # В цикле проходимся по всем потомкам \n",
    "        for child_id in child_link:\n",
    "            # И повторяем те же самые действия для каждого из них\n",
    "            # (рекурсивно вызываем функцию delete_message)\n",
    "            delete_message(messages, msg_id=child_id)\n",
    "    return messages\n",
    "    \n",
    "# Осталось проверить работу функции.\n",
    "# Для сообщения, у которого есть родитель, но нет потомков:\n",
    "print(delete_message(forum_messages, msg_id=5))\n",
    "## Будет выведено:\n",
    "## {1: {'parrent_link': None, 'child_link': [3, 4]}, 2: {'parrent_link': None, 'child_link': []}, 3: {'parrent_link': 1, 'child_link': [6]}, 4: {'parrent_link': 1, 'child_link': []}, 6: {'parrent_link': 3, 'child_link': []}}\n",
    "\n",
    "# Для сообщения, у которого есть родитель и есть потомки:\n",
    "print(delete_message(forum_messages, msg_id=3))\n",
    "## Будет выведено:\n",
    "## {1: {'parrent_link': None, 'child_link': [4]}, 2: {'parrent_link': None, 'child_link': [5]}, 4: {'parrent_link': 1, 'child_link': []}, 5: {'parrent_link': 2, 'child_link': []}}\n",
    "\n",
    "# Для сообщения, у которого нет родителя (корневое сообщение), но есть потомки:\n",
    "print(delete_message(forum_messages, msg_id=1))\n",
    "## Будет выведено:\n",
    "## {2: {'parrent_link': None, 'child_link': [5]}, 5: {'parrent_link': 2, 'child_link': []}}\n"
   ]
  },
  {
   "cell_type": "code",
   "execution_count": null,
   "metadata": {},
   "outputs": [
    {
     "name": "stdout",
     "output_type": "stream",
     "text": [
      "key1 ->\n",
      "  key2 ->\n",
      "    ['value1', 'value2']\n",
      "  key3 ->\n",
      "    key4 ->\n",
      "      ['value3']\n",
      "key5 ->\n",
      "  key6 ->\n",
      "    key7 ->\n",
      "      ['value3', 'value5', 'value6']\n"
     ]
    }
   ],
   "source": [
    "# Пусть у нас есть словарь input_dict следующего вида:\n",
    "input_dict = {\n",
    "    'key1': {\n",
    "        'key2': ['value1', 'value2'], \n",
    "        'key3': {\n",
    "            'key4': ['value3']\n",
    "        }\n",
    "    }, \n",
    "    'key5': {\n",
    "        'key6': {\n",
    "            'key7': ['value3', 'value5', 'value6']\n",
    "        }\n",
    "    }\n",
    "}\n",
    "# Мы хотим напечатать этот словарь следующим образом:\n",
    "# key1 ->\n",
    "#   key2 ->\n",
    "#     ['value1', 'value2']\n",
    "#   key3 ->\n",
    "#     key4 ->\n",
    "#       ['value3']\n",
    "# key5 ->\n",
    "#   key6 ->\n",
    "#     key7 ->\n",
    "#       ['value3', 'value5', 'value6']\n",
    "# Для этого мы написали рекурсивную функцию print_dict():\n",
    "def print_dict(input_data, level=0):\n",
    "    # Если input_data — словарь \n",
    "    if type(input_data) is dict:\n",
    "        # Создаём цикл по ключам словаря\n",
    "        for key in input_data:\n",
    "            # Выводим ключ в формате \"<пробелы> <имя ключа> ->\"\n",
    "            print('  ' * level + '{} ->'.format(key))\n",
    "            # Повторяем те же операции для каждого значения словаря\n",
    "            print_dict(input_data[key], level=level+1)  \n",
    "    else: # В противном случае\n",
    "        # Выводим значения в формате \"<пробелы> <значения>\"\n",
    "        print('  ' * level + str(input_data))\n",
    "# Однако мы где-то допустили ошибку в функции и она печатает словарь в следующем виде:\n",
    "# key1 ->  \n",
    "# key2 ->  \n",
    "# ['value1', 'value2']  \n",
    "# key3 ->  \n",
    "# key4 ->  \n",
    "# ['value3']  \n",
    "# key5 ->  \n",
    "# key6 ->  \n",
    "# key7 ->  \n",
    "# ['value3', 'value5', 'value6']\n",
    "# Разберитесь в функции print_dict() и исправьте её так, чтобы словарь печатался в нужном формате.\n",
    "print_dict(input_dict, level=0)"
   ]
  },
  {
   "cell_type": "markdown",
   "metadata": {},
   "source": [
    "Возможно, вам будет интересно решить и другие рекурсивные задачи, которые не попали в список рассмотренных нами.\n",
    "\n",
    "Вы можете обратить внимание на решение некоторых распространённых задач, таких как бинарный поиск, сортировка слиянием, Ханойская башня и т. д., при помощи рекурсии. Знакомство с решением этих задач поможет вам ещё глубже понять рекурсию и погрузиться в теорию алгоритмов.\n",
    "\n",
    "https://pythobyte.com/tower-of-hanoi-python-01725/\n",
    "\n",
    "https://pythonpip.ru/examples/dvoichnyy-poisk-python\n",
    "\n",
    "https://pythonist.ru/sortirovka-sliyaniem-dlya-teh-kto-ne-hochet-prosto-ispolzovat-sort/\n"
   ]
  },
  {
   "cell_type": "code",
   "execution_count": null,
   "metadata": {},
   "outputs": [
    {
     "name": "stdout",
     "output_type": "stream",
     "text": [
      "[1, 2, 3, 4, 5, 6, 7]\n",
      "[101, 203, 33, 45, 51, 46, 77]\n"
     ]
    }
   ],
   "source": [
    "# Дан список чисел old_list, где все числа имеют строковый тип данных. Чтобы работать с ними, вам нужно превратить их в целое число. Напишите код, который позволит это сделать. Новое значение списка присвойте переменной new_list. В решении используйте функцию map().\n",
    "old_list = ['1', '2', '3', '4', '5', '6', '7']\n",
    "## new_list = [1, 2, 3, 4, 5, 6, 7]\n",
    "new_list = list(map(int, old_list))\n",
    "print(new_list)\n",
    "old_list = ['101', '203', '33', '45', '51', '46', '77']\n",
    "## new_list = [101, 203, 33, 45, 51, 46, 77]\n",
    "new_list = list(map(int, old_list))\n",
    "print(new_list)"
   ]
  },
  {
   "cell_type": "code",
   "execution_count": null,
   "metadata": {},
   "outputs": [
    {
     "name": "stdout",
     "output_type": "stream",
     "text": [
      "[15571, 19984, 9749, 15393, 8357, 21027]\n",
      "[471, 1452, 2792, 1580]\n"
     ]
    }
   ],
   "source": [
    "# Вам передали информацию о расходах за шесть месяцев. Данные содержатся в списке expenses. В этом списке расходы по каждому месяцу хранятся в отдельных списках. С помощью map создайте новый список expenses_sum, содержащий суммы расходов по каждому месяцу.\n",
    "expenses = [[2356, 4537, 8678], [7395, 1298, 6500, 4791],[6341, 3408], [1105, 8374, 5914], [1024, 7333], [3500, 2008, 9375, 6144]]  \n",
    "## expenses_sum = [15571, 19984, 9749, 15393, 8357, 21027]\n",
    "expenses_sum = list(map(sum, expenses))\n",
    "print(expenses_sum)\n",
    "expenses = [[101, 203, 167], [214, 351, 135, 752],[255, 2537], [852, 362, 366]]  \n",
    "## expenses_sum = [471, 1452, 2792, 1580]\n",
    "expenses_sum = list(map(sum, expenses))\n",
    "print(expenses_sum)"
   ]
  },
  {
   "cell_type": "code",
   "execution_count": null,
   "metadata": {},
   "outputs": [
    {
     "name": "stdout",
     "output_type": "stream",
     "text": [
      "[150.0, 330.0, 525.0, 120.0]\n"
     ]
    }
   ],
   "source": [
    "# Список зарплат\n",
    "salaries = [1500, 2200, 3500, 1200]\n",
    "def calculate_tax(salary):\n",
    "    if salary < 1000: # Если зарплата < 1000\n",
    "        # Налог — 5 % от зарплаты\n",
    "        return salary * 0.05\n",
    "    elif salary < 2000: # Если зарплата < 2000\n",
    "        # Налог — 10 % от зарплаты\n",
    "        return salary * 0.1\n",
    "    else:\n",
    "        # Налог — 15 % от зарплаты\n",
    "        return salary * 0.15\n",
    "# Применяем функцию calculate_tax к каждому элементу списка\n",
    "# Для этого передаём функцию calculate_tax и список salaries в функцию map() \n",
    "# Результат преобразуем к списку\n",
    "taxes = list(map(calculate_tax, salaries))\n",
    "# Выведем, что получилось\n",
    "print(taxes)\n",
    "## Будет выведено:\n",
    "## [150.0, 330.0, 525.0, 120.0]"
   ]
  },
  {
   "cell_type": "code",
   "execution_count": null,
   "metadata": {},
   "outputs": [
    {
     "name": "stdout",
     "output_type": "stream",
     "text": [
      "[('Преступление и наказание', 'А знаешь ли... что низкие потолки и тесные комнаты душу и ум теснят.'), ('Война и мир', 'И нет величия там, где нет простоты, добра и правды.'), ('Анна Каренина', 'Если искать совершенства, то никогда не будешь доволен.'), ('Детство', 'Правил у нас много, а правды нет.'), ('Колесо времени', 'Ничто так на соединяет людей, как улыбка.')]\n",
      "('Детство', ['правил', 'у', 'нас', 'много', 'а', 'правды', 'нет'])\n",
      "{'Преступление и наказание': ['а', 'знаешь', 'ли', 'что', 'низкие', 'потолки', 'и', 'тесные', 'комнаты', 'душу', 'и', 'ум', 'теснят'], 'Война и мир': ['и', 'нет', 'величия', 'там', 'где', 'нет', 'простоты', 'добра', 'и', 'правды'], 'Анна Каренина': ['если', 'искать', 'совершенства', 'то', 'никогда', 'не', 'будешь', 'доволен'], 'Детство': ['правил', 'у', 'нас', 'много', 'а', 'правды', 'нет'], 'Колесо времени': ['ничто', 'так', 'на', 'соединяет', 'людей', 'как', 'улыбка']}\n"
     ]
    }
   ],
   "source": [
    "quotes_dict = {\n",
    "    'Преступление и наказание': 'А знаешь ли... что низкие потолки и тесные комнаты душу и ум теснят.', \n",
    "    'Война и мир': 'И нет величия там, где нет простоты, добра и правды.', \n",
    "    'Анна Каренина': 'Если искать совершенства, то никогда не будешь доволен.', \n",
    "    'Детство': 'Правил у нас много, а правды нет.', \n",
    "    'Колесо времени': 'Ничто так на соединяет людей, как улыбка.'\n",
    "}\n",
    "print(list(quotes_dict.items()))\n",
    "## Будет выведено:\n",
    "## [('Преступление и наказание', 'А знаешь ли... что низкие потолки и тесные комнаты душу и ум теснят.'), ('Война и мир', 'И нет величия там, где нет простоты, добра и правды.'), ('Анна Каренина', 'Если искать совершенства, то никогда не будешь доволен.'), ('Детство', 'Правил у нас много, а правды нет.'), ('Колесо времени', 'Ничто так на соединяет людей, как улыбка.')]\n",
    "# Функция для преобразования одного элемента списка кортежей\n",
    "def preprocessing_quoutes(name_quotes_tuple):\n",
    "    # Разделяем составляющие кортежа на отдельные переменные\n",
    "    name, text = name_quotes_tuple\n",
    "    # Приводим цитату к нижнему регистру\n",
    "    text = text.lower()\n",
    "    # Заменяем точки и запятые на пустые строки\n",
    "    text = text.replace('.', '')\n",
    "    text = text.replace(',', '')\n",
    "    # Разделяем цитату на слова по пробелу\n",
    "    words = text.split(' ')\n",
    "    # Возвращаем кортеж из названия произведения и текста\n",
    "    return (name, words)\n",
    "# Проверяем, как работает функция\n",
    "test_text = ('Детство', 'Правил у нас много, а правды нет.')\n",
    "print(preprocessing_quoutes(test_text))\n",
    "## Будет выведено:\n",
    "## ('Детство', ['правил', 'у', 'нас', 'много', 'а', 'правды', 'нет'])\n",
    "# Применяем функцию processing_quoutes к списку кортежей\n",
    "# Результат преобразовываем в словарь\n",
    "processed_quotes_dict = dict(map(preprocessing_quoutes, quotes_dict.items()))\n",
    "print(processed_quotes_dict)\n",
    "## Будет выведено:\n",
    "## {'Преступление и наказание': ['а', 'знаешь', 'ли', 'что', 'низкие', 'потолки', 'и', 'тесные', 'комнаты', 'душу', 'и', 'ум', 'теснят'], 'Война и мир': ['и', 'нет', 'величия', 'там', 'где', 'нет', 'простоты', 'добра', 'и', 'правды'], 'Анна Каренина': ['если', 'искать', 'совершенства', 'то', 'никогда', 'не', 'будешь', 'доволен'], 'Детство': ['правил', 'у', 'нас', 'много', 'а', 'правды', 'нет'], 'Колесо времени': ['ничто', 'так', 'на', 'соединяет', 'людей', 'как', 'улыбка']}"
   ]
  },
  {
   "cell_type": "code",
   "execution_count": null,
   "metadata": {},
   "outputs": [
    {
     "name": "stdout",
     "output_type": "stream",
     "text": [
      "('Преступление и наказание', 'А знаешь ли... что низкие потолки и тесные комнаты душу и ум теснят.')\n",
      "('Война и мир', 'И нет величия там, где нет простоты, добра и правды.')\n",
      "('Анна Каренина', 'Если искать совершенства, то никогда не будешь доволен.')\n",
      "('Детство', 'Правил у нас много, а правды нет.')\n",
      "('Колесо времени', 'Ничто так на соединяет людей, как улыбка.')\n"
     ]
    }
   ],
   "source": [
    "for i in quotes_dict.items():\n",
    "    print(i)"
   ]
  },
  {
   "cell_type": "code",
   "execution_count": null,
   "metadata": {},
   "outputs": [
    {
     "name": "stdout",
     "output_type": "stream",
     "text": [
      "{'яблоко': 94.05, 'апельсин': 94.05, 'вишня': 139.65, 'персик': 137.75, 'грейпфрут': 132.05}\n",
      "{'Штаны': 1995.0, 'Кофта': 1444.0, 'Свитер': 3344.0, 'Галстук': 741.0, 'Ремень': 1320.5}\n"
     ]
    }
   ],
   "source": [
    "def pr(d):\n",
    "    # print(d)\n",
    "    return (d[0], round(d[1] * 0.95, 2))\n",
    "\n",
    "# У вас есть словарь prices, содержащий цены на литровые упаковки соков в интернет-магазине. Вам необходимо применить к этим ценам скидку 5 % и округлить полученное значение до двух знаков после запятой. Новый словарь положите в переменную new_prices. В решении используйте функцию map().\n",
    "prices = {'яблоко': 99, 'апельсин': 99, 'вишня': 147, 'персик': 145, 'грейпфрут': 139}  \n",
    "## new_prices = {'яблоко': 94.05, 'апельсин': 94.05, 'вишня': 139.65, 'персик': 137.75, 'грейпфрут': 132.05}\n",
    "new_prices = dict(map(pr, prices.items()))\n",
    "print(new_prices)\n",
    "prices = {'Штаны': 2100, 'Кофта': 1520, 'Свитер': 3520, 'Галстук': 780, 'Ремень': 1390}  \n",
    "# new_prices = {'Штаны': 1995.0, 'Кофта': 1444.0, 'Свитер': 3344.0, 'Галстук': 741.0, 'Ремень': 1320.5}\n",
    "new_prices = dict(map(pr, prices.items()))\n",
    "print(new_prices)\n"
   ]
  },
  {
   "cell_type": "code",
   "execution_count": null,
   "metadata": {},
   "outputs": [
    {
     "data": {
      "text/plain": [
       "('Amanda', 1.61, 51, 19.7)"
      ]
     },
     "execution_count": 12,
     "metadata": {},
     "output_type": "execute_result"
    }
   ],
   "source": [
    "data = [('Amanda', 1.61, 51), ('Patricia', 1.65, 61), ('Marcos', 1.91, 101)]\n",
    "# Положим lambda-функцию в переменную для удобства\n",
    "# x — кортеж (элемент исходного списка data)\n",
    "map_func = lambda x: (x[0], x[1], x[2], round(x[2] / (x[1]**2), 1))\n",
    "map_func = lambda x: (*x, round(x[2] / (x[1]**2), 1))\n",
    "# Проверим работу функции для одного кортежа\n",
    "map_func(('Amanda', 1.61, 51))\n",
    "## Будет выведено:\n",
    "## ('Amanda', 1.61, 51, 19.7)\n"
   ]
  },
  {
   "cell_type": "code",
   "execution_count": null,
   "metadata": {},
   "outputs": [
    {
     "name": "stdout",
     "output_type": "stream",
     "text": [
      "[('Amanda', 1.61, 51, 19.7), ('Patricia', 1.65, 61, 22.4), ('Marcos', 1.91, 101, 27.7)]\n"
     ]
    }
   ],
   "source": [
    "# Создаём lambda-функцию, которая считает BMI, и применяем её к каждому элементу списка\n",
    "map_func = lambda x: (*x, round(x[2]/(x[1]**2), 1))\n",
    "updated_data = list(map(map_func, data))\n",
    "# Выводим результат\n",
    "print(updated_data)\n",
    "## Будет выведено:\n",
    "## [('Amanda', 1.61, 51, 19.7), ('Patricia', 1.65, 61, 22.4), ('Marcos', 1.91, 101, 27.7)]\n"
   ]
  },
  {
   "cell_type": "code",
   "execution_count": null,
   "metadata": {},
   "outputs": [
    {
     "name": "stdout",
     "output_type": "stream",
     "text": [
      "\u001b[31mTest\u001b[0m\n"
     ]
    }
   ],
   "source": [
    "p( '\\x1b[31mTest\\x1b[0m' )\t\n",
    "# [print(  f'колво нанов:/n {df.j.} - {df.j.isna().sum()}' ) j foj in df.columns];"
   ]
  },
  {
   "cell_type": "code",
   "execution_count": null,
   "metadata": {},
   "outputs": [
    {
     "name": "stdout",
     "output_type": "stream",
     "text": [
      "['https://www.kommersant.ru//doc/5041434?query=data%20science', 'https://www.kommersant.ru//doc/5041567?query=data%20science', 'https://www.kommersant.ru//doc/4283670?query=data%20science', 'https://www.kommersant.ru//doc/3712659?query=data%20science', 'https://www.kommersant.ru//doc/4997267?query=data%20science']\n"
     ]
    }
   ],
   "source": [
    "# Представьте, что мы пытаемся выгрузить несколько новостей с сайта kommersant.ru. У вас есть список путей до интересующих вас статей.\n",
    "docs = [  \n",
    "'//doc/5041434?query=data%20science',  \n",
    "'//doc/5041567?query=data%20science',  \n",
    "'//doc/4283670?query=data%20science',  \n",
    "'//doc/3712659?query=data%20science',  \n",
    "'//doc/4997267?query=data%20science',  \n",
    "'//doc/4372673?query=data%20science',  \n",
    "'//doc/3779060?query=data%20science',  \n",
    "'//doc/3495410?query=data%20science',  \n",
    "'//doc/4308832?query=data%20science',  \n",
    "'//doc/4079881?query=data%20science'  \n",
    "]\n",
    "# Как вы видите, представленные ссылки на статьи — неполные: в них не хватает адреса самого сайта — \"https://www.kommersant.ru\".\n",
    "# Ваша задача составить новый список links, в котором будут храниться полные ссылки до статей на сайте «Коммерсанта». Например, полная ссылка на первую статью будет иметь вид: \"https://www.kommersant.ru//doc/5041434?query=data%20science\".\n",
    "# Для решения задачи используйте функцию map().\n",
    "# К каждому элементу списка docs (размер списка может быть любым) примените функцию-преобразование, которая добавляет к ссылке на начальную страницу сайта путь до статьи из списка docs.\n",
    "# Результат работы функции map() оберните в список и занесите в переменную links.\n",
    "docs = ['//doc/5041434?query=data%20science','//doc/5041567?query=data%20science', '//doc/4283670?query=data%20science','//doc/3712659?query=data%20science', '//doc/4997267?query=data%20science'  \n",
    "]  \n",
    "## links = ['https://www.kommersant.ru//doc/5041434?query=data%20science', 'https://www.kommersant.ru//doc/5041567?query=data%20science', 'https://www.kommersant.ru//doc/4283670?query=data%20science', 'https://www.kommersant.ru//doc/3712659?query=data%20science', 'https://www.kommersant.ru//doc/4997267?query=data%20science']  \n",
    "inceptions = 'https://www.kommersant.ru'\n",
    "links = list(map( lambda x: inceptions + x, docs ))\n",
    "p(links)\n",
    "docs = ['//doc/5041434?query=data%20science','//doc/5041567?query=data%20science','//doc/4283670?query=data%20science','//doc/3712659?query=data%20science','//doc/4997267?query=data%20science','//doc/4372673?query=data%20science','//doc/3779060?query=data%20science','//doc/3495410?query=data%20science','//doc/4308832?query=data%20science','//doc/4079881?query=data%20science'  \n",
    "]  \n",
    "## links = ['https://www.kommersant.ru//doc/5041434?query=data%20science', 'https://www.kommersant.ru//doc/5041567?query=data%20science', 'https://www.kommersant.ru//doc/4283670?query=data%20science', 'https://www.kommersant.ru//doc/3712659?query=data%20science', 'https://www.kommersant.ru//doc/4997267?query=data%20science', 'https://www.kommersant.ru//doc/4372673?query=data%20science', 'https://www.kommersant.ru//doc/3779060?query=data%20science', 'https://www.kommersant.ru//doc/3495410?query=data%20science', 'https://www.kommersant.ru//doc/4308832?query=data%20science', 'https://www.kommersant.ru//doc/4079881?query=data%20science']"
   ]
  },
  {
   "cell_type": "code",
   "execution_count": null,
   "metadata": {},
   "outputs": [
    {
     "name": "stdout",
     "output_type": "stream",
     "text": [
      "[(0.00632, 6.575, 65.2, 296.0, 4.98, 9.32), (0.02731, 6.421, 78.9, 242.0, 9.14, 60.41), (0.02729, 7.185, 61.1, 242.0, 4.03, 26.61), (0.03237, 6.998, 45.8, 222.0, 2.94, 21.13), (0.06905, 7.147, 54.2, 222.0, 5.33, 81.7), (0.02985, 6.43, 58.7, 222.0, 5.21, 34.53), (0.08829, 6.012, 66.6, 311.0, 12.43, 341.31)]\n"
     ]
    }
   ],
   "source": [
    "# Допустим, мы решаем задачу оценки стоимости недвижимости.\n",
    "# В списке data представлены усреднённые данные по домам в районах Бостона. Каждый вложенный в список кортеж описывает средние данные по одному району (для примера представлены данные о семи участках). В этом кортеже представлены следующие признаки (в порядке следования):\n",
    "# x₁ — уровень преступности на душу населения по городам;\n",
    "# x₂ — среднее количество комнат в доме;\n",
    "# x₃ — доля зданий, построенных до 1940 г. и занимаемых владельцами;\n",
    "# x₄ — полная ставка налога на имущество за каждые 10 000 долларов стоимости;\n",
    "# x₅ — процент населения с низким статусом.\n",
    "data = [\n",
    "    (0.00632, 6.575, 65.2, 296.0, 4.98),  \n",
    "    (0.02731, 6.421, 78.9, 242.0, 9.14),  \n",
    "    (0.02729, 7.185, 61.1, 242.0, 4.03),  \n",
    "    (0.03237, 6.998, 45.8, 222.0, 2.94),  \n",
    "    (0.06905, 7.147, 54.2, 222.0, 5.33),  \n",
    "    (0.02985, 6.43, 58.7, 222.0, 5.21),  \n",
    "    (0.08829, 6.012, 66.6, 311.0, 12.43)]\n",
    "# Добавим в наш набор данных новый признак, который будет равен произведению трёх признаков — x₁, x₄ и x₅.\n",
    "# В результате выполнения программы у вас должен получиться список кортежей. Каждый кортеж должен состоять из шести элементов: первые пять — исходные признаки, а последний, шестой элемент — сгенерированный признак, округлённый до второго знака после запятой.\n",
    "# Результирующий список кортежей занесите в переменную updated_data.\n",
    "# Например, для исходного списка data, представленного выше, у вас должен получиться следующий список updated_data:\n",
    "[(0.00632, 6.575, 65.2, 296.0, 4.98, 9.32),  \n",
    "(0.02731, 6.421, 78.9, 242.0, 9.14, 60.41),  \n",
    "(0.02729, 7.185, 61.1, 242.0, 4.03, 26.61),  \n",
    "(0.03237, 6.998, 45.8, 222.0, 2.94, 21.13),  \n",
    "(0.06905, 7.147, 54.2, 222.0, 5.33, 81.7),  \n",
    "(0.02985, 6.43, 58.7, 222.0, 5.21, 34.53),  \n",
    "(0.08829, 6.012, 66.6, 311.0, 12.43, 341.31)]\n",
    "\n",
    "updated_data =  list(map( lambda x: \n",
    "                         tuple(list(x)\n",
    "                         + \n",
    "                         [ round(x[1-1]*x[4-1]*x[5-1], 2) ])\n",
    "                         , data )) \n",
    "p(updated_data)\n",
    "\n"
   ]
  },
  {
   "cell_type": "code",
   "execution_count": null,
   "metadata": {},
   "outputs": [
    {
     "name": "stdout",
     "output_type": "stream",
     "text": [
      "['in', 'near', 'My', \"cousin's\", 'married.']\n"
     ]
    }
   ],
   "source": [
    "words_list = [\"We're\", 'in', 'a', 'small', 'village', 'near', 'Chicago', 'My', \"cousin's\", 'getting', 'married.']\n",
    "# Применяем lambda-функцию к каждому элементу списка\n",
    "even_list = filter(lambda x: len(x) % 2 == 0, words_list)\n",
    "# Смотрим, что получилось\n",
    "print(list(even_list))\n",
    "## Будет выведено:\n",
    "## ['in', 'near', 'My', \"cousin's\", 'married.']"
   ]
  },
  {
   "cell_type": "code",
   "execution_count": null,
   "metadata": {},
   "outputs": [
    {
     "name": "stdout",
     "output_type": "stream",
     "text": [
      "False\n",
      "True\n",
      "[('FPW-2.0', 'Бонус: Тренажер по JavaScript', 9.2, 70, 180), ('FPW-2.0', 'Бонусный: IT в современном мире', 8.64, 83.74, 856)]\n"
     ]
    }
   ],
   "source": [
    "data = [\n",
    "    (\"FPW-2.0_D\", \"Бонус: Тренажер по HTML\", 10, 100, 10),\n",
    "    (\"FPW-2.0\", \"Бонус: Тренажер по JavaScript\", 9.2, 70, 180),\n",
    "    (\"FPW-2.0_D\", \"Бонус: Тренажер по React\", 8.5, 66.67, 68),\n",
    "    (\"FPW-2.0\", \"Бонусный: IT в современном мире\", 8.64, 83.74, 856),\n",
    "    (\"FPW-2.0\", \"Бонусный: Введение\", 8.73, 56.24, 745),\n",
    "    (\"FPW-2.0\", \"Бонус: D1. Знакомство с Django (NEW)\", 9.76, 95.24, 21),\n",
    "    (\"FPW-2.0_D\", \"Бонус: D2. Модели (NEW)\", 9.44, 77.78, 18)\n",
    "]\n",
    "\n",
    "def filter_module(module):\n",
    "    # Распаковываем кортеж на пять переменных\n",
    "    code, name, avg_votes, nessa, count = module\n",
    "    # Создаём условия \n",
    "    cond_1 = code == \"FPW-2.0\"\n",
    "    cond_2 = nessa >= 70\n",
    "    cond_3 = count > 50\n",
    "    # Условия должны выполняться одновременно\n",
    "    return cond_1 and cond_2 and cond_3\n",
    "print(filter_module(module=(\"FPW-2.0_D\", \"Бонус: Тренажер по HTML\", 10, 100, 10)))\n",
    "## Будет выведено:\n",
    "## False\n",
    "print(filter_module(module=(\"FPW-2.0\", \"Бонус: Тренажер по JavaScript\", 9.2, 70, 180)))\n",
    "## Будет выведено:\n",
    "## True\n",
    "# Применяем функцию filter_module() для фильтрации списка кортежей\n",
    "filtered_data = list(filter(filter_module, data))\n",
    "print(filtered_data)\n",
    "## Будет выведено:\n",
    "## [('FPW-2.0', 'Бонус: Тренажер по JavaScript', 9.2, 70, 180), ('FPW-2.0', 'Бонусный: IT в современном мире', 8.64, 83.74, 856)]\n"
   ]
  },
  {
   "cell_type": "code",
   "execution_count": null,
   "metadata": {},
   "outputs": [
    {
     "name": "stdout",
     "output_type": "stream",
     "text": [
      "[25683, 17683, 28973]\n",
      "[25683, 17683, 28973]\n"
     ]
    }
   ],
   "source": [
    "# У вас есть список prices стоимости аренды помещения под магазин за месяц. Вам необходимо создать список filtered_prices из стоимости, которая не выше 30000, чтобы уложиться в бюджет. В решении примените filter() и lambda.\n",
    "prices = [34562, 66572, 25683, 17683, 56389, 28973]\n",
    "## filtered_prices = [25683, 17683, 28973]\n",
    "filtered_prices = list(filter( lambda x: x<30000, prices))\n",
    "p(filtered_prices)\n",
    "prices = [21490, 24901, 24901, 34901, 24142, 64521]\n",
    "## filtered_prices = [21490, 24901, 24901, 24142]\n",
    "p(filtered_prices)"
   ]
  },
  {
   "cell_type": "code",
   "execution_count": null,
   "metadata": {},
   "outputs": [
    {
     "name": "stdout",
     "output_type": "stream",
     "text": [
      "['parking permit', 'maternity capital', 'tax benefit']\n"
     ]
    }
   ],
   "source": [
    "# Допустим, вы работаете в отделе разработки в МФЦ. Центр предоставляет некоторый спектр услуг многодетным семьям. Необходимо создать функциональность, которая позволяет отфильтровать среди всех запрашиваемых пользователем услуг (их количество произвольное) только те, которые предоставляются многодетным семьям.\n",
    "# При решении задачи вам понадобится список услуг, предоставляемых многодетным семьям:\n",
    "family_list = [\n",
    "    'certificate of a large family',\n",
    "    'social card',\n",
    "    'maternity capital',\n",
    "    'parking permit',\n",
    "    'tax benefit',\n",
    "    'reimbursement of expenses',\n",
    "    \"compensation for the purchase of children's goods\"\n",
    " ]\n",
    "# Реализуйте функцию filter_family(): на вход подаётся список с названием услуг МФЦ, а в результате возвращается список услуг, которые могут быть оказаны только многодетной семье.\n",
    "# Для фильтрации входного списка аргументов используйте функцию filter().\n",
    "def filter_family(f):\n",
    "    return [j for j in f if j in family_list]\n",
    "print(filter_family(['newborn registration', 'parking permit', \n",
    "                     'maternity capital', 'tax benefit', 'medical policy']))\n",
    "## ['parking permit', 'maternity capital', 'tax benefit']\n",
    "\n"
   ]
  },
  {
   "cell_type": "code",
   "execution_count": null,
   "metadata": {},
   "outputs": [
    {
     "name": "stdout",
     "output_type": "stream",
     "text": [
      "[(\"We're\", 0), ('small', 1), ('village', 1), ('Chicago', 1), (\"cousin's\", 0), ('getting', 0), ('married.', 1)]\n"
     ]
    }
   ],
   "source": [
    "# Список из слов\n",
    "words_list = [\"We're\", 'in', 'a', 'small', 'village', 'near', 'Chicago', 'My', \"cousin's\", 'getting', 'married.']\n",
    "# Отбираем слова из пяти и более букв\n",
    "filtered_words = filter(lambda x: len(x) >= 5, words_list)\n",
    "# Все отобранные слова переводим в нижний регистр и считаем число букв 'a' в них\n",
    "# Результат выдаём в виде кортежа (слово, количество букв \"a\")\n",
    "count_a = map(lambda x: (x, x.lower().count('a')), filtered_words)\n",
    "print(list(count_a))\n",
    "# Переводим объект map в list и печатаем его\n",
    "## Будет выведено:\n",
    "## [(\"We're\", 0), ('small', 1), ('village', 1), ('Chicago', 1), (\"cousin's\", 0), ('getting', 0), ('married.', 1)]\n"
   ]
  },
  {
   "cell_type": "code",
   "execution_count": null,
   "metadata": {},
   "outputs": [
    {
     "name": "stdout",
     "output_type": "stream",
     "text": [
      "{\"We're\": 0, 'small': 1, 'village': 1, 'Chicago': 1, \"cousin's\": 0, 'getting': 0, 'married.': 1}\n"
     ]
    }
   ],
   "source": [
    "# Список из слов\n",
    "words_list = [\"We're\", 'in', 'a', 'small', 'village', 'near', 'Chicago', 'My', \"cousin's\", 'getting', 'married.']\n",
    "# Отбираем слова из пяти и более букв\n",
    "filtered_words = filter(lambda x: len(x) >= 5, words_list)\n",
    "# Все отобранные слова переводим в нижний регистр и считаем число букв 'a' в них\n",
    "# Результат выдаём в виде кортежа (слово, количество букв \"a\")\n",
    "count_a = dict(map(lambda x: (x, x.lower().count('a')), filtered_words))\n",
    "print(count_a)"
   ]
  },
  {
   "cell_type": "code",
   "execution_count": null,
   "metadata": {},
   "outputs": [
    {
     "name": "stdout",
     "output_type": "stream",
     "text": [
      "[('Amanda', 1.61, 51, 19.675166853130666), ('Patricia', 1.65, 61, 22.4058769513315), ('Andrey', 1.79, 61, 19.038107424861895), ('Felicia', 1.63, 56, 21.077195227520797)]\n"
     ]
    }
   ],
   "source": [
    "# Выгрузка данных о параметрах человеческого тела\n",
    "data = [\n",
    "    ('Amanda', 1.61, 51),\n",
    "    ('Patricia', 1.65, 61), \n",
    "    ('Marcos', 1.91, 101),\n",
    "    ('Andrey', 1.79, 61),\n",
    "    ('Nikos', 1.57, 78),\n",
    "    ('Felicia', 1.63, 56),\n",
    "    ('Lubov', 1.53, 34)\n",
    "]\n",
    "[('Amanda', 1.61, 51, 19.7), ('Patricia', 1.65, 61, 22.4), ('Andrey', 1.79, 61, 19.0), ('Felicia', 1.63, 56, 21.1)]\n",
    "# Создаём lambda-функцию, которая считает BMI, и применяем её к каждому элементу списка\n",
    "map_func = lambda x: (*x, x[2]/(x[1]**2))\n",
    "updated_data = map(map_func, data)\n",
    "# Создаём lambda-функцию, которая возвращает True, если 18.5 <= BMI <= 25\n",
    "filter_func = lambda x: 18.5 <= x[3] <= 25\n",
    "# Применяем эту функцию к результату работы map()\n",
    "filtered_data = filter(filter_func, updated_data)\n",
    "# Переводим объект filter в list и печатаем его\n",
    "print(list(filtered_data))\n",
    "## Будет выведено:\n",
    "## [('Amanda', 1.61, 51, 19.7), ('Patricia', 1.65, 61, 22.4), ('Andrey', 1.79, 61, 19.0), ('Felicia', 1.63, 56, 21.1)]\n"
   ]
  },
  {
   "cell_type": "code",
   "execution_count": null,
   "metadata": {},
   "outputs": [
    {
     "name": "stdout",
     "output_type": "stream",
     "text": [
      "[('Smith J.', 13, 2, 2003), ('Petrova M.', 13, 3, 2003)]\n"
     ]
    }
   ],
   "source": [
    "# Мы снова занимаемся регистрацией пользователей. В нашем распоряжении есть список кортежей reg. В каждом кортеже хранится информация о зарегистрированном пользователе и его дате рождения в формате: Фамилия, Имя, день, месяц, год:\n",
    "\n",
    "reg = [('Ivanov', 'Sergej', 24, 9, 1995),\n",
    "      ('Smith', 'John', 13, 2, 2003),\n",
    "      ('Petrova', 'Maria', 13, 3, 2003)]\n",
    "# Выберите из списка reg только те записи, в которых год рождения пользователя больше 2000 (2001, 2002 и т. д.). Из оставшихся записей составьте новый список кортежей, в котором фамилия и имя объединены в одну строку по следующему шаблону: Фамилия И.\n",
    "# Обратите внимание на точку после сокращения имени!\n",
    "# Например, для представленного списка reg результирующий список кортежей new_reg должен иметь вид:\n",
    "# new_reg = [('Smith J.', 13, 2, 2003), ('Petrova M.', 13, 3, 2003)]\n",
    "\n",
    "new_reg = list(filter( lambda x: x if x[-1]>2000 else None, reg))\n",
    "new_reg = list(map( lambda x: (x[0] + ' ' + x[1][0] + '.', *x[-3:]), new_reg ))\n",
    "p(new_reg)"
   ]
  },
  {
   "cell_type": "code",
   "execution_count": null,
   "metadata": {},
   "outputs": [
    {
     "name": "stdout",
     "output_type": "stream",
     "text": [
      "(0.02731, 6.421, 78.9, 242.0, 9.14, 60.41)\n",
      "(0.06905, 7.147, 54.2, 222.0, 5.33, 81.7)\n",
      "(0.08829, 6.012, 66.6, 311.0, 12.43, 341.31)\n"
     ]
    }
   ],
   "source": [
    "# Вернёмся к задаче по оценке стоимости недвижимости.\n",
    "# В списке data представлены усреднённые данные по домам в районах Бостона. Каждый вложенный в список кортеж описывает средние данные по одному району (для примера представлены данные о семи участках). В этом кортеже представлены следующие признаки (в порядке следования):\n",
    "# x₁ — уровень преступности на душу населения по городам;\n",
    "# x₂ — среднее количество комнат в доме;\n",
    "# x₃ — доля зданий, построенных до 1940 г. и занимаемых владельцами;\n",
    "# x₄ — полная ставка налога на имущество за каждые 10 000 долларов стоимости;\n",
    "# x₅ — процент населения с низким статусом.\n",
    "data = [(0.00632, 6.575, 65.2, 296.0, 4.98),\n",
    " (0.02731, 6.421, 78.9, 242.0, 9.14),\n",
    " (0.02729, 7.185, 61.1, 242.0, 4.03),\n",
    " (0.03237, 6.998, 45.8, 222.0, 2.94),\n",
    " (0.06905, 7.147, 54.2, 222.0, 5.33),\n",
    " (0.02985, 6.43, 58.7, 222.0, 5.21),\n",
    " (0.08829, 6.012, 66.6, 311.0, 12.43)]\n",
    "# Добавьте в набор данных новый признак, который будет равен произведению трёх признаков — x₁, x₄ и x₅. А затем выберите из исходного списка только те данные, для которых значение нового признака > 60.\n",
    "# В результате выполнения программы у вас должен получиться список кортежей. Каждый кортеж должен состоять из шести элементов: первые пять — исходные признаки, а шестой элемент — сгенерированный признак, округлённый до двух знаков после запятой. Результирующий список кортежей занесите в переменную filtered_data.\n",
    "# Например, для исходного списка data, представленного выше, у вас должен получиться следующий список filtered_data:\n",
    "[(0.02731, 6.421, 78.9, 242.0, 9.14, 60.41),\n",
    " (0.06905, 7.147, 54.2, 222.0, 5.33, 81.7),\n",
    " (0.08829, 6.012, 66.6, 311.0, 12.43, 341.31)]\n",
    "\n",
    "filtered_data = list(map( lambda x: (*x, round(x[1-1] * x[4-1] * x[5-1], 2)) , data ))\n",
    "filtered_data = list(filter( lambda x: (x if x[-1] > 60 else None) , filtered_data ))\n",
    "[p(j) for j in filtered_data];"
   ]
  },
  {
   "cell_type": "code",
   "execution_count": null,
   "metadata": {},
   "outputs": [],
   "source": []
  },
  {
   "cell_type": "markdown",
   "metadata": {},
   "source": [
    "В завершение предлагаем вам изучить дополнительные материалы по теме:\n",
    "\n",
    "«Пространства имён и области видимости в Python»\n",
    "https://medium.com/nuances-of-programming/пространства-имен-и-области-видимости-в-python-daf7fcddbaba\n",
    "\n",
    "Примеры программ с использованием рекурсии на языке Python\n",
    "https://pythonist.ru/primery-programm-s-ispolzovaniem-rekursii-na-yazyke-python/\n",
    "\n",
    "\n",
    "\n"
   ]
  },
  {
   "cell_type": "code",
   "execution_count": null,
   "metadata": {},
   "outputs": [],
   "source": []
  },
  {
   "cell_type": "markdown",
   "metadata": {},
   "source": [
    "\n",
    "---\n",
    "\n",
    "#### *PYTHON-6.1. Инструменты для Data Science + Git\n",
    "\n",
    "<span style=\"font-size:0.8em;\"> [TOC](#mod1) </span>\n",
    "\n",
    "---\n"
   ]
  },
  {
   "cell_type": "code",
   "execution_count": null,
   "metadata": {},
   "outputs": [
    {
     "name": "stdout",
     "output_type": "stream",
     "text": [
      "Ваш алгоритм угадывает число в среднем за: 101 попыток\n"
     ]
    },
    {
     "data": {
      "text/plain": [
       "101"
      ]
     },
     "execution_count": 12,
     "metadata": {},
     "output_type": "execute_result"
    }
   ],
   "source": [
    "import numpy as np\n",
    "    \n",
    "def random_predict(number:int=1) -> int:\n",
    "        \"\"\"Рандомно угадываем число\n",
    "        Args:\n",
    "            number (int, optional): Загаданное число. Defaults to 1.\n",
    "        Returns:\n",
    "            int: Число попыток\n",
    "        \"\"\"\n",
    "        count = 0\n",
    "        while True:\n",
    "            count += 1\n",
    "            predict_number = np.random.randint(1, 101) # предполагаемое число\n",
    "            if number == predict_number:\n",
    "                break # выход из цикла, если угадали\n",
    "        return(count)\n",
    "    \n",
    "# print(f'Количество попыток: {random_predict()}')\n",
    "\n",
    "\n",
    "def score_game(random_predict) -> int:\n",
    "        \"\"\"За какое количество попыток в среднем из 1000 подходов угадывает наш алгоритм\n",
    "        Args:\n",
    "            random_predict ([type]): функция угадывания\n",
    "        Returns:\n",
    "            int: среднее количество попыток\n",
    "        \"\"\"\n",
    "        count_ls = [] # список для сохранения количества попыток\n",
    "        np.random.seed(1) # фиксируем сид для воспроизводимости\n",
    "        random_array = np.random.randint(1, 101, size=(1000)) # загадали список чисел\n",
    "    \n",
    "        for number in random_array:\n",
    "            count_ls.append(random_predict(number))\n",
    "    \n",
    "        score = int(np.mean(count_ls)) # находим среднее количество попыток\n",
    "    \n",
    "        print(f'Ваш алгоритм угадывает число в среднем за: {score} попыток')\n",
    "        return(score)\n",
    "    \n",
    "# RUN\n",
    "score_game(random_predict)\n"
   ]
  },
  {
   "cell_type": "markdown",
   "metadata": {},
   "source": [
    "\n",
    "---\n",
    "\n",
    "##### Git\n",
    "\n",
    "<span style=\"font-size:0.6em;\"> [TOC](#mod1) </span>\n",
    "\n",
    "---\n"
   ]
  },
  {
   "cell_type": "code",
   "execution_count": null,
   "metadata": {},
   "outputs": [],
   "source": [
    "# Создали в гитлабе проект\n",
    "# Склонировали по ссх (ssh keygen) #karpov\n",
    "# пароль шмароль...\n",
    "# !ssh-keygen -t rsa -b 4096\n",
    "# публичный ssh to github \n",
    "# git clone ...ссылка с гита... (без ковычек)\n",
    "# пароль шмароль...\n",
    "# скопируется папка в pwd с названием самого проекта на гите\n",
    "# .gitignore будет сразу автоматом создан при создании проекта на гитхабе \n",
    "# так же как и README.md\n",
    "# если нет то создать в линукс фаил - touch .gitignore"
   ]
  },
  {
   "cell_type": "code",
   "execution_count": 41,
   "metadata": {},
   "outputs": [
    {
     "name": "stdout",
     "output_type": "stream",
     "text": [
      "git version 2.45.1.windows.1\n",
      "Reinitialized existing Git repository in D:/_ CLOUD/_Project (Python AI NN DS ML DL)/[_Courses_]/[SkillFactory] Data Science в медицине/SFds/.git/\n",
      "total 346\n",
      "drwxr-xr-x 1 dadsmldl dadsmldl      0 Jun  2 23:36 ./\n",
      "drwxr-xr-x 1 dadsmldl dadsmldl      0 Jun  2 23:37 ../\n",
      "drwxr-xr-x 1 dadsmldl dadsmldl      0 Jun  2 23:38 .git/\n",
      "-rw-r--r-- 1 dadsmldl dadsmldl     13 Jun  2 23:37 .gitignore\n",
      "-rw-r--r-- 1 dadsmldl dadsmldl   8157 May 31 23:28 000 DS med [skillfactory] - Шаблон! .ipynb\n",
      "-rw-r--r-- 1 dadsmldl dadsmldl 331016 Jun  2 23:16 1 Data Science в медицине [skillfactory] - Python.ipynb\n",
      "-rw-r--r-- 1 dadsmldl dadsmldl     15 Jun  1 00:26 README.md\n",
      "drwxr-xr-x 1 dadsmldl dadsmldl      0 Jun  1 00:15 Доп материалы, прктические задания/\n"
     ]
    }
   ],
   "source": [
    "!git --version\n",
    "!git init \n",
    "!ls -laF"
   ]
  },
  {
   "cell_type": "code",
   "execution_count": 14,
   "metadata": {},
   "outputs": [
    {
     "name": "stdout",
     "output_type": "stream",
     "text": [
      "����� �뢮�� ������ �� ��࠭ (ECHO) ����祭.\n"
     ]
    }
   ],
   "source": [
    "### !rm .gitignore \n",
    "# !touch .gitignore создать фаил\n"
   ]
  },
  {
   "cell_type": "code",
   "execution_count": 43,
   "metadata": {},
   "outputs": [
    {
     "name": "stdout",
     "output_type": "stream",
     "text": [
      ".ipynb_checkpoints \n",
      ".virtual_documents \n"
     ]
    }
   ],
   "source": [
    "# gitignore_files = '''.ipynb_checkpoints/ \n",
    "# '''\n",
    "\n",
    "#  >> положить в конец в фаил то что в ковычках // > перезатереть\n",
    "### !echo \".gitignore\" >> .gitignore # положить в конец в фаил то что в ковычках\n",
    "### !echo {gitignore_files} >> .gitignore\n",
    "!echo .ipynb_checkpoints >> .gitignore \n",
    "!echo .virtual_documents >> .gitignore \n",
    "\n",
    "!cat \".gitignore\""
   ]
  },
  {
   "cell_type": "code",
   "execution_count": 45,
   "metadata": {},
   "outputs": [
    {
     "name": "stdout",
     "output_type": "stream",
     "text": [
      "On branch main\n",
      "Your branch is up to date with 'origin/main'.\n",
      "\n",
      "Changes not staged for commit:\n",
      "  (use \"git add <file>...\" to update what will be committed)\n",
      "  (use \"git restore <file>...\" to discard changes in working directory)\n",
      "\tmodified:   .gitignore\n",
      "\n",
      "Untracked files:\n",
      "  (use \"git add <file>...\" to include in what will be committed)\n",
      "\t\"000 DS med [skillfactory] - \\320\\250\\320\\260\\320\\261\\320\\273\\320\\276\\320\\275! .ipynb\"\n",
      "\t\"1 Data Science \\320\\262 \\320\\274\\320\\265\\320\\264\\320\\270\\321\\206\\320\\270\\320\\275\\320\\265 [skillfactory] - Python.ipynb\"\n",
      "\t\"\\320\\224\\320\\276\\320\\277 \\320\\274\\320\\260\\321\\202\\320\\265\\321\\200\\320\\270\\320\\260\\320\\273\\321\\213, \\320\\277\\321\\200\\320\\272\\321\\202\\320\\270\\321\\207\\320\\265\\321\\201\\320\\272\\320\\270\\320\\265 \\320\\267\\320\\260\\320\\264\\320\\260\\320\\275\\320\\270\\321\\217/\"\n",
      "\n",
      "no changes added to commit (use \"git add\" and/or \"git commit -a\")\n"
     ]
    }
   ],
   "source": [
    "!git status\n",
    "!git add \".gitignore\"\n",
    "!git add \"000 DS med [skillfactory] - Шаблон! .ipynb\"\n",
    "!git add \"1 Data Science в медицине [skillfactory] - Python.ipynb\""
   ]
  },
  {
   "cell_type": "code",
   "execution_count": 16,
   "metadata": {},
   "outputs": [
    {
     "name": "stdout",
     "output_type": "stream",
     "text": [
      "total 345\n",
      "drwxr-xr-x 1 dadsmldl dadsmldl      0 May 31 23:22 ./\n",
      "drwxr-xr-x 1 dadsmldl dadsmldl      0 May 31 22:01 ../\n",
      "drwxr-xr-x 1 dadsmldl dadsmldl      0 May 31 22:36 .git/\n",
      "-rw-r--r-- 2 dadsmldl dadsmldl     48 May 31 23:22 .gitignore\n",
      "drwxr-xr-x 1 dadsmldl dadsmldl      0 May 31 11:54 .ipynb_checkpoints/\n",
      "-rw-r--r-- 1 dadsmldl dadsmldl   7915 May 21 17:53 000 DS med [skillfactory] - Шаблон! .ipynb\n",
      "-rw-r--r-- 1 dadsmldl dadsmldl 324920 May 31 23:22 1 Data Science в медицине [skillfactory] - Python.ipynb\n",
      "drwxr-xr-x 1 dadsmldl dadsmldl      0 May 30 23:25 Доп материалы, прктические задания/\n"
     ]
    }
   ],
   "source": [
    "# token \n",
    "# ghp_V*************JRa\n",
    "!git config --global user.name \"MedTechAI\"\n",
    "!git config --global user.email lsb86@yandex.ru\n",
    "!ls -laF"
   ]
  },
  {
   "cell_type": "code",
   "execution_count": 29,
   "metadata": {},
   "outputs": [
    {
     "name": "stdout",
     "output_type": "stream",
     "text": [
      "On branch main\n",
      "Changes not staged for commit:\n",
      "  (use \"git add/rm <file>...\" to update what will be committed)\n",
      "  (use \"git restore <file>...\" to discard changes in working directory)\n",
      "\tdeleted:    \".ipynb_checkpoints/000 DS med [skillfactory] - \\320\\250\\320\\260\\320\\261\\320\\273\\320\\276\\320\\275! -checkpoint.ipynb\"\n",
      "\tmodified:   \".ipynb_checkpoints/1 Data Science \\320\\262 \\320\\274\\320\\265\\320\\264\\320\\270\\321\\206\\320\\270\\320\\275\\320\\265 [skillfactory] - Python-checkpoint.ipynb\"\n",
      "\tdeleted:    \".virtual_documents/1 Data Science \\320\\262 \\320\\274\\320\\265\\320\\264\\320\\270\\321\\206\\320\\270\\320\\275\\320\\265 [skillfactory] - Python.ipynb\"\n",
      "\tmodified:   \"1 Data Science \\320\\262 \\320\\274\\320\\265\\320\\264\\320\\270\\321\\206\\320\\270\\320\\275\\320\\265 [skillfactory] - Python.ipynb\"\n",
      "\n",
      "Untracked files:\n",
      "  (use \"git add <file>...\" to include in what will be committed)\n",
      "\t.gitignore\n",
      "\n",
      "no changes added to commit (use \"git add\" and/or \"git commit -a\")\n"
     ]
    }
   ],
   "source": [
    "!git status"
   ]
  },
  {
   "cell_type": "code",
   "execution_count": 30,
   "metadata": {},
   "outputs": [
    {
     "name": "stderr",
     "output_type": "stream",
     "text": [
      "warning: in the working copy of '1 Data Science в медицине [skillfactory] - Python.ipynb', LF will be replaced by CRLF the next time Git touches it\n"
     ]
    },
    {
     "name": "stdout",
     "output_type": "stream",
     "text": [
      "On branch main\n",
      "Changes to be committed:\n",
      "  (use \"git restore --staged <file>...\" to unstage)\n",
      "\tmodified:   \"1 Data Science \\320\\262 \\320\\274\\320\\265\\320\\264\\320\\270\\321\\206\\320\\270\\320\\275\\320\\265 [skillfactory] - Python.ipynb\"\n",
      "\n",
      "Changes not staged for commit:\n",
      "  (use \"git add/rm <file>...\" to update what will be committed)\n",
      "  (use \"git restore <file>...\" to discard changes in working directory)\n",
      "\tdeleted:    \".ipynb_checkpoints/000 DS med [skillfactory] - \\320\\250\\320\\260\\320\\261\\320\\273\\320\\276\\320\\275! -checkpoint.ipynb\"\n",
      "\tmodified:   \".ipynb_checkpoints/1 Data Science \\320\\262 \\320\\274\\320\\265\\320\\264\\320\\270\\321\\206\\320\\270\\320\\275\\320\\265 [skillfactory] - Python-checkpoint.ipynb\"\n",
      "\tdeleted:    \".virtual_documents/1 Data Science \\320\\262 \\320\\274\\320\\265\\320\\264\\320\\270\\321\\206\\320\\270\\320\\275\\320\\265 [skillfactory] - Python.ipynb\"\n",
      "\n",
      "Untracked files:\n",
      "  (use \"git add <file>...\" to include in what will be committed)\n",
      "\t.gitignore\n",
      "\n"
     ]
    }
   ],
   "source": [
    "!git add \"000 DS med [skillfactory] - Шаблон! .ipynb\" \"1 Data Science в медицине [skillfactory] - Python.ipynb\"\n",
    "!git status"
   ]
  },
  {
   "cell_type": "code",
   "execution_count": 31,
   "metadata": {},
   "outputs": [
    {
     "name": "stdout",
     "output_type": "stream",
     "text": [
      "[main 72e8e2c] First commit\n",
      " 1 file changed, 41 insertions(+), 10 deletions(-)\n"
     ]
    }
   ],
   "source": [
    "!git commit -m \"First commit\""
   ]
  },
  {
   "cell_type": "code",
   "execution_count": 32,
   "metadata": {},
   "outputs": [
    {
     "name": "stderr",
     "output_type": "stream",
     "text": [
      "error: remote SFds already exists.\n"
     ]
    }
   ],
   "source": [
    "!git remote add \"SFds\" https://github.com/MedTechAI/SFds"
   ]
  },
  {
   "cell_type": "code",
   "execution_count": 36,
   "metadata": {},
   "outputs": [
    {
     "name": "stderr",
     "output_type": "stream",
     "text": [
      "To https://github.com/MedTechAI/SFds\n",
      " ! [rejected]        main -> main (fetch first)\n",
      "error: failed to push some refs to 'https://github.com/MedTechAI/SFds'\n",
      "hint: Updates were rejected because the remote contains work that you do not\n",
      "hint: have locally. This is usually caused by another repository pushing to\n",
      "hint: the same ref. If you want to integrate the remote changes, use\n",
      "hint: 'git pull' before pushing again.\n",
      "hint: See the 'Note about fast-forwards' in 'git push --help' for details.\n"
     ]
    }
   ],
   "source": [
    "!git push \"SFds\""
   ]
  },
  {
   "cell_type": "code",
   "execution_count": 1,
   "metadata": {},
   "outputs": [
    {
     "name": "stdout",
     "output_type": "stream",
     "text": [
      "3.9.13 (main, Aug 25 2022, 23:51:50) [MSC v.1916 64 bit (AMD64)]\n"
     ]
    }
   ],
   "source": [
    "import sys\n",
    "print(sys.version)\n"
   ]
  },
  {
   "cell_type": "code",
   "execution_count": 3,
   "metadata": {},
   "outputs": [
    {
     "name": "stderr",
     "output_type": "stream",
     "text": [
      "ERROR: Could not find a version that satisfies the requirement python (from versions: none)\n",
      "ERROR: No matching distribution found for python\n",
      "WARNING: There was an error checking the latest version of pip.\n"
     ]
    }
   ],
   "source": [
    "!pip install --upgrade python\n"
   ]
  },
  {
   "cell_type": "code",
   "execution_count": null,
   "metadata": {},
   "outputs": [],
   "source": []
  },
  {
   "cell_type": "code",
   "execution_count": null,
   "metadata": {},
   "outputs": [],
   "source": []
  },
  {
   "cell_type": "code",
   "execution_count": null,
   "metadata": {},
   "outputs": [],
   "source": []
  },
  {
   "cell_type": "code",
   "execution_count": null,
   "metadata": {},
   "outputs": [],
   "source": []
  },
  {
   "cell_type": "code",
   "execution_count": null,
   "metadata": {},
   "outputs": [],
   "source": []
  },
  {
   "cell_type": "code",
   "execution_count": null,
   "metadata": {},
   "outputs": [],
   "source": []
  },
  {
   "cell_type": "code",
   "execution_count": null,
   "metadata": {},
   "outputs": [],
   "source": []
  },
  {
   "cell_type": "code",
   "execution_count": null,
   "metadata": {},
   "outputs": [],
   "source": []
  },
  {
   "cell_type": "code",
   "execution_count": null,
   "metadata": {},
   "outputs": [],
   "source": []
  },
  {
   "cell_type": "code",
   "execution_count": null,
   "metadata": {},
   "outputs": [],
   "source": []
  },
  {
   "cell_type": "code",
   "execution_count": null,
   "metadata": {},
   "outputs": [],
   "source": []
  },
  {
   "cell_type": "code",
   "execution_count": null,
   "metadata": {},
   "outputs": [],
   "source": []
  },
  {
   "cell_type": "code",
   "execution_count": null,
   "metadata": {},
   "outputs": [],
   "source": []
  },
  {
   "cell_type": "code",
   "execution_count": null,
   "metadata": {},
   "outputs": [],
   "source": []
  },
  {
   "cell_type": "markdown",
   "metadata": {},
   "source": [
    "\n",
    "---\n",
    "<a id='3'> </a>\n",
    "\n",
    "### 3 УРОК: \n",
    "\n",
    "<span style=\"font-size:0.8em;\"> [TOC](#mod1) </span>\n",
    "\n",
    "---\n"
   ]
  },
  {
   "cell_type": "code",
   "execution_count": null,
   "metadata": {},
   "outputs": [],
   "source": []
  },
  {
   "cell_type": "code",
   "execution_count": null,
   "metadata": {},
   "outputs": [],
   "source": []
  },
  {
   "cell_type": "markdown",
   "metadata": {},
   "source": [
    "\n",
    "---\n",
    "<a id='4'> </a>\n",
    "\n",
    "### 4 УРОК: *\n",
    "\n",
    "<span style=\"font-size:0.8em;\"> [TOC](#mod1) </span>\n",
    "\n",
    "---\n"
   ]
  },
  {
   "cell_type": "code",
   "execution_count": null,
   "metadata": {},
   "outputs": [],
   "source": []
  },
  {
   "cell_type": "code",
   "execution_count": null,
   "metadata": {},
   "outputs": [],
   "source": []
  },
  {
   "cell_type": "code",
   "execution_count": null,
   "metadata": {},
   "outputs": [],
   "source": []
  },
  {
   "cell_type": "markdown",
   "metadata": {},
   "source": [
    "\n",
    "---\n",
    "<a id='5'> </a>\n",
    "\n",
    "### 5 УРОК: *\n",
    "\n",
    "<span style=\"font-size:0.8em;\"> [TOC](#mod1) </span>\n",
    "\n",
    "---\n"
   ]
  },
  {
   "cell_type": "code",
   "execution_count": null,
   "metadata": {},
   "outputs": [],
   "source": []
  },
  {
   "cell_type": "code",
   "execution_count": null,
   "metadata": {},
   "outputs": [],
   "source": []
  },
  {
   "cell_type": "code",
   "execution_count": null,
   "metadata": {},
   "outputs": [],
   "source": []
  },
  {
   "cell_type": "markdown",
   "metadata": {},
   "source": [
    "\n",
    "---\n",
    "<a id='6'> </a>\n",
    "\n",
    "### 6 УРОК: *\n",
    "\n",
    "<span style=\"font-size:0.8em;\"> [TOC](#mod1) </span>\n",
    "\n",
    "---\n"
   ]
  },
  {
   "cell_type": "code",
   "execution_count": null,
   "metadata": {},
   "outputs": [],
   "source": []
  },
  {
   "cell_type": "code",
   "execution_count": null,
   "metadata": {},
   "outputs": [],
   "source": [
    "lamda"
   ]
  },
  {
   "cell_type": "code",
   "execution_count": null,
   "metadata": {},
   "outputs": [],
   "source": []
  },
  {
   "cell_type": "markdown",
   "metadata": {},
   "source": [
    "\n",
    "---\n",
    "<a id='7'> </a>\n",
    "\n",
    "### 7 УРОК: *\n",
    "\n",
    "<span style=\"font-size:0.8em;\"> [TOC](#mod1) </span>\n",
    "\n",
    "---\n"
   ]
  },
  {
   "cell_type": "code",
   "execution_count": 2,
   "metadata": {},
   "outputs": [
    {
     "name": "stdout",
     "output_type": "stream",
     "text": [
      "sdth\n"
     ]
    }
   ],
   "source": [
    "if not None:\n",
    "    print('sdth')"
   ]
  },
  {
   "cell_type": "code",
   "execution_count": null,
   "metadata": {},
   "outputs": [],
   "source": []
  },
  {
   "cell_type": "code",
   "execution_count": null,
   "metadata": {},
   "outputs": [],
   "source": []
  },
  {
   "cell_type": "markdown",
   "metadata": {},
   "source": [
    "\n",
    "---\n",
    "<a id='8'> </a>\n",
    "\n",
    "### 8 УРОК: *\n",
    "\n",
    "<span style=\"font-size:0.8em;\"> [TOC](#mod1) </span>\n",
    "\n",
    "---\n"
   ]
  },
  {
   "cell_type": "code",
   "execution_count": null,
   "metadata": {},
   "outputs": [],
   "source": []
  },
  {
   "cell_type": "code",
   "execution_count": null,
   "metadata": {},
   "outputs": [],
   "source": []
  },
  {
   "cell_type": "code",
   "execution_count": null,
   "metadata": {},
   "outputs": [],
   "source": []
  }
 ],
 "metadata": {
  "colab": {
   "authorship_tag": "ABX9TyPsGJ0dJnDgJWLVASg5Dngn",
   "provenance": [],
   "toc_visible": true
  },
  "kernelspec": {
   "display_name": "Python 3 (ipykernel)",
   "language": "python",
   "name": "python3"
  },
  "language_info": {
   "codemirror_mode": {
    "name": "ipython",
    "version": 3
   },
   "file_extension": ".py",
   "mimetype": "text/x-python",
   "name": "python",
   "nbconvert_exporter": "python",
   "pygments_lexer": "ipython3",
   "version": "3.9.13"
  }
 },
 "nbformat": 4,
 "nbformat_minor": 4
}
